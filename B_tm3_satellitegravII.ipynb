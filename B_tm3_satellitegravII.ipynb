{
 "cells": [
  {
   "cell_type": "code",
   "execution_count": 3,
   "metadata": {
    "slideshow": {
     "slide_type": "skip"
    }
   },
   "outputs": [],
   "source": [
    "%load_ext autoreload\n",
    "%autoreload 2"
   ]
  },
  {
   "cell_type": "code",
   "execution_count": 4,
   "metadata": {
    "slideshow": {
     "slide_type": "skip"
    }
   },
   "outputs": [],
   "source": [
    "from jupylecture.tools import FlexSlide"
   ]
  },
  {
   "cell_type": "markdown",
   "metadata": {
    "slideshow": {
     "slide_type": "slide"
    }
   },
   "source": [
    "# Gravity and the Water Cycle II: showcases and current research\n",
    "**Part of EOAFrica R & D**\n",
    "<img src=\"images/water-cycle2.png\" alt=\"The Earth's water cycle\" style=\"width: 900px;\"/>\n",
    "<small>Source: JPL/Caltech</small>"
   ]
  },
  {
   "cell_type": "code",
   "execution_count": 47,
   "metadata": {
    "slideshow": {
     "slide_type": "slide"
    }
   },
   "outputs": [
    {
     "data": {
      "text/html": [
       "<div id=\"d2884aabcd0885bd\"></div>\n",
       "    <script type=\"text/javascript\">\n",
       "        $(function(){\n",
       "            var p = $(\"#d2884aabcd0885bd\");\n",
       "            if (p.length==0) return;\n",
       "            while (!p.hasClass(\"cell\")) {\n",
       "                p=p.parent();\n",
       "                if (p.prop(\"tagName\") ==\"body\") return;\n",
       "            }\n",
       "            var cell = p;\n",
       "            cell.find(\".input\").addClass(\"hide-in-slideshow\")\n",
       "        });\n",
       "    </script>"
      ]
     },
     "metadata": {},
     "output_type": "display_data"
    },
    {
     "data": {
      "text/markdown": [
       "\n",
       "<div class=\"flxsld text_cell\" ><div class=\"flx100\"><h3>Showcase I: Rateb et al 2020. <em>Comparison of Groundwater Storage Changes From GRACE Satellites With Monitoring and Modeling of Major U.S. Aquifers</em></h3></div>\n",
       "\n",
       "\n",
       "<div class=\" flx60\" >\n",
       "\n",
       "<p><img src=\"images/Rateb2020_graceUSgroundwater.jpg\" alt=\"None\"  /><small>From <a href=\"https://agupubs.onlinelibrary.wiley.com/doi/full/10.1029/2020WR027556?\">Rateb et al. 2020, Water resources research</a>. WSA: water storage anomaly, CPA:cumulative precipitation anomaly</small></p></div>\n",
       "<div class=\" flx33\" >\n",
       "\n",
       "<ul><li class=\"fragment fade-in\">Net US decrease in aquifer volume of 90 km^3 over 15 years, but signs vary per aquifer</li><li class=\"fragment fade-in\">GRACE derived variations show good-strong correlation (0.5-0.95) with well data</li><li class=\"fragment fade-in\">Regional GRACE trends are generally smaller than regionally modelled GWS trends</li></ul></div>\n",
       "\n",
       "</div>"
      ],
      "text/plain": [
       "<jupylecture.tools.FlexSlide at 0x7f1a6c605eb0>"
      ]
     },
     "metadata": {},
     "output_type": "display_data"
    }
   ],
   "source": [
    "slide=FlexSlide(\"### Showcase I: Rateb et al 2020. *Comparison of Groundwater Storage Changes From GRACE Satellites With Monitoring and Modeling of Major U.S. Aquifers*\")\n",
    "slide.addimg(\"images/Rateb2020_graceUSgroundwater.jpg\",caption=\"From [Rateb et al. 2020, Water resources research](https://agupubs.onlinelibrary.wiley.com/doi/full/10.1029/2020WR027556?). WSA: water storage anomaly, CPA:cumulative precipitation anomaly\",flxwidth='flx60')\n",
    "slide.addItems([\"Net US decrease in aquifer volume of 90 km^3 over 15 years, but signs vary per aquifer\",\n",
    "                \"GRACE derived variations show good-strong correlation (0.5-0.95) with well data\",\n",
    "                \"Regional GRACE trends are generally smaller than regionally modelled GWS trends\"],flxwidth=\"flx33\",frag=True)\n",
    "slide.display()"
   ]
  },
  {
   "cell_type": "code",
   "execution_count": 22,
   "metadata": {
    "slideshow": {
     "slide_type": "slide"
    }
   },
   "outputs": [
    {
     "data": {
      "text/html": [
       "<div id=\"9cb14d303660d2d4\"></div>\n",
       "    <script type=\"text/javascript\">\n",
       "        $(function(){\n",
       "            var p = $(\"#9cb14d303660d2d4\");\n",
       "            if (p.length==0) return;\n",
       "            while (!p.hasClass(\"cell\")) {\n",
       "                p=p.parent();\n",
       "                if (p.prop(\"tagName\") ==\"body\") return;\n",
       "            }\n",
       "            var cell = p;\n",
       "            cell.find(\".input\").addClass(\"hide-in-slideshow\")\n",
       "        });\n",
       "    </script>"
      ]
     },
     "metadata": {},
     "output_type": "display_data"
    },
    {
     "data": {
      "text/markdown": [
       "\n",
       "<div class=\"flxsld text_cell\" ><div class=\"flx100\"><h3>Showcase I: Rateb et al 2020. Data and Methods</h3></div>\n",
       "\n",
       "\n",
       "<div class=\" flx60\" >\n",
       "\n",
       "<p><img src=\"images/rateb-method.jpg\" alt=\"None\"  /><small>From <a href=\"https://agupubs.onlinelibrary.wiley.com/doi/full/10.1029/2020WR027556?\">Rateb et al. 2020, Water resources research</a></small></p></div>\n",
       "<div class=\" flx33\" >\n",
       "\n",
       "<ul><li class=\"fragment fade-in\">Various GRACE solutions (spherical harmonics and mascons)</li><li class=\"fragment fade-in\">Corrections from models (Soil moisture, snow ), largest reservoir data</li><li class=\"fragment fade-in\">validation with well data, regional modflow models, hydrological models</li></ul></div>\n",
       "\n",
       "</div>"
      ],
      "text/plain": [
       "<jupylecture.tools.FlexSlide at 0x7f1a5d148970>"
      ]
     },
     "metadata": {},
     "output_type": "display_data"
    }
   ],
   "source": [
    "slide=FlexSlide(\"### Showcase I: Rateb et al 2020. Data and Methods\")\n",
    "slide.addimg(\"images/rateb-method.jpg\",caption=\"From [Rateb et al. 2020, Water resources research](https://agupubs.onlinelibrary.wiley.com/doi/full/10.1029/2020WR027556?)\",flxwidth='flx60')\n",
    "slide.addItems([\"Various GRACE solutions (spherical harmonics and mascons)\",\n",
    "                \"Corrections from models (Soil moisture, snow ), largest reservoir data\",\n",
    "                \"validation with well data, regional modflow models, global hydrological models\"],flxwidth=\"flx33\",frag=True)\n",
    "\n",
    "slide.display()"
   ]
  },
  {
   "cell_type": "markdown",
   "metadata": {
    "slideshow": {
     "slide_type": "slide"
    }
   },
   "source": [
    "### Showcase I: Rateb et al 2020. Open questions and uncertainties\n",
    "* Why such large differences between global hydrological models and GRACE?\n",
    "* Results mainly focus on GRACE 'mascon' solutions. How much is the true signal attenuated in these solutions?\n",
    "* Uncertainties in storage coefficients $\\Delta GWS = S_{c} \\Delta GWLs$\n",
    "* How well do the ground well data represent large scale signals. confined versus unconfined aquifers, local change of hydraulic head due to pumping\n",
    "  \n"
   ]
  },
  {
   "cell_type": "code",
   "execution_count": 46,
   "metadata": {
    "slideshow": {
     "slide_type": "slide"
    }
   },
   "outputs": [
    {
     "data": {
      "text/html": [
       "<div id=\"db3513f433e8e68b\"></div>\n",
       "    <script type=\"text/javascript\">\n",
       "        $(function(){\n",
       "            var p = $(\"#db3513f433e8e68b\");\n",
       "            if (p.length==0) return;\n",
       "            while (!p.hasClass(\"cell\")) {\n",
       "                p=p.parent();\n",
       "                if (p.prop(\"tagName\") ==\"body\") return;\n",
       "            }\n",
       "            var cell = p;\n",
       "            cell.find(\".input\").addClass(\"hide-in-slideshow\")\n",
       "        });\n",
       "    </script>"
      ]
     },
     "metadata": {},
     "output_type": "display_data"
    },
    {
     "data": {
      "text/markdown": [
       "\n",
       "<div class=\"flxsld text_cell\" ><div class=\"flx100\"><h3>Showcase II Girotto et al 2017, <em>Benefits and pitfalls of GRACE data assimilation: A case study of terrestrial water storage depletion in India</em></h3></div>\n",
       "\n",
       "\n",
       "<div class=\" flx50\" >\n",
       "\n",
       "<p><img src=\"images/girotto2017.jpg\" alt=\"None\" style=\"width:90%;\" /><small>From <a href=\"https://agupubs.onlinelibrary.wiley.com/doi/full/10.1002/2017GL072994\">Girotto et al. 2017, GRL</a>. </small></p></div>\n",
       "<div class=\" flx50\" >\n",
       "\n",
       "<ul><li class=\"fragment fade-in\">Data assimilation of GRACE data in hydrological models show mixed results in India</li><li class=\"fragment fade-in\">Model GWS moves towards GRACE</li><li class=\"fragment fade-in\">but creates artificial trends in modelled evaporation</li><li class=\"fragment fade-in\">Well data show smaller trends than GRACERegional GRACE trends are generally smaller than regionally modelled GWS trends</li></ul></div>\n",
       "\n",
       "</div>"
      ],
      "text/plain": [
       "<jupylecture.tools.FlexSlide at 0x7f1a6c67bd90>"
      ]
     },
     "metadata": {},
     "output_type": "display_data"
    }
   ],
   "source": [
    "slide=FlexSlide(\"### Showcase II Girotto et al 2017, *Benefits and pitfalls of GRACE data assimilation: A case study of terrestrial water storage depletion in India*\")\n",
    "slide.addimg(\"images/girotto2017.jpg\",width=\"90%\",caption=\"From [Girotto et al. 2017, GRL](https://agupubs.onlinelibrary.wiley.com/doi/full/10.1002/2017GL072994). \",flxwidth='flx50')\n",
    "slide.addItems([\"Data assimilation of GRACE data in hydrological models show mixed results in India\",\n",
    "                \"Model GWS moves towards GRACE\", \"but creates artificial trends in modelled evaporation\",\"Well data show smaller trends than GRACE\"\n",
    "                \"Regional GRACE trends are generally smaller than regionally modelled GWS trends\"],flxwidth=\"flx50\",frag=True)\n",
    "slide.display()"
   ]
  },
  {
   "cell_type": "code",
   "execution_count": 40,
   "metadata": {
    "slideshow": {
     "slide_type": "slide"
    }
   },
   "outputs": [
    {
     "data": {
      "text/html": [
       "<div id=\"0d0417b9cabafb89\"></div>\n",
       "    <script type=\"text/javascript\">\n",
       "        $(function(){\n",
       "            var p = $(\"#0d0417b9cabafb89\");\n",
       "            if (p.length==0) return;\n",
       "            while (!p.hasClass(\"cell\")) {\n",
       "                p=p.parent();\n",
       "                if (p.prop(\"tagName\") ==\"body\") return;\n",
       "            }\n",
       "            var cell = p;\n",
       "            cell.find(\".input\").addClass(\"hide-in-slideshow\")\n",
       "        });\n",
       "    </script>"
      ]
     },
     "metadata": {},
     "output_type": "display_data"
    },
    {
     "data": {
      "text/markdown": [
       "\n",
       "<div class=\"flxsld text_cell\" ><div class=\"flx100\"><h3>Showcase II Girotto et al 2017, Data and Methods</h3></div>\n",
       "\n",
       "\n",
       "<div class=\" flx50\" >\n",
       "\n",
       "<p><img src=\"images/enkf.png\" alt=\"None\" style=\"width:90%;\" /><small>Graphical depiction of the ensemble Kalman filter. Source: Rolf Reichle</small></p></div>\n",
       "<div class=\" flx50\" >\n",
       "\n",
       "<ul><li class=\"fragment fade-in\">GRACE 1x1 degree level 3 product from JPL</li><li class=\"fragment fade-in\"> Central Ground Water Board of India well data</li><li class=\"fragment fade-in\">3d ensemble kalman assimilation in the Catchment land surface model (CLSM) Model</li><li class=\"fragment fade-in\"> Weighing of GRACE relative to model prediction</li></ul></div>\n",
       "\n",
       "</div>"
      ],
      "text/plain": [
       "<jupylecture.tools.FlexSlide at 0x7f1a5d148a30>"
      ]
     },
     "metadata": {},
     "output_type": "display_data"
    }
   ],
   "source": [
    "slide=FlexSlide(\"### Showcase II Girotto et al 2017, Data and Methods\")\n",
    "slide.addimg(\"images/enkf.png\",width=\"90%\",caption=\"Graphical depiction of the ensemble Kalman filter. Source: Rolf Reichle\",flxwidth='flx50')\n",
    "slide.addItems([\"GRACE 1x1 degree level 3 product from JPL\",\" Central Ground Water Board of India well data\",\n",
    "                \"3d ensemble kalman assimilation in the Catchment land surface model (CLSM) Model\",\" Weighing of GRACE relative to model prediction\"],flxwidth=\"flx50\",frag=True)\n",
    "slide.display()"
   ]
  },
  {
   "cell_type": "code",
   "execution_count": 43,
   "metadata": {
    "scrolled": true,
    "slideshow": {
     "slide_type": "slide"
    }
   },
   "outputs": [
    {
     "data": {
      "text/html": [
       "<div id=\"a758da5147a54bba\"></div>\n",
       "    <script type=\"text/javascript\">\n",
       "        $(function(){\n",
       "            var p = $(\"#a758da5147a54bba\");\n",
       "            if (p.length==0) return;\n",
       "            while (!p.hasClass(\"cell\")) {\n",
       "                p=p.parent();\n",
       "                if (p.prop(\"tagName\") ==\"body\") return;\n",
       "            }\n",
       "            var cell = p;\n",
       "            cell.find(\".input\").addClass(\"hide-in-slideshow\")\n",
       "        });\n",
       "    </script>"
      ]
     },
     "metadata": {},
     "output_type": "display_data"
    },
    {
     "data": {
      "text/markdown": [
       "\n",
       "<div class=\"flxsld text_cell\" ><div class=\"flx100\"><h3>Showcase II Girotto et al 2017, Open questions and uncertainties</h3></div>\n",
       "\n",
       "\n",
       "<div class=\" flx100\" >\n",
       "\n",
       "<ul><li class=\"fragment fade-in\">Model does not incorporate human GWS extraction. Which makes it physically inconsistent with GRACE observations</li><li class=\"fragment fade-in\">GRACE error-covariance is diagonal and given on dense grid cells, is this a good representation of the actual error covariance?</li><li class=\"fragment fade-in\"> Groundwater well data may underestimate true depletion because it doesn't measure deeper aquifer changes</li></ul></div>\n",
       "\n",
       "</div>"
      ],
      "text/plain": [
       "<jupylecture.tools.FlexSlide at 0x7f1a5d0eb520>"
      ]
     },
     "metadata": {},
     "output_type": "display_data"
    }
   ],
   "source": [
    "slide=FlexSlide(\"### Showcase II Girotto et al 2017, Open questions and uncertainties\")\n",
    "slide.addItems([\"Model does not incorporate human GWS extraction. Which makes it physically inconsistent with GRACE observations\",\n",
    "                \"GRACE error-covariance is diagonal and given on dense grid cells, is this a good representation of the actual error covariance?\",\n",
    "                \" Groundwater well data may underestimate true depletion because it doesn't measure deeper aquifer changes\"],flxwidth=\"flx100\",frag=True)\n",
    "slide.display()"
   ]
  },
  {
   "cell_type": "code",
   "execution_count": 8,
   "metadata": {
    "slideshow": {
     "slide_type": "slide"
    }
   },
   "outputs": [
    {
     "data": {
      "text/html": [
       "<div id=\"7d58403867ac041b\"></div>\n",
       "    <script type=\"text/javascript\">\n",
       "        $(function(){\n",
       "            var p = $(\"#7d58403867ac041b\");\n",
       "            if (p.length==0) return;\n",
       "            while (!p.hasClass(\"cell\")) {\n",
       "                p=p.parent();\n",
       "                if (p.prop(\"tagName\") ==\"body\") return;\n",
       "            }\n",
       "            var cell = p;\n",
       "            cell.find(\".input\").addClass(\"hide-in-slideshow\")\n",
       "        });\n",
       "    </script>"
      ]
     },
     "metadata": {},
     "output_type": "display_data"
    },
    {
     "data": {
      "text/markdown": [
       "\n",
       "<div class=\"flxsld text_cell\" ><div class=\"flx100\"><h3>Showcase III Ahmed and Abdelmohsen et al 2018, <em>Quantifying Modern Recharge and Depletion Rates of the Nubian Aquifer in Egypt</em></h3></div>\n",
       "\n",
       "\n",
       "<div class=\" flx50\" >\n",
       "\n",
       "<p><img src=\"images/ahmedtrends.jpg\" alt=\"None\" style=\"width:85%;\" /><small>From <a href=\"https://link.springer.com/article/10.1007/s10712-018-9465-3\">Ahmed and Abdelmohsen 2018, Surv Geoph.</a></small></p></div>\n",
       "<div class=\" flx50\" >\n",
       "\n",
       "<ul><li class=\"fragment fade-in\">Use of GRACE to estimate Total water storage change</li><li class=\"fragment fade-in\">Nubian Aquifer in Egypt (NAE) received a total recharge of ~20km<sup>3</sup>during 2002-2006, and 2008-2016</li><ul><li class=\"fragment fade-in\">recharge during excessive precipitation and/or high lake Nasser levels</li></ul><li class=\"fragment fade-in\">the NAE experienced a depletion during 2006-2008 of -13 km<sup>3</sup>/yr </li><ul><li class=\"fragment fade-in\">Depletion due to sustained droughts in combination with baseflow recession during droughts</li></ul></ul></div>\n",
       "\n",
       "</div>"
      ],
      "text/plain": [
       "<jupylecture.tools.FlexSlide at 0x7f10f579bd30>"
      ]
     },
     "metadata": {},
     "output_type": "display_data"
    }
   ],
   "source": [
    "slide=FlexSlide(\"### Showcase III Ahmed and Abdelmohsen et al 2018, *Quantifying Modern Recharge and Depletion Rates of the Nubian Aquifer in Egypt*\")\n",
    "slide.addimg(\"images/ahmedtrends.jpg\",width=\"85%\",caption=\"From [Ahmed and Abdelmohsen 2018, Surv Geoph.](https://link.springer.com/article/10.1007/s10712-018-9465-3)\",flxwidth='flx50')\n",
    "slide.addItems([\"Use of GRACE to estimate Total water storage change\",\n",
    "                \"Nubian Aquifer in Egypt (NAE) received a total recharge of ~20km<sup>3</sup>during 2002-2006, and 2008-2016\",\n",
    "                [\"recharge during excessive precipitation and/or high lake Nasser levels\"],\n",
    "                \"the NAE experienced a depletion during 2006-2008 of -13 km<sup>3</sup>/yr \",\n",
    "                [\"Depletion due to sustained droughts in combination with baseflow recession during droughts\"]],flxwidth=\"flx50\",frag=True)\n",
    "slide.display()"
   ]
  },
  {
   "cell_type": "code",
   "execution_count": 9,
   "metadata": {
    "slideshow": {
     "slide_type": "slide"
    }
   },
   "outputs": [
    {
     "data": {
      "text/html": [
       "<div id=\"86489285102f6797\"></div>\n",
       "    <script type=\"text/javascript\">\n",
       "        $(function(){\n",
       "            var p = $(\"#86489285102f6797\");\n",
       "            if (p.length==0) return;\n",
       "            while (!p.hasClass(\"cell\")) {\n",
       "                p=p.parent();\n",
       "                if (p.prop(\"tagName\") ==\"body\") return;\n",
       "            }\n",
       "            var cell = p;\n",
       "            cell.find(\".input\").addClass(\"hide-in-slideshow\")\n",
       "        });\n",
       "    </script>"
      ]
     },
     "metadata": {},
     "output_type": "display_data"
    },
    {
     "data": {
      "text/markdown": [
       "\n",
       "<div class=\"flxsld text_cell\" ><div class=\"flx100\"><h3>Showcase III Ahmed and Abdelmohsen et al 2018, Data &amp; Methods</h3></div>\n",
       "\n",
       "\n",
       "<div class=\" flx50\" >\n",
       "\n",
       "<p><img src=\"images/ahmedGWS.png\" alt=\"None\" style=\"width:85%;\" /><small>From <a href=\"https://link.springer.com/article/10.1007/s10712-018-9465-3\">Ahmed and Abdelmohsen 2018, Surv Geoph.</a></small></p></div>\n",
       "<div class=\" flx50\" >\n",
       "\n",
       "<ul><li class=\"fragment fade-in\">Different GRACE solutions (Spherical harmonics/mascons)</li><li class=\"fragment fade-in\">Well data (limited period)</li><li class=\"fragment fade-in\">Soil moisture correction from the GLDAS land surface model</li><li class=\"fragment fade-in\">Lake Nasser levels from radar altimetry and global reservoir and lake monitoring databaseTuschka lake volume changes from landsat + DEM</li><li class=\"fragment fade-in\">Rainfall data from CMAP(satellite based)</li></ul></div>\n",
       "\n",
       "</div>"
      ],
      "text/plain": [
       "<jupylecture.tools.FlexSlide at 0x7f10f579ac50>"
      ]
     },
     "metadata": {},
     "output_type": "display_data"
    }
   ],
   "source": [
    "slide=FlexSlide(\"### Showcase III Ahmed and Abdelmohsen et al 2018, Data & Methods\")\n",
    "slide.addimg(\"images/ahmedGWS.png\",width=\"85%\",caption=\"From [Ahmed and Abdelmohsen 2018, Surv Geoph.](https://link.springer.com/article/10.1007/s10712-018-9465-3)\",flxwidth='flx50')\n",
    "slide.addItems([\"Different GRACE solutions (Spherical harmonics/mascons)\",\n",
    "                \"Well data (limited period)\",\n",
    "                \"Soil moisture correction from the GLDAS land surface model\",\n",
    "                \"Lake Nasser levels from radar altimetry and global reservoir and lake monitoring database\"\n",
    "                \"Tuschka lake volume changes from landsat + DEM\",\n",
    "                \"Rainfall data from CMAP(satellite based)\"],flxwidth=\"flx50\",frag=True)\n",
    "\n",
    "slide.display()"
   ]
  },
  {
   "cell_type": "code",
   "execution_count": 10,
   "metadata": {
    "slideshow": {
     "slide_type": "slide"
    }
   },
   "outputs": [
    {
     "data": {
      "text/html": [
       "<div id=\"4c879717c5d1d3e1\"></div>\n",
       "    <script type=\"text/javascript\">\n",
       "        $(function(){\n",
       "            var p = $(\"#4c879717c5d1d3e1\");\n",
       "            if (p.length==0) return;\n",
       "            while (!p.hasClass(\"cell\")) {\n",
       "                p=p.parent();\n",
       "                if (p.prop(\"tagName\") ==\"body\") return;\n",
       "            }\n",
       "            var cell = p;\n",
       "            cell.find(\".input\").addClass(\"hide-in-slideshow\")\n",
       "        });\n",
       "    </script>"
      ]
     },
     "metadata": {},
     "output_type": "display_data"
    },
    {
     "data": {
      "text/markdown": [
       "\n",
       "<div class=\"flxsld text_cell\" ><div class=\"flx100\"><h3>Showcase III Ahmed and Abdelmohsen et al 2018, Open questions and uncertainties</h3></div>\n",
       "\n",
       "\n",
       "<div class=\" flx50\" >\n",
       "\n",
       "<p><img src=\"images/ahmedregion.png\" alt=\"None\"  /><small>From <a href=\"https://link.springer.com/article/10.1007/s10712-018-9465-3\">Ahmed and Abdelmohsen 2018, Surv Geoph.</a></small></p></div>\n",
       "<div class=\" flx50\" >\n",
       "\n",
       "<ul><li class=\"fragment fade-in\">Long term behavior? Are those recharges/depletions to be expected or will they change under climate change?</li><li class=\"fragment fade-in\">More local measurements and modelling would be desirable</li><li class=\"fragment fade-in\">Uncertainties in modelled soil moisture corrections?</li><li class=\"fragment fade-in\">Lake Nasser levels from radar altimetry and global reservoir and lake monitoring database</li></ul></div>\n",
       "\n",
       "</div>"
      ],
      "text/plain": [
       "<jupylecture.tools.FlexSlide at 0x7f10f579a980>"
      ]
     },
     "metadata": {},
     "output_type": "display_data"
    }
   ],
   "source": [
    "slide=FlexSlide(\"### Showcase III Ahmed and Abdelmohsen et al 2018, Open questions and uncertainties\")\n",
    "slide.addimg(\"images/ahmedregion.png\",caption=\"From [Ahmed and Abdelmohsen 2018, Surv Geoph.](https://link.springer.com/article/10.1007/s10712-018-9465-3)\",flxwidth='flx50')\n",
    "slide.addItems([\"Long term behavior? Are those recharges/depletions to be expected or will they change under climate change?\",\n",
    "                \"More local measurements and modelling would be desirable\",\n",
    "                \"Uncertainties in modelled soil moisture corrections?\",\n",
    "                \"Lake Nasser levels from radar altimetry and global reservoir and lake monitoring database\"],flxwidth=\"flx50\",frag=True)\n",
    "slide.display()"
   ]
  },
  {
   "cell_type": "code",
   "execution_count": 73,
   "metadata": {
    "slideshow": {
     "slide_type": "slide"
    }
   },
   "outputs": [
    {
     "data": {
      "text/html": [
       "<div id=\"aed81ad665dfbf21\"></div>\n",
       "    <script type=\"text/javascript\">\n",
       "        $(function(){\n",
       "            var p = $(\"#aed81ad665dfbf21\");\n",
       "            if (p.length==0) return;\n",
       "            while (!p.hasClass(\"cell\")) {\n",
       "                p=p.parent();\n",
       "                if (p.prop(\"tagName\") ==\"body\") return;\n",
       "            }\n",
       "            var cell = p;\n",
       "            cell.find(\".input\").addClass(\"hide-in-slideshow\")\n",
       "        });\n",
       "    </script>"
      ]
     },
     "metadata": {},
     "output_type": "display_data"
    },
    {
     "data": {
      "text/markdown": [
       "\n",
       "<div class=\"flxsld text_cell\" ><div class=\"flx100\"><h3>Showcase IV Scanlon et al 2018 <em>Global models underestimate large decadal declining and rising water storage trends relative to GRACE satellite data</em></h3></div>\n",
       "\n",
       "\n",
       "<div class=\" flx60\" >\n",
       "\n",
       "<p><img src=\"images/scanlon.jpg\" alt=\"None\"  /><small>From <a href=\"https://www.pnas.org/content/115/6/E1080\">Scanlon et al. 2018, PNAS</a></small></p></div>\n",
       "<div class=\" flx40\" >\n",
       "\n",
       "<ul><li class=\"fragment fade-in\">Use GRACE to estimate watershed trends</li><li class=\"fragment fade-in\">models underestimate trends relative to GRACE and sometimes even don't agree in sign</li></ul></div>\n",
       "\n",
       "</div>"
      ],
      "text/plain": [
       "<jupylecture.tools.FlexSlide at 0x7f1a5d148bb0>"
      ]
     },
     "metadata": {},
     "output_type": "display_data"
    }
   ],
   "source": [
    "slide=FlexSlide(\"### Showcase IV Scanlon et al 2018 *Global models underestimate large decadal declining and rising water storage trends relative to GRACE satellite data*\")\n",
    "slide.addimg(\"images/scanlon.jpg\",caption=\"From [Scanlon et al. 2018, PNAS](https://www.pnas.org/content/115/6/E1080)\",flxwidth='flx60')\n",
    "slide.addItems([\"Use GRACE to estimate watershed trends\",\n",
    "                \"models underestimate trends relative to GRACE and sometimes even don't agree in sign\"],flxwidth=\"flx40\",frag=True)\n",
    "slide.display()"
   ]
  },
  {
   "cell_type": "code",
   "execution_count": 65,
   "metadata": {
    "slideshow": {
     "slide_type": "slide"
    }
   },
   "outputs": [
    {
     "data": {
      "text/html": [
       "<div id=\"cbed33782d0667e0\"></div>\n",
       "    <script type=\"text/javascript\">\n",
       "        $(function(){\n",
       "            var p = $(\"#cbed33782d0667e0\");\n",
       "            if (p.length==0) return;\n",
       "            while (!p.hasClass(\"cell\")) {\n",
       "                p=p.parent();\n",
       "                if (p.prop(\"tagName\") ==\"body\") return;\n",
       "            }\n",
       "            var cell = p;\n",
       "            cell.find(\".input\").addClass(\"hide-in-slideshow\")\n",
       "        });\n",
       "    </script>"
      ]
     },
     "metadata": {},
     "output_type": "display_data"
    },
    {
     "data": {
      "text/markdown": [
       "\n",
       "<div class=\"flxsld text_cell\" ><div class=\"flx100\"><h1>What have you learned?</h1></div>\n",
       "\n",
       "\n",
       "<div class=\" flx100\" >\n",
       "\n",
       "<ul><li class=\"fragment fade-in\">Several studies exists which use GRACE/GRACE-FO for groundwater applications</li><li class=\"fragment fade-in\">GRACE provides information at large spatial scales and a fair amount of corrections are needed to strip soild moisture snow and surface water effects</li><li class=\"fragment fade-in\">Information from satellite gravimetry is highly complementary to well data and modelling data.</li></ul></div>\n",
       "\n",
       "</div>"
      ],
      "text/plain": [
       "<jupylecture.tools.FlexSlide at 0x7f1a5d0eb400>"
      ]
     },
     "metadata": {},
     "output_type": "display_data"
    }
   ],
   "source": [
    "slide19=FlexSlide(\"#  What have you learned?\")\n",
    "slide19.addItems([\"Several studies exists which use GRACE/GRACE-FO for groundwater applications\",\n",
    "                  \"GRACE provides information at large spatial scales and a fair amount of corrections are needed to strip soil moisture snow and surface water effects\",\n",
    "                 \"Information from satellite gravimetry is highly complementary to well data and modelling data.\"]\n",
    "                 ,flxwidth=\"flx100\",frag=True)\n",
    "\n",
    "slide19.display()\n",
    "\n",
    "\n"
   ]
  }
 ],
 "metadata": {
  "celltoolbar": "Slideshow",
  "kernelspec": {
   "display_name": "pyrr",
   "language": "python",
   "name": "pyrr"
  },
  "language_info": {
   "codemirror_mode": {
    "name": "ipython",
    "version": 3
   },
   "file_extension": ".py",
   "mimetype": "text/x-python",
   "name": "python",
   "nbconvert_exporter": "python",
   "pygments_lexer": "ipython3",
   "version": "3.10.4"
  },
  "rise": {
   "autolaunch": true,
   "enable_chalkboard": true,
   "footer": "<div><h3>Gravity and the water cycle, R.Rietbroek, April 2022</h3></div><div id=\"logobox\"></div>",
   "slideNumber": "c/t",
   "theme": "black",
   "transition": "None"
  }
 },
 "nbformat": 4,
 "nbformat_minor": 2
}
