{
 "cells": [
  {
   "cell_type": "code",
   "execution_count": 2,
   "metadata": {
    "slideshow": {
     "slide_type": "skip"
    }
   },
   "outputs": [],
   "source": [
    "%load_ext autoreload\n",
    "%autoreload 2"
   ]
  },
  {
   "cell_type": "code",
   "execution_count": 3,
   "metadata": {
    "slideshow": {
     "slide_type": "skip"
    }
   },
   "outputs": [],
   "source": [
    "from jupylecture.tools import FlexSlide"
   ]
  },
  {
   "cell_type": "markdown",
   "metadata": {
    "slideshow": {
     "slide_type": "slide"
    }
   },
   "source": [
    "# Gravity and the Water Cycle I \n",
    "**Part of EOAfrica R & D**\n",
    "<img src=\"images/water-cycle2.png\" alt=\"The Earth's water cycle\" style=\"width: 900px;\"/>\n",
    "<small>Source: JPL/Caltech</small>"
   ]
  },
  {
   "cell_type": "code",
   "execution_count": 4,
   "metadata": {
    "slideshow": {
     "slide_type": "slide"
    }
   },
   "outputs": [
    {
     "data": {
      "text/html": [
       "<div id=\"6f003ec5244ce977\"></div>\n",
       "    <script type=\"text/javascript\">\n",
       "        $(function(){\n",
       "            var p = $(\"#6f003ec5244ce977\");\n",
       "            if (p.length==0) return;\n",
       "            while (!p.hasClass(\"cell\")) {\n",
       "                p=p.parent();\n",
       "                if (p.prop(\"tagName\") ==\"body\") return;\n",
       "            }\n",
       "            var cell = p;\n",
       "            cell.find(\".input\").addClass(\"hide-in-slideshow\")\n",
       "        });\n",
       "    </script>"
      ]
     },
     "metadata": {},
     "output_type": "display_data"
    },
    {
     "data": {
      "text/markdown": [
       "\n",
       "<div class=\"flxsld text_cell\" ><div class=\"flx100\"><h2>Showcase: US Groundwater changes from GRACE/GRACE-FO</h2></div>\n",
       "\n",
       "\n",
       "<div class=\" flx60\" >\n",
       "\n",
       "<p><img src=\"images/Rateb2020_graceUSgroundwater.jpg\" alt=\"None\"  /><small>From <a href=\"https://agupubs.onlinelibrary.wiley.com/doi/full/10.1029/2020WR027556?\">Rateb et al. 2020, Water resources research</a>. WSA: water storage anomaly, CPA:cumulative precipitation anomaly</small></p></div>\n",
       "<div class=\" flx33\" >\n",
       "\n",
       "<ul><li class=\"fragment fade-in\">Aquifer mass changes can be observed from gravity changes</li><li class=\"fragment fade-in\">Net US decrease 90 km^3 over 15 years, but signs vary per aquifer</li><li class=\"fragment fade-in\">Groundwater peaks (Blue) are damped relative to total water storage (black), why?</li><li class=\"fragment fade-in\">Gravity is sensitive to mass (≠volume!)</li></ul></div>\n",
       "\n",
       "</div>"
      ],
      "text/plain": [
       "<jupylecture.tools.FlexSlide at 0x7f6054148e50>"
      ]
     },
     "metadata": {},
     "output_type": "display_data"
    }
   ],
   "source": [
    "slide=FlexSlide(\"## Showcase: US Groundwater changes from GRACE/GRACE-FO\")\n",
    "slide.addimg(\"images/Rateb2020_graceUSgroundwater.jpg\",caption=\"From [Rateb et al. 2020, Water resources research](https://agupubs.onlinelibrary.wiley.com/doi/full/10.1029/2020WR027556?). WSA: water storage anomaly, CPA:cumulative precipitation anomaly\",flxwidth='flx60')\n",
    "slide.addItems([\"Aquifer mass changes can be observed from gravity changes\",\n",
    "                \"Net US decrease 90 km^3 over 15 years, but signs vary per aquifer\",\n",
    "                \"Groundwater peaks (Blue) are damped relative to total water storage (black), why?\",\n",
    "                \"Gravity is sensitive to mass (≠volume!)\"],flxwidth=\"flx33\",frag=True)\n",
    "slide.display()"
   ]
  },
  {
   "cell_type": "code",
   "execution_count": 4,
   "metadata": {
    "slideshow": {
     "slide_type": "slide"
    }
   },
   "outputs": [
    {
     "data": {
      "text/html": [
       "<div id=\"94243ed72c30a420\"></div>\n",
       "    <script type=\"text/javascript\">\n",
       "        $(function(){\n",
       "            var p = $(\"#94243ed72c30a420\");\n",
       "            if (p.length==0) return;\n",
       "            while (!p.hasClass(\"cell\")) {\n",
       "                p=p.parent();\n",
       "                if (p.prop(\"tagName\") ==\"body\") return;\n",
       "            }\n",
       "            var cell = p;\n",
       "            cell.find(\".input\").addClass(\"hide-in-slideshow\")\n",
       "        });\n",
       "    </script>"
      ]
     },
     "metadata": {},
     "output_type": "display_data"
    },
    {
     "data": {
      "text/markdown": [
       "\n",
       "<div class=\"flxsld text_cell\" ><div class=\"flx100\"><h1>Who am I?</h1></div>\n",
       "\n",
       "\n",
       "<div class=\" flx50\" >\n",
       "\n",
       "<p><img src=\"images/Speuldjun21RoelofnStudents.jpg\" alt=\"None\"  /><small>Field trip Speulderbos, June 2021</small></p></div>\n",
       "<div class=\" flx50\" >\n",
       "\n",
       "<ul><li>Roelof Rietbroek, main field: geodesy</li><li>since august 2020 assistant prof at the WRS department</li><li>Before that</li><ul><li>Aerospace Engineering at the TU Delft (NL), MSc 2007</li><li>Researcher/Phd candidate at GFZ Potsdam & University of Bonn (Germany)</li><li>PhD 2014 title: \"Retrieval of Sea Level and Surface Loading Variations from Geodetic Observations and Model Simulations\"</li></ul></ul></div>\n",
       "\n",
       "</div>"
      ],
      "text/plain": [
       "<jupylecture.tools.FlexSlide at 0x7f85c8599850>"
      ]
     },
     "metadata": {},
     "output_type": "display_data"
    }
   ],
   "source": [
    "slideself=FlexSlide(\"# Who am I?\")\n",
    "slideself.addimg(\"images/Speuldjun21RoelofnStudents.jpg\",caption=\"Field trip Speulderbos Netherlands, June 2021\",flxwidth=\"flx50\")\n",
    "slideself.addItems([\"Roelof Rietbroek, main field: geodesy\",\"since august 2020 assistant prof at the WRS department\",\"Before that\",[\"Aerospace Engineering at the TU Delft (NL), MSc 2007\",\"Researcher/Phd candidate at GFZ Potsdam & University of Bonn (Germany)\",\"PhD 2014 title: \\\"Retrieval of Sea Level and Surface Loading Variations from Geodetic Observations and Model Simulations\\\"\"]],flxwidth=\"flx50\")\n",
    "slideself.display()\n"
   ]
  },
  {
   "cell_type": "code",
   "execution_count": 6,
   "metadata": {
    "cell_style": "center",
    "slideshow": {
     "slide_type": "slide"
    }
   },
   "outputs": [
    {
     "data": {
      "text/html": [
       "<div id=\"e1c5e101875a58b5\"></div>\n",
       "    <script type=\"text/javascript\">\n",
       "        $(function(){\n",
       "            var p = $(\"#e1c5e101875a58b5\");\n",
       "            if (p.length==0) return;\n",
       "            while (!p.hasClass(\"cell\")) {\n",
       "                p=p.parent();\n",
       "                if (p.prop(\"tagName\") ==\"body\") return;\n",
       "            }\n",
       "            var cell = p;\n",
       "            cell.find(\".input\").addClass(\"hide-in-slideshow\")\n",
       "        });\n",
       "    </script>"
      ]
     },
     "metadata": {},
     "output_type": "display_data"
    },
    {
     "data": {
      "text/markdown": [
       "\n",
       "<div class=\"flxsld text_cell\" ><div class=\"flx100\"><h2>What will you learn</h2></div>\n",
       "\n",
       "\n",
       "<div class=\" flx33\" >\n",
       "\n",
       "<p><img src=\"images/gravityMovie.webp\" alt=\"None\" style=\"width:90%;\" /><small>We're not talking about the Hollywood version of 'gravity'</small></p></div>\n",
       "<div class=\" flx60\" >\n",
       "\n",
       "<ul><li class=\"fragment fade-in\">The basic principles of how geodesy/gravity relates to the water cycle</li><li class=\"fragment fade-in\">The measurement principles of satellite gravimetry and terrestrial gravimetry</li><li class=\"fragment fade-in\">How gravity measurements can contribute to improving hydrological models</li></ul></div>\n",
       "\n",
       "</div>"
      ],
      "text/plain": [
       "<jupylecture.tools.FlexSlide at 0x7f60541484c0>"
      ]
     },
     "metadata": {},
     "output_type": "display_data"
    }
   ],
   "source": [
    "slideLO=FlexSlide(\"## What will you learn\")\n",
    "slideLO.addimg(\"images/gravityMovie.webp\",caption=\"We're not talking about the Hollywood version of 'gravity'\",flxwidth=\"flx33\",width=\"90%\")\n",
    "slideLO.addItems([\"The basic principles of how geodesy/gravity relates to the water cycle\",\n",
    "                  \"The measurement principles of satellite gravimetry and terrestrial gravimetry\",\n",
    "                  \"How gravity measurements can contribute to improving hydrological models\"],\n",
    "                 flxwidth=\"flx60\",frag=True)\n",
    "slideLO.display()"
   ]
  },
  {
   "cell_type": "code",
   "execution_count": 7,
   "metadata": {
    "slideshow": {
     "slide_type": "slide"
    }
   },
   "outputs": [
    {
     "data": {
      "text/html": [
       "<div id=\"ed01dc281a7993e2\"></div>\n",
       "    <script type=\"text/javascript\">\n",
       "        $(function(){\n",
       "            var p = $(\"#ed01dc281a7993e2\");\n",
       "            if (p.length==0) return;\n",
       "            while (!p.hasClass(\"cell\")) {\n",
       "                p=p.parent();\n",
       "                if (p.prop(\"tagName\") ==\"body\") return;\n",
       "            }\n",
       "            var cell = p;\n",
       "            cell.find(\".input\").addClass(\"hide-in-slideshow\")\n",
       "        });\n",
       "    </script>"
      ]
     },
     "metadata": {},
     "output_type": "display_data"
    },
    {
     "data": {
      "text/markdown": [
       "\n",
       "<div class=\"flxsld text_cell\" ><div class=\"flx100\"><h1>Classical definition of Geodesy</h1></div>\n",
       "\n",
       "\n",
       "<div class=\" flx30\" >\n",
       "\n",
       "<p><img src=\"images/Helmert.jpg\" alt=\"None\" style=\"width:60%;\" /><small>Friedrich Robert Helmert</small></p></div>\n",
       "<div class=\" flx60\" >\n",
       "\n",
       "<ul><li class=\"fragment fade-in\">Friedrich Robert Helmert (1880): Geodesy is the science concerned with the study of the shape and size of the earth in the geometric sense as well as with the form of the equipotential surfaces of the gravity potential</li><li class=\"fragment fade-in\">Still relevant and well ahead of his time</li></ul></div>\n",
       "<div class=\" flx30\" >\n",
       "\n",
       "<p><img src=\"images/HelmertDesk.jpg\" alt=\"None\" style=\"width:80%;\" /><small>Helmert's desk (GFZ, Potsdam)</small></p></div>\n",
       "\n",
       "</div>"
      ],
      "text/plain": [
       "<jupylecture.tools.FlexSlide at 0x7f605414a530>"
      ]
     },
     "metadata": {},
     "output_type": "display_data"
    }
   ],
   "source": [
    "slidegeodesy=FlexSlide(\"# Classical definition of Geodesy\")\n",
    "slidegeodesy.addimg(\"images/Helmert.jpg\",caption=\"Friedrich Robert Helmert\",flxwidth=\"flx30\",width=\"60%\")\n",
    "slidegeodesy.addItems([\"Friedrich Robert Helmert (1880): Geodesy is the science concerned with the study of the shape and size of the earth in the geometric sense as well as with the form of the equipotential surfaces of the gravity potential\",\n",
    "                  \"Still relevant and well ahead of his time\"],flxwidth=\"flx60\",frag=True)\n",
    "slidegeodesy.addimg(\"images/HelmertDesk.jpg\",caption=\"Helmert's desk (GFZ, Potsdam)\",flxwidth=\"flx30\",width=\"80%\")\n",
    "# slidegeodesy.addimg(\"images/HelmertBarista.jpg\",caption=\"2021?\",flxwidth=\"flx30\",width=\"80%\",frag=True)\n",
    "slidegeodesy.display()"
   ]
  },
  {
   "cell_type": "code",
   "execution_count": 7,
   "metadata": {
    "cell_style": "center",
    "slideshow": {
     "slide_type": "slide"
    }
   },
   "outputs": [
    {
     "data": {
      "text/html": [
       "<div id=\"e1c9caf52a96e15c\"></div>\n",
       "    <script type=\"text/javascript\">\n",
       "        $(function(){\n",
       "            var p = $(\"#e1c9caf52a96e15c\");\n",
       "            if (p.length==0) return;\n",
       "            while (!p.hasClass(\"cell\")) {\n",
       "                p=p.parent();\n",
       "                if (p.prop(\"tagName\") ==\"body\") return;\n",
       "            }\n",
       "            var cell = p;\n",
       "            cell.find(\".input\").addClass(\"hide-in-slideshow\")\n",
       "        });\n",
       "    </script>"
      ]
     },
     "metadata": {},
     "output_type": "display_data"
    },
    {
     "data": {
      "text/markdown": [
       "\n",
       "<div class=\"flxsld text_cell\" ><div class=\"flx100\"><h1>The three pillars of Geodesy</h1></div>\n",
       "\n",
       "\n",
       "<div class=\" flx50\" >\n",
       "\n",
       "<p><img src=\"images/GeodesyPillars.png\" alt=\"None\"  /><small>Source: www.iag-ggos.org</small></p></div>\n",
       "<div class=\" flx50\" >\n",
       "\n",
       "<ul><li class=\"fragment fade-in\"><b>Geokinematics</b>: study the shape of the Earth and its deformations over time)</li><li class=\"fragment fade-in\"><b>Earth rotation</b>: position and rate of the rotation axis and angular momentum axis w.r.t. to stars and crust</li><li class=\"fragment fade-in\"><b>Gravity</b>: the (possibly time-variable) gravitational field of non-homogenous objects</li><li class=\"fragment fade-in\"><b>Reference frames</b>: Definition and realization of Celestial and or Earth-fixed reference systems/frames</li></ul></div>\n",
       "\n",
       "</div>"
      ],
      "text/plain": [
       "<jupylecture.tools.FlexSlide at 0x7f85c85b6c40>"
      ]
     },
     "metadata": {},
     "output_type": "display_data"
    }
   ],
   "source": [
    "slide3p=FlexSlide(\"# The three pillars of Geodesy\")\n",
    "slide3p.addimg(\"images/GeodesyPillars.png\",caption=\"Source: www.iag-ggos.org\",flxwidth=\"flx50\")\n",
    "slide3p.addItems([\"<b>Geokinematics</b>: study the shape of the Earth and its deformations over time)\",\n",
    "                  \"<b>Earth rotation</b>: position and rate of the rotation axis and angular momentum axis w.r.t. to stars and crust\",\n",
    "                  \"<b>Gravity</b>: the (possibly time-variable) gravitational field of non-homogenous objects\",\n",
    "                 \"<b>Reference frames</b>: Definition and realization of Celestial and or Earth-fixed reference systems/frames\"],flxwidth=\"flx50\",frag=True)\n",
    "slide3p.display()"
   ]
  },
  {
   "cell_type": "code",
   "execution_count": 8,
   "metadata": {
    "slideshow": {
     "slide_type": "slide"
    }
   },
   "outputs": [
    {
     "data": {
      "text/html": [
       "<div id=\"07d45c82e4d15425\"></div>\n",
       "    <script type=\"text/javascript\">\n",
       "        $(function(){\n",
       "            var p = $(\"#07d45c82e4d15425\");\n",
       "            if (p.length==0) return;\n",
       "            while (!p.hasClass(\"cell\")) {\n",
       "                p=p.parent();\n",
       "                if (p.prop(\"tagName\") ==\"body\") return;\n",
       "            }\n",
       "            var cell = p;\n",
       "            cell.find(\".input\").addClass(\"hide-in-slideshow\")\n",
       "        });\n",
       "    </script>"
      ]
     },
     "metadata": {},
     "output_type": "display_data"
    },
    {
     "data": {
      "text/markdown": [
       "\n",
       "<div class=\"flxsld text_cell\" ><div class=\"flx100\"><h1>Force versus Acceleration</h1></div>\n",
       "\n",
       "\n",
       "<div class=\" flx50\" >\n",
       "\n",
       "<p><svg xmlns:inkscape=\"http://www.inkscape.org/namespaces/inkscape\" xmlns:sodipodi=\"http://sodipodi.sourceforge.net/DTD/sodipodi-0.dtd\" xmlns=\"http://www.w3.org/2000/svg\" xmlns:svg=\"http://www.w3.org/2000/svg\" width=\"216.06114mm\" height=\"196.68184mm\" viewBox=\"0 0 216.06114 196.68184\" version=\"1.1\" id=\"svg5\" inkscape:version=\"1.1 (c4e8f9ed74, 2021-05-24)\" sodipodi:docname=\"ForceVsAcceleration.svg\">\n",
       "  <sodipodi:namedview id=\"namedview7\" pagecolor=\"#c8c8c8\" bordercolor=\"#666666\" borderopacity=\"1.0\" inkscape:pageshadow=\"2\" inkscape:pageopacity=\"1\" inkscape:pagecheckerboard=\"true\" inkscape:document-units=\"mm\" showgrid=\"false\" inkscape:zoom=\"0.94867182\" inkscape:cx=\"497.01065\" inkscape:cy=\"356.81465\" inkscape:window-width=\"1920\" inkscape:window-height=\"1131\" inkscape:window-x=\"0\" inkscape:window-y=\"0\" inkscape:window-maximized=\"1\" inkscape:current-layer=\"layer1\" fit-margin-top=\"8\" fit-margin-left=\"8\" fit-margin-right=\"8\" fit-margin-bottom=\"8\" lock-margins=\"true\"/>\n",
       "  <defs id=\"defs2\">\n",
       "    <linearGradient id=\"linearGradient1134\" inkscape:swatch=\"solid\">\n",
       "      <stop style=\"stop-color:#000000;stop-opacity:1;\" offset=\"0\" id=\"stop1132\"/>\n",
       "    </linearGradient>\n",
       "    <marker style=\"overflow:visible\" id=\"Arrow2Mend\" refX=\"0\" refY=\"0\" orient=\"auto\" inkscape:stockid=\"Arrow2Mend\" inkscape:isstock=\"true\">\n",
       "      <path transform=\"scale(-0.6)\" d=\"M 8.7185878,4.0337352 -2.2072895,0.01601326 8.7185884,-4.0017078 c -1.7454984,2.3720609 -1.7354408,5.6174519 -6e-7,8.035443 z\" style=\"fill:context-stroke;fill-rule:evenodd;stroke-width:0.625;stroke-linejoin:round\" id=\"path2218\"/>\n",
       "    </marker>\n",
       "    <marker style=\"overflow:visible\" id=\"Arrow1Send\" refX=\"0\" refY=\"0\" orient=\"auto\" inkscape:stockid=\"Arrow1Send\" inkscape:isstock=\"true\">\n",
       "      <path transform=\"matrix(-0.2,0,0,-0.2,-1.2,0)\" style=\"fill:context-stroke;fill-rule:evenodd;stroke:context-stroke;stroke-width:1pt\" d=\"M 0,0 5,-5 -12.5,0 5,5 Z\" id=\"path2206\"/>\n",
       "    </marker>\n",
       "    <rect x=\"162.39639\" y=\"777.76508\" width=\"184.09351\" height=\"172.06285\" id=\"rect6202\"/>\n",
       "    <marker id=\"ExperimentalArrow\" refX=\"5\" refY=\"3\" orient=\"auto-start-reverse\" inkscape:stockid=\"ExperimentalArrow\" inkscape:isstock=\"true\">\n",
       "      <path style=\"fill:context-stroke\" d=\"M 10,3 0,6 V 0 Z\" id=\"path2446\"/>\n",
       "    </marker>\n",
       "    <marker style=\"overflow:visible\" id=\"TriangleOutL\" refX=\"0\" refY=\"0\" orient=\"auto\" inkscape:stockid=\"TriangleOutL\" inkscape:isstock=\"true\">\n",
       "      <path transform=\"scale(0.8)\" style=\"fill:context-stroke;fill-rule:evenodd;stroke:context-stroke;stroke-width:1pt\" d=\"M 5.77,0 -2.88,5 V -5 Z\" id=\"path2335\"/>\n",
       "    </marker>\n",
       "    <marker style=\"overflow:visible\" id=\"Arrow2Lend\" refX=\"0\" refY=\"0\" orient=\"auto\" inkscape:stockid=\"Arrow2Lend\" inkscape:isstock=\"true\">\n",
       "      <path transform=\"matrix(-1.1,0,0,-1.1,-1.1,0)\" d=\"M 8.7185878,4.0337352 -2.2072895,0.01601326 8.7185884,-4.0017078 c -1.7454984,2.3720609 -1.7354408,5.6174519 -6e-7,8.035443 z\" style=\"fill:context-stroke;fill-rule:evenodd;stroke-width:0.625;stroke-linejoin:round\" id=\"path2212\"/>\n",
       "    </marker>\n",
       "    <marker id=\"ExperimentalArrow-1\" refX=\"5\" refY=\"3\" orient=\"auto-start-reverse\" inkscape:stockid=\"ExperimentalArrow\" inkscape:isstock=\"true\">\n",
       "      <path style=\"fill:context-stroke\" d=\"M 10,3 0,6 V 0 Z\" id=\"path2446-2\"/>\n",
       "    </marker>\n",
       "    <rect x=\"162.39639\" y=\"777.76508\" width=\"184.09351\" height=\"172.06285\" id=\"rect6202-0\"/>\n",
       "    <marker id=\"ExperimentalArrow-1-3\" refX=\"5\" refY=\"3\" orient=\"auto-start-reverse\" inkscape:stockid=\"ExperimentalArrow\" inkscape:isstock=\"true\">\n",
       "      <path style=\"fill:context-stroke\" d=\"M 10,3 0,6 V 0 Z\" id=\"path2446-2-6\"/>\n",
       "    </marker>\n",
       "    <rect x=\"162.39639\" y=\"777.76508\" width=\"184.09351\" height=\"172.06285\" id=\"rect6202-0-6\"/>\n",
       "    <rect x=\"162.39639\" y=\"777.76508\" width=\"184.09351\" height=\"172.06285\" id=\"rect6202-0-61\"/>\n",
       "    <rect x=\"162.39639\" y=\"777.76508\" width=\"184.09351\" height=\"172.06285\" id=\"rect6202-0-61-7\"/>\n",
       "    <marker style=\"overflow:visible\" refX=\"0\" refY=\"0\" orient=\"auto\" inkscape:stockid=\"TriangleOutL2268\" inkscape:isstock=\"true\" id=\"TriangleOutL2268\">\n",
       "      <path transform=\"scale(0.8)\" style=\"fill:#ffffff;fill-opacity:1;fill-rule:evenodd;stroke:#ffffff;stroke-width:1pt;stroke-opacity:1\" d=\"M 5.77,0 -2.88,5 V -5 Z\" id=\"path13131\"/>\n",
       "    </marker>\n",
       "    <marker style=\"overflow:visible\" refX=\"0\" refY=\"0\" orient=\"auto\" inkscape:stockid=\"TriangleOutL22689186\" inkscape:isstock=\"true\" id=\"TriangleOutL22689186\">\n",
       "      <path transform=\"scale(0.8)\" style=\"fill:#ffffff;fill-opacity:1;fill-rule:evenodd;stroke:#ffffff;stroke-width:1pt;stroke-opacity:1\" d=\"M 5.77,0 -2.88,5 V -5 Z\" id=\"path13324\"/>\n",
       "    </marker>\n",
       "    <marker refX=\"5\" refY=\"3\" orient=\"auto-start-reverse\" inkscape:stockid=\"ExperimentalArrow-19558\" inkscape:isstock=\"true\" id=\"ExperimentalArrow-19558\">\n",
       "      <path style=\"fill:#ffffff;fill-opacity:1;stroke:#ffffff;stroke-opacity:1\" d=\"M 10,3 0,6 V 0 Z\" id=\"path13563\"/>\n",
       "    </marker>\n",
       "    <marker refX=\"5\" refY=\"3\" orient=\"auto-start-reverse\" inkscape:stockid=\"ExperimentalArrow-1-33949\" inkscape:isstock=\"true\" id=\"ExperimentalArrow-1-33949\">\n",
       "      <path style=\"fill:#ffffff;fill-opacity:1;stroke:#ffffff;stroke-opacity:1\" d=\"M 10,3 0,6 V 0 Z\" id=\"path13566\"/>\n",
       "    </marker>\n",
       "    <marker refX=\"5\" refY=\"3\" orient=\"auto-start-reverse\" inkscape:stockid=\"ExperimentalArrow-1-3586\" inkscape:isstock=\"true\" id=\"ExperimentalArrow-1-3586\">\n",
       "      <path style=\"fill:#ffffff;fill-opacity:1;stroke:#ffffff;stroke-opacity:1\" d=\"M 10,3 0,6 V 0 Z\" id=\"path13569\"/>\n",
       "    </marker>\n",
       "    <marker style=\"overflow:visible\" refX=\"0\" refY=\"0\" orient=\"auto\" inkscape:stockid=\"Arrow2Mend4922\" inkscape:isstock=\"true\" id=\"Arrow2Mend4922\">\n",
       "      <path transform=\"scale(-0.6)\" d=\"M 8.7185878,4.0337352 -2.2072895,0.01601326 8.7185884,-4.0017078 c -1.7454984,2.3720609 -1.7354408,5.6174519 -6e-7,8.035443 z\" style=\"fill:#ffffff;fill-opacity:1;fill-rule:evenodd;stroke:#ffffff;stroke-width:0.625;stroke-linejoin:round;stroke-opacity:1\" id=\"path13951\"/>\n",
       "    </marker>\n",
       "    <marker style=\"overflow:visible\" refX=\"0\" refY=\"0\" orient=\"auto\" inkscape:stockid=\"Arrow2Mend1054\" inkscape:isstock=\"true\" id=\"Arrow2Mend1054\">\n",
       "      <path transform=\"scale(-0.6)\" d=\"M 8.7185878,4.0337352 -2.2072895,0.01601326 8.7185884,-4.0017078 c -1.7454984,2.3720609 -1.7354408,5.6174519 -6e-7,8.035443 z\" style=\"fill:#ffffff;fill-opacity:1;fill-rule:evenodd;stroke:#ffffff;stroke-width:0.625;stroke-linejoin:round;stroke-opacity:1\" id=\"path13954\"/>\n",
       "    </marker>\n",
       "    <marker style=\"overflow:visible\" refX=\"0\" refY=\"0\" orient=\"auto\" inkscape:stockid=\"Arrow2Mend371\" inkscape:isstock=\"true\" id=\"Arrow2Mend371\">\n",
       "      <path transform=\"scale(-0.6)\" d=\"M 8.7185878,4.0337352 -2.2072895,0.01601326 8.7185884,-4.0017078 c -1.7454984,2.3720609 -1.7354408,5.6174519 -6e-7,8.035443 z\" style=\"fill:#ffffff;fill-opacity:1;fill-rule:evenodd;stroke:#ffffff;stroke-width:0.625;stroke-linejoin:round;stroke-opacity:1\" id=\"path13957\"/>\n",
       "    </marker>\n",
       "    <rect x=\"162.39639\" y=\"777.76508\" width=\"184.09351\" height=\"172.06285\" id=\"rect6202-0-2\"/>\n",
       "    <rect x=\"162.39639\" y=\"777.76508\" width=\"184.09351\" height=\"172.06285\" id=\"rect6202-0-1\"/>\n",
       "    <rect x=\"162.39639\" y=\"777.76508\" width=\"184.09351\" height=\"172.06285\" id=\"rect6202-0-9\"/>\n",
       "  </defs>\n",
       "  <g inkscape:label=\"Layer 1\" inkscape:groupmode=\"layer\" id=\"layer1\" transform=\"translate(3.383356,-101.82054)\">\n",
       "    <circle style=\"stroke:currentColor;fill-opacity:0;\" id=\"path445\" cx=\"163.62825\" cy=\"172.37209\" r=\"36.876781\"/>\n",
       "    <circle style=\"stroke:currentColor;fill-opacity:0;\" id=\"path445-3\" cx=\"91.245598\" cy=\"172.37209\" r=\"20.965937\"/>\n",
       "    <g id=\"g2056\" transform=\"translate(-16.118931,47.799054)\" style=\"stroke-opacity:1;stroke-dasharray:none;stroke-miterlimit:4;stroke-width:1;stroke:currentColor;\">\n",
       "      <path d=\"M 20.735575,221.28069 H 211.9523\" id=\"path1599\" style=\"stroke-opacity:1;stroke-dasharray:none;stroke-miterlimit:4;stroke-width:1;\"/>\n",
       "      <path d=\"m 32.199933,221.28069 17.089064,20.87558\" id=\"path1747\" style=\"stroke-opacity:1;stroke-dasharray:none;stroke-miterlimit:4;stroke-width:1;\"/>\n",
       "      <path d=\"m 56.672588,221.28069 17.089063,20.87558\" id=\"path1747-6\" style=\"stroke-opacity:1;stroke-dasharray:none;stroke-miterlimit:4;stroke-width:1;\"/>\n",
       "      <path d=\"m 81.145244,221.28069 17.089064,20.87558\" id=\"path1747-7\" style=\"stroke-opacity:1;stroke-dasharray:none;stroke-miterlimit:4;stroke-width:1;\"/>\n",
       "      <path d=\"m 105.61789,221.28069 17.08907,20.87558\" id=\"path1747-5\" style=\"stroke-opacity:1;stroke-dasharray:none;stroke-miterlimit:4;stroke-width:1;\"/>\n",
       "      <path d=\"m 154.56319,221.28069 17.08906,20.87558\" id=\"path1747-3\" style=\"stroke-opacity:1;stroke-dasharray:none;stroke-miterlimit:4;stroke-width:1;\"/>\n",
       "      <path d=\"m 130.09054,221.28069 17.08907,20.87558\" id=\"path1747-56\" style=\"stroke-opacity:1;stroke-dasharray:none;stroke-miterlimit:4;stroke-width:1;\"/>\n",
       "      <path d=\"m 203.03938,221.28069 17.08907,20.87558\" id=\"path1747-2\" style=\"stroke-opacity:1;stroke-dasharray:none;stroke-miterlimit:4;stroke-width:1;\"/>\n",
       "      <path d=\"m 179.03584,221.28069 17.08906,20.87558\" id=\"path1747-9\" style=\"stroke-opacity:1;stroke-dasharray:none;stroke-miterlimit:4;stroke-width:1;\"/>\n",
       "    </g>\n",
       "    <text xml:space=\"preserve\" transform=\"matrix(0.26458333,0,0,0.26458333,119.06709,-0.04845062)\" id=\"text6200\" style=\"font-size:93.3333px;line-height:1.25;font-family:sans-serif;text-align:center;white-space:pre;shape-inside:url(#rect6202);fill:currentColor\"><tspan x=\"203.53015\" y=\"862.91642\" id=\"tspan1156\"><tspan style=\"font-family:'Noto Sans';-inkscape-font-specification:'Noto Sans'\" id=\"tspan1154\">4F</tspan></tspan></text>\n",
       "    <text xml:space=\"preserve\" transform=\"matrix(0.26458333,0,0,0.26458333,35.362083,-0.14722836)\" id=\"text6200-9\" style=\"font-size:93.3333px;line-height:1.25;font-family:sans-serif;text-align:center;white-space:pre;shape-inside:url(#rect6202-0);fill:currentColor\"><tspan x=\"230.22341\" y=\"862.91642\" id=\"tspan1160\"><tspan style=\"font-family:'Noto Sans';-inkscape-font-specification:'Noto Sans'\" id=\"tspan1158\">F</tspan></tspan></text>\n",
       "    <text xml:space=\"preserve\" transform=\"matrix(0.26458333,0,0,0.26458333,-26.94027,-3.9366665)\" id=\"text6200-9-6\" style=\"font-size:93.3333px;line-height:1.25;font-family:sans-serif;text-align:center;white-space:pre;shape-inside:url(#rect6202-0-2);fill:currentColor\"><tspan x=\"225.36785\" y=\"862.91642\" id=\"tspan1162\">g</tspan></text>\n",
       "    <g id=\"g3181-7\" transform=\"matrix(1.354276,0,0,1.753639,120.6568,-124.52898)\">\n",
       "      <path style=\"color:#000000;fill:currentColor;stroke:none;stroke-opacity:1;-inkscape-stroke:none\" d=\"m 32.015999,169.07712 v 26.2756\" id=\"path3055-0\"/>\n",
       "      <path style=\"stroke:currentColor;stroke-opacity:1;-inkscape-stroke:none\" d=\"m 31.515625,169.07617 v 26.27735 h 1 v -26.27735 z\" id=\"path3057-9\"/>\n",
       "      <path style=\"fill:currentColor;fill-opacity:1;fill-rule:evenodd;-inkscape-stroke:none\" d=\"m 34.426258,194.75002 -2.410633,6.55552 -2.410633,-6.55552 c 1.423237,1.0473 3.370471,1.04126 4.821266,0 z\" id=\"path3049-0\"/>\n",
       "    </g>\n",
       "    <g id=\"g3181-7-0\" transform=\"matrix(0.92267863,0,0,0.89284865,60.85947,20.57976)\">\n",
       "      <path style=\"color:#000000;fill:currentColor;stroke:none;stroke-opacity:1;-inkscape-stroke:none\" d=\"m 32.015999,169.07712 v 26.2756\" id=\"path3055-0-2\"/>\n",
       "      <path style=\"stroke:currentColor;stroke-opacity:1;-inkscape-stroke:none\" d=\"m 31.515625,169.07617 v 26.27735 h 1 v -26.27735 z\" id=\"path3057-9-3\"/>\n",
       "      <path style=\"fill:currentColor;fill-opacity:1;fill-rule:evenodd;-inkscape-stroke:none\" d=\"m 34.426258,194.75002 -2.410633,6.55552 -2.410633,-6.55552 c 1.423237,1.0473 3.370471,1.04126 4.821266,0 z\" id=\"path3049-0-7\"/>\n",
       "    </g>\n",
       "    <text xml:space=\"preserve\" transform=\"matrix(0.26458333,0,0,0.26458333,23.614477,-94.341959)\" id=\"text6200-9-87\" style=\"font-size:93.3333px;line-height:1.25;font-family:sans-serif;text-align:center;white-space:pre;shape-inside:url(#rect6202-0-1);fill:currentColor\"><tspan x=\"209.05275\" y=\"862.91642\" id=\"tspan1164\">m</tspan></text>\n",
       "    <text xml:space=\"preserve\" transform=\"matrix(0.26458333,0,0,0.26458333,97.961679,-98.214947)\" id=\"text6200-9-2\" style=\"font-size:93.3333px;line-height:1.25;font-family:sans-serif;text-align:center;white-space:pre;shape-inside:url(#rect6202-0-9);fill:currentColor\"><tspan x=\"179.38479\" y=\"862.91642\" id=\"tspan1166\">4m</tspan></text>\n",
       "    <g id=\"g3181-7-5\" transform=\"matrix(0.72292362,0,0,0.76319751,7.2610231,42.435853)\">\n",
       "      <path style=\"color:#000000;fill:currentColor;stroke:none;stroke-opacity:1;-inkscape-stroke:none\" d=\"m 32.015999,169.07712 v 26.2756\" id=\"path3055-0-9\"/>\n",
       "      <path style=\"stroke:currentColor;stroke-opacity:1;-inkscape-stroke:none\" d=\"m 31.515625,169.07617 v 26.27735 h 1 v -26.27735 z\" id=\"path3057-9-2\"/>\n",
       "      <path style=\"fill:currentColor;fill-opacity:1;fill-rule:evenodd;-inkscape-stroke:none\" d=\"m 34.426258,194.75002 -2.410633,6.55552 -2.410633,-6.55552 c 1.423237,1.0473 3.370471,1.04126 4.821266,0 z\" id=\"path3049-0-2\"/>\n",
       "    </g>\n",
       "  </g>\n",
       "</svg></p></div>\n",
       "<div class=\" flx50\" >\n",
       "\n",
       "<ul><li class=\"fragment fade-in\">Gravitational force for: objects in free fall: $F=mg$</li><li class=\"fragment fade-in\">To change the magnitude or direction of an object’s velocity a force is needed</li><li class=\"fragment fade-in\">Force equals (gravitational) acceleration times mass</li><li class=\"fragment fade-in\">Acceleration is independent of the mass of the (falling) object</li><ul><li class=\"fragment fade-in\">But depends on mass of attracting body</li></ul><li class=\"fragment fade-in\">It’s more convenient to describe the gravity field of an attracting body in terms of acceleration!</li><li class=\"fragment fade-in\">How to determine gravity <b>g</b>?</li></ul></div>\n",
       "\n",
       "</div>"
      ],
      "text/plain": [
       "<jupylecture.tools.FlexSlide at 0x7f85c85b6d30>"
      ]
     },
     "metadata": {},
     "output_type": "display_data"
    }
   ],
   "source": [
    "slide2=FlexSlide(\"# Force versus Acceleration\")\n",
    "slide2.addSVG(\"images/ForceVsAcceleration.svg\",flxwidth=\"flx50\")\n",
    "slide2.addItems([\"Gravitational force for: objects in free fall: $F=mg$\",\n",
    "                 \"To change the magnitude or direction of an object’s velocity a force is needed\",\n",
    "                 \"Force equals (gravitational) acceleration times mass\",\n",
    "                 \"Acceleration is independent of the mass of the (falling) object\",\n",
    "                 [\"But depends on mass of attracting body\"],\n",
    "                 \"It’s more convenient to describe the gravity field of an attracting body in terms of acceleration!\",\n",
    "                 \"How to determine gravity <b>g</b>?\"],flxwidth=\"flx50\",frag=True)\n",
    "slide2.display()"
   ]
  },
  {
   "cell_type": "code",
   "execution_count": 9,
   "metadata": {
    "cell_style": "center",
    "slideshow": {
     "slide_type": "slide"
    }
   },
   "outputs": [
    {
     "data": {
      "text/html": [
       "<div id=\"14006a8b4ddabdca\"></div>\n",
       "    <script type=\"text/javascript\">\n",
       "        $(function(){\n",
       "            var p = $(\"#14006a8b4ddabdca\");\n",
       "            if (p.length==0) return;\n",
       "            while (!p.hasClass(\"cell\")) {\n",
       "                p=p.parent();\n",
       "                if (p.prop(\"tagName\") ==\"body\") return;\n",
       "            }\n",
       "            var cell = p;\n",
       "            cell.find(\".input\").addClass(\"hide-in-slideshow\")\n",
       "        });\n",
       "    </script>"
      ]
     },
     "metadata": {},
     "output_type": "display_data"
    },
    {
     "data": {
      "text/markdown": [
       "\n",
       "<div class=\"flxsld text_cell\" ><div class=\"flx100\"><h1>What influences gravity?</h1></div>\n",
       "\n",
       "\n",
       "<div class=\" flx100\" >\n",
       "\n",
       "<p>magnitude of gravity <script type=\"math/tex\">g=|\\vec{g}|</script>\n",
       "</p></div>\n",
       "<div class=\" flx100 fragment fade-in\" >\n",
       "\n",
       "<p><svg xmlns:inkscape=\"http://www.inkscape.org/namespaces/inkscape\" xmlns:sodipodi=\"http://sodipodi.sourceforge.net/DTD/sodipodi-0.dtd\" xmlns=\"http://www.w3.org/2000/svg\" xmlns:svg=\"http://www.w3.org/2000/svg\" width=\"376.22281mm\" height=\"145.26433mm\" viewBox=\"0 0 376.22281 145.26432\" version=\"1.1\" id=\"svg5\" inkscape:version=\"1.1 (c4e8f9ed74, 2021-05-24)\" sodipodi:docname=\"Gravity981.svg\">\n",
       "  <sodipodi:namedview id=\"namedview7\" pagecolor=\"#c8c8c8\" bordercolor=\"#666666\" borderopacity=\"1.0\" inkscape:pageshadow=\"2\" inkscape:pageopacity=\"1\" inkscape:pagecheckerboard=\"true\" inkscape:document-units=\"mm\" showgrid=\"false\" inkscape:zoom=\"0.94867182\" inkscape:cx=\"477.5097\" inkscape:cy=\"324.13738\" inkscape:window-width=\"1920\" inkscape:window-height=\"1131\" inkscape:window-x=\"0\" inkscape:window-y=\"0\" inkscape:window-maximized=\"1\" inkscape:current-layer=\"g77927\" fit-margin-top=\"0\" fit-margin-left=\"0\" fit-margin-right=\"0\" fit-margin-bottom=\"0\" lock-margins=\"true\"/>\n",
       "  <defs id=\"defs2\">\n",
       "    <marker style=\"overflow:visible\" id=\"marker47796\" refX=\"0\" refY=\"0\" orient=\"auto\" inkscape:stockid=\"Arrow1Send\" inkscape:isstock=\"true\">\n",
       "      <path transform=\"matrix(-0.2,0,0,-0.2,-1.2,0)\" style=\"fill:context-stroke;fill-rule:evenodd;stroke:context-stroke;stroke-width:1pt\" d=\"M 0,0 5,-5 -12.5,0 5,5 Z\" id=\"path47372\"/>\n",
       "    </marker>\n",
       "    <marker style=\"overflow:visible\" id=\"Arrow1Mend\" refX=\"0\" refY=\"0\" orient=\"auto\" inkscape:stockid=\"Arrow1Mend\" inkscape:isstock=\"true\">\n",
       "      <path transform=\"matrix(-0.4,0,0,-0.4,-4,0)\" style=\"fill:context-stroke;fill-rule:evenodd;stroke:context-stroke;stroke-width:1pt\" d=\"M 0,0 5,-5 -12.5,0 5,5 Z\" id=\"path47366\"/>\n",
       "    </marker>\n",
       "    <linearGradient id=\"linearGradient1134\" inkscape:swatch=\"solid\">\n",
       "      <stop style=\"stop-color:#000000;stop-opacity:1;\" offset=\"0\" id=\"stop1132\"/>\n",
       "    </linearGradient>\n",
       "    <marker style=\"overflow:visible\" id=\"Arrow2Mend\" refX=\"0\" refY=\"0\" orient=\"auto\" inkscape:stockid=\"Arrow2Mend\" inkscape:isstock=\"true\">\n",
       "      <path transform=\"scale(-0.6)\" d=\"M 8.7185878,4.0337352 -2.2072895,0.01601326 8.7185884,-4.0017078 c -1.7454984,2.3720609 -1.7354408,5.6174519 -6e-7,8.035443 z\" style=\"fill:context-stroke;fill-rule:evenodd;stroke-width:0.625;stroke-linejoin:round\" id=\"path2218\"/>\n",
       "    </marker>\n",
       "    <marker style=\"overflow:visible\" id=\"Arrow1Send\" refX=\"0\" refY=\"0\" orient=\"auto\" inkscape:stockid=\"Arrow1Send\" inkscape:isstock=\"true\">\n",
       "      <path transform=\"matrix(-0.2,0,0,-0.2,-1.2,0)\" style=\"fill:context-stroke;fill-rule:evenodd;stroke:context-stroke;stroke-width:1pt\" d=\"M 0,0 5,-5 -12.5,0 5,5 Z\" id=\"path2206\"/>\n",
       "    </marker>\n",
       "    <rect x=\"162.39639\" y=\"777.76508\" width=\"184.09351\" height=\"172.06285\" id=\"rect6202\"/>\n",
       "    <marker id=\"ExperimentalArrow\" refX=\"5\" refY=\"3\" orient=\"auto-start-reverse\" inkscape:stockid=\"ExperimentalArrow\" inkscape:isstock=\"true\">\n",
       "      <path style=\"fill:context-stroke\" d=\"M 10,3 0,6 V 0 Z\" id=\"path2446\"/>\n",
       "    </marker>\n",
       "    <marker style=\"overflow:visible\" id=\"TriangleOutL\" refX=\"0\" refY=\"0\" orient=\"auto\" inkscape:stockid=\"TriangleOutL\" inkscape:isstock=\"true\">\n",
       "      <path transform=\"scale(0.8)\" style=\"fill:context-stroke;fill-rule:evenodd;stroke:context-stroke;stroke-width:1pt\" d=\"M 5.77,0 -2.88,5 V -5 Z\" id=\"path2335\"/>\n",
       "    </marker>\n",
       "    <marker style=\"overflow:visible\" id=\"Arrow2Lend\" refX=\"0\" refY=\"0\" orient=\"auto\" inkscape:stockid=\"Arrow2Lend\" inkscape:isstock=\"true\">\n",
       "      <path transform=\"matrix(-1.1,0,0,-1.1,-1.1,0)\" d=\"M 8.7185878,4.0337352 -2.2072895,0.01601326 8.7185884,-4.0017078 c -1.7454984,2.3720609 -1.7354408,5.6174519 -6e-7,8.035443 z\" style=\"fill:context-stroke;fill-rule:evenodd;stroke-width:0.625;stroke-linejoin:round\" id=\"path2212\"/>\n",
       "    </marker>\n",
       "    <marker id=\"ExperimentalArrow-1\" refX=\"5\" refY=\"3\" orient=\"auto-start-reverse\" inkscape:stockid=\"ExperimentalArrow\" inkscape:isstock=\"true\">\n",
       "      <path style=\"fill:context-stroke\" d=\"M 10,3 0,6 V 0 Z\" id=\"path2446-2\"/>\n",
       "    </marker>\n",
       "    <rect x=\"162.39639\" y=\"777.76508\" width=\"184.09351\" height=\"172.06285\" id=\"rect6202-0\"/>\n",
       "    <marker id=\"ExperimentalArrow-1-3\" refX=\"5\" refY=\"3\" orient=\"auto-start-reverse\" inkscape:stockid=\"ExperimentalArrow\" inkscape:isstock=\"true\">\n",
       "      <path style=\"fill:context-stroke\" d=\"M 10,3 0,6 V 0 Z\" id=\"path2446-2-6\"/>\n",
       "    </marker>\n",
       "    <rect x=\"162.39639\" y=\"777.76508\" width=\"184.09351\" height=\"172.06285\" id=\"rect6202-0-6\"/>\n",
       "    <rect x=\"162.39639\" y=\"777.76508\" width=\"184.09351\" height=\"172.06285\" id=\"rect6202-0-61\"/>\n",
       "    <rect x=\"162.39639\" y=\"777.76508\" width=\"184.09351\" height=\"172.06285\" id=\"rect6202-0-61-7\"/>\n",
       "    <marker style=\"overflow:visible\" refX=\"0\" refY=\"0\" orient=\"auto\" inkscape:stockid=\"TriangleOutL2268\" inkscape:isstock=\"true\" id=\"TriangleOutL2268\">\n",
       "      <path transform=\"scale(0.8)\" style=\"fill:#ffffff;fill-opacity:1;fill-rule:evenodd;stroke:#ffffff;stroke-width:1pt;stroke-opacity:1\" d=\"M 5.77,0 -2.88,5 V -5 Z\" id=\"path13131\"/>\n",
       "    </marker>\n",
       "    <marker style=\"overflow:visible\" refX=\"0\" refY=\"0\" orient=\"auto\" inkscape:stockid=\"TriangleOutL22689186\" inkscape:isstock=\"true\" id=\"TriangleOutL22689186\">\n",
       "      <path transform=\"scale(0.8)\" style=\"fill:#ffffff;fill-opacity:1;fill-rule:evenodd;stroke:#ffffff;stroke-width:1pt;stroke-opacity:1\" d=\"M 5.77,0 -2.88,5 V -5 Z\" id=\"path13324\"/>\n",
       "    </marker>\n",
       "    <marker refX=\"5\" refY=\"3\" orient=\"auto-start-reverse\" inkscape:stockid=\"ExperimentalArrow-19558\" inkscape:isstock=\"true\" id=\"ExperimentalArrow-19558\">\n",
       "      <path style=\"fill:#ffffff;fill-opacity:1;stroke:#ffffff;stroke-opacity:1\" d=\"M 10,3 0,6 V 0 Z\" id=\"path13563\"/>\n",
       "    </marker>\n",
       "    <marker refX=\"5\" refY=\"3\" orient=\"auto-start-reverse\" inkscape:stockid=\"ExperimentalArrow-1-33949\" inkscape:isstock=\"true\" id=\"ExperimentalArrow-1-33949\">\n",
       "      <path style=\"fill:#ffffff;fill-opacity:1;stroke:#ffffff;stroke-opacity:1\" d=\"M 10,3 0,6 V 0 Z\" id=\"path13566\"/>\n",
       "    </marker>\n",
       "    <marker refX=\"5\" refY=\"3\" orient=\"auto-start-reverse\" inkscape:stockid=\"ExperimentalArrow-1-3586\" inkscape:isstock=\"true\" id=\"ExperimentalArrow-1-3586\">\n",
       "      <path style=\"fill:#ffffff;fill-opacity:1;stroke:#ffffff;stroke-opacity:1\" d=\"M 10,3 0,6 V 0 Z\" id=\"path13569\"/>\n",
       "    </marker>\n",
       "    <marker style=\"overflow:visible\" refX=\"0\" refY=\"0\" orient=\"auto\" inkscape:stockid=\"Arrow2Mend4922\" inkscape:isstock=\"true\" id=\"Arrow2Mend4922\">\n",
       "      <path transform=\"scale(-0.6)\" d=\"M 8.7185878,4.0337352 -2.2072895,0.01601326 8.7185884,-4.0017078 c -1.7454984,2.3720609 -1.7354408,5.6174519 -6e-7,8.035443 z\" style=\"fill:#ffffff;fill-opacity:1;fill-rule:evenodd;stroke:#ffffff;stroke-width:0.625;stroke-linejoin:round;stroke-opacity:1\" id=\"path13951\"/>\n",
       "    </marker>\n",
       "    <marker style=\"overflow:visible\" refX=\"0\" refY=\"0\" orient=\"auto\" inkscape:stockid=\"Arrow2Mend1054\" inkscape:isstock=\"true\" id=\"Arrow2Mend1054\">\n",
       "      <path transform=\"scale(-0.6)\" d=\"M 8.7185878,4.0337352 -2.2072895,0.01601326 8.7185884,-4.0017078 c -1.7454984,2.3720609 -1.7354408,5.6174519 -6e-7,8.035443 z\" style=\"fill:#ffffff;fill-opacity:1;fill-rule:evenodd;stroke:#ffffff;stroke-width:0.625;stroke-linejoin:round;stroke-opacity:1\" id=\"path13954\"/>\n",
       "    </marker>\n",
       "    <marker style=\"overflow:visible\" refX=\"0\" refY=\"0\" orient=\"auto\" inkscape:stockid=\"Arrow2Mend371\" inkscape:isstock=\"true\" id=\"Arrow2Mend371\">\n",
       "      <path transform=\"scale(-0.6)\" d=\"M 8.7185878,4.0337352 -2.2072895,0.01601326 8.7185884,-4.0017078 c -1.7454984,2.3720609 -1.7354408,5.6174519 -6e-7,8.035443 z\" style=\"fill:#ffffff;fill-opacity:1;fill-rule:evenodd;stroke:#ffffff;stroke-width:0.625;stroke-linejoin:round;stroke-opacity:1\" id=\"path13957\"/>\n",
       "    </marker>\n",
       "    <rect x=\"162.39639\" y=\"777.76508\" width=\"1064.0903\" height=\"268.45172\" id=\"rect6202-0-2\"/>\n",
       "    <rect x=\"162.39639\" y=\"777.76508\" width=\"184.09351\" height=\"172.06285\" id=\"rect6202-0-1\"/>\n",
       "    <rect x=\"162.39639\" y=\"777.76508\" width=\"184.09351\" height=\"172.06285\" id=\"rect6202-0-9\"/>\n",
       "    <rect x=\"162.39639\" y=\"777.76508\" width=\"976.70251\" height=\"531.24103\" id=\"rect6202-0-2-3\"/>\n",
       "    <rect x=\"162.39639\" y=\"777.76508\" width=\"1064.0903\" height=\"268.45172\" id=\"rect6202-0-2-2\"/>\n",
       "    <rect x=\"162.39639\" y=\"777.76508\" width=\"1064.0903\" height=\"268.45172\" id=\"rect6202-0-2-2-0\"/>\n",
       "    <rect x=\"162.39639\" y=\"777.76508\" width=\"1064.0903\" height=\"268.45172\" id=\"rect6202-0-2-2-0-3\"/>\n",
       "  </defs>\n",
       "  <g inkscape:label=\"Layer 1\" inkscape:groupmode=\"layer\" id=\"layer1\" transform=\"translate(-15.317607,-110.49951)\">\n",
       "    <g id=\"g77927\">\n",
       "      <g aria-label=\"9.807246731&#8230;m/s2\" transform=\"matrix(0.26458333,0,0,0.26458333,-28.488452,-81.844095)\" id=\"text6200-9-6\" style=\"font-size:93.3333px;line-height:1.25;-inkscape-font-specification:sans-serif;white-space:pre;shape-inside:url(#rect6202-0-2);fill:currentColor\">\n",
       "        <path d=\"m 215.58006,824.90862 q 0,8.88672 -2.05078,16.13281 -2.00521,7.24609 -6.10677,12.35026 -4.14713,5.19531 -10.39062,8.02083 -6.24349,2.82552 -14.67448,2.82552 -2.36979,0 -4.46614,-0.27344 -2.09635,-0.22787 -3.73698,-0.77474 v -8.70442 h 0.45573 q 1.32162,0.68359 3.73698,1.32161 2.41536,0.59245 5.3776,0.59245 10.07161,0 15.76822,-6.01563 5.74219,-6.06119 6.65365,-16.67968 -4.23828,2.55209 -7.97526,3.64584 -3.73698,1.09375 -8.15755,1.09375 -4.19271,0 -7.61067,-0.82032 -3.3724,-0.82031 -6.79036,-3.1901 -4.01042,-2.77995 -6.0612,-7.0638 -2.00521,-4.28385 -2.00521,-10.2539 0,-10.39062 6.83594,-16.90755 6.83593,-6.51692 16.67968,-6.51692 4.92187,0 9.11458,1.54948 4.1927,1.5039 7.33723,4.55729 3.8737,3.78255 5.97005,9.7526 2.09636,5.92447 2.09636,15.35806 z m -9.20573,-1.95963 q 0,-7.0638 -1.45833,-11.34765 -1.45833,-4.28386 -4.01042,-6.65365 -2.14192,-2.05078 -4.60286,-2.91666 -2.46094,-0.91146 -5.33203,-0.91146 -6.5625,0 -10.39062,4.10156 -3.78255,4.10156 -3.78255,11.52995 0,4.32942 1.23047,7.06379 1.23047,2.73438 4.14713,4.78516 2.05078,1.41276 4.51172,1.91406 2.46094,0.45573 5.46875,0.45573 3.55468,0 7.20052,-0.95703 3.64583,-0.95703 6.83593,-2.77995 0.0456,-0.95703 0.0911,-1.86849 0.0911,-0.95703 0.0911,-2.41536 z\" id=\"path80704\"/>\n",
       "        <path d=\"m 244.15427,862.91642 h -10.89193 v -12.98827 h 10.89193 z\" id=\"path80706\"/>\n",
       "        <path d=\"m 309.46023,844.00367 q 0,8.79557 -6.88151,14.6289 -6.83594,5.83333 -17.22656,5.83333 -11.02864,0 -17.59114,-5.69661 -6.51692,-5.69661 -6.51692,-14.58333 0,-5.65104 3.28125,-10.20833 3.28125,-4.60286 9.2513,-7.29166 v -0.27344 q -5.46875,-2.91667 -8.11198,-6.38021 -2.59766,-3.46354 -2.59766,-8.65885 0,-7.65624 6.28906,-12.76041 6.28906,-5.10416 15.99609,-5.10416 10.16276,0 16.22395,4.8763 6.0612,4.8763 6.0612,12.39583 0,4.60286 -2.87109,9.069 -2.8711,4.42057 -8.43099,6.92708 v 0.27344 q 6.38021,2.73437 9.7526,6.74479 3.3724,4.01041 3.3724,10.20833 z m -10.80078,-33.1315 q 0,-4.8763 -3.78255,-7.74739 -3.73698,-2.91667 -9.57031,-2.91667 -5.74219,0 -9.43359,2.73438 -3.64583,2.73437 -3.64583,7.38281 0,3.28125 1.82291,5.69661 1.86849,2.36979 5.60547,4.23828 1.6862,0.82031 4.83073,2.14192 3.1901,1.32162 6.19791,2.1875 4.51172,-3.00781 6.24349,-6.24348 1.73177,-3.23568 1.73177,-7.47396 z m 1.41276,33.99738 q 0,-4.1927 -1.86849,-6.69921 -1.82292,-2.55208 -7.20052,-5.10417 -2.14193,-1.0026 -4.69401,-1.86849 -2.55208,-0.86588 -6.79036,-2.41536 -4.10156,2.23307 -6.60807,6.0612 -2.46094,3.82812 -2.46094,8.65885 0,6.15234 4.23828,10.16275 4.23828,4.01042 10.75521,4.01042 6.65364,0 10.61848,-3.41797 4.01042,-3.41797 4.01042,-9.38802 z\" id=\"path80708\"/>\n",
       "        <path d=\"m 368.2037,828.96461 q 0,18.27473 -5.74219,26.84244 -5.69661,8.52213 -17.72785,8.52213 -12.21354,0 -17.86458,-8.65885 -5.60547,-8.65885 -5.60547,-26.61457 0,-18.09244 5.69662,-26.70572 5.69661,-8.65885 17.77343,-8.65885 12.21353,0 17.819,8.79557 5.65104,8.74999 5.65104,26.47785 z m -11.98567,20.6901 q 1.59505,-3.69141 2.14192,-8.65885 0.59245,-5.01302 0.59245,-12.03125 0,-6.92708 -0.59245,-12.03124 -0.54687,-5.10417 -2.1875,-8.65885 -1.59505,-3.50912 -4.37499,-5.28646 -2.73438,-1.77734 -7.0638,-1.77734 -4.28386,0 -7.10938,1.77734 -2.77994,1.77734 -4.42057,5.3776 -1.54948,3.3724 -2.14192,8.79557 -0.54688,5.42318 -0.54688,11.89453 0,7.10937 0.5013,11.89452 0.50131,4.78516 2.14193,8.56771 1.50391,3.55469 4.23828,5.42317 2.77995,1.86849 7.33724,1.86849 4.28385,0 7.10937,-1.77734 2.82552,-1.77734 4.375,-5.3776 z\" id=\"path80710\"/>\n",
       "        <path d=\"m 427.81304,805.22113 -30.71613,57.69529 h -9.7526 l 32.67577,-59.88279 h -38.64582 v -7.97525 h 46.43878 z\" id=\"path80712\"/>\n",
       "        <path d=\"m 486.96667,862.91642 h -45.93748 v -9.52473 q 4.78516,-4.10156 9.57031,-8.20313 4.83073,-4.10156 8.97786,-8.15754 8.75,-8.47656 11.98567,-13.44401 3.23568,-5.01302 3.23568,-10.80078 0,-5.28645 -3.50911,-8.24869 -3.46354,-3.00781 -9.70703,-3.00781 -4.14713,0 -8.97786,1.45833 -4.83073,1.45833 -9.43359,4.46614 h -0.45573 v -9.57031 q 3.23568,-1.59505 8.61328,-2.91666 5.42317,-1.32161 10.48176,-1.32161 10.4362,0 16.36068,5.05859 5.92447,5.01302 5.92447,13.62629 0,3.8737 -1.0026,7.24609 -0.95703,3.32683 -2.87109,6.33464 -1.77735,2.82552 -4.19271,5.55989 -2.36979,2.73438 -5.78776,6.0612 -4.8763,4.78515 -10.07161,9.29687 -5.19531,4.46614 -9.70703,8.29427 h 36.50389 z\" id=\"path80714\"/>\n",
       "        <path d=\"m 547.85206,843.82138 h -10.07161 v 19.09504 h -8.75 v -19.09504 h -32.49347 v -10.48177 l 32.85806,-38.28123 h 8.38541 v 41.47133 h 10.07161 z m -18.82161,-7.29167 v -30.62498 l -26.29556,30.62498 z\" id=\"path80716\"/>\n",
       "        <path d=\"m 606.64109,840.90471 q 0,10.34505 -6.83593,16.90755 -6.79036,6.51692 -16.67968,6.51692 -5.01302,0 -9.11458,-1.54948 -4.10156,-1.54948 -7.24609,-4.60286 -3.91927,-3.78255 -6.0612,-10.02604 -2.09635,-6.24348 -2.09635,-15.03905 0,-9.02344 1.91406,-15.99609 1.95963,-6.97266 6.19791,-12.39583 4.01042,-5.14974 10.34505,-8.02083 6.33463,-2.91667 14.76562,-2.91667 2.6888,0 4.51172,0.22787 1.82291,0.22786 3.6914,0.82031 v 8.70442 h -0.45573 q -1.27604,-0.68359 -3.87369,-1.27604 -2.55209,-0.63802 -5.24089,-0.63802 -9.79817,0 -15.6315,6.15234 -5.83333,6.10677 -6.79036,16.54297 3.82812,-2.32422 7.51953,-3.50912 3.73697,-1.23047 8.61327,-1.23047 4.32943,0 7.61068,0.82032 3.32682,0.77474 6.79036,3.1901 4.01041,2.77995 6.01562,7.01823 2.05078,4.23828 2.05078,10.29947 z m -9.2513,0.36458 q 0,-4.23827 -1.27604,-7.01822 -1.23047,-2.77995 -4.10156,-4.83073 -2.09635,-1.45833 -4.64843,-1.91406 -2.55209,-0.45573 -5.33203,-0.45573 -3.8737,0 -7.20052,0.91146 -3.32682,0.91146 -6.83594,2.82552 -0.0911,1.0026 -0.13671,1.95963 -0.0456,0.91146 -0.0456,2.32422 0,7.20052 1.45834,11.39323 1.5039,4.14713 4.10156,6.56249 2.09635,2.00521 4.51171,2.96224 2.46094,0.91146 5.33203,0.91146 6.60807,0 10.39062,-4.01042 3.78255,-4.05598 3.78255,-11.62109 z\" id=\"path80718\"/>\n",
       "        <path d=\"m 665.15672,805.22113 -30.71614,57.69529 h -9.7526 l 32.67577,-59.88279 h -38.64582 v -7.97525 h 46.43879 z\" id=\"path80720\"/>\n",
       "        <path d=\"m 718.34028,830.24065 q 2.1875,1.95964 3.60026,4.92188 1.41276,2.96223 1.41276,7.65624 0,4.64844 -1.68619,8.52214 -1.6862,3.87369 -4.73959,6.74478 -3.41796,3.19011 -8.0664,4.73959 -4.60286,1.5039 -10.11718,1.5039 -5.65104,0 -11.11979,-1.36719 -5.46875,-1.32161 -8.97786,-2.91666 v -9.52474 h 0.68359 q 3.8737,2.55209 9.11458,4.23828 5.24088,1.6862 10.11719,1.6862 2.87109,0 6.10676,-0.95703 3.23568,-0.95703 5.24089,-2.82552 2.09635,-2.00521 3.09895,-4.42057 1.04818,-2.41537 1.04818,-6.10677 0,-3.64583 -1.18489,-6.01562 -1.13933,-2.41537 -3.19011,-3.78255 -2.05078,-1.41276 -4.96744,-1.91407 -2.91667,-0.54687 -6.28906,-0.54687 h -4.10156 v -7.5651 h 3.1901 q 6.92708,0 11.02864,-2.87109 4.14713,-2.91667 4.14713,-8.47656 0,-2.46094 -1.04817,-4.28386 -1.04818,-1.86848 -2.91667,-3.05338 -1.95963,-1.1849 -4.19271,-1.64062 -2.23307,-0.45573 -5.05859,-0.45573 -4.32942,0 -9.20572,1.54948 -4.8763,1.54947 -9.20573,4.37499 h -0.45573 v -9.52473 q 3.23568,-1.59505 8.61328,-2.91667 5.42318,-1.36718 10.48177,-1.36718 4.96744,0 8.74999,0.91145 3.78255,0.91146 6.83594,2.91667 3.28125,2.1875 4.96745,5.28646 1.68619,3.09895 1.68619,7.24609 0,5.65104 -4.01041,9.88932 -3.96484,4.1927 -9.38802,5.28645 v 0.63802 q 2.1875,0.36459 5.01302,1.54948 2.82552,1.13932 4.78515,2.87109 z\" id=\"path80722\"/>\n",
       "        <path d=\"m 779.77254,862.91642 h -36.73175 v -6.92708 h 14.1276 v -45.48175 h -14.1276 v -6.19792 q 2.87109,0 6.15234,-0.45573 3.28125,-0.5013 4.96744,-1.41276 2.09636,-1.13932 3.28125,-2.87109 1.23047,-1.77734 1.41276,-4.73958 h 7.0638 v 61.15883 h 13.85416 z\" id=\"path80724\"/>\n",
       "        <path d=\"m 857.97566,862.91642 h -9.29687 v -10.16275 h 9.29687 z m -25.42968,0 h -9.29687 v -10.16275 h 9.29687 z m -25.42967,0 h -9.29688 v -10.16275 h 9.29688 z\" id=\"path80726\"/>\n",
       "        <path d=\"m 948.80246,862.91642 h -8.56771 v -28.98436 q 0,-3.28125 -0.31901,-6.33463 -0.27343,-3.05339 -1.23046,-4.87631 -1.04818,-1.95963 -3.00782,-2.96223 -1.95963,-1.00261 -5.65104,-1.00261 -3.60025,0 -7.20051,1.82292 -3.60026,1.77734 -7.20052,4.55729 0.13672,1.04818 0.22786,2.46094 0.0911,1.36718 0.0911,2.73437 v 32.58462 h -8.56771 v -28.98436 q 0,-3.3724 -0.31901,-6.38021 -0.27343,-3.05338 -1.23047,-4.8763 -1.04817,-1.95963 -3.00781,-2.91666 -1.95963,-1.00261 -5.65104,-1.00261 -3.50911,0 -7.0638,1.73177 -3.50911,1.73177 -7.01822,4.42057 v 38.0078 h -8.56771 v -50.90493 h 8.56771 v 5.65104 q 4.01041,-3.32682 7.97526,-5.19531 4.01041,-1.86849 8.52213,-1.86849 5.19531,0 8.79557,2.1875 3.64583,2.1875 5.42317,6.0612 5.19531,-4.375 9.47917,-6.28906 4.28385,-1.95964 9.16015,-1.95964 8.38541,0 12.35025,5.10417 4.01042,5.05859 4.01042,14.17317 z\" id=\"path80728\"/>\n",
       "        <path d=\"m 996.06153,792.00499 -32.67577,84.76559 h -7.88411 l 32.53905,-84.76559 z\" id=\"path80730\"/>\n",
       "        <path d=\"m 1044.0498,848.24195 q 0,6.97265 -5.7878,11.4388 -5.7421,4.46614 -15.7226,4.46614 -5.651,0 -10.3906,-1.32161 -4.694,-1.36719 -7.8841,-2.96224 v -9.61588 h 0.4557 q 4.056,3.05338 9.0234,4.8763 4.9675,1.77734 9.5248,1.77734 5.651,0 8.8411,-1.82292 3.1901,-1.82291 3.1901,-5.74218 0,-3.00781 -1.7318,-4.55729 -1.7317,-1.54948 -6.6536,-2.64323 -1.8229,-0.41016 -4.7852,-0.95703 -2.9166,-0.54688 -5.332,-1.1849 -6.6992,-1.77734 -9.5247,-5.19531 -2.78,-3.46354 -2.78,-8.47656 0,-3.14453 1.2761,-5.92447 1.3216,-2.77995 3.9648,-4.96745 2.5521,-2.14193 6.4714,-3.37239 3.9648,-1.27604 8.8411,-1.27604 4.5573,0 9.2057,1.13932 4.694,1.09375 7.793,2.6888 v 9.16015 h -0.4557 q -3.2813,-2.41536 -7.9753,-4.05599 -4.694,-1.68619 -9.2057,-1.68619 -4.694,0 -7.9297,1.82291 -3.2357,1.77735 -3.2357,5.33203 0,3.14453 1.9597,4.73958 1.914,1.59505 6.1979,2.59766 2.3698,0.54687 5.2864,1.09375 2.9623,0.54687 4.9219,1.0026 5.9701,1.36719 9.2057,4.69401 3.2357,3.37239 3.2357,8.93229 z\" id=\"path80732\"/>\n",
       "        <path d=\"m 1082.5065,825.5831 h -29.8594 v -6.19108 q 3.1104,-2.66601 6.2207,-5.33203 3.14,-2.66601 5.8356,-5.3024 5.6875,-5.50977 7.7907,-8.73861 2.1032,-3.25846 2.1032,-7.0205 0,-3.4362 -2.2809,-5.36165 -2.2513,-1.95508 -6.3096,-1.95508 -2.6956,0 -5.8356,0.94792 -3.14,0.94791 -6.1318,2.90299 h -0.2962 v -6.2207 q 2.1032,-1.03678 5.5986,-1.89583 3.5251,-0.85905 6.8131,-0.85905 6.7836,0 10.6345,3.28808 3.8509,3.25847 3.8509,8.8571 0,2.5179 -0.6517,4.70995 -0.6221,2.16244 -1.8662,4.11752 -1.1553,1.83658 -2.7253,3.61393 -1.5403,1.77734 -3.762,3.93977 -3.1696,3.11035 -6.5466,6.04297 -3.3769,2.90299 -6.3095,5.39127 h 23.7275 z\" style=\"font-size:65%;baseline-shift:super\" id=\"path80734\"/>\n",
       "      </g>\n",
       "      <g aria-label=\"Gal\" transform=\"matrix(0.26458333,0,0,0.26458333,-120.92762,-91.681178)\" id=\"text6200-9-6-7\" style=\"font-size:40px;line-height:1.25;-inkscape-font-specification:sans-serif;text-align:center;white-space:pre;shape-inside:url(#rect6202-0-2-2);fill:currentColor\">\n",
       "        <path d=\"m 689.59766,812.1104 q -2.38282,1.09375 -5.21485,1.91406 -2.8125,0.80078 -5.44922,0.80078 -3.39843,0 -6.23047,-0.9375 -2.83203,-0.9375 -4.82421,-2.8125 -2.01172,-1.89453 -3.10547,-4.72656 -1.09375,-2.85156 -1.09375,-6.66015 0,-6.97266 4.0625,-10.9961 4.08203,-4.04297 11.1914,-4.04297 2.48047,0 5.0586,0.60547 2.59765,0.58594 5.58593,2.01172 v 4.58984 h -0.35156 q -0.60547,-0.46875 -1.75781,-1.23046 -1.15234,-0.76172 -2.26563,-1.26954 -1.34765,-0.60546 -3.0664,-0.99609 -1.69922,-0.41016 -3.86719,-0.41016 -4.88281,0 -7.73437,3.14454 -2.83204,3.125 -2.83204,8.47656 0,5.64453 2.96875,8.78906 2.96875,3.125 8.08594,3.125 1.875,0 3.73047,-0.37109 1.875,-0.3711 3.28125,-0.95703 v -7.12891 h -7.79297 v -3.39844 h 11.6211 z\" id=\"path85495\"/>\n",
       "        <path d=\"m 713.01562,814.25884 h -3.65234 v -2.32422 q -0.48828,0.33203 -1.32812,0.9375 -0.82032,0.58594 -1.60157,0.9375 -0.91797,0.44922 -2.10937,0.74219 -1.19141,0.3125 -2.79297,0.3125 -2.94922,0 -5,-1.95313 -2.05078,-1.95312 -2.05078,-4.98047 0,-2.48047 1.05469,-4.0039 1.07421,-1.54297 3.04687,-2.42188 1.99219,-0.8789 4.78516,-1.1914 2.79297,-0.3125 5.99609,-0.46875 v -0.56641 q 0,-1.25 -0.44922,-2.07031 -0.42969,-0.82032 -1.25,-1.28907 -0.78125,-0.44921 -1.875,-0.60546 -1.09375,-0.15625 -2.28515,-0.15625 -1.44532,0 -3.22266,0.39062 -1.77734,0.37109 -3.67188,1.09375 h -0.19531 v -3.73047 q 1.07422,-0.29297 3.10547,-0.64453 2.03125,-0.35156 4.00391,-0.35156 2.30468,0 4.0039,0.39062 1.71875,0.3711 2.96875,1.28907 1.23047,0.89843 1.875,2.32421 0.64453,1.42579 0.64453,3.53516 z m -3.65234,-5.3711 v -6.07421 q -1.67969,0.0976 -3.96484,0.29296 -2.26563,0.19532 -3.59375,0.56641 -1.58203,0.44922 -2.5586,1.40625 -0.97656,0.9375 -0.97656,2.59766 0,1.875 1.13281,2.83203 1.13282,0.9375 3.45703,0.9375 1.9336,0 3.53516,-0.74219 1.60156,-0.76172 2.96875,-1.81641 z\" id=\"path85497\"/>\n",
       "        <path d=\"M 723.79687,814.25884 H 720.125 v -30.39063 h 3.67187 z\" id=\"path85499\"/>\n",
       "      </g>\n",
       "      <g aria-label=\"mGal\" transform=\"matrix(0.26458333,0,0,0.26458333,-73.237202,-91.681178)\" id=\"text6200-9-6-7-9\" style=\"font-size:40px;line-height:1.25;-inkscape-font-specification:sans-serif;text-align:center;white-space:pre;shape-inside:url(#rect6202-0-2-2-0);fill:currentColor\">\n",
       "        <path d=\"m 677.42969,814.25884 h -3.67188 v -12.42188 q 0,-1.40625 -0.13672,-2.71484 -0.11718,-1.30859 -0.52734,-2.08984 -0.44922,-0.83985 -1.28906,-1.26954 -0.83985,-0.42968 -2.42188,-0.42968 -1.54297,0 -3.08594,0.78125 -1.54296,0.76172 -3.08593,1.95312 0.0586,0.44922 0.0976,1.05469 0.0391,0.58594 0.0391,1.17187 v 13.96485 h -3.67188 v -12.42188 q 0,-1.44531 -0.13672,-2.73437 -0.11719,-1.3086 -0.52734,-2.08985 -0.44922,-0.83984 -1.28906,-1.25 -0.83985,-0.42968 -2.42188,-0.42968 -1.50391,0 -3.02734,0.74218 -1.50391,0.74219 -3.00782,1.89454 v 16.28906 h -3.67187 v -21.81641 h 3.67187 v 2.42188 q 1.71875,-1.42578 3.41797,-2.22657 1.71875,-0.80078 3.65235,-0.80078 2.22656,0 3.76953,0.9375 1.5625,0.9375 2.32422,2.59766 2.22656,-1.875 4.0625,-2.69531 1.83593,-0.83985 3.92578,-0.83985 3.59375,0 5.29297,2.1875 1.71875,2.16797 1.71875,6.07422 z\" id=\"path85502\"/>\n",
       "        <path d=\"m 709.05078,812.1104 q -2.38281,1.09375 -5.21484,1.91406 -2.8125,0.80078 -5.44922,0.80078 -3.39844,0 -6.23047,-0.9375 -2.83203,-0.9375 -4.82422,-2.8125 -2.01172,-1.89453 -3.10547,-4.72656 -1.09375,-2.85156 -1.09375,-6.66015 0,-6.97266 4.0625,-10.9961 4.08203,-4.04297 11.19141,-4.04297 2.48047,0 5.05859,0.60547 2.59766,0.58594 5.58594,2.01172 v 4.58984 h -0.35156 q -0.60547,-0.46875 -1.75782,-1.23046 -1.15234,-0.76172 -2.26562,-1.26954 -1.34766,-0.60546 -3.06641,-0.99609 -1.69922,-0.41016 -3.86718,-0.41016 -4.88282,0 -7.73438,3.14454 -2.83203,3.125 -2.83203,8.47656 0,5.64453 2.96875,8.78906 2.96875,3.125 8.08594,3.125 1.875,0 3.73047,-0.37109 1.875,-0.3711 3.28125,-0.95703 v -7.12891 h -7.79297 v -3.39844 h 11.62109 z\" id=\"path85504\"/>\n",
       "        <path d=\"m 732.46875,814.25884 h -3.65234 v -2.32422 q -0.48829,0.33203 -1.32813,0.9375 -0.82031,0.58594 -1.60156,0.9375 -0.91797,0.44922 -2.10938,0.74219 -1.1914,0.3125 -2.79297,0.3125 -2.94921,0 -5,-1.95313 -2.05078,-1.95312 -2.05078,-4.98047 0,-2.48047 1.05469,-4.0039 1.07422,-1.54297 3.04688,-2.42188 1.99218,-0.8789 4.78515,-1.1914 2.79297,-0.3125 5.9961,-0.46875 v -0.56641 q 0,-1.25 -0.44922,-2.07031 -0.42969,-0.82032 -1.25,-1.28907 -0.78125,-0.44921 -1.875,-0.60546 -1.09375,-0.15625 -2.28516,-0.15625 -1.44531,0 -3.22266,0.39062 -1.77734,0.37109 -3.67187,1.09375 h -0.19531 v -3.73047 q 1.07422,-0.29297 3.10547,-0.64453 2.03125,-0.35156 4.0039,-0.35156 2.30469,0 4.00391,0.39062 1.71875,0.3711 2.96875,1.28907 1.23047,0.89843 1.875,2.32421 0.64453,1.42579 0.64453,3.53516 z m -3.65234,-5.3711 v -6.07421 q -1.67969,0.0976 -3.96485,0.29296 -2.26562,0.19532 -3.59375,0.56641 -1.58203,0.44922 -2.55859,1.40625 -0.97656,0.9375 -0.97656,2.59766 0,1.875 1.13281,2.83203 1.13281,0.9375 3.45703,0.9375 1.93359,0 3.53516,-0.74219 1.60156,-0.76172 2.96875,-1.81641 z\" id=\"path85506\"/>\n",
       "        <path d=\"m 743.25,814.25884 h -3.67188 V 783.86821 H 743.25 Z\" id=\"path85508\"/>\n",
       "      </g>\n",
       "      <g aria-label=\"&#181;Gal\" transform=\"matrix(0.26458333,0,0,0.26458333,-27.269752,-92.665614)\" id=\"text6200-9-6-7-9-6\" style=\"font-size:40px;line-height:1.25;-inkscape-font-specification:sans-serif;text-align:center;white-space:pre;shape-inside:url(#rect6202-0-2-2-0-3);fill:currentColor\">\n",
       "        <path d=\"m 670.55469,814.25884 h -3.47657 l -0.19531,-2.30469 q -1.15234,1.26953 -2.42187,1.99219 -1.25,0.72265 -3.02735,0.72265 -1.67968,0 -2.92968,-0.68359 -1.23047,-0.68359 -2.51954,-1.93359 v 10.2539 h -3.67187 v -29.86328 h 3.67187 v 16.36719 q 0.625,0.76172 2.12891,1.5625 1.52344,0.80078 3.30078,0.80078 1.81641,0 3.10547,-0.64453 1.30859,-0.66406 2.36328,-1.83594 v -16.25 h 3.67188 z\" id=\"path85511\"/>\n",
       "        <path d=\"m 702.42969,812.1104 q -2.38282,1.09375 -5.21485,1.91406 -2.8125,0.80078 -5.44922,0.80078 -3.39843,0 -6.23046,-0.9375 -2.83204,-0.9375 -4.82422,-2.8125 -2.01172,-1.89453 -3.10547,-4.72656 -1.09375,-2.85156 -1.09375,-6.66015 0,-6.97266 4.0625,-10.9961 4.08203,-4.04297 11.1914,-4.04297 2.48047,0 5.0586,0.60547 2.59765,0.58594 5.58594,2.01172 v 4.58984 h -0.35157 q -0.60547,-0.46875 -1.75781,-1.23046 -1.15234,-0.76172 -2.26562,-1.26954 -1.34766,-0.60546 -3.06641,-0.99609 -1.69922,-0.41016 -3.86719,-0.41016 -4.88281,0 -7.73437,3.14454 -2.83203,3.125 -2.83203,8.47656 0,5.64453 2.96875,8.78906 2.96875,3.125 8.08593,3.125 1.875,0 3.73047,-0.37109 1.875,-0.3711 3.28125,-0.95703 v -7.12891 h -7.79297 v -3.39844 h 11.6211 z\" id=\"path85513\"/>\n",
       "        <path d=\"m 725.84766,814.25884 h -3.65235 v -2.32422 q -0.48828,0.33203 -1.32812,0.9375 -0.82032,0.58594 -1.60157,0.9375 -0.91796,0.44922 -2.10937,0.74219 -1.19141,0.3125 -2.79297,0.3125 -2.94922,0 -5,-1.95313 -2.05078,-1.95312 -2.05078,-4.98047 0,-2.48047 1.05469,-4.0039 1.07422,-1.54297 3.04687,-2.42188 1.99219,-0.8789 4.78516,-1.1914 2.79297,-0.3125 5.99609,-0.46875 v -0.56641 q 0,-1.25 -0.44922,-2.07031 -0.42968,-0.82032 -1.25,-1.28907 -0.78125,-0.44921 -1.875,-0.60546 -1.09375,-0.15625 -2.28515,-0.15625 -1.44532,0 -3.22266,0.39062 -1.77734,0.37109 -3.67187,1.09375 h -0.19532 v -3.73047 q 1.07422,-0.29297 3.10547,-0.64453 2.03125,-0.35156 4.00391,-0.35156 2.30469,0 4.0039,0.39062 1.71875,0.3711 2.96875,1.28907 1.23047,0.89843 1.875,2.32421 0.64454,1.42579 0.64454,3.53516 z m -3.65235,-5.3711 v -6.07421 q -1.67969,0.0976 -3.96484,0.29296 -2.26563,0.19532 -3.59375,0.56641 -1.58203,0.44922 -2.5586,1.40625 -0.97656,0.9375 -0.97656,2.59766 0,1.875 1.13281,2.83203 1.13282,0.9375 3.45704,0.9375 1.93359,0 3.53515,-0.74219 1.60156,-0.76172 2.96875,-1.81641 z\" id=\"path85515\"/>\n",
       "        <path d=\"m 736.62891,814.25884 h -3.67188 v -30.39063 h 3.67188 z\" id=\"path85517\"/>\n",
       "      </g>\n",
       "      <text xml:space=\"preserve\" transform=\"matrix(0.26458333,0,0,0.26458333,123.87355,-54.465551)\" id=\"text6200-9-6-6\" style=\"font-style:normal;font-variant:normal;font-weight:normal;font-stretch:normal;font-size:40px;line-height:1.25;font-family:sans-serif;-inkscape-font-specification:sans-serif;text-align:start;white-space:pre;shape-inside:url(#rect6202-0-2-3);fill:currentColor\" x=\"-461.93982\" y=\"0\"><tspan x=\"162.39648\" y=\"814.25884\" id=\"tspan85740\"> Relativity, 1mm height change\n",
       "</tspan><tspan x=\"162.39648\" y=\"864.25884\" id=\"tspan85742\"> Ocean topography, polar motion \n",
       "</tspan><tspan x=\"162.39648\" y=\"914.25884\" id=\"tspan85744\"> Nearby large buildings, hydrology\n",
       "</tspan><tspan x=\"162.39648\" y=\"964.25884\" id=\"tspan85746\"> Earth and Ocean tides, 1m height change\n",
       "</tspan><tspan x=\"162.39648\" y=\"1014.2588\" id=\"tspan85748\"> Large reservoirs\n",
       "</tspan><tspan x=\"162.39648\" y=\"1064.2588\" id=\"tspan85750\"> Internal mass distribution\n",
       "</tspan><tspan x=\"162.39648\" y=\"1114.2588\" id=\"tspan85752\"> Mountain, ocean trench, 1km height\n",
       "</tspan><tspan x=\"162.39648\" y=\"1164.2588\" id=\"tspan85754\"> Flattening and rotation</tspan></text>\n",
       "      <path style=\"fill:none;stroke:currentColor;stroke-width:2.0289;stroke-linecap:round;stroke-linejoin:round;stroke-miterlimit:4;stroke-dasharray:none;stroke-opacity:1\" d=\"m 156.46028,153.25935 v 17.87376 h 6.30272\" id=\"path47355\" sodipodi:nodetypes=\"ccc\"/>\n",
       "      <path style=\"fill:none;stroke:currentColor;stroke-width:2.0289;stroke-linecap:round;stroke-linejoin:round;stroke-miterlimit:4;stroke-dasharray:none;stroke-opacity:1\" d=\"m 140.73383,153.25935 v 29.95247 H 162.763\" id=\"path47355-3\" sodipodi:nodetypes=\"ccc\"/>\n",
       "      <path style=\"fill:none;stroke:currentColor;stroke-width:2.02889;stroke-linecap:round;stroke-linejoin:round;stroke-miterlimit:4;stroke-dasharray:none;stroke-opacity:1\" d=\"m 125.00739,153.25935 v 44.53582 H 162.763\" id=\"path47355-3-5\" sodipodi:nodetypes=\"ccc\"/>\n",
       "      <path style=\"fill:none;stroke:currentColor;stroke-width:2.0289;stroke-linecap:round;stroke-linejoin:round;stroke-miterlimit:4;stroke-dasharray:none;stroke-opacity:1\" d=\"m 109.28093,153.25935 v 57.94693 H 162.763\" id=\"path47355-3-6\" sodipodi:nodetypes=\"ccc\"/>\n",
       "      <path style=\"fill:none;stroke:currentColor;stroke-width:2.0289;stroke-linecap:round;stroke-linejoin:round;stroke-miterlimit:4;stroke-dasharray:none;stroke-opacity:1\" d=\"m 93.554483,153.25936 v 70.61503 H 162.763\" id=\"path47355-3-2\" sodipodi:nodetypes=\"ccc\"/>\n",
       "      <path style=\"fill:none;stroke:currentColor;stroke-width:2.0289;stroke-linecap:round;stroke-linejoin:round;stroke-miterlimit:4;stroke-dasharray:none;stroke-opacity:1\" d=\"m 77.828037,153.25935 v 84.26037 H 162.763\" id=\"path47355-3-9\" sodipodi:nodetypes=\"ccc\"/>\n",
       "      <path style=\"fill:none;stroke:currentColor;stroke-width:2.0289;stroke-linecap:round;stroke-linejoin:round;stroke-miterlimit:4;stroke-dasharray:none;stroke-opacity:1\" d=\"M 62.101576,153.25935 V 250.2924 H 162.763\" id=\"path47355-3-1\" sodipodi:nodetypes=\"ccc\"/>\n",
       "    </g>\n",
       "  </g>\n",
       "</svg></p></div>\n",
       "\n",
       "</div>"
      ],
      "text/plain": [
       "<jupylecture.tools.FlexSlide at 0x7f85c85b6700>"
      ]
     },
     "metadata": {},
     "output_type": "display_data"
    }
   ],
   "source": [
    "slide3=FlexSlide(\"# What influences gravity?\")\n",
    "slide3.addmd(\"magnitude of gravity \\\\(g=|\\\\vec{g}|\\)\",flxwidth=\"flx100\")\n",
    "slide3.addSVG(\"images/Gravity981.svg\",flxwidth=\"flx100\",frag=True)\n",
    "slide3.display()"
   ]
  },
  {
   "cell_type": "code",
   "execution_count": 10,
   "metadata": {
    "cell_style": "center",
    "scrolled": true,
    "slideshow": {
     "slide_type": "slide"
    }
   },
   "outputs": [
    {
     "data": {
      "text/html": [
       "<div id=\"351ad13862e77e3b\"></div>\n",
       "    <script type=\"text/javascript\">\n",
       "        $(function(){\n",
       "            var p = $(\"#351ad13862e77e3b\");\n",
       "            if (p.length==0) return;\n",
       "            while (!p.hasClass(\"cell\")) {\n",
       "                p=p.parent();\n",
       "                if (p.prop(\"tagName\") ==\"body\") return;\n",
       "            }\n",
       "            var cell = p;\n",
       "            cell.find(\".input\").addClass(\"hide-in-slideshow\")\n",
       "        });\n",
       "    </script>"
      ]
     },
     "metadata": {},
     "output_type": "display_data"
    },
    {
     "data": {
      "text/markdown": [
       "\n",
       "<div class=\"flxsld text_cell\" ><div class=\"flx100\"><h1>Newton’s law of gravitation</h1></div>\n",
       "\n",
       "\n",
       "<div class=\" flx70\" >\n",
       "\n",
       "<ul><li>Gravitational force <span class=\"color-sec\">\\(\\rightarrow\\textbf{F}_{12}=\\frac{G m_{1} m_{2} \\textbf{r}_{12}}{|\\textbf{r}_{12}|^{3}}\\)</span></li><ul><li>proportional to both masses</li><li>Inversely-proportional to square of distance</li></ul><li>Action = Reaction <span class=\"color-sec\">\\(\\rightarrow\\textbf{F}_{12}=-\\textbf{F}_{21}\\)</span></li><li>Gravititational constant <span class=\"color-sec\"> \\(\\rightarrow G=6.67384 \\times 10^{-11} \\frac{m^{3}}{kg \\cdot s}\\)</span></li></ul></div>\n",
       "<div class=\" flx25\" >\n",
       "\n",
       "<p><svg xmlns:inkscape=\"http://www.inkscape.org/namespaces/inkscape\" xmlns:sodipodi=\"http://sodipodi.sourceforge.net/DTD/sodipodi-0.dtd\" xmlns=\"http://www.w3.org/2000/svg\" xmlns:svg=\"http://www.w3.org/2000/svg\" width=\"158.22658mm\" height=\"138.00371mm\" viewBox=\"0 0 158.22657 138.00369\" version=\"1.1\" id=\"svg5\" inkscape:version=\"1.1 (c4e8f9ed74, 2021-05-24)\" sodipodi:docname=\"NewtonGrav.svg\">\n",
       "  <sodipodi:namedview id=\"namedview7\" pagecolor=\"#c8c8c8\" bordercolor=\"#666666\" borderopacity=\"1.0\" inkscape:pageshadow=\"2\" inkscape:pageopacity=\"1\" inkscape:pagecheckerboard=\"true\" inkscape:document-units=\"mm\" showgrid=\"false\" inkscape:zoom=\"0.79288226\" inkscape:cx=\"640.06981\" inkscape:cy=\"177.20159\" inkscape:window-width=\"1920\" inkscape:window-height=\"1043\" inkscape:window-x=\"0\" inkscape:window-y=\"0\" inkscape:window-maximized=\"1\" inkscape:current-layer=\"layer2\" fit-margin-top=\"0\" fit-margin-left=\"0\" fit-margin-right=\"0\" fit-margin-bottom=\"0\" lock-margins=\"true\" inkscape:snap-global=\"false\"/>\n",
       "  <defs id=\"defs2\">\n",
       "    <rect x=\"178.13273\" y=\"141.9071\" width=\"105.91796\" height=\"81.826659\" id=\"rect32181\"/>\n",
       "    <marker style=\"overflow:visible;fill:currentColor\" id=\"Arrow2Mend\" refX=\"0\" refY=\"0\" orient=\"auto\" inkscape:stockid=\"Arrow2Mend\" inkscape:isstock=\"true\">\n",
       "      <path transform=\"scale(-0.6)\" d=\"M 8.7185878,4.0337352 -2.2072895,0.01601326 8.7185884,-4.0017078 c -1.7454984,2.3720609 -1.7354408,5.6174519 -6e-7,8.035443 z\" style=\"fill:currentColor;fill-rule:evenodd;stroke-width:0.625;stroke-linejoin:round\" id=\"path12194\"/>\n",
       "    </marker>\n",
       "    <marker style=\"overflow:visible;fill:currentColor\" refX=\"0\" refY=\"0\" orient=\"auto\" inkscape:stockid=\"Arrow2Mend1628\" inkscape:isstock=\"true\" id=\"Arrow2Mend1628\">\n",
       "      <path transform=\"scale(-0.6)\" d=\"M 8.7185878,4.0337352 -2.2072895,0.01601326 8.7185884,-4.0017078 c -1.7454984,2.3720609 -1.7354408,5.6174519 -6e-7,8.035443 z\" style=\"fill:#000000;fill-opacity:1;fill-rule:evenodd;stroke:#000000;stroke-width:0.625;stroke-linejoin:round;stroke-opacity:1\" id=\"path1521\"/>\n",
       "    </marker>\n",
       "  </defs>\n",
       "  <g inkscape:label=\"Layer 1\" inkscape:groupmode=\"layer\" id=\"layer1\" transform=\"translate(-89.787476,-80.51437)\">\n",
       "    <ellipse style=\"fill:currentColor;fill-opacity:1;stroke-width:0.264583;stroke-linecap:round;stroke-linejoin:round\" id=\"path86176\" cx=\"208.21443\" cy=\"145.49796\" rx=\"14.955482\" ry=\"15.381813\"/>\n",
       "    <ellipse style=\"fill:currentColor;fill-opacity:1;stroke-width:0.264583;stroke-linecap:round;stroke-linejoin:round\" id=\"path86176-1\" cx=\"124.95439\" cy=\"92.423317\" rx=\"8.0641842\" ry=\"8.2940674\"/>\n",
       "    <text xml:space=\"preserve\" transform=\"matrix(0.26458333,0,0,0.26458333,108.24501,168.55682)\" id=\"text88671\" style=\"font-size:66.6667px;line-height:1.25;font-family:sans-serif;text-align:center;white-space:pre;shape-inside:url(#rect88673);fill:currentColor\"><tspan x=\"0\" y=\"0\" id=\"tspan39543\"><tspan style=\"font-weight:bold;-inkscape-font-specification:'sans-serif Bold'\" id=\"tspan39539\">r</tspan><tspan style=\"font-size:65%;baseline-shift:sub\" id=\"tspan39541\">1</tspan></tspan></text>\n",
       "    <text xml:space=\"preserve\" transform=\"matrix(0.26458333,0,0,0.26458333,166.11251,95.936275)\" id=\"text88671-7\" style=\"font-size:66.6667px;line-height:1.25;font-family:sans-serif;text-align:center;white-space:pre;shape-inside:url(#rect88673-2);fill:currentColor\"><tspan x=\"0\" y=\"0\" id=\"tspan39549\"><tspan style=\"font-weight:bold;-inkscape-font-specification:'sans-serif Bold'\" id=\"tspan39545\">r</tspan><tspan style=\"font-size:65%;-inkscape-font-specification:sans-serif;baseline-shift:sub\" id=\"tspan39547\">12</tspan></tspan></text>\n",
       "    <text xml:space=\"preserve\" transform=\"matrix(0.26458333,0,0,0.26458333,88.194119,90.401799)\" id=\"text88671-62\" style=\"font-size:66.6667px;line-height:1.25;font-family:sans-serif;text-align:center;white-space:pre;shape-inside:url(#rect88673-35);fill:currentColor\"><tspan x=\"0\" y=\"0\" id=\"tspan39553\">m<tspan style=\"font-size:65%;baseline-shift:sub\" id=\"tspan39551\">1</tspan></tspan></text>\n",
       "    <text xml:space=\"preserve\" transform=\"matrix(0.26458333,0,0,0.26458333,224.31307,160.90783)\" id=\"text88671-62-1\" style=\"font-size:66.6667px;line-height:1.25;font-family:sans-serif;text-align:center;white-space:pre;shape-inside:url(#rect88673-35-9);fill:currentColor\"><tspan x=\"0\" y=\"0\" id=\"tspan39557\">m<tspan style=\"font-size:65%;baseline-shift:sub\" id=\"tspan39555\">2</tspan></tspan></text>\n",
       "    <text xml:space=\"preserve\" transform=\"matrix(0.26458333,0,0,0.26458333,172.12349,211.19655)\" id=\"text88671-9\" style=\"font-size:66.6667px;line-height:1.25;font-family:sans-serif;text-align:center;white-space:pre;shape-inside:url(#rect88673-5);fill:currentColor\"><tspan x=\"0\" y=\"0\" id=\"tspan39563\"><tspan style=\"font-weight:bold;-inkscape-font-specification:'sans-serif Bold'\" id=\"tspan39559\">r</tspan><tspan style=\"font-size:65%;baseline-shift:sub\" id=\"tspan39561\">2</tspan></tspan></text>\n",
       "    <g id=\"g2263\" transform=\"rotate(123.05183,291.99296,-42.489015)\">\n",
       "      <g id=\"g2383\" transform=\"matrix(0.48731255,0.02423459,0.01279726,0.50441827,306.3094,-31.083282)\" style=\"stroke-width:1.06897\">\n",
       "        <path sodipodi:type=\"star\" style=\"fill:currentColor;fill-opacity:1;stroke-width:8.08041;stroke-miterlimit:4;stroke-dasharray:none\" id=\"path1845\" inkscape:flatsided=\"true\" sodipodi:sides=\"3\" sodipodi:cx=\"1019.0918\" sodipodi:cy=\"-481.03027\" sodipodi:r1=\"115.65684\" sodipodi:r2=\"187.39349\" sodipodi:arg1=\"-1.5604471\" sodipodi:arg2=\"-0.51324957\" inkscape:rounded=\"0\" inkscape:randomized=\"0\" d=\"m 1020.2887,-596.68092 98.361,174.51255 -200.31277,-2.07316 z\" transform=\"matrix(0.12459764,0,0,0.12459764,228.63158,-13.785592)\" inkscape:transform-center-x=\"10.861446\" inkscape:transform-center-y=\"-0.92805689\"/>\n",
       "        <path style=\"stroke:currentColor;stroke-width:4.0365;stroke-miterlimit:4;stroke-dasharray:none\" d=\"M 355.53345,83.801086 V -66.386775\" id=\"path2179\"/>\n",
       "      </g>\n",
       "    </g>\n",
       "    <g id=\"g2263-3\" transform=\"matrix(1.397982,-0.1588834,0.1608815,1.3954794,-532.73717,267.18515)\" style=\"stroke-width:0.711313\">\n",
       "      <g id=\"g2383-6\" transform=\"matrix(0.48731255,0.02423459,0.01279726,0.50441827,306.3094,-31.083282)\" style=\"stroke-width:0.760372\">\n",
       "        <path sodipodi:type=\"star\" style=\"fill:currentColor;fill-opacity:1;stroke-width:9.30127;stroke-miterlimit:4;stroke-dasharray:none\" id=\"path1845-7\" inkscape:flatsided=\"true\" sodipodi:sides=\"3\" sodipodi:cx=\"1019.0918\" sodipodi:cy=\"-481.03027\" sodipodi:r1=\"115.65684\" sodipodi:r2=\"187.39349\" sodipodi:arg1=\"-1.5604471\" sodipodi:arg2=\"-0.51324957\" inkscape:rounded=\"0\" inkscape:randomized=\"0\" transform=\"matrix(0.07343639,-0.00655922,0.00604354,0.08018575,284.40075,-29.693185)\" inkscape:transform-center-x=\"5.9997774\" inkscape:transform-center-y=\"0.20935791\" d=\"m 1020.2887,-596.68092 98.361,174.51255 -200.31277,-2.07316 z\"/>\n",
       "        <path style=\"stroke:currentColor;stroke-width:2.87122;stroke-miterlimit:4;stroke-dasharray:none\" d=\"M 355.53236,83.808526 356.1433,-70.605636\" id=\"path2179-5\"/>\n",
       "      </g>\n",
       "    </g>\n",
       "    <g id=\"g2263-3-3\" transform=\"matrix(0.71532405,0.61439235,-0.69358415,0.66266364,-187.86271,-90.770871)\" style=\"stroke-width:1.05401\">\n",
       "      <g id=\"g2383-6-5\" transform=\"matrix(0.48731255,0.02423459,0.01279726,0.50441827,306.3094,-31.083282)\" style=\"stroke-width:1.1267\">\n",
       "        <path sodipodi:type=\"star\" style=\"fill:currentColor;fill-opacity:1;stroke-width:8.51679;stroke-miterlimit:4;stroke-dasharray:none\" id=\"path1845-7-6\" inkscape:flatsided=\"true\" sodipodi:sides=\"3\" sodipodi:cx=\"1019.0918\" sodipodi:cy=\"-481.03027\" sodipodi:r1=\"115.65684\" sodipodi:r2=\"187.39349\" sodipodi:arg1=\"-1.5604471\" sodipodi:arg2=\"-0.51324957\" inkscape:rounded=\"0\" inkscape:randomized=\"0\" transform=\"matrix(0.12459764,0,0,0.12459764,228.63158,-13.785592)\" inkscape:transform-center-x=\"10.861446\" inkscape:transform-center-y=\"-0.92805689\" d=\"m 1020.2887,-596.68092 98.361,174.51255 -200.31277,-2.07316 z\"/>\n",
       "        <path style=\"stroke:currentColor;stroke-width:4.2545;stroke-miterlimit:4;stroke-dasharray:none\" d=\"M 355.53345,83.801086 V -66.386775\" id=\"path2179-5-2\"/>\n",
       "      </g>\n",
       "    </g>\n",
       "  </g>\n",
       "  <g inkscape:groupmode=\"layer\" id=\"layer2\" inkscape:label=\"forces\" style=\"display:inline\">\n",
       "    <text xml:space=\"preserve\" transform=\"matrix(0.26458333,0,0,0.26458333,43.749223,48.799779)\" id=\"text88671-6\" style=\"font-size:66.6667px;line-height:1.25;font-family:sans-serif;text-align:center;white-space:pre;shape-inside:url(#rect88673-3);fill:#42affa;fill-opacity:1\"><tspan x=\"0\" y=\"0\" id=\"tspan39569\"><tspan style=\"font-weight:bold;-inkscape-font-specification:'sans-serif Bold'\" id=\"tspan39565\">F</tspan><tspan style=\"font-size:65%;baseline-shift:sub\" id=\"tspan39567\">12</tspan></tspan></text>\n",
       "    <text xml:space=\"preserve\" transform=\"matrix(0.26458333,0,0,0.26458333,70.548843,78.134779)\" id=\"text88671-6-5\" style=\"font-size:66.6667px;line-height:1.25;font-family:sans-serif;text-align:center;white-space:pre;shape-inside:url(#rect88673-3-7);fill:#42affa;fill-opacity:1\"><tspan x=\"0\" y=\"0\" id=\"tspan39575\"><tspan style=\"font-weight:bold;-inkscape-font-specification:'sans-serif Bold'\" id=\"tspan39571\">F</tspan><tspan style=\"font-size:65%;-inkscape-font-specification:sans-serif;baseline-shift:sub\" id=\"tspan39573\">21</tspan></tspan></text>\n",
       "    <g id=\"g2263-3-3-9\" transform=\"matrix(0.71532405,0.61439235,-0.69358415,0.66266364,-180.56499,-275.60448)\" style=\"stroke-width:1.05401\">\n",
       "      <g id=\"g2383-6-5-1\" transform=\"matrix(0.05261051,0.21113596,-0.22335337,0.02670689,380.86549,3.9581388)\" style=\"stroke-width:2.53327\">\n",
       "        <path sodipodi:type=\"star\" style=\"fill:#42affa;fill-opacity:1;stroke-width:19.1491;stroke-miterlimit:4;stroke-dasharray:none\" id=\"path1845-7-6-2\" inkscape:flatsided=\"true\" sodipodi:sides=\"3\" sodipodi:cx=\"1019.0918\" sodipodi:cy=\"-481.03027\" sodipodi:r1=\"115.65684\" sodipodi:r2=\"187.39349\" sodipodi:arg1=\"-1.5604471\" sodipodi:arg2=\"-0.51324957\" inkscape:rounded=\"0\" inkscape:randomized=\"0\" transform=\"matrix(0.12459764,0,0,0.12459764,228.63158,-13.785592)\" inkscape:transform-center-x=\"10.861446\" inkscape:transform-center-y=\"-0.92805689\" d=\"m 1020.2887,-596.68092 98.361,174.51255 -200.31277,-2.07316 z\"/>\n",
       "        <path style=\"stroke:#42affa;stroke-width:7.17431;stroke-miterlimit:4;stroke-dasharray:none;stroke-opacity:1\" d=\"M 355.53345,83.801086 V -66.386775\" id=\"path2179-5-2-7\"/>\n",
       "      </g>\n",
       "      <g id=\"g2383-6-5-1-0\" transform=\"matrix(-0.05261051,-0.21113596,0.22335337,-0.02670689,482.73805,144.84197)\" style=\"stroke-width:2.53327\">\n",
       "        <path sodipodi:type=\"star\" style=\"fill:#42affa;fill-opacity:1;stroke-width:19.1491;stroke-miterlimit:4;stroke-dasharray:none\" id=\"path1845-7-6-2-9\" inkscape:flatsided=\"true\" sodipodi:sides=\"3\" sodipodi:cx=\"1019.0918\" sodipodi:cy=\"-481.03027\" sodipodi:r1=\"115.65684\" sodipodi:r2=\"187.39349\" sodipodi:arg1=\"-1.5604471\" sodipodi:arg2=\"-0.51324957\" inkscape:rounded=\"0\" inkscape:randomized=\"0\" transform=\"matrix(0.12459764,0,0,0.12459764,228.63158,-13.785592)\" inkscape:transform-center-x=\"10.861446\" inkscape:transform-center-y=\"-0.92805689\" d=\"m 1020.2887,-596.68092 98.361,174.51255 -200.31277,-2.07316 z\"/>\n",
       "        <path style=\"stroke:#42affa;stroke-width:7.17431;stroke-miterlimit:4;stroke-dasharray:none;stroke-opacity:1\" d=\"M 355.53345,83.801086 V -66.386775\" id=\"path2179-5-2-7-3\"/>\n",
       "      </g>\n",
       "    </g>\n",
       "  </g>\n",
       "  <g inkscape:groupmode=\"layer\" id=\"layer3\" inkscape:label=\"acceleration\" style=\"display:none\">\n",
       "    <text xml:space=\"preserve\" transform=\"matrix(0.26458333,0,0,0.26458333,43.749223,48.799779)\" id=\"text88671-6-6\" style=\"font-size:66.6667px;line-height:1.25;font-family:sans-serif;text-align:center;white-space:pre;shape-inside:url(#rect88673-3);fill:#42affa;fill-opacity:1\"/>\n",
       "    <g id=\"g2383-6-5-1-2\" transform=\"matrix(-0.10880699,0.17223562,-0.17829351,-0.11952892,89.131952,-38.980722)\" style=\"stroke-width:2.53327\">\n",
       "      <path sodipodi:type=\"star\" style=\"fill:#42affa;fill-opacity:1;stroke-width:19.1491;stroke-miterlimit:4;stroke-dasharray:none\" id=\"path1845-7-6-2-6\" inkscape:flatsided=\"true\" sodipodi:sides=\"3\" sodipodi:cx=\"1019.0918\" sodipodi:cy=\"-481.03027\" sodipodi:r1=\"115.65684\" sodipodi:r2=\"187.39349\" sodipodi:arg1=\"-1.5604471\" sodipodi:arg2=\"-0.51324957\" inkscape:rounded=\"0\" inkscape:randomized=\"0\" transform=\"matrix(0.12459764,0,0,0.12459764,228.63158,-13.785592)\" inkscape:transform-center-x=\"10.861446\" inkscape:transform-center-y=\"-0.92805689\" d=\"m 1020.2887,-596.68092 98.361,174.51255 -200.31277,-2.07316 z\"/>\n",
       "      <path style=\"stroke:#42affa;stroke-width:7.17431;stroke-miterlimit:4;stroke-dasharray:none;stroke-opacity:1\" d=\"M 355.53345,83.801086 V -66.386775\" id=\"path2179-5-2-7-1\"/>\n",
       "    </g>\n",
       "    <text xml:space=\"preserve\" transform=\"scale(0.26458333)\" id=\"text32179\" style=\"font-size:40px;line-height:1.25;font-family:sans-serif;text-align:center;white-space:pre;shape-inside:url(#rect32181);fill:#42affa;fill-opacity:1\"><tspan x=\"200.57812\" y=\"178.39946\" id=\"tspan39581\"><tspan style=\"font-weight:bold;-inkscape-font-specification:'sans-serif Bold'\" id=\"tspan39577\">g</tspan><tspan style=\"font-size:65%;baseline-shift:sub\" id=\"tspan39579\">12</tspan></tspan></text>\n",
       "  </g>\n",
       "</svg></p></div>\n",
       "\n",
       "</div>"
      ],
      "text/plain": [
       "<jupylecture.tools.FlexSlide at 0x7f85c85b6be0>"
      ]
     },
     "metadata": {},
     "output_type": "display_data"
    }
   ],
   "source": [
    "slide4=FlexSlide(\"# Newton’s law of gravitation\")\n",
    "slide4.addItems([\"Gravitational force <span class=\\\"color-sec\\\">\\(\\\\rightarrow\\\\textbf{F}_{12}=\\\\frac{G m_{1} m_{2} \\\\textbf{r}_{12}}{|\\\\textbf{r}_{12}|^{3}}\\)</span>\",\n",
    "                 [\"proportional to both masses\",\"Inversely-proportional to square of distance\"],\n",
    "                 \"Action = Reaction <span class=\\\"color-sec\\\">\\(\\\\rightarrow\\\\textbf{F}_{12}=-\\\\textbf{F}_{21}\\)</span>\",\n",
    "                 \"Gravititational constant <span class=\\\"color-sec\\\"> \\(\\\\rightarrow G=6.67384 \\\\times 10^{-11} \\\\frac{m^{3}}{kg \\cdot s}\\)</span>\"],flxwidth=\"flx70\")\n",
    "   \n",
    "slide4.addSVG(\"images/NewtonGrav.svg\",flxwidth=\"flx25\")\n",
    "slide4.display()"
   ]
  },
  {
   "cell_type": "code",
   "execution_count": 11,
   "metadata": {
    "slideshow": {
     "slide_type": "slide"
    }
   },
   "outputs": [
    {
     "data": {
      "text/html": [
       "<div id=\"6882aed406634912\"></div>\n",
       "    <script type=\"text/javascript\">\n",
       "        $(function(){\n",
       "            var p = $(\"#6882aed406634912\");\n",
       "            if (p.length==0) return;\n",
       "            while (!p.hasClass(\"cell\")) {\n",
       "                p=p.parent();\n",
       "                if (p.prop(\"tagName\") ==\"body\") return;\n",
       "            }\n",
       "            var cell = p;\n",
       "            cell.find(\".input\").addClass(\"hide-in-slideshow\")\n",
       "        });\n",
       "    </script>"
      ]
     },
     "metadata": {},
     "output_type": "display_data"
    },
    {
     "data": {
      "text/markdown": [
       "\n",
       "<div class=\"flxsld text_cell\" ><div class=\"flx100\"><h1>Describe the gravitational field of a central body in terms of acceleration</h1></div>\n",
       "\n",
       "\n",
       "<div class=\" flx70\" >\n",
       "\n",
       "<ul><li>Acceleration for a point mass<span class=\"color-sec\">\\(\\rightarrow\\textbf{g}_{12}=\\frac{G m_{2} \\textbf{r}_{12}}{|\\textbf{r}_{12}|^{3}}\\)</span></li><li>More complex bodies: apply superposition principle</li><ul><li>Addition of multiple point masses</li><li>Introduction of a density function</li></ul></ul></div>\n",
       "<div class=\" flx25\" >\n",
       "\n",
       "<p><svg xmlns:inkscape=\"http://www.inkscape.org/namespaces/inkscape\" xmlns:sodipodi=\"http://sodipodi.sourceforge.net/DTD/sodipodi-0.dtd\" xmlns=\"http://www.w3.org/2000/svg\" xmlns:svg=\"http://www.w3.org/2000/svg\" width=\"158.22658mm\" height=\"138.00371mm\" viewBox=\"0 0 158.22657 138.00369\" version=\"1.1\" id=\"svg5\" inkscape:version=\"1.1 (c4e8f9ed74, 2021-05-24)\" sodipodi:docname=\"NewtonGravacc.svg\">\n",
       "  <sodipodi:namedview id=\"namedview7\" pagecolor=\"#c8c8c8\" bordercolor=\"#666666\" borderopacity=\"1.0\" inkscape:pageshadow=\"2\" inkscape:pageopacity=\"1\" inkscape:pagecheckerboard=\"true\" inkscape:document-units=\"mm\" showgrid=\"false\" inkscape:zoom=\"0.79288226\" inkscape:cx=\"640.06981\" inkscape:cy=\"177.20159\" inkscape:window-width=\"1920\" inkscape:window-height=\"1043\" inkscape:window-x=\"0\" inkscape:window-y=\"0\" inkscape:window-maximized=\"1\" inkscape:current-layer=\"layer3\" fit-margin-top=\"0\" fit-margin-left=\"0\" fit-margin-right=\"0\" fit-margin-bottom=\"0\" lock-margins=\"true\" inkscape:snap-global=\"false\"/>\n",
       "  <defs id=\"defs2\">\n",
       "    <rect x=\"178.13273\" y=\"141.9071\" width=\"192.84862\" height=\"132.70413\" id=\"rect32181\"/>\n",
       "    <marker style=\"overflow:visible;fill:currentColor\" id=\"Arrow2Mend\" refX=\"0\" refY=\"0\" orient=\"auto\" inkscape:stockid=\"Arrow2Mend\" inkscape:isstock=\"true\">\n",
       "      <path transform=\"scale(-0.6)\" d=\"M 8.7185878,4.0337352 -2.2072895,0.01601326 8.7185884,-4.0017078 c -1.7454984,2.3720609 -1.7354408,5.6174519 -6e-7,8.035443 z\" style=\"fill:currentColor;fill-rule:evenodd;stroke-width:0.625;stroke-linejoin:round\" id=\"path12194\"/>\n",
       "    </marker>\n",
       "    <marker style=\"overflow:visible;fill:currentColor\" refX=\"0\" refY=\"0\" orient=\"auto\" inkscape:stockid=\"Arrow2Mend1628\" inkscape:isstock=\"true\" id=\"Arrow2Mend1628\">\n",
       "      <path transform=\"scale(-0.6)\" d=\"M 8.7185878,4.0337352 -2.2072895,0.01601326 8.7185884,-4.0017078 c -1.7454984,2.3720609 -1.7354408,5.6174519 -6e-7,8.035443 z\" style=\"fill:#000000;fill-opacity:1;fill-rule:evenodd;stroke:#000000;stroke-width:0.625;stroke-linejoin:round;stroke-opacity:1\" id=\"path1521\"/>\n",
       "    </marker>\n",
       "  </defs>\n",
       "  <g inkscape:label=\"Layer 1\" inkscape:groupmode=\"layer\" id=\"layer1\" transform=\"translate(-89.787476,-80.51437)\">\n",
       "    <ellipse style=\"fill:currentColor;fill-opacity:1;stroke-width:0.264583;stroke-linecap:round;stroke-linejoin:round\" id=\"path86176\" cx=\"208.21443\" cy=\"145.49796\" rx=\"14.955482\" ry=\"15.381813\"/>\n",
       "    <ellipse style=\"fill:currentColor;fill-opacity:1;stroke-width:0.264583;stroke-linecap:round;stroke-linejoin:round\" id=\"path86176-1\" cx=\"124.95439\" cy=\"92.423317\" rx=\"8.0641842\" ry=\"8.2940674\"/>\n",
       "    <text xml:space=\"preserve\" transform=\"matrix(0.26458333,0,0,0.26458333,108.24501,168.55682)\" id=\"text88671\" style=\"font-size:66.6667px;line-height:1.25;font-family:sans-serif;text-align:center;white-space:pre;shape-inside:url(#rect88673);fill:currentColor\"><tspan x=\"0\" y=\"0\" id=\"tspan48126\"><tspan style=\"font-weight:bold;-inkscape-font-specification:'sans-serif Bold'\" id=\"tspan48122\">r</tspan><tspan style=\"font-size:65%;baseline-shift:sub\" id=\"tspan48124\">1</tspan></tspan></text>\n",
       "    <text xml:space=\"preserve\" transform=\"matrix(0.26458333,0,0,0.26458333,166.11251,95.936275)\" id=\"text88671-7\" style=\"font-size:66.6667px;line-height:1.25;font-family:sans-serif;text-align:center;white-space:pre;shape-inside:url(#rect88673-2);fill:currentColor\"><tspan x=\"0\" y=\"0\" id=\"tspan48132\"><tspan style=\"font-weight:bold;-inkscape-font-specification:'sans-serif Bold'\" id=\"tspan48128\">r</tspan><tspan style=\"font-size:65%;-inkscape-font-specification:sans-serif;baseline-shift:sub\" id=\"tspan48130\">12</tspan></tspan></text>\n",
       "    <text xml:space=\"preserve\" transform=\"matrix(0.26458333,0,0,0.26458333,88.194119,90.401799)\" id=\"text88671-62\" style=\"font-size:66.6667px;line-height:1.25;font-family:sans-serif;text-align:center;white-space:pre;shape-inside:url(#rect88673-35);fill:currentColor\"><tspan x=\"0\" y=\"0\" id=\"tspan48136\">m<tspan style=\"font-size:65%;baseline-shift:sub\" id=\"tspan48134\">1</tspan></tspan></text>\n",
       "    <text xml:space=\"preserve\" transform=\"matrix(0.26458333,0,0,0.26458333,224.31307,160.90783)\" id=\"text88671-62-1\" style=\"font-size:66.6667px;line-height:1.25;font-family:sans-serif;text-align:center;white-space:pre;shape-inside:url(#rect88673-35-9);fill:currentColor\"><tspan x=\"0\" y=\"0\" id=\"tspan48140\">m<tspan style=\"font-size:65%;baseline-shift:sub\" id=\"tspan48138\">2</tspan></tspan></text>\n",
       "    <text xml:space=\"preserve\" transform=\"matrix(0.26458333,0,0,0.26458333,172.12349,211.19655)\" id=\"text88671-9\" style=\"font-size:66.6667px;line-height:1.25;font-family:sans-serif;text-align:center;white-space:pre;shape-inside:url(#rect88673-5);fill:currentColor\"><tspan x=\"0\" y=\"0\" id=\"tspan48146\"><tspan style=\"font-weight:bold;-inkscape-font-specification:'sans-serif Bold'\" id=\"tspan48142\">r</tspan><tspan style=\"font-size:65%;baseline-shift:sub\" id=\"tspan48144\">2</tspan></tspan></text>\n",
       "    <g id=\"g2263\" transform=\"rotate(123.05183,291.99296,-42.489015)\">\n",
       "      <g id=\"g2383\" transform=\"matrix(0.48731255,0.02423459,0.01279726,0.50441827,306.3094,-31.083282)\" style=\"stroke-width:1.06897\">\n",
       "        <path sodipodi:type=\"star\" style=\"fill:currentColor;fill-opacity:1;stroke-width:8.08041;stroke-miterlimit:4;stroke-dasharray:none\" id=\"path1845\" inkscape:flatsided=\"true\" sodipodi:sides=\"3\" sodipodi:cx=\"1019.0918\" sodipodi:cy=\"-481.03027\" sodipodi:r1=\"115.65684\" sodipodi:r2=\"187.39349\" sodipodi:arg1=\"-1.5604471\" sodipodi:arg2=\"-0.51324957\" inkscape:rounded=\"0\" inkscape:randomized=\"0\" d=\"m 1020.2887,-596.68092 98.361,174.51255 -200.31277,-2.07316 z\" transform=\"matrix(0.12459764,0,0,0.12459764,228.63158,-13.785592)\" inkscape:transform-center-x=\"10.861446\" inkscape:transform-center-y=\"-0.92805689\"/>\n",
       "        <path style=\"stroke:currentColor;stroke-width:4.0365;stroke-miterlimit:4;stroke-dasharray:none\" d=\"M 355.53345,83.801086 V -66.386775\" id=\"path2179\"/>\n",
       "      </g>\n",
       "    </g>\n",
       "    <g id=\"g2263-3\" transform=\"matrix(1.397982,-0.1588834,0.1608815,1.3954794,-532.73717,267.18515)\" style=\"stroke-width:0.711313\">\n",
       "      <g id=\"g2383-6\" transform=\"matrix(0.48731255,0.02423459,0.01279726,0.50441827,306.3094,-31.083282)\" style=\"stroke-width:0.760372\">\n",
       "        <path sodipodi:type=\"star\" style=\"fill:currentColor;fill-opacity:1;stroke-width:9.30127;stroke-miterlimit:4;stroke-dasharray:none\" id=\"path1845-7\" inkscape:flatsided=\"true\" sodipodi:sides=\"3\" sodipodi:cx=\"1019.0918\" sodipodi:cy=\"-481.03027\" sodipodi:r1=\"115.65684\" sodipodi:r2=\"187.39349\" sodipodi:arg1=\"-1.5604471\" sodipodi:arg2=\"-0.51324957\" inkscape:rounded=\"0\" inkscape:randomized=\"0\" transform=\"matrix(0.07343639,-0.00655922,0.00604354,0.08018575,284.40075,-29.693185)\" inkscape:transform-center-x=\"5.9997774\" inkscape:transform-center-y=\"0.20935791\" d=\"m 1020.2887,-596.68092 98.361,174.51255 -200.31277,-2.07316 z\"/>\n",
       "        <path style=\"stroke:currentColor;stroke-width:2.87122;stroke-miterlimit:4;stroke-dasharray:none\" d=\"M 355.53236,83.808526 356.1433,-70.605636\" id=\"path2179-5\"/>\n",
       "      </g>\n",
       "    </g>\n",
       "    <g id=\"g2263-3-3\" transform=\"matrix(0.71532405,0.61439235,-0.69358415,0.66266364,-187.86271,-90.770871)\" style=\"stroke-width:1.05401\">\n",
       "      <g id=\"g2383-6-5\" transform=\"matrix(0.48731255,0.02423459,0.01279726,0.50441827,306.3094,-31.083282)\" style=\"stroke-width:1.1267\">\n",
       "        <path sodipodi:type=\"star\" style=\"fill:currentColor;fill-opacity:1;stroke-width:8.51679;stroke-miterlimit:4;stroke-dasharray:none\" id=\"path1845-7-6\" inkscape:flatsided=\"true\" sodipodi:sides=\"3\" sodipodi:cx=\"1019.0918\" sodipodi:cy=\"-481.03027\" sodipodi:r1=\"115.65684\" sodipodi:r2=\"187.39349\" sodipodi:arg1=\"-1.5604471\" sodipodi:arg2=\"-0.51324957\" inkscape:rounded=\"0\" inkscape:randomized=\"0\" transform=\"matrix(0.12459764,0,0,0.12459764,228.63158,-13.785592)\" inkscape:transform-center-x=\"10.861446\" inkscape:transform-center-y=\"-0.92805689\" d=\"m 1020.2887,-596.68092 98.361,174.51255 -200.31277,-2.07316 z\"/>\n",
       "        <path style=\"stroke:currentColor;stroke-width:4.2545;stroke-miterlimit:4;stroke-dasharray:none\" d=\"M 355.53345,83.801086 V -66.386775\" id=\"path2179-5-2\"/>\n",
       "      </g>\n",
       "    </g>\n",
       "  </g>\n",
       "  <g inkscape:groupmode=\"layer\" id=\"layer2\" inkscape:label=\"forces\" style=\"display:none\">\n",
       "    <text xml:space=\"preserve\" transform=\"matrix(0.26458333,0,0,0.26458333,43.749223,48.799779)\" id=\"text88671-6\" style=\"font-size:66.6667px;line-height:1.25;font-family:sans-serif;text-align:center;white-space:pre;shape-inside:url(#rect88673-3);fill:#42affa;fill-opacity:1\"><tspan x=\"0\" y=\"0\" id=\"tspan48152\"><tspan style=\"font-weight:bold;-inkscape-font-specification:'sans-serif Bold'\" id=\"tspan48148\">F</tspan><tspan style=\"font-size:65%;baseline-shift:sub\" id=\"tspan48150\">12</tspan></tspan></text>\n",
       "    <text xml:space=\"preserve\" transform=\"matrix(0.26458333,0,0,0.26458333,70.548843,78.134779)\" id=\"text88671-6-5\" style=\"font-size:66.6667px;line-height:1.25;font-family:sans-serif;text-align:center;white-space:pre;shape-inside:url(#rect88673-3-7);fill:#42affa;fill-opacity:1\"><tspan x=\"0\" y=\"0\" id=\"tspan48158\"><tspan style=\"font-weight:bold;-inkscape-font-specification:'sans-serif Bold'\" id=\"tspan48154\">F</tspan><tspan style=\"font-size:65%;-inkscape-font-specification:sans-serif;baseline-shift:sub\" id=\"tspan48156\">21</tspan></tspan></text>\n",
       "    <g id=\"g2263-3-3-9\" transform=\"matrix(0.71532405,0.61439235,-0.69358415,0.66266364,-180.56499,-275.60448)\" style=\"stroke-width:1.05401\">\n",
       "      <g id=\"g2383-6-5-1\" transform=\"matrix(0.05261051,0.21113596,-0.22335337,0.02670689,380.86549,3.9581388)\" style=\"stroke-width:2.53327\">\n",
       "        <path sodipodi:type=\"star\" style=\"fill:#42affa;fill-opacity:1;stroke-width:19.1491;stroke-miterlimit:4;stroke-dasharray:none\" id=\"path1845-7-6-2\" inkscape:flatsided=\"true\" sodipodi:sides=\"3\" sodipodi:cx=\"1019.0918\" sodipodi:cy=\"-481.03027\" sodipodi:r1=\"115.65684\" sodipodi:r2=\"187.39349\" sodipodi:arg1=\"-1.5604471\" sodipodi:arg2=\"-0.51324957\" inkscape:rounded=\"0\" inkscape:randomized=\"0\" transform=\"matrix(0.12459764,0,0,0.12459764,228.63158,-13.785592)\" inkscape:transform-center-x=\"10.861446\" inkscape:transform-center-y=\"-0.92805689\" d=\"m 1020.2887,-596.68092 98.361,174.51255 -200.31277,-2.07316 z\"/>\n",
       "        <path style=\"stroke:#42affa;stroke-width:7.17431;stroke-miterlimit:4;stroke-dasharray:none;stroke-opacity:1\" d=\"M 355.53345,83.801086 V -66.386775\" id=\"path2179-5-2-7\"/>\n",
       "      </g>\n",
       "      <g id=\"g2383-6-5-1-0\" transform=\"matrix(-0.05261051,-0.21113596,0.22335337,-0.02670689,482.73805,144.84197)\" style=\"stroke-width:2.53327\">\n",
       "        <path sodipodi:type=\"star\" style=\"fill:#42affa;fill-opacity:1;stroke-width:19.1491;stroke-miterlimit:4;stroke-dasharray:none\" id=\"path1845-7-6-2-9\" inkscape:flatsided=\"true\" sodipodi:sides=\"3\" sodipodi:cx=\"1019.0918\" sodipodi:cy=\"-481.03027\" sodipodi:r1=\"115.65684\" sodipodi:r2=\"187.39349\" sodipodi:arg1=\"-1.5604471\" sodipodi:arg2=\"-0.51324957\" inkscape:rounded=\"0\" inkscape:randomized=\"0\" transform=\"matrix(0.12459764,0,0,0.12459764,228.63158,-13.785592)\" inkscape:transform-center-x=\"10.861446\" inkscape:transform-center-y=\"-0.92805689\" d=\"m 1020.2887,-596.68092 98.361,174.51255 -200.31277,-2.07316 z\"/>\n",
       "        <path style=\"stroke:#42affa;stroke-width:7.17431;stroke-miterlimit:4;stroke-dasharray:none;stroke-opacity:1\" d=\"M 355.53345,83.801086 V -66.386775\" id=\"path2179-5-2-7-3\"/>\n",
       "      </g>\n",
       "    </g>\n",
       "  </g>\n",
       "  <g inkscape:groupmode=\"layer\" id=\"layer3\" inkscape:label=\"acceleration\">\n",
       "    <text xml:space=\"preserve\" transform=\"matrix(0.26458333,0,0,0.26458333,43.749223,48.799779)\" id=\"text88671-6-6\" style=\"font-size:66.6667px;line-height:1.25;font-family:sans-serif;text-align:center;white-space:pre;shape-inside:url(#rect88673-3);fill:#42affa;fill-opacity:1\"/>\n",
       "    <g id=\"g2383-6-5-1-2\" transform=\"matrix(-0.10880699,0.17223562,-0.17829351,-0.11952892,89.131952,-38.980722)\" style=\"stroke-width:2.53327\">\n",
       "      <path sodipodi:type=\"star\" style=\"fill:#42affa;fill-opacity:1;stroke-width:19.1491;stroke-miterlimit:4;stroke-dasharray:none\" id=\"path1845-7-6-2-6\" inkscape:flatsided=\"true\" sodipodi:sides=\"3\" sodipodi:cx=\"1019.0918\" sodipodi:cy=\"-481.03027\" sodipodi:r1=\"115.65684\" sodipodi:r2=\"187.39349\" sodipodi:arg1=\"-1.5604471\" sodipodi:arg2=\"-0.51324957\" inkscape:rounded=\"0\" inkscape:randomized=\"0\" transform=\"matrix(0.12459764,0,0,0.12459764,228.63158,-13.785592)\" inkscape:transform-center-x=\"10.861446\" inkscape:transform-center-y=\"-0.92805689\" d=\"m 1020.2887,-596.68092 98.361,174.51255 -200.31277,-2.07316 z\"/>\n",
       "      <path style=\"stroke:#42affa;stroke-width:7.17431;stroke-miterlimit:4;stroke-dasharray:none;stroke-opacity:1\" d=\"M 355.53345,83.801086 V -66.386775\" id=\"path2179-5-2-7-1\"/>\n",
       "    </g>\n",
       "    <text xml:space=\"preserve\" transform=\"scale(0.26458333)\" id=\"text32179\" style=\"font-size:53.3333px;line-height:1.25;font-family:sans-serif;text-align:center;white-space:pre;shape-inside:url(#rect32181);fill:#42affa;fill-opacity:1\"><tspan x=\"233.87177\" y=\"190.56384\" id=\"tspan48164\"><tspan style=\"font-weight:bold;-inkscape-font-specification:'sans-serif Bold'\" id=\"tspan48160\">g</tspan><tspan style=\"font-size:65%;baseline-shift:sub\" id=\"tspan48162\">12</tspan></tspan></text>\n",
       "  </g>\n",
       "</svg></p></div>\n",
       "\n",
       "</div>"
      ],
      "text/plain": [
       "<jupylecture.tools.FlexSlide at 0x7f85c8599790>"
      ]
     },
     "metadata": {},
     "output_type": "display_data"
    }
   ],
   "source": [
    "slide5=FlexSlide(\"# Describe the gravitational field of a central body in terms of acceleration\")\n",
    "slide5.addItems([\"Acceleration for a point mass<span class=\\\"color-sec\\\">\\(\\\\rightarrow\\\\textbf{g}_{12}=\\\\frac{G m_{2} \\\\textbf{r}_{12}}{|\\\\textbf{r}_{12}|^{3}}\\)</span>\",\n",
    "                 \"More complex bodies: apply superposition principle\",\n",
    "                 [\"Addition of multiple point masses\",\"Introduction of a density function\"]],flxwidth=\"flx70\")\n",
    "   \n",
    "slide5.addSVG(\"images/NewtonGravacc.svg\",flxwidth=\"flx25\")\n",
    "slide5.display()"
   ]
  },
  {
   "cell_type": "code",
   "execution_count": 12,
   "metadata": {
    "cell_style": "center",
    "slideshow": {
     "slide_type": "slide"
    }
   },
   "outputs": [
    {
     "data": {
      "text/html": [
       "<div id=\"2ee881ef4bddd86d\"></div>\n",
       "    <script type=\"text/javascript\">\n",
       "        $(function(){\n",
       "            var p = $(\"#2ee881ef4bddd86d\");\n",
       "            if (p.length==0) return;\n",
       "            while (!p.hasClass(\"cell\")) {\n",
       "                p=p.parent();\n",
       "                if (p.prop(\"tagName\") ==\"body\") return;\n",
       "            }\n",
       "            var cell = p;\n",
       "            cell.find(\".input\").addClass(\"hide-in-slideshow\")\n",
       "        });\n",
       "    </script>"
      ]
     },
     "metadata": {},
     "output_type": "display_data"
    },
    {
     "data": {
      "text/markdown": [
       "\n",
       "<div class=\"flxsld text_cell\" ><div class=\"flx100\"><h1>Integrate density to obtain the gravitational field</h1></div>\n",
       "\n",
       "\n",
       "<div class=\" flx100\" >\n",
       "\n",
       "<p><span class=\"color-sec\"><script type=\"math/tex; mode=display\">\\textbf{g}=\\iiint_{\\Omega} \\frac{G \\textbf{r}_{12}}{|\\textbf{r}_{12}|^3} \\rho(x,y,z) dx dy dz</script></span></p></div>\n",
       "<div class=\" flx70\" >\n",
       "\n",
       "<ul><li class=\"fragment fade-in\">Addition of multiple point masses</li><li class=\"fragment fade-in\">Introduction of a density function (uh oh, do we even know this?)</li><li class=\"fragment fade-in\"><b class=\"color-sec\">g</b> points along local plumbline</li><li class=\"fragment fade-in\">Is there a better choice for the reference frame origin?</li></ul></div>\n",
       "<div class=\" flx25\" >\n",
       "\n",
       "<p><svg xmlns:inkscape=\"http://www.inkscape.org/namespaces/inkscape\" xmlns:sodipodi=\"http://sodipodi.sourceforge.net/DTD/sodipodi-0.dtd\" xmlns=\"http://www.w3.org/2000/svg\" xmlns:svg=\"http://www.w3.org/2000/svg\" width=\"143.63222mm\" height=\"132.26328mm\" viewBox=\"0 0 143.63221 132.26326\" version=\"1.1\" id=\"svg5\" inkscape:version=\"1.1 (c4e8f9ed74, 2021-05-24)\" sodipodi:docname=\"DensityIntegration.svg\">\n",
       "  <sodipodi:namedview id=\"namedview7\" pagecolor=\"#c8c8c8\" bordercolor=\"#666666\" borderopacity=\"1.0\" inkscape:pageshadow=\"2\" inkscape:pageopacity=\"1\" inkscape:pagecheckerboard=\"true\" inkscape:document-units=\"mm\" showgrid=\"false\" inkscape:zoom=\"0.79288226\" inkscape:cx=\"276.83808\" inkscape:cy=\"54.863127\" inkscape:window-width=\"1920\" inkscape:window-height=\"1043\" inkscape:window-x=\"0\" inkscape:window-y=\"0\" inkscape:window-maximized=\"1\" inkscape:current-layer=\"layer1\" fit-margin-top=\"0\" fit-margin-left=\"0\" fit-margin-right=\"0\" fit-margin-bottom=\"0\" lock-margins=\"true\" inkscape:snap-global=\"false\"/>\n",
       "  <defs id=\"defs2\">\n",
       "    <inkscape:perspective sodipodi:type=\"inkscape:persp3d\" inkscape:vp_x=\"1.3858915 : 74.183812 : 1\" inkscape:vp_y=\"0 : 560.23245 : 0\" inkscape:vp_z=\"111.7293 : 83.529227 : 1\" inkscape:persp3d-origin=\"56.145825 : 43.663648 : 1\" id=\"perspective51198\"/>\n",
       "    <rect x=\"178.13274\" y=\"141.9071\" width=\"192.84862\" height=\"132.70413\" id=\"rect32181\"/>\n",
       "    <marker style=\"overflow:visible;fill:currentColor\" id=\"Arrow2Mend\" refX=\"0\" refY=\"0\" orient=\"auto\" inkscape:stockid=\"Arrow2Mend\" inkscape:isstock=\"true\">\n",
       "      <path transform=\"scale(-0.6)\" d=\"M 8.7185878,4.0337352 -2.2072895,0.01601326 8.7185884,-4.0017078 c -1.7454984,2.3720609 -1.7354408,5.6174519 -6e-7,8.035443 z\" style=\"fill:currentColor;fill-rule:evenodd;stroke-width:0.625;stroke-linejoin:round\" id=\"path12194\"/>\n",
       "    </marker>\n",
       "    <marker style=\"overflow:visible;fill:currentColor\" refX=\"0\" refY=\"0\" orient=\"auto\" inkscape:stockid=\"Arrow2Mend1628\" inkscape:isstock=\"true\" id=\"Arrow2Mend1628\">\n",
       "      <path transform=\"scale(-0.6)\" d=\"M 8.7185878,4.0337352 -2.2072895,0.01601326 8.7185884,-4.0017078 c -1.7454984,2.3720609 -1.7354408,5.6174519 -6e-7,8.035443 z\" style=\"fill:#000000;fill-opacity:1;fill-rule:evenodd;stroke:#000000;stroke-width:0.625;stroke-linejoin:round;stroke-opacity:1\" id=\"path1521\"/>\n",
       "    </marker>\n",
       "  </defs>\n",
       "  <g inkscape:label=\"Layer 1\" inkscape:groupmode=\"layer\" id=\"layer1\" transform=\"translate(-109.70918,-86.229713)\">\n",
       "    <path id=\"path86176\" style=\"fill:#999999;stroke-width:0.264582;stroke-linecap:round;stroke-linejoin:round\" d=\"m 247.44087,129.23958 c 9.6161,15.41167 9.47279,45.29047 -15.6298,53.17538 -7.41406,2.32881 -30.84737,2.48909 -35.95395,-3.82277 -5.10659,-6.31184 -58.17618,-13.68668 -29.18333,-47.62054 11.483,-13.43995 25.92688,-8.28152 41.51165,-8.28152 15.58479,0 29.45669,-9.15493 39.25543,6.54945 z\" sodipodi:nodetypes=\"ssssss\"/>\n",
       "    <text xml:space=\"preserve\" transform=\"matrix(0.26458333,0,0,0.26458333,108.24501,168.55682)\" id=\"text88671\" style=\"font-size:66.6667px;line-height:1.25;font-family:sans-serif;text-align:center;white-space:pre;shape-inside:url(#rect88673);fill:currentColor\"><tspan x=\"0\" y=\"0\" id=\"tspan60034\"><tspan style=\"font-weight:bold;-inkscape-font-specification:'sans-serif Bold'\" id=\"tspan60030\">r</tspan><tspan style=\"font-size:65%;baseline-shift:sub\" id=\"tspan60032\">1</tspan></tspan></text>\n",
       "    <text xml:space=\"preserve\" transform=\"matrix(0.26458333,0,0,0.26458333,148.23228,111.26554)\" id=\"text88671-7\" style=\"font-size:66.6667px;line-height:1.25;font-family:sans-serif;text-align:center;white-space:pre;shape-inside:url(#rect88673-2);fill:currentColor\"><tspan x=\"0\" y=\"0\" id=\"tspan60040\"><tspan style=\"font-weight:bold;-inkscape-font-specification:'sans-serif Bold'\" id=\"tspan60036\">r</tspan><tspan style=\"font-size:65%;-inkscape-font-specification:sans-serif;baseline-shift:sub\" id=\"tspan60038\">12</tspan></tspan></text>\n",
       "    <text xml:space=\"preserve\" transform=\"matrix(0.26458333,0,0,0.26458333,219.29456,147.94183)\" id=\"text88671-62-1\" style=\"font-size:66.6667px;line-height:1.25;font-family:sans-serif;text-align:center;white-space:pre;shape-inside:url(#rect88673-35-9);fill:currentColor\"><tspan x=\"0\" y=\"0\" id=\"tspan60042\">dm</tspan></text>\n",
       "    <text xml:space=\"preserve\" transform=\"matrix(0.26458333,0,0,0.26458333,184.34556,115.03348)\" id=\"text88671-62-1-2\" style=\"font-size:66.6667px;line-height:1.25;font-family:sans-serif;text-align:center;white-space:pre;shape-inside:url(#rect88673-35-9);fill:currentColor\"><tspan x=\"0\" y=\"0\" id=\"tspan60044\">&#961;(x,y,z)</tspan></text>\n",
       "    <text xml:space=\"preserve\" transform=\"matrix(0.26458333,0,0,0.26458333,172.12349,211.19655)\" id=\"text88671-9\" style=\"font-size:66.6667px;line-height:1.25;font-family:sans-serif;text-align:center;white-space:pre;shape-inside:url(#rect88673-5);fill:currentColor\"><tspan x=\"0\" y=\"0\" id=\"tspan60050\"><tspan style=\"font-weight:bold;-inkscape-font-specification:'sans-serif Bold'\" id=\"tspan60046\">r</tspan><tspan style=\"font-size:65%;baseline-shift:sub\" id=\"tspan60048\">2</tspan></tspan></text>\n",
       "    <g sodipodi:type=\"inkscape:box3d\" id=\"g51200\" style=\"fill:#999999;fill-opacity:1;stroke:#42affa;stroke-width:5.66929;stroke-miterlimit:4;stroke-dasharray:none;stroke-opacity:1\" inkscape:perspectiveID=\"#perspective51198\" inkscape:corner0=\"-0.39491965 : 0.057140271 : 0 : 1\" inkscape:corner7=\"-0.45440454 : 0.048462924 : 0.25 : 1\">\n",
       "      <path sodipodi:type=\"inkscape:box3dside\" id=\"path51212\" style=\"fill:#e9e9ff;fill-rule:evenodd;stroke:none;stroke-width:3.17612;stroke-linejoin:round\" inkscape:box3dsidetype=\"11\" d=\"m 207.39689,139.83237 7.20027,-0.33472 v 6.1103 l -7.20027,-0.0904 z\" points=\"214.59716,139.49765 214.59716,145.60795 207.39689,145.5176 207.39689,139.83237 \"/>\n",
       "      <path sodipodi:type=\"inkscape:box3dside\" id=\"path51202\" style=\"fill:#353564;fill-rule:evenodd;stroke:none;stroke-width:3.17612;stroke-linejoin:round\" inkscape:box3dsidetype=\"6\" d=\"m 201.59535,141.84392 v 8.0342 l 5.80154,-4.36052 v -5.68523 z\" points=\"201.59535,149.87812 207.39689,145.5176 207.39689,139.83237 201.59535,141.84392 \"/>\n",
       "      <path sodipodi:type=\"inkscape:box3dside\" id=\"path51210\" style=\"fill:#afafde;fill-rule:evenodd;stroke:none;stroke-width:3.17612;stroke-linejoin:round\" inkscape:box3dsidetype=\"13\" d=\"m 201.59535,149.87812 9.86701,0.60716 3.1348,-4.87733 -7.20027,-0.0904 z\" points=\"211.46236,150.48528 214.59716,145.60795 207.39689,145.5176 201.59535,149.87812 \"/>\n",
       "      <path sodipodi:type=\"inkscape:box3dside\" id=\"path51204\" style=\"fill:#4d4d9f;fill-rule:evenodd;stroke:none;stroke-width:3.17612;stroke-linejoin:round\" inkscape:box3dsidetype=\"5\" d=\"m 201.59535,141.84392 9.86701,-0.26878 3.1348,-2.07749 -7.20027,0.33472 z\" points=\"211.46236,141.57514 214.59716,139.49765 207.39689,139.83237 201.59535,141.84392 \"/>\n",
       "      <path sodipodi:type=\"inkscape:box3dside\" id=\"path51208\" style=\"fill:#d7d7ff;fill-rule:evenodd;stroke:none;stroke-width:3.17612;stroke-linejoin:round\" inkscape:box3dsidetype=\"14\" d=\"m 211.46236,141.57514 v 8.91014 l 3.1348,-4.87733 v -6.1103 z\" points=\"211.46236,150.48528 214.59716,145.60795 214.59716,139.49765 211.46236,141.57514 \"/>\n",
       "      <path sodipodi:type=\"inkscape:box3dside\" id=\"path51206\" style=\"fill:#8686bf;fill-rule:evenodd;stroke:none;stroke-width:3.17612;stroke-linejoin:round\" inkscape:box3dsidetype=\"3\" d=\"m 201.59535,141.84392 9.86701,-0.26878 v 8.91014 l -9.86701,-0.60716 z\" points=\"211.46236,141.57514 211.46236,150.48528 201.59535,149.87812 201.59535,141.84392 \"/>\n",
       "    </g>\n",
       "    <g id=\"g2263\" transform=\"rotate(123.05183,291.99296,-42.489015)\">\n",
       "      <g id=\"g2383\" transform=\"matrix(0.50762701,0.01183175,0.04522015,0.53633847,320.45522,-30.766931)\" style=\"stroke-width:1.01608\">\n",
       "        <path sodipodi:type=\"star\" style=\"fill:currentColor;fill-opacity:1;stroke-width:7.68058;stroke-miterlimit:4;stroke-dasharray:none\" id=\"path1845\" inkscape:flatsided=\"true\" sodipodi:sides=\"3\" sodipodi:cx=\"1019.0918\" sodipodi:cy=\"-481.03027\" sodipodi:r1=\"115.65684\" sodipodi:r2=\"187.39349\" sodipodi:arg1=\"-1.5604471\" sodipodi:arg2=\"-0.51324957\" inkscape:rounded=\"0\" inkscape:randomized=\"0\" d=\"m 1020.2887,-596.68092 98.361,174.51255 -200.31277,-2.07316 z\" transform=\"matrix(0.12459764,0,0,0.12459764,228.63158,-13.785592)\" inkscape:transform-center-x=\"10.861446\" inkscape:transform-center-y=\"-0.92805689\"/>\n",
       "        <path style=\"stroke:currentColor;stroke-width:2.11022;stroke-miterlimit:4;stroke-dasharray:8.44088, 4.22044;stroke-dashoffset:0\" d=\"M 355.53345,83.801086 V -66.386775\" id=\"path2179\"/>\n",
       "      </g>\n",
       "    </g>\n",
       "    <g id=\"g2263-3\" transform=\"matrix(1.397982,-0.1588834,0.1608815,1.3954794,-532.73717,267.18515)\" style=\"stroke-width:0.711313\">\n",
       "      <g id=\"g2383-6\" transform=\"matrix(0.48731255,0.02423459,0.01279726,0.50441827,306.3094,-31.083282)\" style=\"stroke-width:0.760372\">\n",
       "        <path sodipodi:type=\"star\" style=\"fill:currentColor;fill-opacity:1;stroke-width:9.30127;stroke-miterlimit:4;stroke-dasharray:none\" id=\"path1845-7\" inkscape:flatsided=\"true\" sodipodi:sides=\"3\" sodipodi:cx=\"1019.0918\" sodipodi:cy=\"-481.03027\" sodipodi:r1=\"115.65684\" sodipodi:r2=\"187.39349\" sodipodi:arg1=\"-1.5604471\" sodipodi:arg2=\"-0.51324957\" inkscape:rounded=\"0\" inkscape:randomized=\"0\" transform=\"matrix(0.07343639,-0.00655922,0.00604354,0.08018575,284.40075,-29.693185)\" inkscape:transform-center-x=\"5.9997774\" inkscape:transform-center-y=\"0.20935791\" d=\"m 1020.2887,-596.68092 98.361,174.51255 -200.31277,-2.07316 z\"/>\n",
       "        <path style=\"stroke:currentColor;stroke-width:1.57917;stroke-miterlimit:4;stroke-dasharray:none\" d=\"M 355.53236,83.808526 356.1433,-70.605636\" id=\"path2179-5\"/>\n",
       "      </g>\n",
       "    </g>\n",
       "    <g id=\"g2263-3-3\" transform=\"matrix(0.80332352,0.74951995,-0.77890917,0.80840789,-228.42433,-158.67649)\" style=\"stroke-width:0.900497\">\n",
       "      <g id=\"g2383-6-5\" transform=\"matrix(0.48731255,0.02423459,0.01279726,0.50441827,306.3094,-31.083282)\" style=\"stroke-width:0.9626\">\n",
       "        <path sodipodi:type=\"star\" style=\"fill:currentColor;fill-opacity:1;stroke-width:7.27635;stroke-miterlimit:4;stroke-dasharray:none\" id=\"path1845-7-6\" inkscape:flatsided=\"true\" sodipodi:sides=\"3\" sodipodi:cx=\"1019.0918\" sodipodi:cy=\"-481.03027\" sodipodi:r1=\"115.65684\" sodipodi:r2=\"187.39349\" sodipodi:arg1=\"-1.5604471\" sodipodi:arg2=\"-0.51324957\" inkscape:rounded=\"0\" inkscape:randomized=\"0\" transform=\"matrix(0.12459764,0,0,0.12459764,228.63158,-13.785592)\" inkscape:transform-center-x=\"10.861446\" inkscape:transform-center-y=\"-0.92805689\" d=\"m 1020.2887,-596.68092 98.361,174.51255 -200.31277,-2.07316 z\"/>\n",
       "        <path style=\"stroke:currentColor;stroke-width:1.99916;stroke-miterlimit:4;stroke-dasharray:none\" d=\"M 355.53345,83.801086 V -66.386775\" id=\"path2179-5-2\"/>\n",
       "      </g>\n",
       "    </g>\n",
       "  </g>\n",
       "  <g inkscape:groupmode=\"layer\" id=\"layer2\" inkscape:label=\"forces\" style=\"display:none\" transform=\"translate(-19.9217,-5.7153434)\">\n",
       "    <text xml:space=\"preserve\" transform=\"matrix(0.26458333,0,0,0.26458333,43.749223,48.799779)\" id=\"text88671-6\" style=\"font-size:66.6667px;line-height:1.25;font-family:sans-serif;text-align:center;white-space:pre;shape-inside:url(#rect88673-3);fill:#42affa;fill-opacity:1\"><tspan x=\"0\" y=\"0\" id=\"tspan60056\"><tspan style=\"font-weight:bold;-inkscape-font-specification:'sans-serif Bold'\" id=\"tspan60052\">F</tspan><tspan style=\"font-size:65%;baseline-shift:sub\" id=\"tspan60054\">12</tspan></tspan></text>\n",
       "    <text xml:space=\"preserve\" transform=\"matrix(0.26458333,0,0,0.26458333,70.548843,78.134779)\" id=\"text88671-6-5\" style=\"font-size:66.6667px;line-height:1.25;font-family:sans-serif;text-align:center;white-space:pre;shape-inside:url(#rect88673-3-7);fill:#42affa;fill-opacity:1\"><tspan x=\"0\" y=\"0\" id=\"tspan60062\"><tspan style=\"font-weight:bold;-inkscape-font-specification:'sans-serif Bold'\" id=\"tspan60058\">F</tspan><tspan style=\"font-size:65%;-inkscape-font-specification:sans-serif;baseline-shift:sub\" id=\"tspan60060\">21</tspan></tspan></text>\n",
       "    <g id=\"g2263-3-3-9\" transform=\"matrix(0.71532405,0.61439235,-0.69358415,0.66266364,-180.56499,-275.60448)\" style=\"stroke-width:1.05401\">\n",
       "      <g id=\"g2383-6-5-1\" transform=\"matrix(0.05261051,0.21113596,-0.22335337,0.02670689,380.86549,3.9581388)\" style=\"stroke-width:2.53327\">\n",
       "        <path sodipodi:type=\"star\" style=\"fill:#42affa;fill-opacity:1;stroke-width:19.1491;stroke-miterlimit:4;stroke-dasharray:none\" id=\"path1845-7-6-2\" inkscape:flatsided=\"true\" sodipodi:sides=\"3\" sodipodi:cx=\"1019.0918\" sodipodi:cy=\"-481.03027\" sodipodi:r1=\"115.65684\" sodipodi:r2=\"187.39349\" sodipodi:arg1=\"-1.5604471\" sodipodi:arg2=\"-0.51324957\" inkscape:rounded=\"0\" inkscape:randomized=\"0\" transform=\"matrix(0.12459764,0,0,0.12459764,228.63158,-13.785592)\" inkscape:transform-center-x=\"10.861446\" inkscape:transform-center-y=\"-0.92805689\" d=\"m 1020.2887,-596.68092 98.361,174.51255 -200.31277,-2.07316 z\"/>\n",
       "        <path style=\"stroke:#42affa;stroke-width:7.17431;stroke-miterlimit:4;stroke-dasharray:none;stroke-opacity:1\" d=\"M 355.53345,83.801086 V -66.386775\" id=\"path2179-5-2-7\"/>\n",
       "      </g>\n",
       "      <g id=\"g2383-6-5-1-0\" transform=\"matrix(-0.05261051,-0.21113596,0.22335337,-0.02670689,482.73805,144.84197)\" style=\"stroke-width:2.53327\">\n",
       "        <path sodipodi:type=\"star\" style=\"fill:#42affa;fill-opacity:1;stroke-width:19.1491;stroke-miterlimit:4;stroke-dasharray:none\" id=\"path1845-7-6-2-9\" inkscape:flatsided=\"true\" sodipodi:sides=\"3\" sodipodi:cx=\"1019.0918\" sodipodi:cy=\"-481.03027\" sodipodi:r1=\"115.65684\" sodipodi:r2=\"187.39349\" sodipodi:arg1=\"-1.5604471\" sodipodi:arg2=\"-0.51324957\" inkscape:rounded=\"0\" inkscape:randomized=\"0\" transform=\"matrix(0.12459764,0,0,0.12459764,228.63158,-13.785592)\" inkscape:transform-center-x=\"10.861446\" inkscape:transform-center-y=\"-0.92805689\" d=\"m 1020.2887,-596.68092 98.361,174.51255 -200.31277,-2.07316 z\"/>\n",
       "        <path style=\"stroke:#42affa;stroke-width:7.17431;stroke-miterlimit:4;stroke-dasharray:none;stroke-opacity:1\" d=\"M 355.53345,83.801086 V -66.386775\" id=\"path2179-5-2-7-3\"/>\n",
       "      </g>\n",
       "    </g>\n",
       "  </g>\n",
       "  <g inkscape:groupmode=\"layer\" id=\"layer3\" inkscape:label=\"acceleration\" transform=\"translate(-19.9217,-5.7153434)\">\n",
       "    <text xml:space=\"preserve\" transform=\"matrix(0.26458333,0,0,0.26458333,43.749223,48.799779)\" id=\"text88671-6-6\" style=\"font-size:66.6667px;line-height:1.25;font-family:sans-serif;text-align:center;white-space:pre;shape-inside:url(#rect88673-3);fill:#42affa;fill-opacity:1\"/>\n",
       "    <g id=\"g2383-6-5-1-2\" transform=\"matrix(-0.12110847,0.16381944,-0.1690772,-0.13224461,93.352551,-24.311769)\" style=\"stroke-width:2.53327\">\n",
       "      <path sodipodi:type=\"star\" style=\"fill:#42affa;fill-opacity:1;stroke-width:19.1491;stroke-miterlimit:4;stroke-dasharray:none\" id=\"path1845-7-6-2-6\" inkscape:flatsided=\"true\" sodipodi:sides=\"3\" sodipodi:cx=\"1019.0918\" sodipodi:cy=\"-481.03027\" sodipodi:r1=\"115.65684\" sodipodi:r2=\"187.39349\" sodipodi:arg1=\"-1.5604471\" sodipodi:arg2=\"-0.51324957\" inkscape:rounded=\"0\" inkscape:randomized=\"0\" transform=\"matrix(0.12459764,0,0,0.12459764,228.63158,-13.785592)\" inkscape:transform-center-x=\"10.861446\" inkscape:transform-center-y=\"-0.92805689\" d=\"m 1020.2887,-596.68092 98.361,174.51255 -200.31277,-2.07316 z\"/>\n",
       "      <path style=\"stroke:#42affa;stroke-width:7.17431;stroke-miterlimit:4;stroke-dasharray:none;stroke-opacity:1\" d=\"M 355.53345,83.801086 V -66.386775\" id=\"path2179-5-2-7-1\"/>\n",
       "    </g>\n",
       "    <text xml:space=\"preserve\" transform=\"matrix(0.26458333,0,0,0.26458333,-7.8171396,5.1892667)\" id=\"text32179\" style=\"font-size:53.3333px;line-height:1.25;font-family:sans-serif;text-align:center;white-space:pre;shape-inside:url(#rect32181);fill:#42affa;fill-opacity:1\"><tspan x=\"255.91082\" y=\"190.56384\" id=\"tspan60066\"><tspan style=\"font-weight:bold;-inkscape-font-specification:'sans-serif Bold'\" id=\"tspan60064\">g</tspan></tspan></text>\n",
       "  </g>\n",
       "</svg></p></div>\n",
       "\n",
       "</div>"
      ],
      "text/plain": [
       "<jupylecture.tools.FlexSlide at 0x7f85c85998e0>"
      ]
     },
     "metadata": {},
     "output_type": "display_data"
    }
   ],
   "source": [
    "slide6=FlexSlide(\"# Integrate density to obtain the gravitational field\")\n",
    "slide6.addmd(\"<span class=\\\"color-sec\\\">$$\\\\textbf{g}=\\\\iiint_{\\\\Omega} \\\\frac{G \\\\textbf{r}_{12}}{|\\\\textbf{r}_{12}|^3} \\\\rho(x,y,z) dx dy dz$$</span>\",flxwidth=\"flx100\")\n",
    "slide6.addItems([\"Addition of multiple point masses\",\n",
    "                  \"Introduction of a density function (uh oh, do we even know this?)\",\n",
    "                \"<b class=\\\"color-sec\\\">g</b> points along local plumbline\",\n",
    "                \"Is there a better choice for the reference frame origin?\"],flxwidth=\"flx70\",frag=True)\n",
    "   \n",
    "slide6.addSVG(\"images/DensityIntegration.svg\",flxwidth=\"flx25\")\n",
    "slide6.display()"
   ]
  },
  {
   "cell_type": "code",
   "execution_count": 13,
   "metadata": {
    "slideshow": {
     "slide_type": "slide"
    }
   },
   "outputs": [
    {
     "data": {
      "text/html": [
       "<div id=\"93e5f12694ac5ce0\"></div>\n",
       "    <script type=\"text/javascript\">\n",
       "        $(function(){\n",
       "            var p = $(\"#93e5f12694ac5ce0\");\n",
       "            if (p.length==0) return;\n",
       "            while (!p.hasClass(\"cell\")) {\n",
       "                p=p.parent();\n",
       "                if (p.prop(\"tagName\") ==\"body\") return;\n",
       "            }\n",
       "            var cell = p;\n",
       "            cell.find(\".input\").addClass(\"hide-in-slideshow\")\n",
       "        });\n",
       "    </script>"
      ]
     },
     "metadata": {},
     "output_type": "display_data"
    },
    {
     "data": {
      "text/markdown": [
       "\n",
       "<div class=\"flxsld text_cell\" ><div class=\"flx100\"><h1>A better origin: Center of mass</h1></div>\n",
       "\n",
       "\n",
       "<div class=\" flx100\" >\n",
       "\n",
       "<p><span class=\"color-sec\"><script type=\"math/tex; mode=display\">\\textbf{r}_{cm}=\\frac{1}{M}\\iiint_{\\Omega} \\rho(x,y,z) \\textbf{r}_{2} dx dy dz</script></span></p></div>\n",
       "<div class=\" flx60\" >\n",
       "\n",
       "<ul><li class=\"fragment fade-in\">Weighted position of all masses in the body</li><li class=\"fragment fade-in\">Also known as first moment of inertia</li><li class=\"fragment fade-in\">Eases equations of motion:</li><ul><li class=\"fragment fade-in\">Objects far away can be considered point masses e.g.  for Keplerorbits, three-body problem etc.</li></ul></ul></div>\n",
       "<div class=\" flx25\" >\n",
       "\n",
       "<p><svg xmlns:inkscape=\"http://www.inkscape.org/namespaces/inkscape\" xmlns:sodipodi=\"http://sodipodi.sourceforge.net/DTD/sodipodi-0.dtd\" xmlns=\"http://www.w3.org/2000/svg\" xmlns:svg=\"http://www.w3.org/2000/svg\" width=\"97.772163mm\" height=\"124.05941mm\" viewBox=\"0 0 97.772158 124.0594\" version=\"1.1\" id=\"svg5\" inkscape:version=\"1.1 (c4e8f9ed74, 2021-05-24)\" sodipodi:docname=\"CenterofMass.svg\">\n",
       "  <sodipodi:namedview id=\"namedview7\" pagecolor=\"#c8c8c8\" bordercolor=\"#666666\" borderopacity=\"1.0\" inkscape:pageshadow=\"2\" inkscape:pageopacity=\"1\" inkscape:pagecheckerboard=\"true\" inkscape:document-units=\"mm\" showgrid=\"false\" inkscape:zoom=\"0.79288226\" inkscape:cx=\"110.35686\" inkscape:cy=\"247.19938\" inkscape:window-width=\"1920\" inkscape:window-height=\"1043\" inkscape:window-x=\"0\" inkscape:window-y=\"0\" inkscape:window-maximized=\"1\" inkscape:current-layer=\"layer1\" fit-margin-top=\"0\" fit-margin-left=\"0\" fit-margin-right=\"0\" fit-margin-bottom=\"0\" lock-margins=\"true\" inkscape:snap-global=\"false\"/>\n",
       "  <defs id=\"defs2\">\n",
       "    <inkscape:perspective sodipodi:type=\"inkscape:persp3d\" inkscape:vp_x=\"-13.207535 : 56.099786 : 1\" inkscape:vp_y=\"0 : 487.20569 : 0\" inkscape:vp_z=\"83.26977 : 64.227018 : 1\" inkscape:persp3d-origin=\"34.671086 : 29.55795 : 1\" id=\"perspective51198\"/>\n",
       "    <rect x=\"178.13274\" y=\"141.9071\" width=\"192.84862\" height=\"132.70413\" id=\"rect32181\"/>\n",
       "    <marker style=\"overflow:visible;fill:currentColor\" id=\"Arrow2Mend\" refX=\"0\" refY=\"0\" orient=\"auto\" inkscape:stockid=\"Arrow2Mend\" inkscape:isstock=\"true\">\n",
       "      <path transform=\"scale(-0.6)\" d=\"M 8.7185878,4.0337352 -2.2072895,0.01601326 8.7185884,-4.0017078 c -1.7454984,2.3720609 -1.7354408,5.6174519 -6e-7,8.035443 z\" style=\"fill:currentColor;fill-rule:evenodd;stroke-width:0.625;stroke-linejoin:round\" id=\"path12194\"/>\n",
       "    </marker>\n",
       "    <marker style=\"overflow:visible;fill:currentColor\" refX=\"0\" refY=\"0\" orient=\"auto\" inkscape:stockid=\"Arrow2Mend1628\" inkscape:isstock=\"true\" id=\"Arrow2Mend1628\">\n",
       "      <path transform=\"scale(-0.6)\" d=\"M 8.7185878,4.0337352 -2.2072895,0.01601326 8.7185884,-4.0017078 c -1.7454984,2.3720609 -1.7354408,5.6174519 -6e-7,8.035443 z\" style=\"fill:#000000;fill-opacity:1;fill-rule:evenodd;stroke:#000000;stroke-width:0.625;stroke-linejoin:round;stroke-opacity:1\" id=\"path1521\"/>\n",
       "    </marker>\n",
       "  </defs>\n",
       "  <g inkscape:label=\"Layer 1\" inkscape:groupmode=\"layer\" id=\"layer1\" transform=\"translate(-153.73673,-89.037132)\">\n",
       "    <path id=\"path86176\" style=\"fill:#999999;stroke-width:0.264582;stroke-linecap:round;stroke-linejoin:round\" d=\"m 245.60836,119.66541 c 9.6161,15.41167 9.47279,45.29047 -15.6298,53.17538 -7.41406,2.32881 -30.84737,2.48909 -35.95395,-3.82277 -5.10659,-6.31184 -58.17618,-13.68668 -29.18333,-47.62054 11.483,-13.43995 25.92688,-8.28152 41.51165,-8.28152 15.58479,0 29.45669,-9.15493 39.25543,6.54945 z\" sodipodi:nodetypes=\"ssssss\"/>\n",
       "    <text xml:space=\"preserve\" transform=\"matrix(0.26458333,0,0,0.26458333,152.27256,172.16501)\" id=\"text88671\" style=\"font-size:66.6667px;line-height:1.25;font-family:sans-serif;text-align:center;white-space:pre;shape-inside:url(#rect88673);fill:#42affa;fill-opacity:1\"><tspan x=\"0\" y=\"0\" id=\"tspan39607\"><tspan style=\"font-weight:bold;-inkscape-font-specification:'sans-serif Bold'\" id=\"tspan39603\">r</tspan><tspan style=\"font-size:65%;-inkscape-font-specification:sans-serif;baseline-shift:sub\" id=\"tspan39605\">cm</tspan></tspan></text>\n",
       "    <text xml:space=\"preserve\" transform=\"matrix(0.26458333,0,0,0.26458333,178.45162,102.43856)\" id=\"text88671-62-1-2\" style=\"font-size:66.6667px;line-height:1.25;font-family:sans-serif;text-align:center;white-space:pre;shape-inside:url(#rect88673-35-9);fill:currentColor\"><tspan x=\"0\" y=\"0\" id=\"tspan39609\">&#961;(x,y,z)</tspan></text>\n",
       "    <text xml:space=\"preserve\" transform=\"matrix(0.26458333,0,0,0.26458333,191.10383,198.3372)\" id=\"text88671-9\" style=\"font-size:66.6667px;line-height:1.25;font-family:sans-serif;text-align:center;white-space:pre;shape-inside:url(#rect88673-5);fill:currentColor\"><tspan x=\"0\" y=\"0\" id=\"tspan39615\"><tspan style=\"font-weight:bold;-inkscape-font-specification:'sans-serif Bold'\" id=\"tspan39611\">r</tspan><tspan style=\"font-size:65%;baseline-shift:sub\" id=\"tspan39613\">2</tspan></tspan></text>\n",
       "    <g sodipodi:type=\"inkscape:box3d\" id=\"g51200\" style=\"fill:#999999;fill-opacity:1;stroke:#42affa;stroke-width:5.66929;stroke-miterlimit:4;stroke-dasharray:none;stroke-opacity:1\" inkscape:perspectiveID=\"#perspective51198\" inkscape:corner0=\"-0.39491965 : 0.057140271 : 0 : 1\" inkscape:corner7=\"-0.45440454 : 0.048462924 : 0.25 : 1\">\n",
       "      <path sodipodi:type=\"inkscape:box3dside\" id=\"path51212\" style=\"fill:#e9e9ff;fill-rule:evenodd;stroke:none;stroke-width:2.76954;stroke-linejoin:round\" inkscape:box3dsidetype=\"11\" d=\"m 224.72941,153.10351 6.29546,-0.29109 v 5.31382 l -6.29546,-0.0786 z\" points=\"231.02487,152.81242 231.02487,158.12624 224.72941,158.04767 224.72941,153.10351 \"/>\n",
       "      <path sodipodi:type=\"inkscape:box3dside\" id=\"path51202\" style=\"fill:#353564;fill-rule:evenodd;stroke:none;stroke-width:2.76954;stroke-linejoin:round\" inkscape:box3dsidetype=\"6\" d=\"m 219.65691,154.85286 v 6.98692 l 5.0725,-3.79211 v -4.94416 z\" points=\"219.65691,161.83978 224.72941,158.04767 224.72941,153.10351 219.65691,154.85286 \"/>\n",
       "      <path sodipodi:type=\"inkscape:box3dside\" id=\"path51210\" style=\"fill:#afafde;fill-rule:evenodd;stroke:none;stroke-width:2.76954;stroke-linejoin:round\" inkscape:box3dsidetype=\"13\" d=\"m 219.65691,161.83978 8.62709,0.52803 2.74087,-4.24157 -6.29546,-0.0786 z\" points=\"228.284,162.36781 231.02487,158.12624 224.72941,158.04767 219.65691,161.83978 \"/>\n",
       "      <path sodipodi:type=\"inkscape:box3dside\" id=\"path51204\" style=\"fill:#4d4d9f;fill-rule:evenodd;stroke:none;stroke-width:2.76954;stroke-linejoin:round\" inkscape:box3dsidetype=\"5\" d=\"m 219.65691,154.85286 8.62709,-0.23375 2.74087,-1.80669 -6.29546,0.29109 z\" points=\"228.284,154.61911 231.02487,152.81242 224.72941,153.10351 219.65691,154.85286 \"/>\n",
       "      <path sodipodi:type=\"inkscape:box3dside\" id=\"path51208\" style=\"fill:#d7d7ff;fill-rule:evenodd;stroke:none;stroke-width:2.76954;stroke-linejoin:round\" inkscape:box3dsidetype=\"14\" d=\"m 228.284,154.61911 v 7.7487 l 2.74087,-4.24157 v -5.31382 z\" points=\"228.284,162.36781 231.02487,158.12624 231.02487,152.81242 228.284,154.61911 \"/>\n",
       "      <path sodipodi:type=\"inkscape:box3dside\" id=\"path51206\" style=\"fill:#8686bf;fill-rule:evenodd;stroke:none;stroke-width:2.76954;stroke-linejoin:round\" inkscape:box3dsidetype=\"3\" d=\"m 219.65691,154.85286 8.62709,-0.23375 v 7.7487 l -8.62709,-0.52803 z\" points=\"228.284,154.61911 228.284,162.36781 219.65691,161.83978 219.65691,154.85286 \"/>\n",
       "    </g>\n",
       "    <g id=\"g2263-3\" transform=\"matrix(0.82575425,0.59779182,-0.58132929,0.8454418,-230.01616,-91.276029)\" style=\"stroke-width:0.711313;stroke:#42affa;stroke-opacity:1\" inkscape:transform-center-x=\"22.246184\" inkscape:transform-center-y=\"36.250138\">\n",
       "      <g id=\"g2383-6\" transform=\"matrix(0.48731255,0.02423459,0.01279726,0.50441827,306.3094,-31.083282)\" style=\"stroke-width:0.760372;stroke:#42affa;stroke-opacity:1;fill:#42affa;fill-opacity:1\">\n",
       "        <path sodipodi:type=\"star\" style=\"fill:#42affa;fill-opacity:1;stroke-width:9.30127;stroke-miterlimit:4;stroke-dasharray:none;stroke:#42affa;stroke-opacity:1\" id=\"path1845-7\" inkscape:flatsided=\"true\" sodipodi:sides=\"3\" sodipodi:cx=\"1019.0918\" sodipodi:cy=\"-481.03027\" sodipodi:r1=\"115.65684\" sodipodi:r2=\"187.39349\" sodipodi:arg1=\"-1.5604471\" sodipodi:arg2=\"-0.51324957\" inkscape:rounded=\"0\" inkscape:randomized=\"0\" transform=\"matrix(0.07343639,-0.00655922,0.00604354,0.08018575,284.40075,-29.693185)\" inkscape:transform-center-x=\"5.9997774\" inkscape:transform-center-y=\"0.20935791\" d=\"m 1020.2887,-596.68092 98.361,174.51255 -200.31277,-2.07316 z\"/>\n",
       "        <path style=\"stroke:#42affa;stroke-width:1.57917;stroke-miterlimit:4;stroke-dasharray:none;stroke-opacity:1;fill:#42affa;fill-opacity:1\" d=\"M 355.53236,83.808526 356.1433,-70.605636\" id=\"path2179-5\"/>\n",
       "      </g>\n",
       "    </g>\n",
       "    <g id=\"g2263-3-6\" transform=\"matrix(0.59594065,0.82709122,-0.8176531,0.61980561,-114.14567,-197.04223)\" style=\"stroke-width:0.711313\" inkscape:transform-center-x=\"32.514946\" inkscape:transform-center-y=\"27.417938\">\n",
       "      <g id=\"g2383-6-7\" transform=\"matrix(0.48731255,0.02423459,0.01279726,0.50441827,306.3094,-31.083282)\" style=\"stroke-width:0.760372\">\n",
       "        <path sodipodi:type=\"star\" style=\"fill:currentColor;fill-opacity:1;stroke-width:9.30127;stroke-miterlimit:4;stroke-dasharray:none\" id=\"path1845-7-5\" inkscape:flatsided=\"true\" sodipodi:sides=\"3\" sodipodi:cx=\"1019.0918\" sodipodi:cy=\"-481.03027\" sodipodi:r1=\"115.65684\" sodipodi:r2=\"187.39349\" sodipodi:arg1=\"-1.5604471\" sodipodi:arg2=\"-0.51324957\" inkscape:rounded=\"0\" inkscape:randomized=\"0\" transform=\"matrix(0.07343639,-0.00655922,0.00604354,0.08018575,284.40075,-29.693185)\" inkscape:transform-center-x=\"5.9997774\" inkscape:transform-center-y=\"0.20935791\" d=\"m 1020.2887,-596.68092 98.361,174.51255 -200.31277,-2.07316 z\"/>\n",
       "        <path style=\"stroke:currentColor;stroke-width:1.57917;stroke-miterlimit:4;stroke-dasharray:none\" d=\"M 355.53236,83.808526 356.1433,-70.605636\" id=\"path2179-5-3\"/>\n",
       "      </g>\n",
       "    </g>\n",
       "    <g id=\"g6127\" transform=\"matrix(0.59531655,0,0,0.59531655,126.03774,58.837425)\" style=\"fill:#42affa;fill-opacity:1;stroke:#42affa;stroke-opacity:1\">\n",
       "      <path style=\"fill:#42affa;fill-opacity:1;stroke:#42affa;stroke-width:0.264583;stroke-opacity:1\" id=\"path2636\" sodipodi:type=\"arc\" sodipodi:cx=\"136.79117\" sodipodi:cy=\"127.85122\" sodipodi:rx=\"12.472401\" sodipodi:ry=\"12.472401\" sodipodi:start=\"0\" sodipodi:end=\"1.5524875\" sodipodi:arc-type=\"slice\" d=\"m 149.26357,127.85122 a 12.472401,12.472401 0 0 1 -12.24406,12.47031 l -0.22834,-12.47031 z\"/>\n",
       "      <path style=\"fill:#42affa;fill-opacity:1;stroke:#42affa;stroke-width:0.264583;stroke-opacity:1\" id=\"path2636-3\" sodipodi:type=\"arc\" sodipodi:cx=\"-136.5217\" sodipodi:cy=\"-127.58664\" sodipodi:rx=\"12.472401\" sodipodi:ry=\"12.472401\" sodipodi:start=\"0\" sodipodi:end=\"1.5524875\" sodipodi:arc-type=\"slice\" d=\"m -124.0493,-127.58664 a 12.472401,12.472401 0 0 1 -12.24406,12.47031 l -0.22834,-12.47031 z\" transform=\"scale(-1)\"/>\n",
       "    </g>\n",
       "  </g>\n",
       "  <g inkscape:groupmode=\"layer\" id=\"layer2\" inkscape:label=\"forces\" style=\"display:none\" transform=\"translate(-63.949246,-8.522762)\">\n",
       "    <text xml:space=\"preserve\" transform=\"matrix(0.26458333,0,0,0.26458333,43.749223,48.799779)\" id=\"text88671-6\" style=\"font-size:66.6667px;line-height:1.25;font-family:sans-serif;text-align:center;white-space:pre;shape-inside:url(#rect88673-3);fill:#42affa;fill-opacity:1\"><tspan x=\"0\" y=\"0\" id=\"tspan39621\"><tspan style=\"font-weight:bold;-inkscape-font-specification:'sans-serif Bold'\" id=\"tspan39617\">F</tspan><tspan style=\"font-size:65%;baseline-shift:sub\" id=\"tspan39619\">12</tspan></tspan></text>\n",
       "    <text xml:space=\"preserve\" transform=\"matrix(0.26458333,0,0,0.26458333,70.548843,78.134779)\" id=\"text88671-6-5\" style=\"font-size:66.6667px;line-height:1.25;font-family:sans-serif;text-align:center;white-space:pre;shape-inside:url(#rect88673-3-7);fill:#42affa;fill-opacity:1\"><tspan x=\"0\" y=\"0\" id=\"tspan39627\"><tspan style=\"font-weight:bold;-inkscape-font-specification:'sans-serif Bold'\" id=\"tspan39623\">F</tspan><tspan style=\"font-size:65%;-inkscape-font-specification:sans-serif;baseline-shift:sub\" id=\"tspan39625\">21</tspan></tspan></text>\n",
       "    <g id=\"g2263-3-3-9\" transform=\"matrix(0.71532405,0.61439235,-0.69358415,0.66266364,-180.56499,-275.60448)\" style=\"stroke-width:1.05401\">\n",
       "      <g id=\"g2383-6-5-1\" transform=\"matrix(0.05261051,0.21113596,-0.22335337,0.02670689,380.86549,3.9581388)\" style=\"stroke-width:2.53327\">\n",
       "        <path sodipodi:type=\"star\" style=\"fill:#42affa;fill-opacity:1;stroke-width:19.1491;stroke-miterlimit:4;stroke-dasharray:none\" id=\"path1845-7-6-2\" inkscape:flatsided=\"true\" sodipodi:sides=\"3\" sodipodi:cx=\"1019.0918\" sodipodi:cy=\"-481.03027\" sodipodi:r1=\"115.65684\" sodipodi:r2=\"187.39349\" sodipodi:arg1=\"-1.5604471\" sodipodi:arg2=\"-0.51324957\" inkscape:rounded=\"0\" inkscape:randomized=\"0\" transform=\"matrix(0.12459764,0,0,0.12459764,228.63158,-13.785592)\" inkscape:transform-center-x=\"10.861446\" inkscape:transform-center-y=\"-0.92805689\" d=\"m 1020.2887,-596.68092 98.361,174.51255 -200.31277,-2.07316 z\"/>\n",
       "        <path style=\"stroke:#42affa;stroke-width:7.17431;stroke-miterlimit:4;stroke-dasharray:none;stroke-opacity:1\" d=\"M 355.53345,83.801086 V -66.386775\" id=\"path2179-5-2-7\"/>\n",
       "      </g>\n",
       "      <g id=\"g2383-6-5-1-0\" transform=\"matrix(-0.05261051,-0.21113596,0.22335337,-0.02670689,482.73805,144.84197)\" style=\"stroke-width:2.53327\">\n",
       "        <path sodipodi:type=\"star\" style=\"fill:#42affa;fill-opacity:1;stroke-width:19.1491;stroke-miterlimit:4;stroke-dasharray:none\" id=\"path1845-7-6-2-9\" inkscape:flatsided=\"true\" sodipodi:sides=\"3\" sodipodi:cx=\"1019.0918\" sodipodi:cy=\"-481.03027\" sodipodi:r1=\"115.65684\" sodipodi:r2=\"187.39349\" sodipodi:arg1=\"-1.5604471\" sodipodi:arg2=\"-0.51324957\" inkscape:rounded=\"0\" inkscape:randomized=\"0\" transform=\"matrix(0.12459764,0,0,0.12459764,228.63158,-13.785592)\" inkscape:transform-center-x=\"10.861446\" inkscape:transform-center-y=\"-0.92805689\" d=\"m 1020.2887,-596.68092 98.361,174.51255 -200.31277,-2.07316 z\"/>\n",
       "        <path style=\"stroke:#42affa;stroke-width:7.17431;stroke-miterlimit:4;stroke-dasharray:none;stroke-opacity:1\" d=\"M 355.53345,83.801086 V -66.386775\" id=\"path2179-5-2-7-3\"/>\n",
       "      </g>\n",
       "    </g>\n",
       "  </g>\n",
       "</svg></p></div>\n",
       "\n",
       "</div>"
      ],
      "text/plain": [
       "<jupylecture.tools.FlexSlide at 0x7f85c85b6a60>"
      ]
     },
     "metadata": {},
     "output_type": "display_data"
    }
   ],
   "source": [
    "slide7=FlexSlide(\"# A better origin: Center of mass\")\n",
    "slide7.addmd(\"<span class=\\\"color-sec\\\">$$\\\\textbf{r}_{cm}=\\\\frac{1}{M}\\\\iiint_{\\Omega} \\\\rho(x,y,z) \\\\textbf{r}_{2} dx dy dz$$</span>\",flxwidth=\"flx100\")\n",
    "slide7.addItems([\"Weighted position of all masses in the body\",\n",
    "                 \"Also known as first moment of inertia\",\n",
    "                 \"Eases equations of motion:\",\n",
    "                 [\"Objects far away can be considered point masses e.g.  for Keplerorbits, three-body problem etc.\"]],flxwidth=\"flx60\",frag=True)\n",
    "   \n",
    "slide7.addSVG(\"images/CenterofMass.svg\",flxwidth=\"flx25\")\n",
    "slide7.display()"
   ]
  },
  {
   "cell_type": "code",
   "execution_count": 14,
   "metadata": {
    "slideshow": {
     "slide_type": "slide"
    }
   },
   "outputs": [
    {
     "data": {
      "text/html": [
       "<div id=\"50378ba53506f144\"></div>\n",
       "    <script type=\"text/javascript\">\n",
       "        $(function(){\n",
       "            var p = $(\"#50378ba53506f144\");\n",
       "            if (p.length==0) return;\n",
       "            while (!p.hasClass(\"cell\")) {\n",
       "                p=p.parent();\n",
       "                if (p.prop(\"tagName\") ==\"body\") return;\n",
       "            }\n",
       "            var cell = p;\n",
       "            cell.find(\".input\").addClass(\"hide-in-slideshow\")\n",
       "        });\n",
       "    </script>"
      ]
     },
     "metadata": {},
     "output_type": "display_data"
    },
    {
     "data": {
      "text/markdown": [
       "\n",
       "<div class=\"flxsld text_cell\" ><div class=\"flx100\"><h1>Properties of g?</h1></div>\n",
       "\n",
       "\n",
       "<div class=\" flx50\" >\n",
       "\n",
       "<p><svg xmlns:inkscape=\"http://www.inkscape.org/namespaces/inkscape\" xmlns:sodipodi=\"http://sodipodi.sourceforge.net/DTD/sodipodi-0.dtd\" xmlns=\"http://www.w3.org/2000/svg\" xmlns:svg=\"http://www.w3.org/2000/svg\" width=\"210.06024mm\" height=\"210.06018mm\" viewBox=\"0 0 210.06024 210.06016\" version=\"1.1\" id=\"svg5\" inkscape:version=\"1.1 (c4e8f9ed74, 2021-05-24)\" sodipodi:docname=\"gravfield_complete.svg\">\n",
       "  <sodipodi:namedview id=\"namedview7\" pagecolor=\"#c8c8c8\" bordercolor=\"#666666\" borderopacity=\"1.0\" inkscape:pageshadow=\"2\" inkscape:pageopacity=\"1\" inkscape:pagecheckerboard=\"true\" inkscape:document-units=\"mm\" showgrid=\"false\" inkscape:zoom=\"0.79288226\" inkscape:cx=\"216.29945\" inkscape:cy=\"368.90723\" inkscape:window-width=\"1920\" inkscape:window-height=\"1043\" inkscape:window-x=\"0\" inkscape:window-y=\"0\" inkscape:window-maximized=\"1\" inkscape:current-layer=\"layer2\" fit-margin-top=\"0\" fit-margin-left=\"0\" fit-margin-right=\"0\" fit-margin-bottom=\"0\" lock-margins=\"true\" inkscape:snap-global=\"false\"/>\n",
       "  <defs id=\"defs2\">\n",
       "    <rect x=\"178.13274\" y=\"141.9071\" width=\"192.84862\" height=\"132.70413\" id=\"rect32181\"/>\n",
       "    <marker style=\"overflow:visible;fill:currentColor\" id=\"Arrow2Mend\" refX=\"0\" refY=\"0\" orient=\"auto\" inkscape:stockid=\"Arrow2Mend\" inkscape:isstock=\"true\">\n",
       "      <path transform=\"scale(-0.6)\" d=\"M 8.7185878,4.0337352 -2.2072895,0.01601326 8.7185884,-4.0017078 c -1.7454984,2.3720609 -1.7354408,5.6174519 -6e-7,8.035443 z\" style=\"fill:currentColor;fill-rule:evenodd;stroke-width:0.625;stroke-linejoin:round\" id=\"path12194\"/>\n",
       "    </marker>\n",
       "    <marker style=\"overflow:visible;fill:currentColor\" refX=\"0\" refY=\"0\" orient=\"auto\" inkscape:stockid=\"Arrow2Mend1628\" inkscape:isstock=\"true\" id=\"Arrow2Mend1628\">\n",
       "      <path transform=\"scale(-0.6)\" d=\"M 8.7185878,4.0337352 -2.2072895,0.01601326 8.7185884,-4.0017078 c -1.7454984,2.3720609 -1.7354408,5.6174519 -6e-7,8.035443 z\" style=\"fill:#000000;fill-opacity:1;fill-rule:evenodd;stroke:#000000;stroke-width:0.625;stroke-linejoin:round;stroke-opacity:1\" id=\"path1521\"/>\n",
       "    </marker>\n",
       "  </defs>\n",
       "  <g inkscape:label=\"Layer 1\" inkscape:groupmode=\"layer\" id=\"layer1\" transform=\"translate(-102.36146,-29.840523)\">\n",
       "    <path id=\"path86176\" style=\"fill:#999999;stroke-width:0.264582;stroke-linecap:round;stroke-linejoin:round\" d=\"m 245.60836,119.66541 c 9.6161,15.41167 9.47279,45.29047 -15.6298,53.17538 -7.41406,2.32881 -30.84737,2.48909 -35.95395,-3.82277 -5.10659,-6.31184 -58.17618,-13.68668 -29.18333,-47.62054 11.483,-13.43995 25.92688,-8.28152 41.51165,-8.28152 15.58479,0 29.45669,-9.15493 39.25543,6.54945 z\" sodipodi:nodetypes=\"ssssss\"/>\n",
       "    <g id=\"g6127\" transform=\"matrix(0.59531655,0,0,0.59531655,126.03774,58.837425)\" style=\"fill:#42affa;fill-opacity:1;stroke:#42affa;stroke-opacity:1\">\n",
       "      <path style=\"fill:#42affa;fill-opacity:1;stroke:#42affa;stroke-width:0.264583;stroke-opacity:1\" id=\"path2636\" sodipodi:type=\"arc\" sodipodi:cx=\"136.79117\" sodipodi:cy=\"127.85122\" sodipodi:rx=\"12.472401\" sodipodi:ry=\"12.472401\" sodipodi:start=\"0\" sodipodi:end=\"1.5524875\" sodipodi:arc-type=\"slice\" d=\"m 149.26357,127.85122 a 12.472401,12.472401 0 0 1 -12.24406,12.47031 l -0.22834,-12.47031 z\"/>\n",
       "      <path style=\"fill:#42affa;fill-opacity:1;stroke:#42affa;stroke-width:0.264583;stroke-opacity:1\" id=\"path2636-3\" sodipodi:type=\"arc\" sodipodi:cx=\"-136.5217\" sodipodi:cy=\"-127.58664\" sodipodi:rx=\"12.472401\" sodipodi:ry=\"12.472401\" sodipodi:start=\"0\" sodipodi:end=\"1.5524875\" sodipodi:arc-type=\"slice\" d=\"m -124.0493,-127.58664 a 12.472401,12.472401 0 0 1 -12.24406,12.47031 l -0.22834,-12.47031 z\" transform=\"scale(-1)\"/>\n",
       "    </g>\n",
       "  </g>\n",
       "  <g inkscape:groupmode=\"layer\" id=\"layer2\" inkscape:label=\"potential\" style=\"display:inline\" transform=\"translate(-12.573977,50.673847)\">\n",
       "    <path style=\"stroke:currentColor;display:inline;fill:none\" d=\"m 57.766743,-32.243649 c 9.753903,13.159999 16.571366,28.2813435 19.212053,37.2993245 2.640686,9.0179795 2.571177,7.5747965 5.803607,18.2191735 3.23243,10.644378 2.658801,20.691435 34.379997,29.999524\" id=\"path45923\" sodipodi:nodetypes=\"czzc\"/>\n",
       "    <path id=\"path43809\" style=\"fill:none;stroke:currentColor;stroke-width:0.999994;stroke-dasharray:2, 2\" d=\"m 193.21203,53.142751 c 0,41.846887 -30.51967,73.796419 -72.37517,73.796419 -20.927746,0 -37.094442,-9.06373 -51.280578,-22.10163 C 55.370145,91.799634 43.164569,74.787557 43.164569,53.864109 c 0,-41.846895 33.702104,-52.7948346 75.557611,-52.7948338 41.85549,0 74.48985,10.2265818 74.48985,52.0734758 z\" sodipodi:nodetypes=\"ssssss\"/>\n",
       "    <path id=\"path43809-6\" style=\"display:inline;fill:none;stroke:currentColor;stroke-width:0.999995;stroke-miterlimit:4;stroke-dasharray:0.499997, 0.499997;stroke-dashoffset:0\" d=\"m 178.41462,56.579773 c 0,31.374929 -27.51279,59.866257 -57.74132,51.389107 -15.99626,-4.48593 -26.160058,-5.63224 -36.800691,-15.407479 -10.640636,-9.77524 -27.351535,-19.63425 -27.351535,-35.321718 0,-31.374935 28.236328,-35.56858 59.631016,-35.568579 31.39467,0 62.26253,3.533735 62.26253,34.908669 z\" sodipodi:nodetypes=\"ssssss\"/>\n",
       "    <circle style=\"fill:none;fill-opacity:1;stroke:currentColor;stroke-width:1;stroke-miterlimit:4;stroke-dasharray:2, 2;stroke-dashoffset:0\" id=\"path43809-5\" cx=\"117.60406\" cy=\"54.356312\" r=\"104.53016\"/>\n",
       "    <text xml:space=\"preserve\" transform=\"matrix(0.26458333,0,0,0.26458333,81.667157,18.459026)\" id=\"text88671-9-2\" style=\"font-size:40px;line-height:1.25;font-family:sans-serif;text-align:center;white-space:pre;shape-inside:url(#rect88673-5);fill:currentColor\"><tspan x=\"0\" y=\"0\" id=\"tspan54551\">plumbline</tspan></text>\n",
       "    <text xml:space=\"preserve\" transform=\"matrix(0.26458333,0,0,0.26458333,78.218184,109.31081)\" id=\"text88671-9-2-9\" style=\"font-size:40px;line-height:1.25;font-family:sans-serif;text-align:center;white-space:pre;shape-inside:url(#rect88673-5);fill:currentColor\"><tspan x=\"0\" y=\"0\" id=\"tspan54553\">geoid</tspan></text>\n",
       "    <text xml:space=\"preserve\" transform=\"matrix(0.26458333,0,0,0.26458333,170.8266,-15.812844)\" id=\"text88671-9-9\" style=\"font-size:66.6667px;line-height:1.25;font-family:sans-serif;text-align:center;white-space:pre;shape-inside:url(#rect88673-5);display:inline;fill:currentColor\"><tspan x=\"0\" y=\"0\" id=\"tspan54555\">V</tspan></text>\n",
       "  </g>\n",
       "  <g inkscape:groupmode=\"layer\" id=\"layer3\" inkscape:label=\"gravity\" style=\"display:inline\">\n",
       "    <g id=\"g52271\">\n",
       "      <text xml:space=\"preserve\" transform=\"matrix(0.26458333,0,0,0.26458333,58.69016,33.047535)\" id=\"text88671-9\" style=\"font-size:66.6667px;line-height:1.25;font-family:sans-serif;text-align:center;white-space:pre;shape-inside:url(#rect88673-5);fill:currentColor\"><tspan x=\"0\" y=\"0\" id=\"tspan54559\"><tspan style=\"font-weight:bold;-inkscape-font-specification:'sans-serif Bold'\" id=\"tspan54557\">g</tspan></tspan></text>\n",
       "      <g id=\"g2263-3-6\" transform=\"matrix(-0.29176199,0.14990335,-0.16895723,-0.26993726,189.49085,-47.325828)\" style=\"stroke-width:2.25454\" inkscape:transform-center-x=\"7.6176864\" inkscape:transform-center-y=\"-10.835851\">\n",
       "        <g id=\"g2383-6-7\" transform=\"matrix(0.48731255,0.02423459,0.01279726,0.50441827,306.3094,-31.083282)\" style=\"stroke-width:2.41004\">\n",
       "          <path sodipodi:type=\"star\" style=\"fill:currentColor;fill-opacity:1;stroke-width:29.4809;stroke-miterlimit:4;stroke-dasharray:none\" id=\"path1845-7-5\" inkscape:flatsided=\"true\" sodipodi:sides=\"3\" sodipodi:cx=\"1019.0918\" sodipodi:cy=\"-481.03027\" sodipodi:r1=\"115.65684\" sodipodi:r2=\"187.39349\" sodipodi:arg1=\"-1.5604471\" sodipodi:arg2=\"-0.51324957\" inkscape:rounded=\"0\" inkscape:randomized=\"0\" transform=\"matrix(0.07343639,-0.00655922,0.00604354,0.08018575,284.40075,-29.693185)\" inkscape:transform-center-x=\"5.9997774\" inkscape:transform-center-y=\"0.20935791\" d=\"m 1020.2887,-596.68092 98.361,174.51255 -200.31277,-2.07316 z\"/>\n",
       "          <path style=\"stroke:currentColor;stroke-width:5.00526;stroke-miterlimit:4;stroke-dasharray:none\" d=\"M 355.53236,83.808526 356.1433,-70.605636\" id=\"path2179-5-3\"/>\n",
       "        </g>\n",
       "      </g>\n",
       "      <g id=\"g2263-3-6-1\" transform=\"matrix(0.18025679,0.27405029,0.27990102,-0.15188183,107.56105,-71.235167)\" style=\"display:inline;stroke-width:2.25454\" inkscape:transform-center-x=\"-11.963107\" inkscape:transform-center-y=\"-5.6362505\">\n",
       "        <g id=\"g2383-6-7-94\" transform=\"matrix(0.48731255,0.02423459,0.01279726,0.50441827,306.3094,-31.083282)\" style=\"stroke-width:2.41004\">\n",
       "          <path sodipodi:type=\"star\" style=\"fill:currentColor;fill-opacity:1;stroke-width:29.4809;stroke-miterlimit:4;stroke-dasharray:none\" id=\"path1845-7-5-7\" inkscape:flatsided=\"true\" sodipodi:sides=\"3\" sodipodi:cx=\"1019.0918\" sodipodi:cy=\"-481.03027\" sodipodi:r1=\"115.65684\" sodipodi:r2=\"187.39349\" sodipodi:arg1=\"-1.5604471\" sodipodi:arg2=\"-0.51324957\" inkscape:rounded=\"0\" inkscape:randomized=\"0\" transform=\"matrix(0.07343639,-0.00655922,0.00604354,0.08018575,284.40075,-29.693185)\" inkscape:transform-center-x=\"5.9997774\" inkscape:transform-center-y=\"0.20935791\" d=\"m 1020.2887,-596.68092 98.361,174.51255 -200.31277,-2.07316 z\"/>\n",
       "          <path style=\"stroke:currentColor;stroke-width:5.00526;stroke-miterlimit:4;stroke-dasharray:none\" d=\"M 355.53236,83.808526 356.1433,-70.605636\" id=\"path2179-5-3-84\"/>\n",
       "        </g>\n",
       "      </g>\n",
       "      <g id=\"g2263-3-6-1-1\" transform=\"matrix(-0.18025679,0.27405029,-0.27990102,-0.15188183,101.15185,-64.464757)\" style=\"display:inline;stroke-width:2.25454\" inkscape:transform-center-x=\"11.963109\" inkscape:transform-center-y=\"-5.6362505\">\n",
       "        <g id=\"g2383-6-7-94-0\" transform=\"matrix(0.48731255,0.02423459,0.01279726,0.50441827,306.3094,-31.083282)\" style=\"stroke-width:2.41004\">\n",
       "          <path sodipodi:type=\"star\" style=\"fill:currentColor;fill-opacity:1;stroke-width:29.4809;stroke-miterlimit:4;stroke-dasharray:none\" id=\"path1845-7-5-7-6\" inkscape:flatsided=\"true\" sodipodi:sides=\"3\" sodipodi:cx=\"1019.0918\" sodipodi:cy=\"-481.03027\" sodipodi:r1=\"115.65684\" sodipodi:r2=\"187.39349\" sodipodi:arg1=\"-1.5604471\" sodipodi:arg2=\"-0.51324957\" inkscape:rounded=\"0\" inkscape:randomized=\"0\" transform=\"matrix(0.07343639,-0.00655922,0.00604354,0.08018575,284.40075,-29.693185)\" inkscape:transform-center-x=\"5.9997774\" inkscape:transform-center-y=\"0.20935791\" d=\"m 1020.2887,-596.68092 98.361,174.51255 -200.31277,-2.07316 z\"/>\n",
       "          <path style=\"stroke:currentColor;stroke-width:5.00526;stroke-miterlimit:4;stroke-dasharray:none\" d=\"M 355.53236,83.808526 356.1433,-70.605636\" id=\"path2179-5-3-84-3\"/>\n",
       "        </g>\n",
       "      </g>\n",
       "      <g id=\"g2263-3-6-5\" transform=\"matrix(0.29176199,0.14990335,0.16895723,-0.26993726,11.573184,-47.617802)\" style=\"display:inline;stroke-width:2.25454\" inkscape:transform-center-x=\"-7.6176864\" inkscape:transform-center-y=\"-10.835851\">\n",
       "        <g id=\"g2383-6-7-0\" transform=\"matrix(0.48731255,0.02423459,0.01279726,0.50441827,306.3094,-31.083282)\" style=\"stroke-width:2.41004\">\n",
       "          <path sodipodi:type=\"star\" style=\"fill:currentColor;fill-opacity:1;stroke-width:29.4809;stroke-miterlimit:4;stroke-dasharray:none\" id=\"path1845-7-5-3\" inkscape:flatsided=\"true\" sodipodi:sides=\"3\" sodipodi:cx=\"1019.0918\" sodipodi:cy=\"-481.03027\" sodipodi:r1=\"115.65684\" sodipodi:r2=\"187.39349\" sodipodi:arg1=\"-1.5604471\" sodipodi:arg2=\"-0.51324957\" inkscape:rounded=\"0\" inkscape:randomized=\"0\" transform=\"matrix(0.07343639,-0.00655922,0.00604354,0.08018575,284.40075,-29.693185)\" inkscape:transform-center-x=\"5.9997774\" inkscape:transform-center-y=\"0.20935791\" d=\"m 1020.2887,-596.68092 98.361,174.51255 -200.31277,-2.07316 z\"/>\n",
       "          <path style=\"stroke:currentColor;stroke-width:5.00526;stroke-miterlimit:4;stroke-dasharray:none\" d=\"M 355.53236,83.808526 356.1433,-70.605636\" id=\"path2179-5-3-6\"/>\n",
       "        </g>\n",
       "      </g>\n",
       "      <g id=\"g2263-3-6-1-1-2\" transform=\"matrix(-0.03895162,0.32569747,-0.31826527,-0.01094927,28.660061,-50.52347)\" style=\"display:inline;stroke-width:2.25454\" inkscape:transform-center-x=\"13.243146\" inkscape:transform-center-y=\"0.50808596\">\n",
       "        <g id=\"g2383-6-7-94-0-0\" transform=\"matrix(0.48731255,0.02423459,0.01279726,0.50441827,306.3094,-31.083282)\" style=\"stroke-width:2.41004\">\n",
       "          <path sodipodi:type=\"star\" style=\"fill:currentColor;fill-opacity:1;stroke-width:29.4809;stroke-miterlimit:4;stroke-dasharray:none\" id=\"path1845-7-5-7-6-6\" inkscape:flatsided=\"true\" sodipodi:sides=\"3\" sodipodi:cx=\"1019.0918\" sodipodi:cy=\"-481.03027\" sodipodi:r1=\"115.65684\" sodipodi:r2=\"187.39349\" sodipodi:arg1=\"-1.5604471\" sodipodi:arg2=\"-0.51324957\" inkscape:rounded=\"0\" inkscape:randomized=\"0\" transform=\"matrix(0.07343639,-0.00655922,0.00604354,0.08018575,284.40075,-29.693185)\" inkscape:transform-center-x=\"5.9997774\" inkscape:transform-center-y=\"0.20935791\" d=\"m 1020.2887,-596.68092 98.361,174.51255 -200.31277,-2.07316 z\"/>\n",
       "          <path style=\"stroke:currentColor;stroke-width:5.00526;stroke-miterlimit:4;stroke-dasharray:none\" d=\"M 355.53236,83.808526 356.1433,-70.605636\" id=\"path2179-5-3-84-3-1\"/>\n",
       "        </g>\n",
       "      </g>\n",
       "      <g id=\"g2263-3-6-1-1-2-5\" transform=\"matrix(0.03895162,0.32569747,0.31826527,-0.01094927,174.5055,-47.244865)\" style=\"display:inline;stroke-width:2.25454\" inkscape:transform-center-x=\"-13.243147\" inkscape:transform-center-y=\"0.50808596\">\n",
       "        <g id=\"g2383-6-7-94-0-0-5\" transform=\"matrix(0.48731255,0.02423459,0.01279726,0.50441827,306.3094,-31.083282)\" style=\"stroke-width:2.41004\">\n",
       "          <path sodipodi:type=\"star\" style=\"fill:currentColor;fill-opacity:1;stroke-width:29.4809;stroke-miterlimit:4;stroke-dasharray:none\" id=\"path1845-7-5-7-6-6-4\" inkscape:flatsided=\"true\" sodipodi:sides=\"3\" sodipodi:cx=\"1019.0918\" sodipodi:cy=\"-481.03027\" sodipodi:r1=\"115.65684\" sodipodi:r2=\"187.39349\" sodipodi:arg1=\"-1.5604471\" sodipodi:arg2=\"-0.51324957\" inkscape:rounded=\"0\" inkscape:randomized=\"0\" transform=\"matrix(0.07343639,-0.00655922,0.00604354,0.08018575,284.40075,-29.693185)\" inkscape:transform-center-x=\"5.9997774\" inkscape:transform-center-y=\"0.20935791\" d=\"m 1020.2887,-596.68092 98.361,174.51255 -200.31277,-2.07316 z\"/>\n",
       "          <path style=\"stroke:currentColor;stroke-width:5.00526;stroke-miterlimit:4;stroke-dasharray:none\" d=\"M 355.53236,83.808526 356.1433,-70.605636\" id=\"path2179-5-3-84-3-1-7\"/>\n",
       "        </g>\n",
       "      </g>\n",
       "      <g id=\"g2263-3-6-6\" transform=\"matrix(-0.29176199,-0.14990335,-0.16895723,0.26993726,189.023,260.11837)\" style=\"display:inline;stroke-width:2.25454\" inkscape:transform-center-x=\"7.6176864\" inkscape:transform-center-y=\"10.835847\">\n",
       "        <g id=\"g2383-6-7-5\" transform=\"matrix(0.48731255,0.02423459,0.01279726,0.50441827,306.3094,-31.083282)\" style=\"stroke-width:2.41004\">\n",
       "          <path sodipodi:type=\"star\" style=\"fill:currentColor;fill-opacity:1;stroke-width:29.4809;stroke-miterlimit:4;stroke-dasharray:none\" id=\"path1845-7-5-6\" inkscape:flatsided=\"true\" sodipodi:sides=\"3\" sodipodi:cx=\"1019.0918\" sodipodi:cy=\"-481.03027\" sodipodi:r1=\"115.65684\" sodipodi:r2=\"187.39349\" sodipodi:arg1=\"-1.5604471\" sodipodi:arg2=\"-0.51324957\" inkscape:rounded=\"0\" inkscape:randomized=\"0\" transform=\"matrix(0.07343639,-0.00655922,0.00604354,0.08018575,284.40075,-29.693185)\" inkscape:transform-center-x=\"5.9997774\" inkscape:transform-center-y=\"0.20935791\" d=\"m 1020.2887,-596.68092 98.361,174.51255 -200.31277,-2.07316 z\"/>\n",
       "          <path style=\"stroke:currentColor;stroke-width:5.00526;stroke-miterlimit:4;stroke-dasharray:none\" d=\"M 355.53236,83.808526 356.1433,-70.605636\" id=\"path2179-5-3-9\"/>\n",
       "        </g>\n",
       "      </g>\n",
       "      <g id=\"g2263-3-6-1-3\" transform=\"matrix(0.18025679,-0.27405029,0.27990102,0.15188183,107.0932,284.02771)\" style=\"display:inline;stroke-width:2.25454\" inkscape:transform-center-x=\"-11.963107\" inkscape:transform-center-y=\"5.6362473\">\n",
       "        <g id=\"g2383-6-7-94-7\" transform=\"matrix(0.48731255,0.02423459,0.01279726,0.50441827,306.3094,-31.083282)\" style=\"stroke-width:2.41004\">\n",
       "          <path sodipodi:type=\"star\" style=\"fill:currentColor;fill-opacity:1;stroke-width:29.4809;stroke-miterlimit:4;stroke-dasharray:none\" id=\"path1845-7-5-7-4\" inkscape:flatsided=\"true\" sodipodi:sides=\"3\" sodipodi:cx=\"1019.0918\" sodipodi:cy=\"-481.03027\" sodipodi:r1=\"115.65684\" sodipodi:r2=\"187.39349\" sodipodi:arg1=\"-1.5604471\" sodipodi:arg2=\"-0.51324957\" inkscape:rounded=\"0\" inkscape:randomized=\"0\" transform=\"matrix(0.07343639,-0.00655922,0.00604354,0.08018575,284.40075,-29.693185)\" inkscape:transform-center-x=\"5.9997774\" inkscape:transform-center-y=\"0.20935791\" d=\"m 1020.2887,-596.68092 98.361,174.51255 -200.31277,-2.07316 z\"/>\n",
       "          <path style=\"stroke:currentColor;stroke-width:5.00526;stroke-miterlimit:4;stroke-dasharray:none\" d=\"M 355.53236,83.808526 356.1433,-70.605636\" id=\"path2179-5-3-84-5\"/>\n",
       "        </g>\n",
       "      </g>\n",
       "      <g id=\"g2263-3-6-1-1-25\" transform=\"matrix(-0.18025679,-0.27405029,-0.27990102,0.15188183,100.684,277.2573)\" style=\"display:inline;stroke-width:2.25454\" inkscape:transform-center-x=\"11.963109\" inkscape:transform-center-y=\"5.6362473\">\n",
       "        <g id=\"g2383-6-7-94-0-4\" transform=\"matrix(0.48731255,0.02423459,0.01279726,0.50441827,306.3094,-31.083282)\" style=\"stroke-width:2.41004\">\n",
       "          <path sodipodi:type=\"star\" style=\"fill:currentColor;fill-opacity:1;stroke-width:29.4809;stroke-miterlimit:4;stroke-dasharray:none\" id=\"path1845-7-5-7-6-7\" inkscape:flatsided=\"true\" sodipodi:sides=\"3\" sodipodi:cx=\"1019.0918\" sodipodi:cy=\"-481.03027\" sodipodi:r1=\"115.65684\" sodipodi:r2=\"187.39349\" sodipodi:arg1=\"-1.5604471\" sodipodi:arg2=\"-0.51324957\" inkscape:rounded=\"0\" inkscape:randomized=\"0\" transform=\"matrix(0.07343639,-0.00655922,0.00604354,0.08018575,284.40075,-29.693185)\" inkscape:transform-center-x=\"5.9997774\" inkscape:transform-center-y=\"0.20935791\" d=\"m 1020.2887,-596.68092 98.361,174.51255 -200.31277,-2.07316 z\"/>\n",
       "          <path style=\"stroke:currentColor;stroke-width:5.00526;stroke-miterlimit:4;stroke-dasharray:none\" d=\"M 355.53236,83.808526 356.1433,-70.605636\" id=\"path2179-5-3-84-3-4\"/>\n",
       "        </g>\n",
       "      </g>\n",
       "      <g id=\"g2263-3-6-5-4\" transform=\"matrix(0.29176199,-0.14990335,0.16895723,0.26993726,11.105332,260.41035)\" style=\"display:inline;stroke-width:2.25454\" inkscape:transform-center-x=\"-7.6176864\" inkscape:transform-center-y=\"10.835853\">\n",
       "        <g id=\"g2383-6-7-0-3\" transform=\"matrix(0.48731255,0.02423459,0.01279726,0.50441827,306.3094,-31.083282)\" style=\"stroke-width:2.41004\">\n",
       "          <path sodipodi:type=\"star\" style=\"fill:currentColor;fill-opacity:1;stroke-width:29.4809;stroke-miterlimit:4;stroke-dasharray:none\" id=\"path1845-7-5-3-0\" inkscape:flatsided=\"true\" sodipodi:sides=\"3\" sodipodi:cx=\"1019.0918\" sodipodi:cy=\"-481.03027\" sodipodi:r1=\"115.65684\" sodipodi:r2=\"187.39349\" sodipodi:arg1=\"-1.5604471\" sodipodi:arg2=\"-0.51324957\" inkscape:rounded=\"0\" inkscape:randomized=\"0\" transform=\"matrix(0.07343639,-0.00655922,0.00604354,0.08018575,284.40075,-29.693185)\" inkscape:transform-center-x=\"5.9997774\" inkscape:transform-center-y=\"0.20935791\" d=\"m 1020.2887,-596.68092 98.361,174.51255 -200.31277,-2.07316 z\"/>\n",
       "          <path style=\"stroke:currentColor;stroke-width:5.00526;stroke-miterlimit:4;stroke-dasharray:none\" d=\"M 355.53236,83.808526 356.1433,-70.605636\" id=\"path2179-5-3-6-7\"/>\n",
       "        </g>\n",
       "      </g>\n",
       "      <g id=\"g2263-3-6-4\" transform=\"matrix(-0.05964617,-0.21761963,0.21563101,-0.06706118,205.7114,192.81688)\" style=\"display:inline;stroke-width:3.22317\" inkscape:transform-center-x=\"3.4932938\" inkscape:transform-center-y=\"-8.6059679\">\n",
       "        <g id=\"g2383-6-7-3\" transform=\"matrix(0.48731255,0.02423459,0.01279726,0.50441827,306.3094,-31.083282)\" style=\"stroke-width:3.44548\">\n",
       "          <path sodipodi:type=\"star\" style=\"fill:currentColor;fill-opacity:1;stroke-width:42.147;stroke-miterlimit:4;stroke-dasharray:none\" id=\"path1845-7-5-1\" inkscape:flatsided=\"true\" sodipodi:sides=\"3\" sodipodi:cx=\"1019.0918\" sodipodi:cy=\"-481.03027\" sodipodi:r1=\"115.65684\" sodipodi:r2=\"187.39349\" sodipodi:arg1=\"-1.5604471\" sodipodi:arg2=\"-0.51324957\" inkscape:rounded=\"0\" inkscape:randomized=\"0\" transform=\"matrix(0.07343639,-0.00655922,0.00604354,0.08018575,284.40075,-29.693185)\" inkscape:transform-center-x=\"5.9997774\" inkscape:transform-center-y=\"0.20935791\" d=\"m 1020.2887,-596.68092 98.361,174.51255 -200.31277,-2.07316 z\"/>\n",
       "          <path style=\"stroke:currentColor;stroke-width:7.15571;stroke-miterlimit:4;stroke-dasharray:none\" d=\"M 355.53236,83.808526 356.1433,-70.605636\" id=\"path2179-5-3-4\"/>\n",
       "        </g>\n",
       "      </g>\n",
       "      <g id=\"g2263-3-6-1-9\" transform=\"matrix(-0.15993015,0.16851681,0.15406104,0.15609071,234.61972,78.100062)\" style=\"display:inline;stroke-width:3.22317\" inkscape:transform-center-x=\"-7.1990002\" inkscape:transform-center-y=\"-6.0167425\">\n",
       "        <g id=\"g2383-6-7-94-2\" transform=\"matrix(0.48731255,0.02423459,0.01279726,0.50441827,306.3094,-31.083282)\" style=\"stroke-width:3.44548\">\n",
       "          <path sodipodi:type=\"star\" style=\"fill:currentColor;fill-opacity:1;stroke-width:42.147;stroke-miterlimit:4;stroke-dasharray:none\" id=\"path1845-7-5-7-0\" inkscape:flatsided=\"true\" sodipodi:sides=\"3\" sodipodi:cx=\"1019.0918\" sodipodi:cy=\"-481.03027\" sodipodi:r1=\"115.65684\" sodipodi:r2=\"187.39349\" sodipodi:arg1=\"-1.5604471\" sodipodi:arg2=\"-0.51324957\" inkscape:rounded=\"0\" inkscape:randomized=\"0\" transform=\"matrix(0.07343639,-0.00655922,0.00604354,0.08018575,284.40075,-29.693185)\" inkscape:transform-center-x=\"5.9997774\" inkscape:transform-center-y=\"0.20935791\" d=\"m 1020.2887,-596.68092 98.361,174.51255 -200.31277,-2.07316 z\"/>\n",
       "          <path style=\"stroke:currentColor;stroke-width:7.15571;stroke-miterlimit:4;stroke-dasharray:none\" d=\"M 355.53236,83.808526 356.1433,-70.605636\" id=\"path2179-5-3-84-6\"/>\n",
       "        </g>\n",
       "      </g>\n",
       "      <g id=\"g2263-3-6-5-6\" transform=\"matrix(-0.04755937,0.22060096,0.21898419,0.05503365,198.78647,22.641964)\" style=\"display:inline;stroke-width:3.22317\" inkscape:transform-center-x=\"-2.9895397\" inkscape:transform-center-y=\"-9.0025926\">\n",
       "        <g id=\"g2383-6-7-0-4\" transform=\"matrix(0.48731255,0.02423459,0.01279726,0.50441827,306.3094,-31.083282)\" style=\"stroke-width:3.44548\">\n",
       "          <path sodipodi:type=\"star\" style=\"fill:currentColor;fill-opacity:1;stroke-width:42.147;stroke-miterlimit:4;stroke-dasharray:none\" id=\"path1845-7-5-3-9\" inkscape:flatsided=\"true\" sodipodi:sides=\"3\" sodipodi:cx=\"1019.0918\" sodipodi:cy=\"-481.03027\" sodipodi:r1=\"115.65684\" sodipodi:r2=\"187.39349\" sodipodi:arg1=\"-1.5604471\" sodipodi:arg2=\"-0.51324957\" inkscape:rounded=\"0\" inkscape:randomized=\"0\" transform=\"matrix(0.07343639,-0.00655922,0.00604354,0.08018575,284.40075,-29.693185)\" inkscape:transform-center-x=\"5.9997774\" inkscape:transform-center-y=\"0.20935791\" d=\"m 1020.2887,-596.68092 98.361,174.51255 -200.31277,-2.07316 z\"/>\n",
       "          <path style=\"stroke:currentColor;stroke-width:7.15571;stroke-miterlimit:4;stroke-dasharray:none\" d=\"M 355.53236,83.808526 356.1433,-70.605636\" id=\"path2179-5-3-6-5\"/>\n",
       "        </g>\n",
       "      </g>\n",
       "      <g id=\"g2263-3-6-1-1-2-0\" transform=\"matrix(-0.23462695,-0.02668512,0.0081306,-0.21612402,214.09615,59.568326)\" style=\"display:inline;stroke-width:3.22317\" inkscape:transform-center-x=\"9.3624161\" inkscape:transform-center-y=\"0.35916687\">\n",
       "        <g id=\"g2383-6-7-94-0-0-4\" transform=\"matrix(0.48731255,0.02423459,0.01279726,0.50441827,306.3094,-31.083282)\" style=\"stroke-width:3.44548\">\n",
       "          <path sodipodi:type=\"star\" style=\"fill:currentColor;fill-opacity:1;stroke-width:42.147;stroke-miterlimit:4;stroke-dasharray:none\" id=\"path1845-7-5-7-6-6-8\" inkscape:flatsided=\"true\" sodipodi:sides=\"3\" sodipodi:cx=\"1019.0918\" sodipodi:cy=\"-481.03027\" sodipodi:r1=\"115.65684\" sodipodi:r2=\"187.39349\" sodipodi:arg1=\"-1.5604471\" sodipodi:arg2=\"-0.51324957\" inkscape:rounded=\"0\" inkscape:randomized=\"0\" transform=\"matrix(0.07343639,-0.00655922,0.00604354,0.08018575,284.40075,-29.693185)\" inkscape:transform-center-x=\"5.9997774\" inkscape:transform-center-y=\"0.20935791\" d=\"m 1020.2887,-596.68092 98.361,174.51255 -200.31277,-2.07316 z\"/>\n",
       "          <path style=\"stroke:currentColor;stroke-width:7.15571;stroke-miterlimit:4;stroke-dasharray:none\" d=\"M 355.53236,83.808526 356.1433,-70.605636\" id=\"path2179-5-3-84-3-1-71\"/>\n",
       "        </g>\n",
       "      </g>\n",
       "      <g id=\"g2263-3-6-1-1-2-5-7\" transform=\"matrix(-0.23468617,0.02621846,0.00764672,0.21613971,213.73981,159.13783)\" style=\"display:inline;stroke-width:3.22317\" inkscape:transform-center-x=\"-9.3624165\" inkscape:transform-center-y=\"0.35916727\">\n",
       "        <g id=\"g2383-6-7-94-0-0-5-2\" transform=\"matrix(0.48731255,0.02423459,0.01279726,0.50441827,306.3094,-31.083282)\" style=\"stroke-width:3.44548\">\n",
       "          <path sodipodi:type=\"star\" style=\"fill:currentColor;fill-opacity:1;stroke-width:42.147;stroke-miterlimit:4;stroke-dasharray:none\" id=\"path1845-7-5-7-6-6-4-7\" inkscape:flatsided=\"true\" sodipodi:sides=\"3\" sodipodi:cx=\"1019.0918\" sodipodi:cy=\"-481.03027\" sodipodi:r1=\"115.65684\" sodipodi:r2=\"187.39349\" sodipodi:arg1=\"-1.5604471\" sodipodi:arg2=\"-0.51324957\" inkscape:rounded=\"0\" inkscape:randomized=\"0\" transform=\"matrix(0.07343639,-0.00655922,0.00604354,0.08018575,284.40075,-29.693185)\" inkscape:transform-center-x=\"5.9997774\" inkscape:transform-center-y=\"0.20935791\" d=\"m 1020.2887,-596.68092 98.361,174.51255 -200.31277,-2.07316 z\"/>\n",
       "          <path style=\"stroke:currentColor;stroke-width:7.15571;stroke-miterlimit:4;stroke-dasharray:none\" d=\"M 355.53236,83.808526 356.1433,-70.605636\" id=\"path2179-5-3-84-3-1-7-2\"/>\n",
       "        </g>\n",
       "      </g>\n",
       "      <g id=\"g2263-3-6-6-2\" transform=\"matrix(0.15270839,-0.16615302,-0.16097439,-0.15833516,-23.622086,138.96791)\" style=\"display:inline;stroke-width:3.22317\" inkscape:transform-center-x=\"7.0709065\" inkscape:transform-center-y=\"6.1383506\">\n",
       "        <g id=\"g2383-6-7-5-6\" transform=\"matrix(0.48731255,0.02423459,0.01279726,0.50441827,306.3094,-31.083282)\" style=\"stroke-width:3.44548\">\n",
       "          <path sodipodi:type=\"star\" style=\"fill:currentColor;fill-opacity:1;stroke-width:42.147;stroke-miterlimit:4;stroke-dasharray:none\" id=\"path1845-7-5-6-1\" inkscape:flatsided=\"true\" sodipodi:sides=\"3\" sodipodi:cx=\"1019.0918\" sodipodi:cy=\"-481.03027\" sodipodi:r1=\"115.65684\" sodipodi:r2=\"187.39349\" sodipodi:arg1=\"-1.5604471\" sodipodi:arg2=\"-0.51324957\" inkscape:rounded=\"0\" inkscape:randomized=\"0\" transform=\"matrix(0.07343639,-0.00655922,0.00604354,0.08018575,284.40075,-29.693185)\" inkscape:transform-center-x=\"5.9997774\" inkscape:transform-center-y=\"0.20935791\" d=\"m 1020.2887,-596.68092 98.361,174.51255 -200.31277,-2.07316 z\"/>\n",
       "          <path style=\"stroke:currentColor;stroke-width:7.15571;stroke-miterlimit:4;stroke-dasharray:none\" d=\"M 355.53236,83.808526 356.1433,-70.605636\" id=\"path2179-5-3-9-0\"/>\n",
       "        </g>\n",
       "      </g>\n",
       "      <g id=\"g2263-3-6-6-2-1\" transform=\"matrix(-0.15270839,-0.16615302,0.16097439,-0.15833516,228.04254,131.5268)\" style=\"display:inline;stroke-width:3.22317\" inkscape:transform-center-x=\"-7.0709078\" inkscape:transform-center-y=\"6.1383506\">\n",
       "        <g id=\"g2383-6-7-5-6-5\" transform=\"matrix(0.48731255,0.02423459,0.01279726,0.50441827,306.3094,-31.083282)\" style=\"stroke-width:3.44548\">\n",
       "          <path sodipodi:type=\"star\" style=\"fill:currentColor;fill-opacity:1;stroke-width:42.147;stroke-miterlimit:4;stroke-dasharray:none\" id=\"path1845-7-5-6-1-9\" inkscape:flatsided=\"true\" sodipodi:sides=\"3\" sodipodi:cx=\"1019.0918\" sodipodi:cy=\"-481.03027\" sodipodi:r1=\"115.65684\" sodipodi:r2=\"187.39349\" sodipodi:arg1=\"-1.5604471\" sodipodi:arg2=\"-0.51324957\" inkscape:rounded=\"0\" inkscape:randomized=\"0\" transform=\"matrix(0.07343639,-0.00655922,0.00604354,0.08018575,284.40075,-29.693185)\" inkscape:transform-center-x=\"5.9997774\" inkscape:transform-center-y=\"0.20935791\" d=\"m 1020.2887,-596.68092 98.361,174.51255 -200.31277,-2.07316 z\"/>\n",
       "          <path style=\"stroke:currentColor;stroke-width:7.15571;stroke-miterlimit:4;stroke-dasharray:none\" d=\"M 355.53236,83.808526 356.1433,-70.605636\" id=\"path2179-5-3-9-0-7\"/>\n",
       "        </g>\n",
       "      </g>\n",
       "      <g id=\"g2263-3-6-5-4-1\" transform=\"matrix(0.12311506,0.18909959,-0.1849463,0.12957161,-14.438572,63.340355)\" style=\"display:inline;stroke-width:3.22317\" inkscape:transform-center-x=\"-5.9741519\" inkscape:transform-center-y=\"7.2101785\">\n",
       "        <g id=\"g2383-6-7-0-3-7\" transform=\"matrix(0.48731255,0.02423459,0.01279726,0.50441827,306.3094,-31.083282)\" style=\"stroke-width:3.44548\">\n",
       "          <path sodipodi:type=\"star\" style=\"fill:currentColor;fill-opacity:1;stroke-width:42.147;stroke-miterlimit:4;stroke-dasharray:none\" id=\"path1845-7-5-3-0-7\" inkscape:flatsided=\"true\" sodipodi:sides=\"3\" sodipodi:cx=\"1019.0918\" sodipodi:cy=\"-481.03027\" sodipodi:r1=\"115.65684\" sodipodi:r2=\"187.39349\" sodipodi:arg1=\"-1.5604471\" sodipodi:arg2=\"-0.51324957\" inkscape:rounded=\"0\" inkscape:randomized=\"0\" transform=\"matrix(0.07343639,-0.00655922,0.00604354,0.08018575,284.40075,-29.693185)\" inkscape:transform-center-x=\"5.9997774\" inkscape:transform-center-y=\"0.20935791\" d=\"m 1020.2887,-596.68092 98.361,174.51255 -200.31277,-2.07316 z\"/>\n",
       "          <path style=\"stroke:currentColor;stroke-width:7.15571;stroke-miterlimit:4;stroke-dasharray:none\" d=\"M 355.53236,83.808526 356.1433,-70.605636\" id=\"path2179-5-3-6-7-1\"/>\n",
       "        </g>\n",
       "      </g>\n",
       "      <g id=\"g2263-3-6-5-4-1-6\" transform=\"matrix(0.07573347,0.21255685,-0.21001996,0.08297923,-8.0553163,19.382928)\" style=\"display:inline;stroke-width:3.22317\" inkscape:transform-center-x=\"-4.1324087\" inkscape:transform-center-y=\"8.3852268\">\n",
       "        <g id=\"g2383-6-7-0-3-7-5\" transform=\"matrix(0.48731255,0.02423459,0.01279726,0.50441827,306.3094,-31.083282)\" style=\"stroke-width:3.44548\">\n",
       "          <path sodipodi:type=\"star\" style=\"fill:currentColor;fill-opacity:1;stroke-width:42.147;stroke-miterlimit:4;stroke-dasharray:none\" id=\"path1845-7-5-3-0-7-6\" inkscape:flatsided=\"true\" sodipodi:sides=\"3\" sodipodi:cx=\"1019.0918\" sodipodi:cy=\"-481.03027\" sodipodi:r1=\"115.65684\" sodipodi:r2=\"187.39349\" sodipodi:arg1=\"-1.5604471\" sodipodi:arg2=\"-0.51324957\" inkscape:rounded=\"0\" inkscape:randomized=\"0\" transform=\"matrix(0.07343639,-0.00655922,0.00604354,0.08018575,284.40075,-29.693185)\" inkscape:transform-center-x=\"5.9997774\" inkscape:transform-center-y=\"0.20935791\" d=\"m 1020.2887,-596.68092 98.361,174.51255 -200.31277,-2.07316 z\"/>\n",
       "          <path style=\"stroke:currentColor;stroke-width:7.15571;stroke-miterlimit:4;stroke-dasharray:none\" d=\"M 355.53236,83.808526 356.1433,-70.605636\" id=\"path2179-5-3-6-7-1-3\"/>\n",
       "        </g>\n",
       "      </g>\n",
       "      <g id=\"g2263-3-6-4-7\" transform=\"matrix(0.05964617,-0.21761963,-0.21563101,-0.06706118,0.7035711,194.95473)\" style=\"display:inline;stroke-width:3.22317\" inkscape:transform-center-x=\"-3.4932938\" inkscape:transform-center-y=\"-8.6059679\">\n",
       "        <g id=\"g2383-6-7-3-6\" transform=\"matrix(0.48731255,0.02423459,0.01279726,0.50441827,306.3094,-31.083282)\" style=\"stroke-width:3.44548\">\n",
       "          <path sodipodi:type=\"star\" style=\"fill:currentColor;fill-opacity:1;stroke-width:42.147;stroke-miterlimit:4;stroke-dasharray:none\" id=\"path1845-7-5-1-7\" inkscape:flatsided=\"true\" sodipodi:sides=\"3\" sodipodi:cx=\"1019.0918\" sodipodi:cy=\"-481.03027\" sodipodi:r1=\"115.65684\" sodipodi:r2=\"187.39349\" sodipodi:arg1=\"-1.5604471\" sodipodi:arg2=\"-0.51324957\" inkscape:rounded=\"0\" inkscape:randomized=\"0\" transform=\"matrix(0.07343639,-0.00655922,0.00604354,0.08018575,284.40075,-29.693185)\" inkscape:transform-center-x=\"5.9997774\" inkscape:transform-center-y=\"0.20935791\" d=\"m 1020.2887,-596.68092 98.361,174.51255 -200.31277,-2.07316 z\"/>\n",
       "          <path style=\"stroke:currentColor;stroke-width:7.15571;stroke-miterlimit:4;stroke-dasharray:none\" d=\"M 355.53236,83.808526 356.1433,-70.605636\" id=\"path2179-5-3-4-3\"/>\n",
       "        </g>\n",
       "      </g>\n",
       "    </g>\n",
       "  </g>\n",
       "</svg></p></div>\n",
       "<div class=\" flx50\" >\n",
       "\n",
       "<ul><li class=\"fragment fade-in\">Does <b>g</b> point to the center of mass?</li><ul><li class=\"fragment fade-in\">only in special cases</li><li class=\"fragment fade-in\">from infinity</li></ul><li class=\"fragment fade-in\">How quickly does <b>g</b> vanish going to infinity?</li><ul><li class=\"fragment fade-in\">with the second power of distance from the center of mass</li></ul><li class=\"fragment fade-in\">Does <b>g</b> generate a <i>conservative force</i>?</li><ul><li class=\"fragment fade-in\">Yes, it must therefore generate a potential field</li><li class=\"fragment fade-in\">gravity follows plumblines and is orthogonal to equipotential surfaces</li><li class=\"fragment fade-in\">the geoid is special (coincides with an ocean surface at rest)</li></ul></ul></div>\n",
       "\n",
       "</div>"
      ],
      "text/plain": [
       "<jupylecture.tools.FlexSlide at 0x7f85c85b6550>"
      ]
     },
     "metadata": {},
     "output_type": "display_data"
    }
   ],
   "source": [
    "slide9=FlexSlide(\"# Properties of g?\")\n",
    "slide9.addSVG(\"images/gravfield_complete.svg\",flxwidth=\"flx50\")\n",
    "slide9.addItems([\"Does <b>g</b> point to the center of mass?\",[\"only in special cases\",\"from infinity\"],\n",
    "                 \"How quickly does <b>g</b> vanish going to infinity?\",[\"with the second power of distance from the center of mass\"],\n",
    "                \"Does <b>g</b> generate a <i>conservative force</i>?\",\n",
    "                 [\"Yes, it must therefore generate a potential field\", \n",
    "                  \"gravity follows plumblines and is orthogonal to equipotential surfaces\",\n",
    "                 \"the geoid is special (coincides with an ocean surface at rest)\"]],\n",
    "                flxwidth=\"flx50\",frag=True)\n",
    "slide9.display()"
   ]
  },
  {
   "cell_type": "code",
   "execution_count": 15,
   "metadata": {
    "slideshow": {
     "slide_type": "slide"
    }
   },
   "outputs": [
    {
     "data": {
      "text/html": [
       "<div id=\"511db66376ef6008\"></div>\n",
       "    <script type=\"text/javascript\">\n",
       "        $(function(){\n",
       "            var p = $(\"#511db66376ef6008\");\n",
       "            if (p.length==0) return;\n",
       "            while (!p.hasClass(\"cell\")) {\n",
       "                p=p.parent();\n",
       "                if (p.prop(\"tagName\") ==\"body\") return;\n",
       "            }\n",
       "            var cell = p;\n",
       "            cell.find(\".input\").addClass(\"hide-in-slideshow\")\n",
       "        });\n",
       "    </script>"
      ]
     },
     "metadata": {},
     "output_type": "display_data"
    },
    {
     "data": {
      "text/markdown": [
       "\n",
       "<div class=\"flxsld text_cell\" ><div class=\"flx100\"><h1>Gravity versus Potential</h1></div>\n",
       "\n",
       "\n",
       "<div class=\" flx50\" >\n",
       "\n",
       "<p>Potential V</p></div>\n",
       "<div class=\" flx50\" >\n",
       "\n",
       "<p>Gravity <b>g</b></p></div>\n",
       "<div class=\" flx50\" >\n",
       "\n",
       "<ul><li>Scalar field</li><li>unit m<sup>2</sup>/s<sup>2</sup></li><li>not directly observable</li><li>Mathematical aid</li></ul></div>\n",
       "<div class=\" flx50\" >\n",
       "\n",
       "<ul><li>Vector field</li><li>unit m/s<sup>2</sup></li><li>Observable</li><li>Gradient of the Potential</li></ul></div>\n",
       "<div class=\" flx100\" >\n",
       "\n",
       "<p><svg xmlns:inkscape=\"http://www.inkscape.org/namespaces/inkscape\" xmlns:sodipodi=\"http://sodipodi.sourceforge.net/DTD/sodipodi-0.dtd\" xmlns=\"http://www.w3.org/2000/svg\" xmlns:svg=\"http://www.w3.org/2000/svg\" width=\"583.28217mm\" height=\"210.06018mm\" viewBox=\"0 0 583.28216 210.06016\" version=\"1.1\" id=\"svg5\" inkscape:version=\"1.1 (c4e8f9ed74, 2021-05-24)\" sodipodi:docname=\"grav_vs_pot.svg\">\n",
       "  <sodipodi:namedview id=\"namedview7\" pagecolor=\"#c8c8c8\" bordercolor=\"#666666\" borderopacity=\"1.0\" inkscape:pageshadow=\"2\" inkscape:pageopacity=\"1\" inkscape:pagecheckerboard=\"true\" inkscape:document-units=\"mm\" showgrid=\"false\" inkscape:zoom=\"0.39644113\" inkscape:cx=\"1001.4097\" inkscape:cy=\"167.74243\" inkscape:window-width=\"1920\" inkscape:window-height=\"1043\" inkscape:window-x=\"0\" inkscape:window-y=\"0\" inkscape:window-maximized=\"1\" inkscape:current-layer=\"layer2\" fit-margin-top=\"0\" fit-margin-left=\"0\" fit-margin-right=\"0\" fit-margin-bottom=\"0\" lock-margins=\"true\" inkscape:snap-global=\"false\"/>\n",
       "  <defs id=\"defs2\">\n",
       "    <rect x=\"178.13274\" y=\"141.9071\" width=\"192.84862\" height=\"132.70413\" id=\"rect32181\"/>\n",
       "    <marker style=\"overflow:visible;fill:currentColor\" id=\"Arrow2Mend\" refX=\"0\" refY=\"0\" orient=\"auto\" inkscape:stockid=\"Arrow2Mend\" inkscape:isstock=\"true\">\n",
       "      <path transform=\"scale(-0.6)\" d=\"M 8.7185878,4.0337352 -2.2072895,0.01601326 8.7185884,-4.0017078 c -1.7454984,2.3720609 -1.7354408,5.6174519 -6e-7,8.035443 z\" style=\"fill:currentColor;fill-rule:evenodd;stroke-width:0.625;stroke-linejoin:round\" id=\"path12194\"/>\n",
       "    </marker>\n",
       "    <marker style=\"overflow:visible;fill:currentColor\" refX=\"0\" refY=\"0\" orient=\"auto\" inkscape:stockid=\"Arrow2Mend1628\" inkscape:isstock=\"true\" id=\"Arrow2Mend1628\">\n",
       "      <path transform=\"scale(-0.6)\" d=\"M 8.7185878,4.0337352 -2.2072895,0.01601326 8.7185884,-4.0017078 c -1.7454984,2.3720609 -1.7354408,5.6174519 -6e-7,8.035443 z\" style=\"fill:#000000;fill-opacity:1;fill-rule:evenodd;stroke:#000000;stroke-width:0.625;stroke-linejoin:round;stroke-opacity:1\" id=\"path1521\"/>\n",
       "    </marker>\n",
       "  </defs>\n",
       "  <g inkscape:label=\"Layer 1\" inkscape:groupmode=\"layer\" id=\"layer1\" transform=\"translate(-78.548964,-29.840523)\">\n",
       "    <path id=\"path86176\" style=\"fill:#999999;stroke-width:0.264582;stroke-linecap:round;stroke-linejoin:round\" d=\"m 221.79571,119.66541 c 9.6161,15.41167 9.47279,45.29047 -15.6298,53.17538 -7.41406,2.32881 -30.84737,2.48909 -35.95395,-3.82277 -5.10659,-6.31184 -58.17618,-13.68668 -29.18333,-47.62054 11.483,-13.43995 25.92688,-8.28152 41.51165,-8.28152 15.58479,0 29.45669,-9.15493 39.25543,6.54945 z\" sodipodi:nodetypes=\"ssssss\"/>\n",
       "    <g id=\"g6127\" transform=\"matrix(0.59531655,0,0,0.59531655,102.22509,58.837425)\" style=\"fill:#42affa;fill-opacity:1;stroke:#42affa;stroke-opacity:1\">\n",
       "      <path style=\"fill:#42affa;fill-opacity:1;stroke:#42affa;stroke-width:0.264583;stroke-opacity:1\" id=\"path2636\" sodipodi:type=\"arc\" sodipodi:cx=\"136.79117\" sodipodi:cy=\"127.85122\" sodipodi:rx=\"12.472401\" sodipodi:ry=\"12.472401\" sodipodi:start=\"0\" sodipodi:end=\"1.5524875\" sodipodi:arc-type=\"slice\" d=\"m 149.26357,127.85122 a 12.472401,12.472401 0 0 1 -12.24406,12.47031 l -0.22834,-12.47031 z\"/>\n",
       "      <path style=\"fill:#42affa;fill-opacity:1;stroke:#42affa;stroke-width:0.264583;stroke-opacity:1\" id=\"path2636-3\" sodipodi:type=\"arc\" sodipodi:cx=\"-136.5217\" sodipodi:cy=\"-127.58664\" sodipodi:rx=\"12.472401\" sodipodi:ry=\"12.472401\" sodipodi:start=\"0\" sodipodi:end=\"1.5524875\" sodipodi:arc-type=\"slice\" d=\"m -124.0493,-127.58664 a 12.472401,12.472401 0 0 1 -12.24406,12.47031 l -0.22834,-12.47031 z\" transform=\"scale(-1)\"/>\n",
       "    </g>\n",
       "  </g>\n",
       "  <g inkscape:groupmode=\"layer\" id=\"layer2\" inkscape:label=\"potential\" style=\"display:inline\" transform=\"translate(11.238519,50.673847)\">\n",
       "    <path style=\"display:inline;fill:none;stroke:currentColor\" d=\"m 33.954228,-32.243649 c 9.753903,13.159999 16.571366,28.2813435 19.212053,37.2993245 2.640686,9.0179795 2.571177,7.5747965 5.803607,18.2191735 3.23243,10.644378 2.658801,20.691435 34.379901,29.999524\" id=\"path45923\" sodipodi:nodetypes=\"czzc\"/>\n",
       "    <path id=\"path43809\" style=\"fill:none;stroke:currentColor;stroke-width:0.999994;stroke-dasharray:2, 2\" d=\"m 169.39938,53.142751 c 0,41.846887 -30.51967,73.796419 -72.375152,73.796419 -20.927629,0 -37.094325,-9.06373 -51.280461,-22.10163 C 31.55763,91.799634 19.352054,74.787557 19.352054,53.864109 c 0,-41.846895 33.702104,-52.7948346 75.557506,-52.7948338 41.85546,0 74.48982,10.2265818 74.48982,52.0734758 z\" sodipodi:nodetypes=\"ssssss\"/>\n",
       "    <path id=\"path43809-6\" style=\"display:inline;fill:none;stroke:currentColor;stroke-width:0.999995;stroke-miterlimit:4;stroke-dasharray:0.499997, 0.499997;stroke-dashoffset:0\" d=\"m 154.60197,56.579773 c 0,31.374929 -27.51279,59.866257 -57.741302,51.389107 C 80.864501,103.48295 70.700727,102.33664 60.060094,92.561401 49.419458,82.786161 32.708559,72.927151 32.708559,57.239683 c 0,-31.374935 28.236328,-35.56858 59.630926,-35.568579 31.394625,0 62.262485,3.533735 62.262485,34.908669 z\" sodipodi:nodetypes=\"ssssss\"/>\n",
       "    <circle style=\"fill:none;fill-opacity:1;stroke:currentColor;stroke-width:1;stroke-miterlimit:4;stroke-dasharray:2, 2;stroke-dashoffset:0\" id=\"path43809-5\" cx=\"93.791557\" cy=\"54.356312\" r=\"104.53016\"/>\n",
       "    <text xml:space=\"preserve\" transform=\"matrix(0.26458333,0,0,0.26458333,57.854642,18.459026)\" id=\"text88671-9-2\" style=\"font-size:40px;line-height:1.25;font-family:sans-serif;text-align:center;white-space:pre;shape-inside:url(#rect88673-5);fill:currentColor\"><tspan x=\"0\" y=\"0\" id=\"tspan70026\">plumbline</tspan></text>\n",
       "    <text xml:space=\"preserve\" transform=\"matrix(0.26458333,0,0,0.26458333,54.405669,109.31081)\" id=\"text88671-9-2-9\" style=\"font-size:40px;line-height:1.25;font-family:sans-serif;text-align:center;white-space:pre;shape-inside:url(#rect88673-5);fill:currentColor\"><tspan x=\"0\" y=\"0\" id=\"tspan70028\">geoid</tspan></text>\n",
       "    <text xml:space=\"preserve\" transform=\"matrix(0.26458333,0,0,0.26458333,147.01395,-15.812844)\" id=\"text88671-9-9\" style=\"font-size:66.6667px;line-height:1.25;font-family:sans-serif;text-align:center;white-space:pre;shape-inside:url(#rect88673-5);display:inline;fill:currentColor\"><tspan x=\"0\" y=\"0\" id=\"tspan70030\">V</tspan></text>\n",
       "    <text xml:space=\"preserve\" transform=\"matrix(0.26458333,0,0,0.26458333,218.83892,69.246792)\" id=\"text88671-9-9-9\" style=\"font-size:146.667px;line-height:1.25;font-family:sans-serif;text-align:center;white-space:pre;shape-inside:url(#rect88673-5);display:inline;fill:currentColor\"><tspan x=\"0\" y=\"0\" id=\"tspan70034\">&#8711;V = <tspan style=\"font-weight:bold;-inkscape-font-specification:'sans-serif Bold'\" id=\"tspan70032\">g</tspan></tspan></text>\n",
       "    <path id=\"path86176-4\" style=\"fill:#999999;stroke-width:0.264582;stroke-linecap:round;stroke-linejoin:round\" d=\"m 515.30902,39.151042 c 9.6161,15.41167 9.47279,45.29047 -15.6298,53.17538 -7.41406,2.32881 -30.84737,2.48909 -35.95395,-3.82277 -5.10659,-6.31184 -58.17618,-13.68668 -29.18333,-47.62054 11.483,-13.43995 25.92688,-8.28152 41.51165,-8.28152 15.58479,0 29.45669,-9.15493 39.25543,6.54945 z\" sodipodi:nodetypes=\"ssssss\"/>\n",
       "    <g id=\"g6127-8\" transform=\"matrix(0.59531655,0,0,0.59531655,395.7384,-21.676943)\" style=\"fill:#42affa;fill-opacity:1;stroke:#42affa;stroke-opacity:1\">\n",
       "      <path style=\"fill:#42affa;fill-opacity:1;stroke:#42affa;stroke-width:0.264583;stroke-opacity:1\" id=\"path2636-1\" sodipodi:type=\"arc\" sodipodi:cx=\"136.79117\" sodipodi:cy=\"127.85122\" sodipodi:rx=\"12.472401\" sodipodi:ry=\"12.472401\" sodipodi:start=\"0\" sodipodi:end=\"1.5524875\" sodipodi:arc-type=\"slice\" d=\"m 149.26357,127.85122 a 12.472401,12.472401 0 0 1 -12.24406,12.47031 l -0.22834,-12.47031 z\"/>\n",
       "      <path style=\"fill:#42affa;fill-opacity:1;stroke:#42affa;stroke-width:0.264583;stroke-opacity:1\" id=\"path2636-3-2\" sodipodi:type=\"arc\" sodipodi:cx=\"-136.5217\" sodipodi:cy=\"-127.58664\" sodipodi:rx=\"12.472401\" sodipodi:ry=\"12.472401\" sodipodi:start=\"0\" sodipodi:end=\"1.5524875\" sodipodi:arc-type=\"slice\" transform=\"scale(-1)\" d=\"m -124.0493,-127.58664 a 12.472401,12.472401 0 0 1 -12.24406,12.47031 l -0.22834,-12.47031 z\"/>\n",
       "    </g>\n",
       "    <g id=\"g52271-0\" style=\"display:inline\" transform=\"translate(372.06212,-50.673844)\">\n",
       "      <text xml:space=\"preserve\" transform=\"matrix(0.26458333,0,0,0.26458333,58.69016,33.047535)\" id=\"text88671-9-96\" style=\"font-size:66.6667px;line-height:1.25;font-family:sans-serif;text-align:center;white-space:pre;shape-inside:url(#rect88673-5);fill:currentColor\"><tspan x=\"0\" y=\"0\" id=\"tspan70038\"><tspan style=\"font-weight:bold;-inkscape-font-specification:'sans-serif Bold'\" id=\"tspan70036\">g</tspan></tspan></text>\n",
       "      <g id=\"g2263-3-6-3\" transform=\"matrix(-0.29176199,0.14990335,-0.16895723,-0.26993726,189.49085,-47.325828)\" style=\"stroke-width:2.25454\" inkscape:transform-center-x=\"7.6176864\" inkscape:transform-center-y=\"-10.835851\">\n",
       "        <g id=\"g2383-6-7-8\" transform=\"matrix(0.48731255,0.02423459,0.01279726,0.50441827,306.3094,-31.083282)\" style=\"stroke-width:2.41004\">\n",
       "          <path sodipodi:type=\"star\" style=\"fill:currentColor;fill-opacity:1;stroke-width:29.4809;stroke-miterlimit:4;stroke-dasharray:none\" id=\"path1845-7-5-5\" inkscape:flatsided=\"true\" sodipodi:sides=\"3\" sodipodi:cx=\"1019.0918\" sodipodi:cy=\"-481.03027\" sodipodi:r1=\"115.65684\" sodipodi:r2=\"187.39349\" sodipodi:arg1=\"-1.5604471\" sodipodi:arg2=\"-0.51324957\" inkscape:rounded=\"0\" inkscape:randomized=\"0\" transform=\"matrix(0.07343639,-0.00655922,0.00604354,0.08018575,284.40075,-29.693185)\" inkscape:transform-center-x=\"5.9997774\" inkscape:transform-center-y=\"0.20935791\" d=\"m 1020.2887,-596.68092 98.361,174.51255 -200.31277,-2.07316 z\"/>\n",
       "          <path style=\"stroke:currentColor;stroke-width:5.00526;stroke-miterlimit:4;stroke-dasharray:none\" d=\"M 355.53236,83.808526 356.1433,-70.605636\" id=\"path2179-5-3-61\"/>\n",
       "        </g>\n",
       "      </g>\n",
       "      <g id=\"g2263-3-6-1-15\" transform=\"matrix(0.18025679,0.27405029,0.27990102,-0.15188183,107.56105,-71.235167)\" style=\"display:inline;stroke-width:2.25454\" inkscape:transform-center-x=\"-11.963107\" inkscape:transform-center-y=\"-5.6362505\">\n",
       "        <g id=\"g2383-6-7-94-9\" transform=\"matrix(0.48731255,0.02423459,0.01279726,0.50441827,306.3094,-31.083282)\" style=\"stroke-width:2.41004\">\n",
       "          <path sodipodi:type=\"star\" style=\"fill:currentColor;fill-opacity:1;stroke-width:29.4809;stroke-miterlimit:4;stroke-dasharray:none\" id=\"path1845-7-5-7-8\" inkscape:flatsided=\"true\" sodipodi:sides=\"3\" sodipodi:cx=\"1019.0918\" sodipodi:cy=\"-481.03027\" sodipodi:r1=\"115.65684\" sodipodi:r2=\"187.39349\" sodipodi:arg1=\"-1.5604471\" sodipodi:arg2=\"-0.51324957\" inkscape:rounded=\"0\" inkscape:randomized=\"0\" transform=\"matrix(0.07343639,-0.00655922,0.00604354,0.08018575,284.40075,-29.693185)\" inkscape:transform-center-x=\"5.9997774\" inkscape:transform-center-y=\"0.20935791\" d=\"m 1020.2887,-596.68092 98.361,174.51255 -200.31277,-2.07316 z\"/>\n",
       "          <path style=\"stroke:currentColor;stroke-width:5.00526;stroke-miterlimit:4;stroke-dasharray:none\" d=\"M 355.53236,83.808526 356.1433,-70.605636\" id=\"path2179-5-3-84-4\"/>\n",
       "        </g>\n",
       "      </g>\n",
       "      <g id=\"g2263-3-6-1-1-8\" transform=\"matrix(-0.18025679,0.27405029,-0.27990102,-0.15188183,101.15185,-64.464757)\" style=\"display:inline;stroke-width:2.25454\" inkscape:transform-center-x=\"11.963109\" inkscape:transform-center-y=\"-5.6362505\">\n",
       "        <g id=\"g2383-6-7-94-0-1\" transform=\"matrix(0.48731255,0.02423459,0.01279726,0.50441827,306.3094,-31.083282)\" style=\"stroke-width:2.41004\">\n",
       "          <path sodipodi:type=\"star\" style=\"fill:currentColor;fill-opacity:1;stroke-width:29.4809;stroke-miterlimit:4;stroke-dasharray:none\" id=\"path1845-7-5-7-6-0\" inkscape:flatsided=\"true\" sodipodi:sides=\"3\" sodipodi:cx=\"1019.0918\" sodipodi:cy=\"-481.03027\" sodipodi:r1=\"115.65684\" sodipodi:r2=\"187.39349\" sodipodi:arg1=\"-1.5604471\" sodipodi:arg2=\"-0.51324957\" inkscape:rounded=\"0\" inkscape:randomized=\"0\" transform=\"matrix(0.07343639,-0.00655922,0.00604354,0.08018575,284.40075,-29.693185)\" inkscape:transform-center-x=\"5.9997774\" inkscape:transform-center-y=\"0.20935791\" d=\"m 1020.2887,-596.68092 98.361,174.51255 -200.31277,-2.07316 z\"/>\n",
       "          <path style=\"stroke:currentColor;stroke-width:5.00526;stroke-miterlimit:4;stroke-dasharray:none\" d=\"M 355.53236,83.808526 356.1433,-70.605636\" id=\"path2179-5-3-84-3-3\"/>\n",
       "        </g>\n",
       "      </g>\n",
       "      <g id=\"g2263-3-6-5-0\" transform=\"matrix(0.29176199,0.14990335,0.16895723,-0.26993726,11.573184,-47.617802)\" style=\"display:inline;stroke-width:2.25454\" inkscape:transform-center-x=\"-7.6176864\" inkscape:transform-center-y=\"-10.835851\">\n",
       "        <g id=\"g2383-6-7-0-44\" transform=\"matrix(0.48731255,0.02423459,0.01279726,0.50441827,306.3094,-31.083282)\" style=\"stroke-width:2.41004\">\n",
       "          <path sodipodi:type=\"star\" style=\"fill:currentColor;fill-opacity:1;stroke-width:29.4809;stroke-miterlimit:4;stroke-dasharray:none\" id=\"path1845-7-5-3-4\" inkscape:flatsided=\"true\" sodipodi:sides=\"3\" sodipodi:cx=\"1019.0918\" sodipodi:cy=\"-481.03027\" sodipodi:r1=\"115.65684\" sodipodi:r2=\"187.39349\" sodipodi:arg1=\"-1.5604471\" sodipodi:arg2=\"-0.51324957\" inkscape:rounded=\"0\" inkscape:randomized=\"0\" transform=\"matrix(0.07343639,-0.00655922,0.00604354,0.08018575,284.40075,-29.693185)\" inkscape:transform-center-x=\"5.9997774\" inkscape:transform-center-y=\"0.20935791\" d=\"m 1020.2887,-596.68092 98.361,174.51255 -200.31277,-2.07316 z\"/>\n",
       "          <path style=\"stroke:currentColor;stroke-width:5.00526;stroke-miterlimit:4;stroke-dasharray:none\" d=\"M 355.53236,83.808526 356.1433,-70.605636\" id=\"path2179-5-3-6-4\"/>\n",
       "        </g>\n",
       "      </g>\n",
       "      <g id=\"g2263-3-6-1-1-2-7\" transform=\"matrix(-0.03895162,0.32569747,-0.31826527,-0.01094927,28.660061,-50.52347)\" style=\"display:inline;stroke-width:2.25454\" inkscape:transform-center-x=\"13.243146\" inkscape:transform-center-y=\"0.50808596\">\n",
       "        <g id=\"g2383-6-7-94-0-0-6\" transform=\"matrix(0.48731255,0.02423459,0.01279726,0.50441827,306.3094,-31.083282)\" style=\"stroke-width:2.41004\">\n",
       "          <path sodipodi:type=\"star\" style=\"fill:currentColor;fill-opacity:1;stroke-width:29.4809;stroke-miterlimit:4;stroke-dasharray:none\" id=\"path1845-7-5-7-6-6-3\" inkscape:flatsided=\"true\" sodipodi:sides=\"3\" sodipodi:cx=\"1019.0918\" sodipodi:cy=\"-481.03027\" sodipodi:r1=\"115.65684\" sodipodi:r2=\"187.39349\" sodipodi:arg1=\"-1.5604471\" sodipodi:arg2=\"-0.51324957\" inkscape:rounded=\"0\" inkscape:randomized=\"0\" transform=\"matrix(0.07343639,-0.00655922,0.00604354,0.08018575,284.40075,-29.693185)\" inkscape:transform-center-x=\"5.9997774\" inkscape:transform-center-y=\"0.20935791\" d=\"m 1020.2887,-596.68092 98.361,174.51255 -200.31277,-2.07316 z\"/>\n",
       "          <path style=\"stroke:currentColor;stroke-width:5.00526;stroke-miterlimit:4;stroke-dasharray:none\" d=\"M 355.53236,83.808526 356.1433,-70.605636\" id=\"path2179-5-3-84-3-1-1\"/>\n",
       "        </g>\n",
       "      </g>\n",
       "      <g id=\"g2263-3-6-1-1-2-5-75\" transform=\"matrix(0.03895162,0.32569747,0.31826527,-0.01094927,174.5055,-47.244865)\" style=\"display:inline;stroke-width:2.25454\" inkscape:transform-center-x=\"-13.243147\" inkscape:transform-center-y=\"0.50808596\">\n",
       "        <g id=\"g2383-6-7-94-0-0-5-9\" transform=\"matrix(0.48731255,0.02423459,0.01279726,0.50441827,306.3094,-31.083282)\" style=\"stroke-width:2.41004\">\n",
       "          <path sodipodi:type=\"star\" style=\"fill:currentColor;fill-opacity:1;stroke-width:29.4809;stroke-miterlimit:4;stroke-dasharray:none\" id=\"path1845-7-5-7-6-6-4-6\" inkscape:flatsided=\"true\" sodipodi:sides=\"3\" sodipodi:cx=\"1019.0918\" sodipodi:cy=\"-481.03027\" sodipodi:r1=\"115.65684\" sodipodi:r2=\"187.39349\" sodipodi:arg1=\"-1.5604471\" sodipodi:arg2=\"-0.51324957\" inkscape:rounded=\"0\" inkscape:randomized=\"0\" transform=\"matrix(0.07343639,-0.00655922,0.00604354,0.08018575,284.40075,-29.693185)\" inkscape:transform-center-x=\"5.9997774\" inkscape:transform-center-y=\"0.20935791\" d=\"m 1020.2887,-596.68092 98.361,174.51255 -200.31277,-2.07316 z\"/>\n",
       "          <path style=\"stroke:currentColor;stroke-width:5.00526;stroke-miterlimit:4;stroke-dasharray:none\" d=\"M 355.53236,83.808526 356.1433,-70.605636\" id=\"path2179-5-3-84-3-1-7-21\"/>\n",
       "        </g>\n",
       "      </g>\n",
       "      <g id=\"g2263-3-6-6-7\" transform=\"matrix(-0.29176199,-0.14990335,-0.16895723,0.26993726,189.023,260.11837)\" style=\"display:inline;stroke-width:2.25454\" inkscape:transform-center-x=\"7.6176864\" inkscape:transform-center-y=\"10.835847\">\n",
       "        <g id=\"g2383-6-7-5-8\" transform=\"matrix(0.48731255,0.02423459,0.01279726,0.50441827,306.3094,-31.083282)\" style=\"stroke-width:2.41004\">\n",
       "          <path sodipodi:type=\"star\" style=\"fill:currentColor;fill-opacity:1;stroke-width:29.4809;stroke-miterlimit:4;stroke-dasharray:none\" id=\"path1845-7-5-6-5\" inkscape:flatsided=\"true\" sodipodi:sides=\"3\" sodipodi:cx=\"1019.0918\" sodipodi:cy=\"-481.03027\" sodipodi:r1=\"115.65684\" sodipodi:r2=\"187.39349\" sodipodi:arg1=\"-1.5604471\" sodipodi:arg2=\"-0.51324957\" inkscape:rounded=\"0\" inkscape:randomized=\"0\" transform=\"matrix(0.07343639,-0.00655922,0.00604354,0.08018575,284.40075,-29.693185)\" inkscape:transform-center-x=\"5.9997774\" inkscape:transform-center-y=\"0.20935791\" d=\"m 1020.2887,-596.68092 98.361,174.51255 -200.31277,-2.07316 z\"/>\n",
       "          <path style=\"stroke:currentColor;stroke-width:5.00526;stroke-miterlimit:4;stroke-dasharray:none\" d=\"M 355.53236,83.808526 356.1433,-70.605636\" id=\"path2179-5-3-9-7\"/>\n",
       "        </g>\n",
       "      </g>\n",
       "      <g id=\"g2263-3-6-1-3-4\" transform=\"matrix(0.18025679,-0.27405029,0.27990102,0.15188183,107.0932,284.02771)\" style=\"display:inline;stroke-width:2.25454\" inkscape:transform-center-x=\"-11.963107\" inkscape:transform-center-y=\"5.6362473\">\n",
       "        <g id=\"g2383-6-7-94-7-1\" transform=\"matrix(0.48731255,0.02423459,0.01279726,0.50441827,306.3094,-31.083282)\" style=\"stroke-width:2.41004\">\n",
       "          <path sodipodi:type=\"star\" style=\"fill:currentColor;fill-opacity:1;stroke-width:29.4809;stroke-miterlimit:4;stroke-dasharray:none\" id=\"path1845-7-5-7-4-8\" inkscape:flatsided=\"true\" sodipodi:sides=\"3\" sodipodi:cx=\"1019.0918\" sodipodi:cy=\"-481.03027\" sodipodi:r1=\"115.65684\" sodipodi:r2=\"187.39349\" sodipodi:arg1=\"-1.5604471\" sodipodi:arg2=\"-0.51324957\" inkscape:rounded=\"0\" inkscape:randomized=\"0\" transform=\"matrix(0.07343639,-0.00655922,0.00604354,0.08018575,284.40075,-29.693185)\" inkscape:transform-center-x=\"5.9997774\" inkscape:transform-center-y=\"0.20935791\" d=\"m 1020.2887,-596.68092 98.361,174.51255 -200.31277,-2.07316 z\"/>\n",
       "          <path style=\"stroke:currentColor;stroke-width:5.00526;stroke-miterlimit:4;stroke-dasharray:none\" d=\"M 355.53236,83.808526 356.1433,-70.605636\" id=\"path2179-5-3-84-5-5\"/>\n",
       "        </g>\n",
       "      </g>\n",
       "      <g id=\"g2263-3-6-1-1-25-9\" transform=\"matrix(-0.18025679,-0.27405029,-0.27990102,0.15188183,100.684,277.2573)\" style=\"display:inline;stroke-width:2.25454\" inkscape:transform-center-x=\"11.963109\" inkscape:transform-center-y=\"5.6362473\">\n",
       "        <g id=\"g2383-6-7-94-0-4-7\" transform=\"matrix(0.48731255,0.02423459,0.01279726,0.50441827,306.3094,-31.083282)\" style=\"stroke-width:2.41004\">\n",
       "          <path sodipodi:type=\"star\" style=\"fill:currentColor;fill-opacity:1;stroke-width:29.4809;stroke-miterlimit:4;stroke-dasharray:none\" id=\"path1845-7-5-7-6-7-5\" inkscape:flatsided=\"true\" sodipodi:sides=\"3\" sodipodi:cx=\"1019.0918\" sodipodi:cy=\"-481.03027\" sodipodi:r1=\"115.65684\" sodipodi:r2=\"187.39349\" sodipodi:arg1=\"-1.5604471\" sodipodi:arg2=\"-0.51324957\" inkscape:rounded=\"0\" inkscape:randomized=\"0\" transform=\"matrix(0.07343639,-0.00655922,0.00604354,0.08018575,284.40075,-29.693185)\" inkscape:transform-center-x=\"5.9997774\" inkscape:transform-center-y=\"0.20935791\" d=\"m 1020.2887,-596.68092 98.361,174.51255 -200.31277,-2.07316 z\"/>\n",
       "          <path style=\"stroke:currentColor;stroke-width:5.00526;stroke-miterlimit:4;stroke-dasharray:none\" d=\"M 355.53236,83.808526 356.1433,-70.605636\" id=\"path2179-5-3-84-3-4-3\"/>\n",
       "        </g>\n",
       "      </g>\n",
       "      <g id=\"g2263-3-6-5-4-8\" transform=\"matrix(0.29176199,-0.14990335,0.16895723,0.26993726,11.105332,260.41035)\" style=\"display:inline;stroke-width:2.25454\" inkscape:transform-center-x=\"-7.6176864\" inkscape:transform-center-y=\"10.835853\">\n",
       "        <g id=\"g2383-6-7-0-3-8\" transform=\"matrix(0.48731255,0.02423459,0.01279726,0.50441827,306.3094,-31.083282)\" style=\"stroke-width:2.41004\">\n",
       "          <path sodipodi:type=\"star\" style=\"fill:currentColor;fill-opacity:1;stroke-width:29.4809;stroke-miterlimit:4;stroke-dasharray:none\" id=\"path1845-7-5-3-0-3\" inkscape:flatsided=\"true\" sodipodi:sides=\"3\" sodipodi:cx=\"1019.0918\" sodipodi:cy=\"-481.03027\" sodipodi:r1=\"115.65684\" sodipodi:r2=\"187.39349\" sodipodi:arg1=\"-1.5604471\" sodipodi:arg2=\"-0.51324957\" inkscape:rounded=\"0\" inkscape:randomized=\"0\" transform=\"matrix(0.07343639,-0.00655922,0.00604354,0.08018575,284.40075,-29.693185)\" inkscape:transform-center-x=\"5.9997774\" inkscape:transform-center-y=\"0.20935791\" d=\"m 1020.2887,-596.68092 98.361,174.51255 -200.31277,-2.07316 z\"/>\n",
       "          <path style=\"stroke:currentColor;stroke-width:5.00526;stroke-miterlimit:4;stroke-dasharray:none\" d=\"M 355.53236,83.808526 356.1433,-70.605636\" id=\"path2179-5-3-6-7-18\"/>\n",
       "        </g>\n",
       "      </g>\n",
       "      <g id=\"g2263-3-6-4-9\" transform=\"matrix(-0.05964617,-0.21761963,0.21563101,-0.06706118,205.7114,192.81688)\" style=\"display:inline;stroke-width:3.22317\" inkscape:transform-center-x=\"3.4932938\" inkscape:transform-center-y=\"-8.6059679\">\n",
       "        <g id=\"g2383-6-7-3-64\" transform=\"matrix(0.48731255,0.02423459,0.01279726,0.50441827,306.3094,-31.083282)\" style=\"stroke-width:3.44548\">\n",
       "          <path sodipodi:type=\"star\" style=\"fill:currentColor;fill-opacity:1;stroke-width:42.147;stroke-miterlimit:4;stroke-dasharray:none\" id=\"path1845-7-5-1-3\" inkscape:flatsided=\"true\" sodipodi:sides=\"3\" sodipodi:cx=\"1019.0918\" sodipodi:cy=\"-481.03027\" sodipodi:r1=\"115.65684\" sodipodi:r2=\"187.39349\" sodipodi:arg1=\"-1.5604471\" sodipodi:arg2=\"-0.51324957\" inkscape:rounded=\"0\" inkscape:randomized=\"0\" transform=\"matrix(0.07343639,-0.00655922,0.00604354,0.08018575,284.40075,-29.693185)\" inkscape:transform-center-x=\"5.9997774\" inkscape:transform-center-y=\"0.20935791\" d=\"m 1020.2887,-596.68092 98.361,174.51255 -200.31277,-2.07316 z\"/>\n",
       "          <path style=\"stroke:currentColor;stroke-width:7.15571;stroke-miterlimit:4;stroke-dasharray:none\" d=\"M 355.53236,83.808526 356.1433,-70.605636\" id=\"path2179-5-3-4-33\"/>\n",
       "        </g>\n",
       "      </g>\n",
       "      <g id=\"g2263-3-6-1-9-8\" transform=\"matrix(-0.15993015,0.16851681,0.15406104,0.15609071,234.61972,78.100062)\" style=\"display:inline;stroke-width:3.22317\" inkscape:transform-center-x=\"-7.1990002\" inkscape:transform-center-y=\"-6.0167425\">\n",
       "        <g id=\"g2383-6-7-94-2-6\" transform=\"matrix(0.48731255,0.02423459,0.01279726,0.50441827,306.3094,-31.083282)\" style=\"stroke-width:3.44548\">\n",
       "          <path sodipodi:type=\"star\" style=\"fill:currentColor;fill-opacity:1;stroke-width:42.147;stroke-miterlimit:4;stroke-dasharray:none\" id=\"path1845-7-5-7-0-0\" inkscape:flatsided=\"true\" sodipodi:sides=\"3\" sodipodi:cx=\"1019.0918\" sodipodi:cy=\"-481.03027\" sodipodi:r1=\"115.65684\" sodipodi:r2=\"187.39349\" sodipodi:arg1=\"-1.5604471\" sodipodi:arg2=\"-0.51324957\" inkscape:rounded=\"0\" inkscape:randomized=\"0\" transform=\"matrix(0.07343639,-0.00655922,0.00604354,0.08018575,284.40075,-29.693185)\" inkscape:transform-center-x=\"5.9997774\" inkscape:transform-center-y=\"0.20935791\" d=\"m 1020.2887,-596.68092 98.361,174.51255 -200.31277,-2.07316 z\"/>\n",
       "          <path style=\"stroke:currentColor;stroke-width:7.15571;stroke-miterlimit:4;stroke-dasharray:none\" d=\"M 355.53236,83.808526 356.1433,-70.605636\" id=\"path2179-5-3-84-6-4\"/>\n",
       "        </g>\n",
       "      </g>\n",
       "      <g id=\"g2263-3-6-5-6-8\" transform=\"matrix(-0.04755937,0.22060096,0.21898419,0.05503365,198.78647,22.641964)\" style=\"display:inline;stroke-width:3.22317\" inkscape:transform-center-x=\"-2.9895397\" inkscape:transform-center-y=\"-9.0025926\">\n",
       "        <g id=\"g2383-6-7-0-4-8\" transform=\"matrix(0.48731255,0.02423459,0.01279726,0.50441827,306.3094,-31.083282)\" style=\"stroke-width:3.44548\">\n",
       "          <path sodipodi:type=\"star\" style=\"fill:currentColor;fill-opacity:1;stroke-width:42.147;stroke-miterlimit:4;stroke-dasharray:none\" id=\"path1845-7-5-3-9-8\" inkscape:flatsided=\"true\" sodipodi:sides=\"3\" sodipodi:cx=\"1019.0918\" sodipodi:cy=\"-481.03027\" sodipodi:r1=\"115.65684\" sodipodi:r2=\"187.39349\" sodipodi:arg1=\"-1.5604471\" sodipodi:arg2=\"-0.51324957\" inkscape:rounded=\"0\" inkscape:randomized=\"0\" transform=\"matrix(0.07343639,-0.00655922,0.00604354,0.08018575,284.40075,-29.693185)\" inkscape:transform-center-x=\"5.9997774\" inkscape:transform-center-y=\"0.20935791\" d=\"m 1020.2887,-596.68092 98.361,174.51255 -200.31277,-2.07316 z\"/>\n",
       "          <path style=\"stroke:currentColor;stroke-width:7.15571;stroke-miterlimit:4;stroke-dasharray:none\" d=\"M 355.53236,83.808526 356.1433,-70.605636\" id=\"path2179-5-3-6-5-9\"/>\n",
       "        </g>\n",
       "      </g>\n",
       "      <g id=\"g2263-3-6-1-1-2-0-7\" transform=\"matrix(-0.23462695,-0.02668512,0.0081306,-0.21612402,214.09615,59.568326)\" style=\"display:inline;stroke-width:3.22317\" inkscape:transform-center-x=\"9.3624161\" inkscape:transform-center-y=\"0.35916687\">\n",
       "        <g id=\"g2383-6-7-94-0-0-4-7\" transform=\"matrix(0.48731255,0.02423459,0.01279726,0.50441827,306.3094,-31.083282)\" style=\"stroke-width:3.44548\">\n",
       "          <path sodipodi:type=\"star\" style=\"fill:currentColor;fill-opacity:1;stroke-width:42.147;stroke-miterlimit:4;stroke-dasharray:none\" id=\"path1845-7-5-7-6-6-8-6\" inkscape:flatsided=\"true\" sodipodi:sides=\"3\" sodipodi:cx=\"1019.0918\" sodipodi:cy=\"-481.03027\" sodipodi:r1=\"115.65684\" sodipodi:r2=\"187.39349\" sodipodi:arg1=\"-1.5604471\" sodipodi:arg2=\"-0.51324957\" inkscape:rounded=\"0\" inkscape:randomized=\"0\" transform=\"matrix(0.07343639,-0.00655922,0.00604354,0.08018575,284.40075,-29.693185)\" inkscape:transform-center-x=\"5.9997774\" inkscape:transform-center-y=\"0.20935791\" d=\"m 1020.2887,-596.68092 98.361,174.51255 -200.31277,-2.07316 z\"/>\n",
       "          <path style=\"stroke:currentColor;stroke-width:7.15571;stroke-miterlimit:4;stroke-dasharray:none\" d=\"M 355.53236,83.808526 356.1433,-70.605636\" id=\"path2179-5-3-84-3-1-71-4\"/>\n",
       "        </g>\n",
       "      </g>\n",
       "      <g id=\"g2263-3-6-1-1-2-5-7-3\" transform=\"matrix(-0.23468617,0.02621846,0.00764672,0.21613971,213.73981,159.13783)\" style=\"display:inline;stroke-width:3.22317\" inkscape:transform-center-x=\"-9.3624165\" inkscape:transform-center-y=\"0.35916727\">\n",
       "        <g id=\"g2383-6-7-94-0-0-5-2-0\" transform=\"matrix(0.48731255,0.02423459,0.01279726,0.50441827,306.3094,-31.083282)\" style=\"stroke-width:3.44548\">\n",
       "          <path sodipodi:type=\"star\" style=\"fill:currentColor;fill-opacity:1;stroke-width:42.147;stroke-miterlimit:4;stroke-dasharray:none\" id=\"path1845-7-5-7-6-6-4-7-3\" inkscape:flatsided=\"true\" sodipodi:sides=\"3\" sodipodi:cx=\"1019.0918\" sodipodi:cy=\"-481.03027\" sodipodi:r1=\"115.65684\" sodipodi:r2=\"187.39349\" sodipodi:arg1=\"-1.5604471\" sodipodi:arg2=\"-0.51324957\" inkscape:rounded=\"0\" inkscape:randomized=\"0\" transform=\"matrix(0.07343639,-0.00655922,0.00604354,0.08018575,284.40075,-29.693185)\" inkscape:transform-center-x=\"5.9997774\" inkscape:transform-center-y=\"0.20935791\" d=\"m 1020.2887,-596.68092 98.361,174.51255 -200.31277,-2.07316 z\"/>\n",
       "          <path style=\"stroke:currentColor;stroke-width:7.15571;stroke-miterlimit:4;stroke-dasharray:none\" d=\"M 355.53236,83.808526 356.1433,-70.605636\" id=\"path2179-5-3-84-3-1-7-2-0\"/>\n",
       "        </g>\n",
       "      </g>\n",
       "      <g id=\"g2263-3-6-6-2-9\" transform=\"matrix(0.15270839,-0.16615302,-0.16097439,-0.15833516,-23.622086,138.96791)\" style=\"display:inline;stroke-width:3.22317\" inkscape:transform-center-x=\"7.0709065\" inkscape:transform-center-y=\"6.1383506\">\n",
       "        <g id=\"g2383-6-7-5-6-2\" transform=\"matrix(0.48731255,0.02423459,0.01279726,0.50441827,306.3094,-31.083282)\" style=\"stroke-width:3.44548\">\n",
       "          <path sodipodi:type=\"star\" style=\"fill:currentColor;fill-opacity:1;stroke-width:42.147;stroke-miterlimit:4;stroke-dasharray:none\" id=\"path1845-7-5-6-1-5\" inkscape:flatsided=\"true\" sodipodi:sides=\"3\" sodipodi:cx=\"1019.0918\" sodipodi:cy=\"-481.03027\" sodipodi:r1=\"115.65684\" sodipodi:r2=\"187.39349\" sodipodi:arg1=\"-1.5604471\" sodipodi:arg2=\"-0.51324957\" inkscape:rounded=\"0\" inkscape:randomized=\"0\" transform=\"matrix(0.07343639,-0.00655922,0.00604354,0.08018575,284.40075,-29.693185)\" inkscape:transform-center-x=\"5.9997774\" inkscape:transform-center-y=\"0.20935791\" d=\"m 1020.2887,-596.68092 98.361,174.51255 -200.31277,-2.07316 z\"/>\n",
       "          <path style=\"stroke:currentColor;stroke-width:7.15571;stroke-miterlimit:4;stroke-dasharray:none\" d=\"M 355.53236,83.808526 356.1433,-70.605636\" id=\"path2179-5-3-9-0-4\"/>\n",
       "        </g>\n",
       "      </g>\n",
       "      <g id=\"g2263-3-6-6-2-1-0\" transform=\"matrix(-0.15270839,-0.16615302,0.16097439,-0.15833516,228.04254,131.5268)\" style=\"display:inline;stroke-width:3.22317\" inkscape:transform-center-x=\"-7.0709078\" inkscape:transform-center-y=\"6.1383506\">\n",
       "        <g id=\"g2383-6-7-5-6-5-5\" transform=\"matrix(0.48731255,0.02423459,0.01279726,0.50441827,306.3094,-31.083282)\" style=\"stroke-width:3.44548\">\n",
       "          <path sodipodi:type=\"star\" style=\"fill:currentColor;fill-opacity:1;stroke-width:42.147;stroke-miterlimit:4;stroke-dasharray:none\" id=\"path1845-7-5-6-1-9-9\" inkscape:flatsided=\"true\" sodipodi:sides=\"3\" sodipodi:cx=\"1019.0918\" sodipodi:cy=\"-481.03027\" sodipodi:r1=\"115.65684\" sodipodi:r2=\"187.39349\" sodipodi:arg1=\"-1.5604471\" sodipodi:arg2=\"-0.51324957\" inkscape:rounded=\"0\" inkscape:randomized=\"0\" transform=\"matrix(0.07343639,-0.00655922,0.00604354,0.08018575,284.40075,-29.693185)\" inkscape:transform-center-x=\"5.9997774\" inkscape:transform-center-y=\"0.20935791\" d=\"m 1020.2887,-596.68092 98.361,174.51255 -200.31277,-2.07316 z\"/>\n",
       "          <path style=\"stroke:currentColor;stroke-width:7.15571;stroke-miterlimit:4;stroke-dasharray:none\" d=\"M 355.53236,83.808526 356.1433,-70.605636\" id=\"path2179-5-3-9-0-7-4\"/>\n",
       "        </g>\n",
       "      </g>\n",
       "      <g id=\"g2263-3-6-5-4-1-69\" transform=\"matrix(0.12311506,0.18909959,-0.1849463,0.12957161,-14.438572,63.340355)\" style=\"display:inline;stroke-width:3.22317\" inkscape:transform-center-x=\"-5.9741519\" inkscape:transform-center-y=\"7.2101785\">\n",
       "        <g id=\"g2383-6-7-0-3-7-2\" transform=\"matrix(0.48731255,0.02423459,0.01279726,0.50441827,306.3094,-31.083282)\" style=\"stroke-width:3.44548\">\n",
       "          <path sodipodi:type=\"star\" style=\"fill:currentColor;fill-opacity:1;stroke-width:42.147;stroke-miterlimit:4;stroke-dasharray:none\" id=\"path1845-7-5-3-0-7-2\" inkscape:flatsided=\"true\" sodipodi:sides=\"3\" sodipodi:cx=\"1019.0918\" sodipodi:cy=\"-481.03027\" sodipodi:r1=\"115.65684\" sodipodi:r2=\"187.39349\" sodipodi:arg1=\"-1.5604471\" sodipodi:arg2=\"-0.51324957\" inkscape:rounded=\"0\" inkscape:randomized=\"0\" transform=\"matrix(0.07343639,-0.00655922,0.00604354,0.08018575,284.40075,-29.693185)\" inkscape:transform-center-x=\"5.9997774\" inkscape:transform-center-y=\"0.20935791\" d=\"m 1020.2887,-596.68092 98.361,174.51255 -200.31277,-2.07316 z\"/>\n",
       "          <path style=\"stroke:currentColor;stroke-width:7.15571;stroke-miterlimit:4;stroke-dasharray:none\" d=\"M 355.53236,83.808526 356.1433,-70.605636\" id=\"path2179-5-3-6-7-1-4\"/>\n",
       "        </g>\n",
       "      </g>\n",
       "      <g id=\"g2263-3-6-5-4-1-6-7\" transform=\"matrix(0.07573347,0.21255685,-0.21001996,0.08297923,-8.0553163,19.382928)\" style=\"display:inline;stroke-width:3.22317\" inkscape:transform-center-x=\"-4.1324087\" inkscape:transform-center-y=\"8.3852268\">\n",
       "        <g id=\"g2383-6-7-0-3-7-5-7\" transform=\"matrix(0.48731255,0.02423459,0.01279726,0.50441827,306.3094,-31.083282)\" style=\"stroke-width:3.44548\">\n",
       "          <path sodipodi:type=\"star\" style=\"fill:currentColor;fill-opacity:1;stroke-width:42.147;stroke-miterlimit:4;stroke-dasharray:none\" id=\"path1845-7-5-3-0-7-6-5\" inkscape:flatsided=\"true\" sodipodi:sides=\"3\" sodipodi:cx=\"1019.0918\" sodipodi:cy=\"-481.03027\" sodipodi:r1=\"115.65684\" sodipodi:r2=\"187.39349\" sodipodi:arg1=\"-1.5604471\" sodipodi:arg2=\"-0.51324957\" inkscape:rounded=\"0\" inkscape:randomized=\"0\" transform=\"matrix(0.07343639,-0.00655922,0.00604354,0.08018575,284.40075,-29.693185)\" inkscape:transform-center-x=\"5.9997774\" inkscape:transform-center-y=\"0.20935791\" d=\"m 1020.2887,-596.68092 98.361,174.51255 -200.31277,-2.07316 z\"/>\n",
       "          <path style=\"stroke:currentColor;stroke-width:7.15571;stroke-miterlimit:4;stroke-dasharray:none\" d=\"M 355.53236,83.808526 356.1433,-70.605636\" id=\"path2179-5-3-6-7-1-3-4\"/>\n",
       "        </g>\n",
       "      </g>\n",
       "      <g id=\"g2263-3-6-4-7-8\" transform=\"matrix(0.05964617,-0.21761963,-0.21563101,-0.06706118,0.7035711,194.95473)\" style=\"display:inline;stroke-width:3.22317\" inkscape:transform-center-x=\"-3.4932938\" inkscape:transform-center-y=\"-8.6059679\">\n",
       "        <g id=\"g2383-6-7-3-6-1\" transform=\"matrix(0.48731255,0.02423459,0.01279726,0.50441827,306.3094,-31.083282)\" style=\"stroke-width:3.44548\">\n",
       "          <path sodipodi:type=\"star\" style=\"fill:currentColor;fill-opacity:1;stroke-width:42.147;stroke-miterlimit:4;stroke-dasharray:none\" id=\"path1845-7-5-1-7-2\" inkscape:flatsided=\"true\" sodipodi:sides=\"3\" sodipodi:cx=\"1019.0918\" sodipodi:cy=\"-481.03027\" sodipodi:r1=\"115.65684\" sodipodi:r2=\"187.39349\" sodipodi:arg1=\"-1.5604471\" sodipodi:arg2=\"-0.51324957\" inkscape:rounded=\"0\" inkscape:randomized=\"0\" transform=\"matrix(0.07343639,-0.00655922,0.00604354,0.08018575,284.40075,-29.693185)\" inkscape:transform-center-x=\"5.9997774\" inkscape:transform-center-y=\"0.20935791\" d=\"m 1020.2887,-596.68092 98.361,174.51255 -200.31277,-2.07316 z\"/>\n",
       "          <path style=\"stroke:currentColor;stroke-width:7.15571;stroke-miterlimit:4;stroke-dasharray:none\" d=\"M 355.53236,83.808526 356.1433,-70.605636\" id=\"path2179-5-3-4-3-8\"/>\n",
       "        </g>\n",
       "      </g>\n",
       "    </g>\n",
       "    <path id=\"rect63431-8-7\" style=\"display:inline;fill:none;stroke:currentColor;stroke-width:3;stroke-miterlimit:4;stroke-dasharray:none\" d=\"m 247.41429,83.266028 0.94375,25.685322 c -15.201,-17.560672 -42.76342,-51.547154 -42.76342,-51.547154 0,0 27.56242,-33.98648 42.76342,-51.5471501 l -0.94375,25.6853201 c 28.65987,0 57.31972,0 85.97959,0 L 332.45013,5.8570459 c 15.20101,17.5606701 42.76343,51.5471501 42.76343,51.5471501 0,0 -27.56242,33.986482 -42.76343,51.547154 l 0.94375,-25.685322 c -28.65987,0 -57.31972,0 -85.97959,0 z\" sodipodi:nodetypes=\"ccccccccccc\"/>\n",
       "  </g>\n",
       "  <g inkscape:groupmode=\"layer\" id=\"layer3\" inkscape:label=\"gravity\" style=\"display:none\" transform=\"translate(23.812496)\">\n",
       "    <g id=\"g52271\">\n",
       "      <text xml:space=\"preserve\" transform=\"matrix(0.26458333,0,0,0.26458333,58.69016,33.047535)\" id=\"text88671-9\" style=\"font-size:66.6667px;line-height:1.25;font-family:sans-serif;text-align:center;white-space:pre;shape-inside:url(#rect88673-5);fill:currentColor\"><tspan x=\"0\" y=\"0\" id=\"tspan70042\"><tspan style=\"font-weight:bold;-inkscape-font-specification:'sans-serif Bold'\" id=\"tspan70040\">g</tspan></tspan></text>\n",
       "      <g id=\"g2263-3-6\" transform=\"matrix(-0.29176199,0.14990335,-0.16895723,-0.26993726,189.49085,-47.325828)\" style=\"stroke-width:2.25454\" inkscape:transform-center-x=\"7.6176864\" inkscape:transform-center-y=\"-10.835851\">\n",
       "        <g id=\"g2383-6-7\" transform=\"matrix(0.48731255,0.02423459,0.01279726,0.50441827,306.3094,-31.083282)\" style=\"stroke-width:2.41004\">\n",
       "          <path sodipodi:type=\"star\" style=\"fill:currentColor;fill-opacity:1;stroke-width:29.4809;stroke-miterlimit:4;stroke-dasharray:none\" id=\"path1845-7-5\" inkscape:flatsided=\"true\" sodipodi:sides=\"3\" sodipodi:cx=\"1019.0918\" sodipodi:cy=\"-481.03027\" sodipodi:r1=\"115.65684\" sodipodi:r2=\"187.39349\" sodipodi:arg1=\"-1.5604471\" sodipodi:arg2=\"-0.51324957\" inkscape:rounded=\"0\" inkscape:randomized=\"0\" transform=\"matrix(0.07343639,-0.00655922,0.00604354,0.08018575,284.40075,-29.693185)\" inkscape:transform-center-x=\"5.9997774\" inkscape:transform-center-y=\"0.20935791\" d=\"m 1020.2887,-596.68092 98.361,174.51255 -200.31277,-2.07316 z\"/>\n",
       "          <path style=\"stroke:currentColor;stroke-width:5.00526;stroke-miterlimit:4;stroke-dasharray:none\" d=\"M 355.53236,83.808526 356.1433,-70.605636\" id=\"path2179-5-3\"/>\n",
       "        </g>\n",
       "      </g>\n",
       "      <g id=\"g2263-3-6-1\" transform=\"matrix(0.18025679,0.27405029,0.27990102,-0.15188183,107.56105,-71.235167)\" style=\"display:inline;stroke-width:2.25454\" inkscape:transform-center-x=\"-11.963107\" inkscape:transform-center-y=\"-5.6362505\">\n",
       "        <g id=\"g2383-6-7-94\" transform=\"matrix(0.48731255,0.02423459,0.01279726,0.50441827,306.3094,-31.083282)\" style=\"stroke-width:2.41004\">\n",
       "          <path sodipodi:type=\"star\" style=\"fill:currentColor;fill-opacity:1;stroke-width:29.4809;stroke-miterlimit:4;stroke-dasharray:none\" id=\"path1845-7-5-7\" inkscape:flatsided=\"true\" sodipodi:sides=\"3\" sodipodi:cx=\"1019.0918\" sodipodi:cy=\"-481.03027\" sodipodi:r1=\"115.65684\" sodipodi:r2=\"187.39349\" sodipodi:arg1=\"-1.5604471\" sodipodi:arg2=\"-0.51324957\" inkscape:rounded=\"0\" inkscape:randomized=\"0\" transform=\"matrix(0.07343639,-0.00655922,0.00604354,0.08018575,284.40075,-29.693185)\" inkscape:transform-center-x=\"5.9997774\" inkscape:transform-center-y=\"0.20935791\" d=\"m 1020.2887,-596.68092 98.361,174.51255 -200.31277,-2.07316 z\"/>\n",
       "          <path style=\"stroke:currentColor;stroke-width:5.00526;stroke-miterlimit:4;stroke-dasharray:none\" d=\"M 355.53236,83.808526 356.1433,-70.605636\" id=\"path2179-5-3-84\"/>\n",
       "        </g>\n",
       "      </g>\n",
       "      <g id=\"g2263-3-6-1-1\" transform=\"matrix(-0.18025679,0.27405029,-0.27990102,-0.15188183,101.15185,-64.464757)\" style=\"display:inline;stroke-width:2.25454\" inkscape:transform-center-x=\"11.963109\" inkscape:transform-center-y=\"-5.6362505\">\n",
       "        <g id=\"g2383-6-7-94-0\" transform=\"matrix(0.48731255,0.02423459,0.01279726,0.50441827,306.3094,-31.083282)\" style=\"stroke-width:2.41004\">\n",
       "          <path sodipodi:type=\"star\" style=\"fill:currentColor;fill-opacity:1;stroke-width:29.4809;stroke-miterlimit:4;stroke-dasharray:none\" id=\"path1845-7-5-7-6\" inkscape:flatsided=\"true\" sodipodi:sides=\"3\" sodipodi:cx=\"1019.0918\" sodipodi:cy=\"-481.03027\" sodipodi:r1=\"115.65684\" sodipodi:r2=\"187.39349\" sodipodi:arg1=\"-1.5604471\" sodipodi:arg2=\"-0.51324957\" inkscape:rounded=\"0\" inkscape:randomized=\"0\" transform=\"matrix(0.07343639,-0.00655922,0.00604354,0.08018575,284.40075,-29.693185)\" inkscape:transform-center-x=\"5.9997774\" inkscape:transform-center-y=\"0.20935791\" d=\"m 1020.2887,-596.68092 98.361,174.51255 -200.31277,-2.07316 z\"/>\n",
       "          <path style=\"stroke:currentColor;stroke-width:5.00526;stroke-miterlimit:4;stroke-dasharray:none\" d=\"M 355.53236,83.808526 356.1433,-70.605636\" id=\"path2179-5-3-84-3\"/>\n",
       "        </g>\n",
       "      </g>\n",
       "      <g id=\"g2263-3-6-5\" transform=\"matrix(0.29176199,0.14990335,0.16895723,-0.26993726,11.573184,-47.617802)\" style=\"display:inline;stroke-width:2.25454\" inkscape:transform-center-x=\"-7.6176864\" inkscape:transform-center-y=\"-10.835851\">\n",
       "        <g id=\"g2383-6-7-0\" transform=\"matrix(0.48731255,0.02423459,0.01279726,0.50441827,306.3094,-31.083282)\" style=\"stroke-width:2.41004\">\n",
       "          <path sodipodi:type=\"star\" style=\"fill:currentColor;fill-opacity:1;stroke-width:29.4809;stroke-miterlimit:4;stroke-dasharray:none\" id=\"path1845-7-5-3\" inkscape:flatsided=\"true\" sodipodi:sides=\"3\" sodipodi:cx=\"1019.0918\" sodipodi:cy=\"-481.03027\" sodipodi:r1=\"115.65684\" sodipodi:r2=\"187.39349\" sodipodi:arg1=\"-1.5604471\" sodipodi:arg2=\"-0.51324957\" inkscape:rounded=\"0\" inkscape:randomized=\"0\" transform=\"matrix(0.07343639,-0.00655922,0.00604354,0.08018575,284.40075,-29.693185)\" inkscape:transform-center-x=\"5.9997774\" inkscape:transform-center-y=\"0.20935791\" d=\"m 1020.2887,-596.68092 98.361,174.51255 -200.31277,-2.07316 z\"/>\n",
       "          <path style=\"stroke:currentColor;stroke-width:5.00526;stroke-miterlimit:4;stroke-dasharray:none\" d=\"M 355.53236,83.808526 356.1433,-70.605636\" id=\"path2179-5-3-6\"/>\n",
       "        </g>\n",
       "      </g>\n",
       "      <g id=\"g2263-3-6-1-1-2\" transform=\"matrix(-0.03895162,0.32569747,-0.31826527,-0.01094927,28.660061,-50.52347)\" style=\"display:inline;stroke-width:2.25454\" inkscape:transform-center-x=\"13.243146\" inkscape:transform-center-y=\"0.50808596\">\n",
       "        <g id=\"g2383-6-7-94-0-0\" transform=\"matrix(0.48731255,0.02423459,0.01279726,0.50441827,306.3094,-31.083282)\" style=\"stroke-width:2.41004\">\n",
       "          <path sodipodi:type=\"star\" style=\"fill:currentColor;fill-opacity:1;stroke-width:29.4809;stroke-miterlimit:4;stroke-dasharray:none\" id=\"path1845-7-5-7-6-6\" inkscape:flatsided=\"true\" sodipodi:sides=\"3\" sodipodi:cx=\"1019.0918\" sodipodi:cy=\"-481.03027\" sodipodi:r1=\"115.65684\" sodipodi:r2=\"187.39349\" sodipodi:arg1=\"-1.5604471\" sodipodi:arg2=\"-0.51324957\" inkscape:rounded=\"0\" inkscape:randomized=\"0\" transform=\"matrix(0.07343639,-0.00655922,0.00604354,0.08018575,284.40075,-29.693185)\" inkscape:transform-center-x=\"5.9997774\" inkscape:transform-center-y=\"0.20935791\" d=\"m 1020.2887,-596.68092 98.361,174.51255 -200.31277,-2.07316 z\"/>\n",
       "          <path style=\"stroke:currentColor;stroke-width:5.00526;stroke-miterlimit:4;stroke-dasharray:none\" d=\"M 355.53236,83.808526 356.1433,-70.605636\" id=\"path2179-5-3-84-3-1\"/>\n",
       "        </g>\n",
       "      </g>\n",
       "      <g id=\"g2263-3-6-1-1-2-5\" transform=\"matrix(0.03895162,0.32569747,0.31826527,-0.01094927,174.5055,-47.244865)\" style=\"display:inline;stroke-width:2.25454\" inkscape:transform-center-x=\"-13.243147\" inkscape:transform-center-y=\"0.50808596\">\n",
       "        <g id=\"g2383-6-7-94-0-0-5\" transform=\"matrix(0.48731255,0.02423459,0.01279726,0.50441827,306.3094,-31.083282)\" style=\"stroke-width:2.41004\">\n",
       "          <path sodipodi:type=\"star\" style=\"fill:currentColor;fill-opacity:1;stroke-width:29.4809;stroke-miterlimit:4;stroke-dasharray:none\" id=\"path1845-7-5-7-6-6-4\" inkscape:flatsided=\"true\" sodipodi:sides=\"3\" sodipodi:cx=\"1019.0918\" sodipodi:cy=\"-481.03027\" sodipodi:r1=\"115.65684\" sodipodi:r2=\"187.39349\" sodipodi:arg1=\"-1.5604471\" sodipodi:arg2=\"-0.51324957\" inkscape:rounded=\"0\" inkscape:randomized=\"0\" transform=\"matrix(0.07343639,-0.00655922,0.00604354,0.08018575,284.40075,-29.693185)\" inkscape:transform-center-x=\"5.9997774\" inkscape:transform-center-y=\"0.20935791\" d=\"m 1020.2887,-596.68092 98.361,174.51255 -200.31277,-2.07316 z\"/>\n",
       "          <path style=\"stroke:currentColor;stroke-width:5.00526;stroke-miterlimit:4;stroke-dasharray:none\" d=\"M 355.53236,83.808526 356.1433,-70.605636\" id=\"path2179-5-3-84-3-1-7\"/>\n",
       "        </g>\n",
       "      </g>\n",
       "      <g id=\"g2263-3-6-6\" transform=\"matrix(-0.29176199,-0.14990335,-0.16895723,0.26993726,189.023,260.11837)\" style=\"display:inline;stroke-width:2.25454\" inkscape:transform-center-x=\"7.6176864\" inkscape:transform-center-y=\"10.835847\">\n",
       "        <g id=\"g2383-6-7-5\" transform=\"matrix(0.48731255,0.02423459,0.01279726,0.50441827,306.3094,-31.083282)\" style=\"stroke-width:2.41004\">\n",
       "          <path sodipodi:type=\"star\" style=\"fill:currentColor;fill-opacity:1;stroke-width:29.4809;stroke-miterlimit:4;stroke-dasharray:none\" id=\"path1845-7-5-6\" inkscape:flatsided=\"true\" sodipodi:sides=\"3\" sodipodi:cx=\"1019.0918\" sodipodi:cy=\"-481.03027\" sodipodi:r1=\"115.65684\" sodipodi:r2=\"187.39349\" sodipodi:arg1=\"-1.5604471\" sodipodi:arg2=\"-0.51324957\" inkscape:rounded=\"0\" inkscape:randomized=\"0\" transform=\"matrix(0.07343639,-0.00655922,0.00604354,0.08018575,284.40075,-29.693185)\" inkscape:transform-center-x=\"5.9997774\" inkscape:transform-center-y=\"0.20935791\" d=\"m 1020.2887,-596.68092 98.361,174.51255 -200.31277,-2.07316 z\"/>\n",
       "          <path style=\"stroke:currentColor;stroke-width:5.00526;stroke-miterlimit:4;stroke-dasharray:none\" d=\"M 355.53236,83.808526 356.1433,-70.605636\" id=\"path2179-5-3-9\"/>\n",
       "        </g>\n",
       "      </g>\n",
       "      <g id=\"g2263-3-6-1-3\" transform=\"matrix(0.18025679,-0.27405029,0.27990102,0.15188183,107.0932,284.02771)\" style=\"display:inline;stroke-width:2.25454\" inkscape:transform-center-x=\"-11.963107\" inkscape:transform-center-y=\"5.6362473\">\n",
       "        <g id=\"g2383-6-7-94-7\" transform=\"matrix(0.48731255,0.02423459,0.01279726,0.50441827,306.3094,-31.083282)\" style=\"stroke-width:2.41004\">\n",
       "          <path sodipodi:type=\"star\" style=\"fill:currentColor;fill-opacity:1;stroke-width:29.4809;stroke-miterlimit:4;stroke-dasharray:none\" id=\"path1845-7-5-7-4\" inkscape:flatsided=\"true\" sodipodi:sides=\"3\" sodipodi:cx=\"1019.0918\" sodipodi:cy=\"-481.03027\" sodipodi:r1=\"115.65684\" sodipodi:r2=\"187.39349\" sodipodi:arg1=\"-1.5604471\" sodipodi:arg2=\"-0.51324957\" inkscape:rounded=\"0\" inkscape:randomized=\"0\" transform=\"matrix(0.07343639,-0.00655922,0.00604354,0.08018575,284.40075,-29.693185)\" inkscape:transform-center-x=\"5.9997774\" inkscape:transform-center-y=\"0.20935791\" d=\"m 1020.2887,-596.68092 98.361,174.51255 -200.31277,-2.07316 z\"/>\n",
       "          <path style=\"stroke:currentColor;stroke-width:5.00526;stroke-miterlimit:4;stroke-dasharray:none\" d=\"M 355.53236,83.808526 356.1433,-70.605636\" id=\"path2179-5-3-84-5\"/>\n",
       "        </g>\n",
       "      </g>\n",
       "      <g id=\"g2263-3-6-1-1-25\" transform=\"matrix(-0.18025679,-0.27405029,-0.27990102,0.15188183,100.684,277.2573)\" style=\"display:inline;stroke-width:2.25454\" inkscape:transform-center-x=\"11.963109\" inkscape:transform-center-y=\"5.6362473\">\n",
       "        <g id=\"g2383-6-7-94-0-4\" transform=\"matrix(0.48731255,0.02423459,0.01279726,0.50441827,306.3094,-31.083282)\" style=\"stroke-width:2.41004\">\n",
       "          <path sodipodi:type=\"star\" style=\"fill:currentColor;fill-opacity:1;stroke-width:29.4809;stroke-miterlimit:4;stroke-dasharray:none\" id=\"path1845-7-5-7-6-7\" inkscape:flatsided=\"true\" sodipodi:sides=\"3\" sodipodi:cx=\"1019.0918\" sodipodi:cy=\"-481.03027\" sodipodi:r1=\"115.65684\" sodipodi:r2=\"187.39349\" sodipodi:arg1=\"-1.5604471\" sodipodi:arg2=\"-0.51324957\" inkscape:rounded=\"0\" inkscape:randomized=\"0\" transform=\"matrix(0.07343639,-0.00655922,0.00604354,0.08018575,284.40075,-29.693185)\" inkscape:transform-center-x=\"5.9997774\" inkscape:transform-center-y=\"0.20935791\" d=\"m 1020.2887,-596.68092 98.361,174.51255 -200.31277,-2.07316 z\"/>\n",
       "          <path style=\"stroke:currentColor;stroke-width:5.00526;stroke-miterlimit:4;stroke-dasharray:none\" d=\"M 355.53236,83.808526 356.1433,-70.605636\" id=\"path2179-5-3-84-3-4\"/>\n",
       "        </g>\n",
       "      </g>\n",
       "      <g id=\"g2263-3-6-5-4\" transform=\"matrix(0.29176199,-0.14990335,0.16895723,0.26993726,11.105332,260.41035)\" style=\"display:inline;stroke-width:2.25454\" inkscape:transform-center-x=\"-7.6176864\" inkscape:transform-center-y=\"10.835853\">\n",
       "        <g id=\"g2383-6-7-0-3\" transform=\"matrix(0.48731255,0.02423459,0.01279726,0.50441827,306.3094,-31.083282)\" style=\"stroke-width:2.41004\">\n",
       "          <path sodipodi:type=\"star\" style=\"fill:currentColor;fill-opacity:1;stroke-width:29.4809;stroke-miterlimit:4;stroke-dasharray:none\" id=\"path1845-7-5-3-0\" inkscape:flatsided=\"true\" sodipodi:sides=\"3\" sodipodi:cx=\"1019.0918\" sodipodi:cy=\"-481.03027\" sodipodi:r1=\"115.65684\" sodipodi:r2=\"187.39349\" sodipodi:arg1=\"-1.5604471\" sodipodi:arg2=\"-0.51324957\" inkscape:rounded=\"0\" inkscape:randomized=\"0\" transform=\"matrix(0.07343639,-0.00655922,0.00604354,0.08018575,284.40075,-29.693185)\" inkscape:transform-center-x=\"5.9997774\" inkscape:transform-center-y=\"0.20935791\" d=\"m 1020.2887,-596.68092 98.361,174.51255 -200.31277,-2.07316 z\"/>\n",
       "          <path style=\"stroke:currentColor;stroke-width:5.00526;stroke-miterlimit:4;stroke-dasharray:none\" d=\"M 355.53236,83.808526 356.1433,-70.605636\" id=\"path2179-5-3-6-7\"/>\n",
       "        </g>\n",
       "      </g>\n",
       "      <g id=\"g2263-3-6-4\" transform=\"matrix(-0.05964617,-0.21761963,0.21563101,-0.06706118,205.7114,192.81688)\" style=\"display:inline;stroke-width:3.22317\" inkscape:transform-center-x=\"3.4932938\" inkscape:transform-center-y=\"-8.6059679\">\n",
       "        <g id=\"g2383-6-7-3\" transform=\"matrix(0.48731255,0.02423459,0.01279726,0.50441827,306.3094,-31.083282)\" style=\"stroke-width:3.44548\">\n",
       "          <path sodipodi:type=\"star\" style=\"fill:currentColor;fill-opacity:1;stroke-width:42.147;stroke-miterlimit:4;stroke-dasharray:none\" id=\"path1845-7-5-1\" inkscape:flatsided=\"true\" sodipodi:sides=\"3\" sodipodi:cx=\"1019.0918\" sodipodi:cy=\"-481.03027\" sodipodi:r1=\"115.65684\" sodipodi:r2=\"187.39349\" sodipodi:arg1=\"-1.5604471\" sodipodi:arg2=\"-0.51324957\" inkscape:rounded=\"0\" inkscape:randomized=\"0\" transform=\"matrix(0.07343639,-0.00655922,0.00604354,0.08018575,284.40075,-29.693185)\" inkscape:transform-center-x=\"5.9997774\" inkscape:transform-center-y=\"0.20935791\" d=\"m 1020.2887,-596.68092 98.361,174.51255 -200.31277,-2.07316 z\"/>\n",
       "          <path style=\"stroke:currentColor;stroke-width:7.15571;stroke-miterlimit:4;stroke-dasharray:none\" d=\"M 355.53236,83.808526 356.1433,-70.605636\" id=\"path2179-5-3-4\"/>\n",
       "        </g>\n",
       "      </g>\n",
       "      <g id=\"g2263-3-6-1-9\" transform=\"matrix(-0.15993015,0.16851681,0.15406104,0.15609071,234.61972,78.100062)\" style=\"display:inline;stroke-width:3.22317\" inkscape:transform-center-x=\"-7.1990002\" inkscape:transform-center-y=\"-6.0167425\">\n",
       "        <g id=\"g2383-6-7-94-2\" transform=\"matrix(0.48731255,0.02423459,0.01279726,0.50441827,306.3094,-31.083282)\" style=\"stroke-width:3.44548\">\n",
       "          <path sodipodi:type=\"star\" style=\"fill:currentColor;fill-opacity:1;stroke-width:42.147;stroke-miterlimit:4;stroke-dasharray:none\" id=\"path1845-7-5-7-0\" inkscape:flatsided=\"true\" sodipodi:sides=\"3\" sodipodi:cx=\"1019.0918\" sodipodi:cy=\"-481.03027\" sodipodi:r1=\"115.65684\" sodipodi:r2=\"187.39349\" sodipodi:arg1=\"-1.5604471\" sodipodi:arg2=\"-0.51324957\" inkscape:rounded=\"0\" inkscape:randomized=\"0\" transform=\"matrix(0.07343639,-0.00655922,0.00604354,0.08018575,284.40075,-29.693185)\" inkscape:transform-center-x=\"5.9997774\" inkscape:transform-center-y=\"0.20935791\" d=\"m 1020.2887,-596.68092 98.361,174.51255 -200.31277,-2.07316 z\"/>\n",
       "          <path style=\"stroke:currentColor;stroke-width:7.15571;stroke-miterlimit:4;stroke-dasharray:none\" d=\"M 355.53236,83.808526 356.1433,-70.605636\" id=\"path2179-5-3-84-6\"/>\n",
       "        </g>\n",
       "      </g>\n",
       "      <g id=\"g2263-3-6-5-6\" transform=\"matrix(-0.04755937,0.22060096,0.21898419,0.05503365,198.78647,22.641964)\" style=\"display:inline;stroke-width:3.22317\" inkscape:transform-center-x=\"-2.9895397\" inkscape:transform-center-y=\"-9.0025926\">\n",
       "        <g id=\"g2383-6-7-0-4\" transform=\"matrix(0.48731255,0.02423459,0.01279726,0.50441827,306.3094,-31.083282)\" style=\"stroke-width:3.44548\">\n",
       "          <path sodipodi:type=\"star\" style=\"fill:currentColor;fill-opacity:1;stroke-width:42.147;stroke-miterlimit:4;stroke-dasharray:none\" id=\"path1845-7-5-3-9\" inkscape:flatsided=\"true\" sodipodi:sides=\"3\" sodipodi:cx=\"1019.0918\" sodipodi:cy=\"-481.03027\" sodipodi:r1=\"115.65684\" sodipodi:r2=\"187.39349\" sodipodi:arg1=\"-1.5604471\" sodipodi:arg2=\"-0.51324957\" inkscape:rounded=\"0\" inkscape:randomized=\"0\" transform=\"matrix(0.07343639,-0.00655922,0.00604354,0.08018575,284.40075,-29.693185)\" inkscape:transform-center-x=\"5.9997774\" inkscape:transform-center-y=\"0.20935791\" d=\"m 1020.2887,-596.68092 98.361,174.51255 -200.31277,-2.07316 z\"/>\n",
       "          <path style=\"stroke:currentColor;stroke-width:7.15571;stroke-miterlimit:4;stroke-dasharray:none\" d=\"M 355.53236,83.808526 356.1433,-70.605636\" id=\"path2179-5-3-6-5\"/>\n",
       "        </g>\n",
       "      </g>\n",
       "      <g id=\"g2263-3-6-1-1-2-0\" transform=\"matrix(-0.23462695,-0.02668512,0.0081306,-0.21612402,214.09615,59.568326)\" style=\"display:inline;stroke-width:3.22317\" inkscape:transform-center-x=\"9.3624161\" inkscape:transform-center-y=\"0.35916687\">\n",
       "        <g id=\"g2383-6-7-94-0-0-4\" transform=\"matrix(0.48731255,0.02423459,0.01279726,0.50441827,306.3094,-31.083282)\" style=\"stroke-width:3.44548\">\n",
       "          <path sodipodi:type=\"star\" style=\"fill:currentColor;fill-opacity:1;stroke-width:42.147;stroke-miterlimit:4;stroke-dasharray:none\" id=\"path1845-7-5-7-6-6-8\" inkscape:flatsided=\"true\" sodipodi:sides=\"3\" sodipodi:cx=\"1019.0918\" sodipodi:cy=\"-481.03027\" sodipodi:r1=\"115.65684\" sodipodi:r2=\"187.39349\" sodipodi:arg1=\"-1.5604471\" sodipodi:arg2=\"-0.51324957\" inkscape:rounded=\"0\" inkscape:randomized=\"0\" transform=\"matrix(0.07343639,-0.00655922,0.00604354,0.08018575,284.40075,-29.693185)\" inkscape:transform-center-x=\"5.9997774\" inkscape:transform-center-y=\"0.20935791\" d=\"m 1020.2887,-596.68092 98.361,174.51255 -200.31277,-2.07316 z\"/>\n",
       "          <path style=\"stroke:currentColor;stroke-width:7.15571;stroke-miterlimit:4;stroke-dasharray:none\" d=\"M 355.53236,83.808526 356.1433,-70.605636\" id=\"path2179-5-3-84-3-1-71\"/>\n",
       "        </g>\n",
       "      </g>\n",
       "      <g id=\"g2263-3-6-1-1-2-5-7\" transform=\"matrix(-0.23468617,0.02621846,0.00764672,0.21613971,213.73981,159.13783)\" style=\"display:inline;stroke-width:3.22317\" inkscape:transform-center-x=\"-9.3624165\" inkscape:transform-center-y=\"0.35916727\">\n",
       "        <g id=\"g2383-6-7-94-0-0-5-2\" transform=\"matrix(0.48731255,0.02423459,0.01279726,0.50441827,306.3094,-31.083282)\" style=\"stroke-width:3.44548\">\n",
       "          <path sodipodi:type=\"star\" style=\"fill:currentColor;fill-opacity:1;stroke-width:42.147;stroke-miterlimit:4;stroke-dasharray:none\" id=\"path1845-7-5-7-6-6-4-7\" inkscape:flatsided=\"true\" sodipodi:sides=\"3\" sodipodi:cx=\"1019.0918\" sodipodi:cy=\"-481.03027\" sodipodi:r1=\"115.65684\" sodipodi:r2=\"187.39349\" sodipodi:arg1=\"-1.5604471\" sodipodi:arg2=\"-0.51324957\" inkscape:rounded=\"0\" inkscape:randomized=\"0\" transform=\"matrix(0.07343639,-0.00655922,0.00604354,0.08018575,284.40075,-29.693185)\" inkscape:transform-center-x=\"5.9997774\" inkscape:transform-center-y=\"0.20935791\" d=\"m 1020.2887,-596.68092 98.361,174.51255 -200.31277,-2.07316 z\"/>\n",
       "          <path style=\"stroke:currentColor;stroke-width:7.15571;stroke-miterlimit:4;stroke-dasharray:none\" d=\"M 355.53236,83.808526 356.1433,-70.605636\" id=\"path2179-5-3-84-3-1-7-2\"/>\n",
       "        </g>\n",
       "      </g>\n",
       "      <g id=\"g2263-3-6-6-2\" transform=\"matrix(0.15270839,-0.16615302,-0.16097439,-0.15833516,-23.622086,138.96791)\" style=\"display:inline;stroke-width:3.22317\" inkscape:transform-center-x=\"7.0709065\" inkscape:transform-center-y=\"6.1383506\">\n",
       "        <g id=\"g2383-6-7-5-6\" transform=\"matrix(0.48731255,0.02423459,0.01279726,0.50441827,306.3094,-31.083282)\" style=\"stroke-width:3.44548\">\n",
       "          <path sodipodi:type=\"star\" style=\"fill:currentColor;fill-opacity:1;stroke-width:42.147;stroke-miterlimit:4;stroke-dasharray:none\" id=\"path1845-7-5-6-1\" inkscape:flatsided=\"true\" sodipodi:sides=\"3\" sodipodi:cx=\"1019.0918\" sodipodi:cy=\"-481.03027\" sodipodi:r1=\"115.65684\" sodipodi:r2=\"187.39349\" sodipodi:arg1=\"-1.5604471\" sodipodi:arg2=\"-0.51324957\" inkscape:rounded=\"0\" inkscape:randomized=\"0\" transform=\"matrix(0.07343639,-0.00655922,0.00604354,0.08018575,284.40075,-29.693185)\" inkscape:transform-center-x=\"5.9997774\" inkscape:transform-center-y=\"0.20935791\" d=\"m 1020.2887,-596.68092 98.361,174.51255 -200.31277,-2.07316 z\"/>\n",
       "          <path style=\"stroke:currentColor;stroke-width:7.15571;stroke-miterlimit:4;stroke-dasharray:none\" d=\"M 355.53236,83.808526 356.1433,-70.605636\" id=\"path2179-5-3-9-0\"/>\n",
       "        </g>\n",
       "      </g>\n",
       "      <g id=\"g2263-3-6-6-2-1\" transform=\"matrix(-0.15270839,-0.16615302,0.16097439,-0.15833516,228.04254,131.5268)\" style=\"display:inline;stroke-width:3.22317\" inkscape:transform-center-x=\"-7.0709078\" inkscape:transform-center-y=\"6.1383506\">\n",
       "        <g id=\"g2383-6-7-5-6-5\" transform=\"matrix(0.48731255,0.02423459,0.01279726,0.50441827,306.3094,-31.083282)\" style=\"stroke-width:3.44548\">\n",
       "          <path sodipodi:type=\"star\" style=\"fill:currentColor;fill-opacity:1;stroke-width:42.147;stroke-miterlimit:4;stroke-dasharray:none\" id=\"path1845-7-5-6-1-9\" inkscape:flatsided=\"true\" sodipodi:sides=\"3\" sodipodi:cx=\"1019.0918\" sodipodi:cy=\"-481.03027\" sodipodi:r1=\"115.65684\" sodipodi:r2=\"187.39349\" sodipodi:arg1=\"-1.5604471\" sodipodi:arg2=\"-0.51324957\" inkscape:rounded=\"0\" inkscape:randomized=\"0\" transform=\"matrix(0.07343639,-0.00655922,0.00604354,0.08018575,284.40075,-29.693185)\" inkscape:transform-center-x=\"5.9997774\" inkscape:transform-center-y=\"0.20935791\" d=\"m 1020.2887,-596.68092 98.361,174.51255 -200.31277,-2.07316 z\"/>\n",
       "          <path style=\"stroke:currentColor;stroke-width:7.15571;stroke-miterlimit:4;stroke-dasharray:none\" d=\"M 355.53236,83.808526 356.1433,-70.605636\" id=\"path2179-5-3-9-0-7\"/>\n",
       "        </g>\n",
       "      </g>\n",
       "      <g id=\"g2263-3-6-5-4-1\" transform=\"matrix(0.12311506,0.18909959,-0.1849463,0.12957161,-14.438572,63.340355)\" style=\"display:inline;stroke-width:3.22317\" inkscape:transform-center-x=\"-5.9741519\" inkscape:transform-center-y=\"7.2101785\">\n",
       "        <g id=\"g2383-6-7-0-3-7\" transform=\"matrix(0.48731255,0.02423459,0.01279726,0.50441827,306.3094,-31.083282)\" style=\"stroke-width:3.44548\">\n",
       "          <path sodipodi:type=\"star\" style=\"fill:currentColor;fill-opacity:1;stroke-width:42.147;stroke-miterlimit:4;stroke-dasharray:none\" id=\"path1845-7-5-3-0-7\" inkscape:flatsided=\"true\" sodipodi:sides=\"3\" sodipodi:cx=\"1019.0918\" sodipodi:cy=\"-481.03027\" sodipodi:r1=\"115.65684\" sodipodi:r2=\"187.39349\" sodipodi:arg1=\"-1.5604471\" sodipodi:arg2=\"-0.51324957\" inkscape:rounded=\"0\" inkscape:randomized=\"0\" transform=\"matrix(0.07343639,-0.00655922,0.00604354,0.08018575,284.40075,-29.693185)\" inkscape:transform-center-x=\"5.9997774\" inkscape:transform-center-y=\"0.20935791\" d=\"m 1020.2887,-596.68092 98.361,174.51255 -200.31277,-2.07316 z\"/>\n",
       "          <path style=\"stroke:currentColor;stroke-width:7.15571;stroke-miterlimit:4;stroke-dasharray:none\" d=\"M 355.53236,83.808526 356.1433,-70.605636\" id=\"path2179-5-3-6-7-1\"/>\n",
       "        </g>\n",
       "      </g>\n",
       "      <g id=\"g2263-3-6-5-4-1-6\" transform=\"matrix(0.07573347,0.21255685,-0.21001996,0.08297923,-8.0553163,19.382928)\" style=\"display:inline;stroke-width:3.22317\" inkscape:transform-center-x=\"-4.1324087\" inkscape:transform-center-y=\"8.3852268\">\n",
       "        <g id=\"g2383-6-7-0-3-7-5\" transform=\"matrix(0.48731255,0.02423459,0.01279726,0.50441827,306.3094,-31.083282)\" style=\"stroke-width:3.44548\">\n",
       "          <path sodipodi:type=\"star\" style=\"fill:currentColor;fill-opacity:1;stroke-width:42.147;stroke-miterlimit:4;stroke-dasharray:none\" id=\"path1845-7-5-3-0-7-6\" inkscape:flatsided=\"true\" sodipodi:sides=\"3\" sodipodi:cx=\"1019.0918\" sodipodi:cy=\"-481.03027\" sodipodi:r1=\"115.65684\" sodipodi:r2=\"187.39349\" sodipodi:arg1=\"-1.5604471\" sodipodi:arg2=\"-0.51324957\" inkscape:rounded=\"0\" inkscape:randomized=\"0\" transform=\"matrix(0.07343639,-0.00655922,0.00604354,0.08018575,284.40075,-29.693185)\" inkscape:transform-center-x=\"5.9997774\" inkscape:transform-center-y=\"0.20935791\" d=\"m 1020.2887,-596.68092 98.361,174.51255 -200.31277,-2.07316 z\"/>\n",
       "          <path style=\"stroke:currentColor;stroke-width:7.15571;stroke-miterlimit:4;stroke-dasharray:none\" d=\"M 355.53236,83.808526 356.1433,-70.605636\" id=\"path2179-5-3-6-7-1-3\"/>\n",
       "        </g>\n",
       "      </g>\n",
       "      <g id=\"g2263-3-6-4-7\" transform=\"matrix(0.05964617,-0.21761963,-0.21563101,-0.06706118,0.7035711,194.95473)\" style=\"display:inline;stroke-width:3.22317\" inkscape:transform-center-x=\"-3.4932938\" inkscape:transform-center-y=\"-8.6059679\">\n",
       "        <g id=\"g2383-6-7-3-6\" transform=\"matrix(0.48731255,0.02423459,0.01279726,0.50441827,306.3094,-31.083282)\" style=\"stroke-width:3.44548\">\n",
       "          <path sodipodi:type=\"star\" style=\"fill:currentColor;fill-opacity:1;stroke-width:42.147;stroke-miterlimit:4;stroke-dasharray:none\" id=\"path1845-7-5-1-7\" inkscape:flatsided=\"true\" sodipodi:sides=\"3\" sodipodi:cx=\"1019.0918\" sodipodi:cy=\"-481.03027\" sodipodi:r1=\"115.65684\" sodipodi:r2=\"187.39349\" sodipodi:arg1=\"-1.5604471\" sodipodi:arg2=\"-0.51324957\" inkscape:rounded=\"0\" inkscape:randomized=\"0\" transform=\"matrix(0.07343639,-0.00655922,0.00604354,0.08018575,284.40075,-29.693185)\" inkscape:transform-center-x=\"5.9997774\" inkscape:transform-center-y=\"0.20935791\" d=\"m 1020.2887,-596.68092 98.361,174.51255 -200.31277,-2.07316 z\"/>\n",
       "          <path style=\"stroke:currentColor;stroke-width:7.15571;stroke-miterlimit:4;stroke-dasharray:none\" d=\"M 355.53236,83.808526 356.1433,-70.605636\" id=\"path2179-5-3-4-3\"/>\n",
       "        </g>\n",
       "      </g>\n",
       "    </g>\n",
       "  </g>\n",
       "</svg></p></div>\n",
       "\n",
       "</div>"
      ],
      "text/plain": [
       "<jupylecture.tools.FlexSlide at 0x7f85c856eac0>"
      ]
     },
     "metadata": {},
     "output_type": "display_data"
    }
   ],
   "source": [
    "slide10=FlexSlide(\"# Gravity versus Potential\")\n",
    "slide10.addmd(\"Potential V\",\n",
    "                 flxwidth=\"flx50\")\n",
    "slide10.addmd(\"Gravity <b>g</b>\",\n",
    "                 flxwidth=\"flx50\")\n",
    "slide10.addItems([\"Scalar field\",\"unit m<sup>2</sup>/s<sup>2</sup>\",\"not directly observable\",\"Mathematical aid\"],\n",
    "                 flxwidth=\"flx50\")\n",
    "slide10.addItems([\"Vector field\",\"unit m/s<sup>2</sup>\",\"Observable\",\"Gradient of the Potential\"],\n",
    "                 flxwidth=\"flx50\")\n",
    "slide10.addSVG(\"images/grav_vs_pot.svg\",flxwidth=\"flx100\")\n",
    "slide10.display()"
   ]
  },
  {
   "cell_type": "code",
   "execution_count": 16,
   "metadata": {
    "slideshow": {
     "slide_type": "slide"
    }
   },
   "outputs": [
    {
     "data": {
      "text/html": [
       "<div id=\"500135fa072528f8\"></div>\n",
       "    <script type=\"text/javascript\">\n",
       "        $(function(){\n",
       "            var p = $(\"#500135fa072528f8\");\n",
       "            if (p.length==0) return;\n",
       "            while (!p.hasClass(\"cell\")) {\n",
       "                p=p.parent();\n",
       "                if (p.prop(\"tagName\") ==\"body\") return;\n",
       "            }\n",
       "            var cell = p;\n",
       "            cell.find(\".input\").addClass(\"hide-in-slideshow\")\n",
       "        });\n",
       "    </script>"
      ]
     },
     "metadata": {},
     "output_type": "display_data"
    },
    {
     "data": {
      "text/markdown": [
       "\n",
       "<div class=\"flxsld text_cell\" ><div class=\"flx100\"><h1>Gravity versus Potential from infinite distance</h1></div>\n",
       "\n",
       "\n",
       "<div  >\n",
       "\n",
       "<p>No matter how complex the body is: from a distance it looks like a point mass</p></div>\n",
       "<div class=\" flx50\" >\n",
       "\n",
       "<p>\n",
       "<script type=\"math/tex; mode=display\">\\lim_{r\\to\\infty}V=\\frac{G M }{|\\textbf{r}|}</script>\n",
       "</p></div>\n",
       "<div class=\" flx50\" >\n",
       "\n",
       "<p>\n",
       "<script type=\"math/tex; mode=display\">\\lim_{r\\to\\infty}\\textbf{g}=-\\frac{G M \\textbf{r}}{|\\textbf{r}|^{3}}</script>\n",
       "</p></div>\n",
       "<div class=\" flx100\" >\n",
       "\n",
       "<p><svg xmlns:inkscape=\"http://www.inkscape.org/namespaces/inkscape\" xmlns:sodipodi=\"http://sodipodi.sourceforge.net/DTD/sodipodi-0.dtd\" xmlns=\"http://www.w3.org/2000/svg\" xmlns:svg=\"http://www.w3.org/2000/svg\" width=\"583.28217mm\" height=\"210.06018mm\" viewBox=\"0 0 583.28216 210.06016\" version=\"1.1\" id=\"svg5\" inkscape:version=\"1.1 (c4e8f9ed74, 2021-05-24)\" sodipodi:docname=\"grav_vs_pot.svg\">\n",
       "  <sodipodi:namedview id=\"namedview7\" pagecolor=\"#c8c8c8\" bordercolor=\"#666666\" borderopacity=\"1.0\" inkscape:pageshadow=\"2\" inkscape:pageopacity=\"1\" inkscape:pagecheckerboard=\"true\" inkscape:document-units=\"mm\" showgrid=\"false\" inkscape:zoom=\"0.39644113\" inkscape:cx=\"1001.4097\" inkscape:cy=\"167.74243\" inkscape:window-width=\"1920\" inkscape:window-height=\"1043\" inkscape:window-x=\"0\" inkscape:window-y=\"0\" inkscape:window-maximized=\"1\" inkscape:current-layer=\"layer2\" fit-margin-top=\"0\" fit-margin-left=\"0\" fit-margin-right=\"0\" fit-margin-bottom=\"0\" lock-margins=\"true\" inkscape:snap-global=\"false\"/>\n",
       "  <defs id=\"defs2\">\n",
       "    <rect x=\"178.13274\" y=\"141.9071\" width=\"192.84862\" height=\"132.70413\" id=\"rect32181\"/>\n",
       "    <marker style=\"overflow:visible;fill:currentColor\" id=\"Arrow2Mend\" refX=\"0\" refY=\"0\" orient=\"auto\" inkscape:stockid=\"Arrow2Mend\" inkscape:isstock=\"true\">\n",
       "      <path transform=\"scale(-0.6)\" d=\"M 8.7185878,4.0337352 -2.2072895,0.01601326 8.7185884,-4.0017078 c -1.7454984,2.3720609 -1.7354408,5.6174519 -6e-7,8.035443 z\" style=\"fill:currentColor;fill-rule:evenodd;stroke-width:0.625;stroke-linejoin:round\" id=\"path12194\"/>\n",
       "    </marker>\n",
       "    <marker style=\"overflow:visible;fill:currentColor\" refX=\"0\" refY=\"0\" orient=\"auto\" inkscape:stockid=\"Arrow2Mend1628\" inkscape:isstock=\"true\" id=\"Arrow2Mend1628\">\n",
       "      <path transform=\"scale(-0.6)\" d=\"M 8.7185878,4.0337352 -2.2072895,0.01601326 8.7185884,-4.0017078 c -1.7454984,2.3720609 -1.7354408,5.6174519 -6e-7,8.035443 z\" style=\"fill:#000000;fill-opacity:1;fill-rule:evenodd;stroke:#000000;stroke-width:0.625;stroke-linejoin:round;stroke-opacity:1\" id=\"path1521\"/>\n",
       "    </marker>\n",
       "  </defs>\n",
       "  <g inkscape:label=\"Layer 1\" inkscape:groupmode=\"layer\" id=\"layer1\" transform=\"translate(-78.548964,-29.840523)\">\n",
       "    <path id=\"path86176\" style=\"fill:#999999;stroke-width:0.264582;stroke-linecap:round;stroke-linejoin:round\" d=\"m 221.79571,119.66541 c 9.6161,15.41167 9.47279,45.29047 -15.6298,53.17538 -7.41406,2.32881 -30.84737,2.48909 -35.95395,-3.82277 -5.10659,-6.31184 -58.17618,-13.68668 -29.18333,-47.62054 11.483,-13.43995 25.92688,-8.28152 41.51165,-8.28152 15.58479,0 29.45669,-9.15493 39.25543,6.54945 z\" sodipodi:nodetypes=\"ssssss\"/>\n",
       "    <g id=\"g6127\" transform=\"matrix(0.59531655,0,0,0.59531655,102.22509,58.837425)\" style=\"fill:#42affa;fill-opacity:1;stroke:#42affa;stroke-opacity:1\">\n",
       "      <path style=\"fill:#42affa;fill-opacity:1;stroke:#42affa;stroke-width:0.264583;stroke-opacity:1\" id=\"path2636\" sodipodi:type=\"arc\" sodipodi:cx=\"136.79117\" sodipodi:cy=\"127.85122\" sodipodi:rx=\"12.472401\" sodipodi:ry=\"12.472401\" sodipodi:start=\"0\" sodipodi:end=\"1.5524875\" sodipodi:arc-type=\"slice\" d=\"m 149.26357,127.85122 a 12.472401,12.472401 0 0 1 -12.24406,12.47031 l -0.22834,-12.47031 z\"/>\n",
       "      <path style=\"fill:#42affa;fill-opacity:1;stroke:#42affa;stroke-width:0.264583;stroke-opacity:1\" id=\"path2636-3\" sodipodi:type=\"arc\" sodipodi:cx=\"-136.5217\" sodipodi:cy=\"-127.58664\" sodipodi:rx=\"12.472401\" sodipodi:ry=\"12.472401\" sodipodi:start=\"0\" sodipodi:end=\"1.5524875\" sodipodi:arc-type=\"slice\" d=\"m -124.0493,-127.58664 a 12.472401,12.472401 0 0 1 -12.24406,12.47031 l -0.22834,-12.47031 z\" transform=\"scale(-1)\"/>\n",
       "    </g>\n",
       "  </g>\n",
       "  <g inkscape:groupmode=\"layer\" id=\"layer2\" inkscape:label=\"potential\" style=\"display:inline\" transform=\"translate(11.238519,50.673847)\">\n",
       "    <path style=\"display:inline;fill:none;stroke:currentColor\" d=\"m 33.954228,-32.243649 c 9.753903,13.159999 16.571366,28.2813435 19.212053,37.2993245 2.640686,9.0179795 2.571177,7.5747965 5.803607,18.2191735 3.23243,10.644378 2.658801,20.691435 34.379901,29.999524\" id=\"path45923\" sodipodi:nodetypes=\"czzc\"/>\n",
       "    <path id=\"path43809\" style=\"fill:none;stroke:currentColor;stroke-width:0.999994;stroke-dasharray:2, 2\" d=\"m 169.39938,53.142751 c 0,41.846887 -30.51967,73.796419 -72.375152,73.796419 -20.927629,0 -37.094325,-9.06373 -51.280461,-22.10163 C 31.55763,91.799634 19.352054,74.787557 19.352054,53.864109 c 0,-41.846895 33.702104,-52.7948346 75.557506,-52.7948338 41.85546,0 74.48982,10.2265818 74.48982,52.0734758 z\" sodipodi:nodetypes=\"ssssss\"/>\n",
       "    <path id=\"path43809-6\" style=\"display:inline;fill:none;stroke:currentColor;stroke-width:0.999995;stroke-miterlimit:4;stroke-dasharray:0.499997, 0.499997;stroke-dashoffset:0\" d=\"m 154.60197,56.579773 c 0,31.374929 -27.51279,59.866257 -57.741302,51.389107 C 80.864501,103.48295 70.700727,102.33664 60.060094,92.561401 49.419458,82.786161 32.708559,72.927151 32.708559,57.239683 c 0,-31.374935 28.236328,-35.56858 59.630926,-35.568579 31.394625,0 62.262485,3.533735 62.262485,34.908669 z\" sodipodi:nodetypes=\"ssssss\"/>\n",
       "    <circle style=\"fill:none;fill-opacity:1;stroke:currentColor;stroke-width:1;stroke-miterlimit:4;stroke-dasharray:2, 2;stroke-dashoffset:0\" id=\"path43809-5\" cx=\"93.791557\" cy=\"54.356312\" r=\"104.53016\"/>\n",
       "    <text xml:space=\"preserve\" transform=\"matrix(0.26458333,0,0,0.26458333,57.854642,18.459026)\" id=\"text88671-9-2\" style=\"font-size:40px;line-height:1.25;font-family:sans-serif;text-align:center;white-space:pre;shape-inside:url(#rect88673-5);fill:currentColor\"><tspan x=\"0\" y=\"0\" id=\"tspan70026\">plumbline</tspan></text>\n",
       "    <text xml:space=\"preserve\" transform=\"matrix(0.26458333,0,0,0.26458333,54.405669,109.31081)\" id=\"text88671-9-2-9\" style=\"font-size:40px;line-height:1.25;font-family:sans-serif;text-align:center;white-space:pre;shape-inside:url(#rect88673-5);fill:currentColor\"><tspan x=\"0\" y=\"0\" id=\"tspan70028\">geoid</tspan></text>\n",
       "    <text xml:space=\"preserve\" transform=\"matrix(0.26458333,0,0,0.26458333,147.01395,-15.812844)\" id=\"text88671-9-9\" style=\"font-size:66.6667px;line-height:1.25;font-family:sans-serif;text-align:center;white-space:pre;shape-inside:url(#rect88673-5);display:inline;fill:currentColor\"><tspan x=\"0\" y=\"0\" id=\"tspan70030\">V</tspan></text>\n",
       "    <text xml:space=\"preserve\" transform=\"matrix(0.26458333,0,0,0.26458333,218.83892,69.246792)\" id=\"text88671-9-9-9\" style=\"font-size:146.667px;line-height:1.25;font-family:sans-serif;text-align:center;white-space:pre;shape-inside:url(#rect88673-5);display:inline;fill:currentColor\"><tspan x=\"0\" y=\"0\" id=\"tspan70034\">&#8711;V = <tspan style=\"font-weight:bold;-inkscape-font-specification:'sans-serif Bold'\" id=\"tspan70032\">g</tspan></tspan></text>\n",
       "    <path id=\"path86176-4\" style=\"fill:#999999;stroke-width:0.264582;stroke-linecap:round;stroke-linejoin:round\" d=\"m 515.30902,39.151042 c 9.6161,15.41167 9.47279,45.29047 -15.6298,53.17538 -7.41406,2.32881 -30.84737,2.48909 -35.95395,-3.82277 -5.10659,-6.31184 -58.17618,-13.68668 -29.18333,-47.62054 11.483,-13.43995 25.92688,-8.28152 41.51165,-8.28152 15.58479,0 29.45669,-9.15493 39.25543,6.54945 z\" sodipodi:nodetypes=\"ssssss\"/>\n",
       "    <g id=\"g6127-8\" transform=\"matrix(0.59531655,0,0,0.59531655,395.7384,-21.676943)\" style=\"fill:#42affa;fill-opacity:1;stroke:#42affa;stroke-opacity:1\">\n",
       "      <path style=\"fill:#42affa;fill-opacity:1;stroke:#42affa;stroke-width:0.264583;stroke-opacity:1\" id=\"path2636-1\" sodipodi:type=\"arc\" sodipodi:cx=\"136.79117\" sodipodi:cy=\"127.85122\" sodipodi:rx=\"12.472401\" sodipodi:ry=\"12.472401\" sodipodi:start=\"0\" sodipodi:end=\"1.5524875\" sodipodi:arc-type=\"slice\" d=\"m 149.26357,127.85122 a 12.472401,12.472401 0 0 1 -12.24406,12.47031 l -0.22834,-12.47031 z\"/>\n",
       "      <path style=\"fill:#42affa;fill-opacity:1;stroke:#42affa;stroke-width:0.264583;stroke-opacity:1\" id=\"path2636-3-2\" sodipodi:type=\"arc\" sodipodi:cx=\"-136.5217\" sodipodi:cy=\"-127.58664\" sodipodi:rx=\"12.472401\" sodipodi:ry=\"12.472401\" sodipodi:start=\"0\" sodipodi:end=\"1.5524875\" sodipodi:arc-type=\"slice\" transform=\"scale(-1)\" d=\"m -124.0493,-127.58664 a 12.472401,12.472401 0 0 1 -12.24406,12.47031 l -0.22834,-12.47031 z\"/>\n",
       "    </g>\n",
       "    <g id=\"g52271-0\" style=\"display:inline\" transform=\"translate(372.06212,-50.673844)\">\n",
       "      <text xml:space=\"preserve\" transform=\"matrix(0.26458333,0,0,0.26458333,58.69016,33.047535)\" id=\"text88671-9-96\" style=\"font-size:66.6667px;line-height:1.25;font-family:sans-serif;text-align:center;white-space:pre;shape-inside:url(#rect88673-5);fill:currentColor\"><tspan x=\"0\" y=\"0\" id=\"tspan70038\"><tspan style=\"font-weight:bold;-inkscape-font-specification:'sans-serif Bold'\" id=\"tspan70036\">g</tspan></tspan></text>\n",
       "      <g id=\"g2263-3-6-3\" transform=\"matrix(-0.29176199,0.14990335,-0.16895723,-0.26993726,189.49085,-47.325828)\" style=\"stroke-width:2.25454\" inkscape:transform-center-x=\"7.6176864\" inkscape:transform-center-y=\"-10.835851\">\n",
       "        <g id=\"g2383-6-7-8\" transform=\"matrix(0.48731255,0.02423459,0.01279726,0.50441827,306.3094,-31.083282)\" style=\"stroke-width:2.41004\">\n",
       "          <path sodipodi:type=\"star\" style=\"fill:currentColor;fill-opacity:1;stroke-width:29.4809;stroke-miterlimit:4;stroke-dasharray:none\" id=\"path1845-7-5-5\" inkscape:flatsided=\"true\" sodipodi:sides=\"3\" sodipodi:cx=\"1019.0918\" sodipodi:cy=\"-481.03027\" sodipodi:r1=\"115.65684\" sodipodi:r2=\"187.39349\" sodipodi:arg1=\"-1.5604471\" sodipodi:arg2=\"-0.51324957\" inkscape:rounded=\"0\" inkscape:randomized=\"0\" transform=\"matrix(0.07343639,-0.00655922,0.00604354,0.08018575,284.40075,-29.693185)\" inkscape:transform-center-x=\"5.9997774\" inkscape:transform-center-y=\"0.20935791\" d=\"m 1020.2887,-596.68092 98.361,174.51255 -200.31277,-2.07316 z\"/>\n",
       "          <path style=\"stroke:currentColor;stroke-width:5.00526;stroke-miterlimit:4;stroke-dasharray:none\" d=\"M 355.53236,83.808526 356.1433,-70.605636\" id=\"path2179-5-3-61\"/>\n",
       "        </g>\n",
       "      </g>\n",
       "      <g id=\"g2263-3-6-1-15\" transform=\"matrix(0.18025679,0.27405029,0.27990102,-0.15188183,107.56105,-71.235167)\" style=\"display:inline;stroke-width:2.25454\" inkscape:transform-center-x=\"-11.963107\" inkscape:transform-center-y=\"-5.6362505\">\n",
       "        <g id=\"g2383-6-7-94-9\" transform=\"matrix(0.48731255,0.02423459,0.01279726,0.50441827,306.3094,-31.083282)\" style=\"stroke-width:2.41004\">\n",
       "          <path sodipodi:type=\"star\" style=\"fill:currentColor;fill-opacity:1;stroke-width:29.4809;stroke-miterlimit:4;stroke-dasharray:none\" id=\"path1845-7-5-7-8\" inkscape:flatsided=\"true\" sodipodi:sides=\"3\" sodipodi:cx=\"1019.0918\" sodipodi:cy=\"-481.03027\" sodipodi:r1=\"115.65684\" sodipodi:r2=\"187.39349\" sodipodi:arg1=\"-1.5604471\" sodipodi:arg2=\"-0.51324957\" inkscape:rounded=\"0\" inkscape:randomized=\"0\" transform=\"matrix(0.07343639,-0.00655922,0.00604354,0.08018575,284.40075,-29.693185)\" inkscape:transform-center-x=\"5.9997774\" inkscape:transform-center-y=\"0.20935791\" d=\"m 1020.2887,-596.68092 98.361,174.51255 -200.31277,-2.07316 z\"/>\n",
       "          <path style=\"stroke:currentColor;stroke-width:5.00526;stroke-miterlimit:4;stroke-dasharray:none\" d=\"M 355.53236,83.808526 356.1433,-70.605636\" id=\"path2179-5-3-84-4\"/>\n",
       "        </g>\n",
       "      </g>\n",
       "      <g id=\"g2263-3-6-1-1-8\" transform=\"matrix(-0.18025679,0.27405029,-0.27990102,-0.15188183,101.15185,-64.464757)\" style=\"display:inline;stroke-width:2.25454\" inkscape:transform-center-x=\"11.963109\" inkscape:transform-center-y=\"-5.6362505\">\n",
       "        <g id=\"g2383-6-7-94-0-1\" transform=\"matrix(0.48731255,0.02423459,0.01279726,0.50441827,306.3094,-31.083282)\" style=\"stroke-width:2.41004\">\n",
       "          <path sodipodi:type=\"star\" style=\"fill:currentColor;fill-opacity:1;stroke-width:29.4809;stroke-miterlimit:4;stroke-dasharray:none\" id=\"path1845-7-5-7-6-0\" inkscape:flatsided=\"true\" sodipodi:sides=\"3\" sodipodi:cx=\"1019.0918\" sodipodi:cy=\"-481.03027\" sodipodi:r1=\"115.65684\" sodipodi:r2=\"187.39349\" sodipodi:arg1=\"-1.5604471\" sodipodi:arg2=\"-0.51324957\" inkscape:rounded=\"0\" inkscape:randomized=\"0\" transform=\"matrix(0.07343639,-0.00655922,0.00604354,0.08018575,284.40075,-29.693185)\" inkscape:transform-center-x=\"5.9997774\" inkscape:transform-center-y=\"0.20935791\" d=\"m 1020.2887,-596.68092 98.361,174.51255 -200.31277,-2.07316 z\"/>\n",
       "          <path style=\"stroke:currentColor;stroke-width:5.00526;stroke-miterlimit:4;stroke-dasharray:none\" d=\"M 355.53236,83.808526 356.1433,-70.605636\" id=\"path2179-5-3-84-3-3\"/>\n",
       "        </g>\n",
       "      </g>\n",
       "      <g id=\"g2263-3-6-5-0\" transform=\"matrix(0.29176199,0.14990335,0.16895723,-0.26993726,11.573184,-47.617802)\" style=\"display:inline;stroke-width:2.25454\" inkscape:transform-center-x=\"-7.6176864\" inkscape:transform-center-y=\"-10.835851\">\n",
       "        <g id=\"g2383-6-7-0-44\" transform=\"matrix(0.48731255,0.02423459,0.01279726,0.50441827,306.3094,-31.083282)\" style=\"stroke-width:2.41004\">\n",
       "          <path sodipodi:type=\"star\" style=\"fill:currentColor;fill-opacity:1;stroke-width:29.4809;stroke-miterlimit:4;stroke-dasharray:none\" id=\"path1845-7-5-3-4\" inkscape:flatsided=\"true\" sodipodi:sides=\"3\" sodipodi:cx=\"1019.0918\" sodipodi:cy=\"-481.03027\" sodipodi:r1=\"115.65684\" sodipodi:r2=\"187.39349\" sodipodi:arg1=\"-1.5604471\" sodipodi:arg2=\"-0.51324957\" inkscape:rounded=\"0\" inkscape:randomized=\"0\" transform=\"matrix(0.07343639,-0.00655922,0.00604354,0.08018575,284.40075,-29.693185)\" inkscape:transform-center-x=\"5.9997774\" inkscape:transform-center-y=\"0.20935791\" d=\"m 1020.2887,-596.68092 98.361,174.51255 -200.31277,-2.07316 z\"/>\n",
       "          <path style=\"stroke:currentColor;stroke-width:5.00526;stroke-miterlimit:4;stroke-dasharray:none\" d=\"M 355.53236,83.808526 356.1433,-70.605636\" id=\"path2179-5-3-6-4\"/>\n",
       "        </g>\n",
       "      </g>\n",
       "      <g id=\"g2263-3-6-1-1-2-7\" transform=\"matrix(-0.03895162,0.32569747,-0.31826527,-0.01094927,28.660061,-50.52347)\" style=\"display:inline;stroke-width:2.25454\" inkscape:transform-center-x=\"13.243146\" inkscape:transform-center-y=\"0.50808596\">\n",
       "        <g id=\"g2383-6-7-94-0-0-6\" transform=\"matrix(0.48731255,0.02423459,0.01279726,0.50441827,306.3094,-31.083282)\" style=\"stroke-width:2.41004\">\n",
       "          <path sodipodi:type=\"star\" style=\"fill:currentColor;fill-opacity:1;stroke-width:29.4809;stroke-miterlimit:4;stroke-dasharray:none\" id=\"path1845-7-5-7-6-6-3\" inkscape:flatsided=\"true\" sodipodi:sides=\"3\" sodipodi:cx=\"1019.0918\" sodipodi:cy=\"-481.03027\" sodipodi:r1=\"115.65684\" sodipodi:r2=\"187.39349\" sodipodi:arg1=\"-1.5604471\" sodipodi:arg2=\"-0.51324957\" inkscape:rounded=\"0\" inkscape:randomized=\"0\" transform=\"matrix(0.07343639,-0.00655922,0.00604354,0.08018575,284.40075,-29.693185)\" inkscape:transform-center-x=\"5.9997774\" inkscape:transform-center-y=\"0.20935791\" d=\"m 1020.2887,-596.68092 98.361,174.51255 -200.31277,-2.07316 z\"/>\n",
       "          <path style=\"stroke:currentColor;stroke-width:5.00526;stroke-miterlimit:4;stroke-dasharray:none\" d=\"M 355.53236,83.808526 356.1433,-70.605636\" id=\"path2179-5-3-84-3-1-1\"/>\n",
       "        </g>\n",
       "      </g>\n",
       "      <g id=\"g2263-3-6-1-1-2-5-75\" transform=\"matrix(0.03895162,0.32569747,0.31826527,-0.01094927,174.5055,-47.244865)\" style=\"display:inline;stroke-width:2.25454\" inkscape:transform-center-x=\"-13.243147\" inkscape:transform-center-y=\"0.50808596\">\n",
       "        <g id=\"g2383-6-7-94-0-0-5-9\" transform=\"matrix(0.48731255,0.02423459,0.01279726,0.50441827,306.3094,-31.083282)\" style=\"stroke-width:2.41004\">\n",
       "          <path sodipodi:type=\"star\" style=\"fill:currentColor;fill-opacity:1;stroke-width:29.4809;stroke-miterlimit:4;stroke-dasharray:none\" id=\"path1845-7-5-7-6-6-4-6\" inkscape:flatsided=\"true\" sodipodi:sides=\"3\" sodipodi:cx=\"1019.0918\" sodipodi:cy=\"-481.03027\" sodipodi:r1=\"115.65684\" sodipodi:r2=\"187.39349\" sodipodi:arg1=\"-1.5604471\" sodipodi:arg2=\"-0.51324957\" inkscape:rounded=\"0\" inkscape:randomized=\"0\" transform=\"matrix(0.07343639,-0.00655922,0.00604354,0.08018575,284.40075,-29.693185)\" inkscape:transform-center-x=\"5.9997774\" inkscape:transform-center-y=\"0.20935791\" d=\"m 1020.2887,-596.68092 98.361,174.51255 -200.31277,-2.07316 z\"/>\n",
       "          <path style=\"stroke:currentColor;stroke-width:5.00526;stroke-miterlimit:4;stroke-dasharray:none\" d=\"M 355.53236,83.808526 356.1433,-70.605636\" id=\"path2179-5-3-84-3-1-7-21\"/>\n",
       "        </g>\n",
       "      </g>\n",
       "      <g id=\"g2263-3-6-6-7\" transform=\"matrix(-0.29176199,-0.14990335,-0.16895723,0.26993726,189.023,260.11837)\" style=\"display:inline;stroke-width:2.25454\" inkscape:transform-center-x=\"7.6176864\" inkscape:transform-center-y=\"10.835847\">\n",
       "        <g id=\"g2383-6-7-5-8\" transform=\"matrix(0.48731255,0.02423459,0.01279726,0.50441827,306.3094,-31.083282)\" style=\"stroke-width:2.41004\">\n",
       "          <path sodipodi:type=\"star\" style=\"fill:currentColor;fill-opacity:1;stroke-width:29.4809;stroke-miterlimit:4;stroke-dasharray:none\" id=\"path1845-7-5-6-5\" inkscape:flatsided=\"true\" sodipodi:sides=\"3\" sodipodi:cx=\"1019.0918\" sodipodi:cy=\"-481.03027\" sodipodi:r1=\"115.65684\" sodipodi:r2=\"187.39349\" sodipodi:arg1=\"-1.5604471\" sodipodi:arg2=\"-0.51324957\" inkscape:rounded=\"0\" inkscape:randomized=\"0\" transform=\"matrix(0.07343639,-0.00655922,0.00604354,0.08018575,284.40075,-29.693185)\" inkscape:transform-center-x=\"5.9997774\" inkscape:transform-center-y=\"0.20935791\" d=\"m 1020.2887,-596.68092 98.361,174.51255 -200.31277,-2.07316 z\"/>\n",
       "          <path style=\"stroke:currentColor;stroke-width:5.00526;stroke-miterlimit:4;stroke-dasharray:none\" d=\"M 355.53236,83.808526 356.1433,-70.605636\" id=\"path2179-5-3-9-7\"/>\n",
       "        </g>\n",
       "      </g>\n",
       "      <g id=\"g2263-3-6-1-3-4\" transform=\"matrix(0.18025679,-0.27405029,0.27990102,0.15188183,107.0932,284.02771)\" style=\"display:inline;stroke-width:2.25454\" inkscape:transform-center-x=\"-11.963107\" inkscape:transform-center-y=\"5.6362473\">\n",
       "        <g id=\"g2383-6-7-94-7-1\" transform=\"matrix(0.48731255,0.02423459,0.01279726,0.50441827,306.3094,-31.083282)\" style=\"stroke-width:2.41004\">\n",
       "          <path sodipodi:type=\"star\" style=\"fill:currentColor;fill-opacity:1;stroke-width:29.4809;stroke-miterlimit:4;stroke-dasharray:none\" id=\"path1845-7-5-7-4-8\" inkscape:flatsided=\"true\" sodipodi:sides=\"3\" sodipodi:cx=\"1019.0918\" sodipodi:cy=\"-481.03027\" sodipodi:r1=\"115.65684\" sodipodi:r2=\"187.39349\" sodipodi:arg1=\"-1.5604471\" sodipodi:arg2=\"-0.51324957\" inkscape:rounded=\"0\" inkscape:randomized=\"0\" transform=\"matrix(0.07343639,-0.00655922,0.00604354,0.08018575,284.40075,-29.693185)\" inkscape:transform-center-x=\"5.9997774\" inkscape:transform-center-y=\"0.20935791\" d=\"m 1020.2887,-596.68092 98.361,174.51255 -200.31277,-2.07316 z\"/>\n",
       "          <path style=\"stroke:currentColor;stroke-width:5.00526;stroke-miterlimit:4;stroke-dasharray:none\" d=\"M 355.53236,83.808526 356.1433,-70.605636\" id=\"path2179-5-3-84-5-5\"/>\n",
       "        </g>\n",
       "      </g>\n",
       "      <g id=\"g2263-3-6-1-1-25-9\" transform=\"matrix(-0.18025679,-0.27405029,-0.27990102,0.15188183,100.684,277.2573)\" style=\"display:inline;stroke-width:2.25454\" inkscape:transform-center-x=\"11.963109\" inkscape:transform-center-y=\"5.6362473\">\n",
       "        <g id=\"g2383-6-7-94-0-4-7\" transform=\"matrix(0.48731255,0.02423459,0.01279726,0.50441827,306.3094,-31.083282)\" style=\"stroke-width:2.41004\">\n",
       "          <path sodipodi:type=\"star\" style=\"fill:currentColor;fill-opacity:1;stroke-width:29.4809;stroke-miterlimit:4;stroke-dasharray:none\" id=\"path1845-7-5-7-6-7-5\" inkscape:flatsided=\"true\" sodipodi:sides=\"3\" sodipodi:cx=\"1019.0918\" sodipodi:cy=\"-481.03027\" sodipodi:r1=\"115.65684\" sodipodi:r2=\"187.39349\" sodipodi:arg1=\"-1.5604471\" sodipodi:arg2=\"-0.51324957\" inkscape:rounded=\"0\" inkscape:randomized=\"0\" transform=\"matrix(0.07343639,-0.00655922,0.00604354,0.08018575,284.40075,-29.693185)\" inkscape:transform-center-x=\"5.9997774\" inkscape:transform-center-y=\"0.20935791\" d=\"m 1020.2887,-596.68092 98.361,174.51255 -200.31277,-2.07316 z\"/>\n",
       "          <path style=\"stroke:currentColor;stroke-width:5.00526;stroke-miterlimit:4;stroke-dasharray:none\" d=\"M 355.53236,83.808526 356.1433,-70.605636\" id=\"path2179-5-3-84-3-4-3\"/>\n",
       "        </g>\n",
       "      </g>\n",
       "      <g id=\"g2263-3-6-5-4-8\" transform=\"matrix(0.29176199,-0.14990335,0.16895723,0.26993726,11.105332,260.41035)\" style=\"display:inline;stroke-width:2.25454\" inkscape:transform-center-x=\"-7.6176864\" inkscape:transform-center-y=\"10.835853\">\n",
       "        <g id=\"g2383-6-7-0-3-8\" transform=\"matrix(0.48731255,0.02423459,0.01279726,0.50441827,306.3094,-31.083282)\" style=\"stroke-width:2.41004\">\n",
       "          <path sodipodi:type=\"star\" style=\"fill:currentColor;fill-opacity:1;stroke-width:29.4809;stroke-miterlimit:4;stroke-dasharray:none\" id=\"path1845-7-5-3-0-3\" inkscape:flatsided=\"true\" sodipodi:sides=\"3\" sodipodi:cx=\"1019.0918\" sodipodi:cy=\"-481.03027\" sodipodi:r1=\"115.65684\" sodipodi:r2=\"187.39349\" sodipodi:arg1=\"-1.5604471\" sodipodi:arg2=\"-0.51324957\" inkscape:rounded=\"0\" inkscape:randomized=\"0\" transform=\"matrix(0.07343639,-0.00655922,0.00604354,0.08018575,284.40075,-29.693185)\" inkscape:transform-center-x=\"5.9997774\" inkscape:transform-center-y=\"0.20935791\" d=\"m 1020.2887,-596.68092 98.361,174.51255 -200.31277,-2.07316 z\"/>\n",
       "          <path style=\"stroke:currentColor;stroke-width:5.00526;stroke-miterlimit:4;stroke-dasharray:none\" d=\"M 355.53236,83.808526 356.1433,-70.605636\" id=\"path2179-5-3-6-7-18\"/>\n",
       "        </g>\n",
       "      </g>\n",
       "      <g id=\"g2263-3-6-4-9\" transform=\"matrix(-0.05964617,-0.21761963,0.21563101,-0.06706118,205.7114,192.81688)\" style=\"display:inline;stroke-width:3.22317\" inkscape:transform-center-x=\"3.4932938\" inkscape:transform-center-y=\"-8.6059679\">\n",
       "        <g id=\"g2383-6-7-3-64\" transform=\"matrix(0.48731255,0.02423459,0.01279726,0.50441827,306.3094,-31.083282)\" style=\"stroke-width:3.44548\">\n",
       "          <path sodipodi:type=\"star\" style=\"fill:currentColor;fill-opacity:1;stroke-width:42.147;stroke-miterlimit:4;stroke-dasharray:none\" id=\"path1845-7-5-1-3\" inkscape:flatsided=\"true\" sodipodi:sides=\"3\" sodipodi:cx=\"1019.0918\" sodipodi:cy=\"-481.03027\" sodipodi:r1=\"115.65684\" sodipodi:r2=\"187.39349\" sodipodi:arg1=\"-1.5604471\" sodipodi:arg2=\"-0.51324957\" inkscape:rounded=\"0\" inkscape:randomized=\"0\" transform=\"matrix(0.07343639,-0.00655922,0.00604354,0.08018575,284.40075,-29.693185)\" inkscape:transform-center-x=\"5.9997774\" inkscape:transform-center-y=\"0.20935791\" d=\"m 1020.2887,-596.68092 98.361,174.51255 -200.31277,-2.07316 z\"/>\n",
       "          <path style=\"stroke:currentColor;stroke-width:7.15571;stroke-miterlimit:4;stroke-dasharray:none\" d=\"M 355.53236,83.808526 356.1433,-70.605636\" id=\"path2179-5-3-4-33\"/>\n",
       "        </g>\n",
       "      </g>\n",
       "      <g id=\"g2263-3-6-1-9-8\" transform=\"matrix(-0.15993015,0.16851681,0.15406104,0.15609071,234.61972,78.100062)\" style=\"display:inline;stroke-width:3.22317\" inkscape:transform-center-x=\"-7.1990002\" inkscape:transform-center-y=\"-6.0167425\">\n",
       "        <g id=\"g2383-6-7-94-2-6\" transform=\"matrix(0.48731255,0.02423459,0.01279726,0.50441827,306.3094,-31.083282)\" style=\"stroke-width:3.44548\">\n",
       "          <path sodipodi:type=\"star\" style=\"fill:currentColor;fill-opacity:1;stroke-width:42.147;stroke-miterlimit:4;stroke-dasharray:none\" id=\"path1845-7-5-7-0-0\" inkscape:flatsided=\"true\" sodipodi:sides=\"3\" sodipodi:cx=\"1019.0918\" sodipodi:cy=\"-481.03027\" sodipodi:r1=\"115.65684\" sodipodi:r2=\"187.39349\" sodipodi:arg1=\"-1.5604471\" sodipodi:arg2=\"-0.51324957\" inkscape:rounded=\"0\" inkscape:randomized=\"0\" transform=\"matrix(0.07343639,-0.00655922,0.00604354,0.08018575,284.40075,-29.693185)\" inkscape:transform-center-x=\"5.9997774\" inkscape:transform-center-y=\"0.20935791\" d=\"m 1020.2887,-596.68092 98.361,174.51255 -200.31277,-2.07316 z\"/>\n",
       "          <path style=\"stroke:currentColor;stroke-width:7.15571;stroke-miterlimit:4;stroke-dasharray:none\" d=\"M 355.53236,83.808526 356.1433,-70.605636\" id=\"path2179-5-3-84-6-4\"/>\n",
       "        </g>\n",
       "      </g>\n",
       "      <g id=\"g2263-3-6-5-6-8\" transform=\"matrix(-0.04755937,0.22060096,0.21898419,0.05503365,198.78647,22.641964)\" style=\"display:inline;stroke-width:3.22317\" inkscape:transform-center-x=\"-2.9895397\" inkscape:transform-center-y=\"-9.0025926\">\n",
       "        <g id=\"g2383-6-7-0-4-8\" transform=\"matrix(0.48731255,0.02423459,0.01279726,0.50441827,306.3094,-31.083282)\" style=\"stroke-width:3.44548\">\n",
       "          <path sodipodi:type=\"star\" style=\"fill:currentColor;fill-opacity:1;stroke-width:42.147;stroke-miterlimit:4;stroke-dasharray:none\" id=\"path1845-7-5-3-9-8\" inkscape:flatsided=\"true\" sodipodi:sides=\"3\" sodipodi:cx=\"1019.0918\" sodipodi:cy=\"-481.03027\" sodipodi:r1=\"115.65684\" sodipodi:r2=\"187.39349\" sodipodi:arg1=\"-1.5604471\" sodipodi:arg2=\"-0.51324957\" inkscape:rounded=\"0\" inkscape:randomized=\"0\" transform=\"matrix(0.07343639,-0.00655922,0.00604354,0.08018575,284.40075,-29.693185)\" inkscape:transform-center-x=\"5.9997774\" inkscape:transform-center-y=\"0.20935791\" d=\"m 1020.2887,-596.68092 98.361,174.51255 -200.31277,-2.07316 z\"/>\n",
       "          <path style=\"stroke:currentColor;stroke-width:7.15571;stroke-miterlimit:4;stroke-dasharray:none\" d=\"M 355.53236,83.808526 356.1433,-70.605636\" id=\"path2179-5-3-6-5-9\"/>\n",
       "        </g>\n",
       "      </g>\n",
       "      <g id=\"g2263-3-6-1-1-2-0-7\" transform=\"matrix(-0.23462695,-0.02668512,0.0081306,-0.21612402,214.09615,59.568326)\" style=\"display:inline;stroke-width:3.22317\" inkscape:transform-center-x=\"9.3624161\" inkscape:transform-center-y=\"0.35916687\">\n",
       "        <g id=\"g2383-6-7-94-0-0-4-7\" transform=\"matrix(0.48731255,0.02423459,0.01279726,0.50441827,306.3094,-31.083282)\" style=\"stroke-width:3.44548\">\n",
       "          <path sodipodi:type=\"star\" style=\"fill:currentColor;fill-opacity:1;stroke-width:42.147;stroke-miterlimit:4;stroke-dasharray:none\" id=\"path1845-7-5-7-6-6-8-6\" inkscape:flatsided=\"true\" sodipodi:sides=\"3\" sodipodi:cx=\"1019.0918\" sodipodi:cy=\"-481.03027\" sodipodi:r1=\"115.65684\" sodipodi:r2=\"187.39349\" sodipodi:arg1=\"-1.5604471\" sodipodi:arg2=\"-0.51324957\" inkscape:rounded=\"0\" inkscape:randomized=\"0\" transform=\"matrix(0.07343639,-0.00655922,0.00604354,0.08018575,284.40075,-29.693185)\" inkscape:transform-center-x=\"5.9997774\" inkscape:transform-center-y=\"0.20935791\" d=\"m 1020.2887,-596.68092 98.361,174.51255 -200.31277,-2.07316 z\"/>\n",
       "          <path style=\"stroke:currentColor;stroke-width:7.15571;stroke-miterlimit:4;stroke-dasharray:none\" d=\"M 355.53236,83.808526 356.1433,-70.605636\" id=\"path2179-5-3-84-3-1-71-4\"/>\n",
       "        </g>\n",
       "      </g>\n",
       "      <g id=\"g2263-3-6-1-1-2-5-7-3\" transform=\"matrix(-0.23468617,0.02621846,0.00764672,0.21613971,213.73981,159.13783)\" style=\"display:inline;stroke-width:3.22317\" inkscape:transform-center-x=\"-9.3624165\" inkscape:transform-center-y=\"0.35916727\">\n",
       "        <g id=\"g2383-6-7-94-0-0-5-2-0\" transform=\"matrix(0.48731255,0.02423459,0.01279726,0.50441827,306.3094,-31.083282)\" style=\"stroke-width:3.44548\">\n",
       "          <path sodipodi:type=\"star\" style=\"fill:currentColor;fill-opacity:1;stroke-width:42.147;stroke-miterlimit:4;stroke-dasharray:none\" id=\"path1845-7-5-7-6-6-4-7-3\" inkscape:flatsided=\"true\" sodipodi:sides=\"3\" sodipodi:cx=\"1019.0918\" sodipodi:cy=\"-481.03027\" sodipodi:r1=\"115.65684\" sodipodi:r2=\"187.39349\" sodipodi:arg1=\"-1.5604471\" sodipodi:arg2=\"-0.51324957\" inkscape:rounded=\"0\" inkscape:randomized=\"0\" transform=\"matrix(0.07343639,-0.00655922,0.00604354,0.08018575,284.40075,-29.693185)\" inkscape:transform-center-x=\"5.9997774\" inkscape:transform-center-y=\"0.20935791\" d=\"m 1020.2887,-596.68092 98.361,174.51255 -200.31277,-2.07316 z\"/>\n",
       "          <path style=\"stroke:currentColor;stroke-width:7.15571;stroke-miterlimit:4;stroke-dasharray:none\" d=\"M 355.53236,83.808526 356.1433,-70.605636\" id=\"path2179-5-3-84-3-1-7-2-0\"/>\n",
       "        </g>\n",
       "      </g>\n",
       "      <g id=\"g2263-3-6-6-2-9\" transform=\"matrix(0.15270839,-0.16615302,-0.16097439,-0.15833516,-23.622086,138.96791)\" style=\"display:inline;stroke-width:3.22317\" inkscape:transform-center-x=\"7.0709065\" inkscape:transform-center-y=\"6.1383506\">\n",
       "        <g id=\"g2383-6-7-5-6-2\" transform=\"matrix(0.48731255,0.02423459,0.01279726,0.50441827,306.3094,-31.083282)\" style=\"stroke-width:3.44548\">\n",
       "          <path sodipodi:type=\"star\" style=\"fill:currentColor;fill-opacity:1;stroke-width:42.147;stroke-miterlimit:4;stroke-dasharray:none\" id=\"path1845-7-5-6-1-5\" inkscape:flatsided=\"true\" sodipodi:sides=\"3\" sodipodi:cx=\"1019.0918\" sodipodi:cy=\"-481.03027\" sodipodi:r1=\"115.65684\" sodipodi:r2=\"187.39349\" sodipodi:arg1=\"-1.5604471\" sodipodi:arg2=\"-0.51324957\" inkscape:rounded=\"0\" inkscape:randomized=\"0\" transform=\"matrix(0.07343639,-0.00655922,0.00604354,0.08018575,284.40075,-29.693185)\" inkscape:transform-center-x=\"5.9997774\" inkscape:transform-center-y=\"0.20935791\" d=\"m 1020.2887,-596.68092 98.361,174.51255 -200.31277,-2.07316 z\"/>\n",
       "          <path style=\"stroke:currentColor;stroke-width:7.15571;stroke-miterlimit:4;stroke-dasharray:none\" d=\"M 355.53236,83.808526 356.1433,-70.605636\" id=\"path2179-5-3-9-0-4\"/>\n",
       "        </g>\n",
       "      </g>\n",
       "      <g id=\"g2263-3-6-6-2-1-0\" transform=\"matrix(-0.15270839,-0.16615302,0.16097439,-0.15833516,228.04254,131.5268)\" style=\"display:inline;stroke-width:3.22317\" inkscape:transform-center-x=\"-7.0709078\" inkscape:transform-center-y=\"6.1383506\">\n",
       "        <g id=\"g2383-6-7-5-6-5-5\" transform=\"matrix(0.48731255,0.02423459,0.01279726,0.50441827,306.3094,-31.083282)\" style=\"stroke-width:3.44548\">\n",
       "          <path sodipodi:type=\"star\" style=\"fill:currentColor;fill-opacity:1;stroke-width:42.147;stroke-miterlimit:4;stroke-dasharray:none\" id=\"path1845-7-5-6-1-9-9\" inkscape:flatsided=\"true\" sodipodi:sides=\"3\" sodipodi:cx=\"1019.0918\" sodipodi:cy=\"-481.03027\" sodipodi:r1=\"115.65684\" sodipodi:r2=\"187.39349\" sodipodi:arg1=\"-1.5604471\" sodipodi:arg2=\"-0.51324957\" inkscape:rounded=\"0\" inkscape:randomized=\"0\" transform=\"matrix(0.07343639,-0.00655922,0.00604354,0.08018575,284.40075,-29.693185)\" inkscape:transform-center-x=\"5.9997774\" inkscape:transform-center-y=\"0.20935791\" d=\"m 1020.2887,-596.68092 98.361,174.51255 -200.31277,-2.07316 z\"/>\n",
       "          <path style=\"stroke:currentColor;stroke-width:7.15571;stroke-miterlimit:4;stroke-dasharray:none\" d=\"M 355.53236,83.808526 356.1433,-70.605636\" id=\"path2179-5-3-9-0-7-4\"/>\n",
       "        </g>\n",
       "      </g>\n",
       "      <g id=\"g2263-3-6-5-4-1-69\" transform=\"matrix(0.12311506,0.18909959,-0.1849463,0.12957161,-14.438572,63.340355)\" style=\"display:inline;stroke-width:3.22317\" inkscape:transform-center-x=\"-5.9741519\" inkscape:transform-center-y=\"7.2101785\">\n",
       "        <g id=\"g2383-6-7-0-3-7-2\" transform=\"matrix(0.48731255,0.02423459,0.01279726,0.50441827,306.3094,-31.083282)\" style=\"stroke-width:3.44548\">\n",
       "          <path sodipodi:type=\"star\" style=\"fill:currentColor;fill-opacity:1;stroke-width:42.147;stroke-miterlimit:4;stroke-dasharray:none\" id=\"path1845-7-5-3-0-7-2\" inkscape:flatsided=\"true\" sodipodi:sides=\"3\" sodipodi:cx=\"1019.0918\" sodipodi:cy=\"-481.03027\" sodipodi:r1=\"115.65684\" sodipodi:r2=\"187.39349\" sodipodi:arg1=\"-1.5604471\" sodipodi:arg2=\"-0.51324957\" inkscape:rounded=\"0\" inkscape:randomized=\"0\" transform=\"matrix(0.07343639,-0.00655922,0.00604354,0.08018575,284.40075,-29.693185)\" inkscape:transform-center-x=\"5.9997774\" inkscape:transform-center-y=\"0.20935791\" d=\"m 1020.2887,-596.68092 98.361,174.51255 -200.31277,-2.07316 z\"/>\n",
       "          <path style=\"stroke:currentColor;stroke-width:7.15571;stroke-miterlimit:4;stroke-dasharray:none\" d=\"M 355.53236,83.808526 356.1433,-70.605636\" id=\"path2179-5-3-6-7-1-4\"/>\n",
       "        </g>\n",
       "      </g>\n",
       "      <g id=\"g2263-3-6-5-4-1-6-7\" transform=\"matrix(0.07573347,0.21255685,-0.21001996,0.08297923,-8.0553163,19.382928)\" style=\"display:inline;stroke-width:3.22317\" inkscape:transform-center-x=\"-4.1324087\" inkscape:transform-center-y=\"8.3852268\">\n",
       "        <g id=\"g2383-6-7-0-3-7-5-7\" transform=\"matrix(0.48731255,0.02423459,0.01279726,0.50441827,306.3094,-31.083282)\" style=\"stroke-width:3.44548\">\n",
       "          <path sodipodi:type=\"star\" style=\"fill:currentColor;fill-opacity:1;stroke-width:42.147;stroke-miterlimit:4;stroke-dasharray:none\" id=\"path1845-7-5-3-0-7-6-5\" inkscape:flatsided=\"true\" sodipodi:sides=\"3\" sodipodi:cx=\"1019.0918\" sodipodi:cy=\"-481.03027\" sodipodi:r1=\"115.65684\" sodipodi:r2=\"187.39349\" sodipodi:arg1=\"-1.5604471\" sodipodi:arg2=\"-0.51324957\" inkscape:rounded=\"0\" inkscape:randomized=\"0\" transform=\"matrix(0.07343639,-0.00655922,0.00604354,0.08018575,284.40075,-29.693185)\" inkscape:transform-center-x=\"5.9997774\" inkscape:transform-center-y=\"0.20935791\" d=\"m 1020.2887,-596.68092 98.361,174.51255 -200.31277,-2.07316 z\"/>\n",
       "          <path style=\"stroke:currentColor;stroke-width:7.15571;stroke-miterlimit:4;stroke-dasharray:none\" d=\"M 355.53236,83.808526 356.1433,-70.605636\" id=\"path2179-5-3-6-7-1-3-4\"/>\n",
       "        </g>\n",
       "      </g>\n",
       "      <g id=\"g2263-3-6-4-7-8\" transform=\"matrix(0.05964617,-0.21761963,-0.21563101,-0.06706118,0.7035711,194.95473)\" style=\"display:inline;stroke-width:3.22317\" inkscape:transform-center-x=\"-3.4932938\" inkscape:transform-center-y=\"-8.6059679\">\n",
       "        <g id=\"g2383-6-7-3-6-1\" transform=\"matrix(0.48731255,0.02423459,0.01279726,0.50441827,306.3094,-31.083282)\" style=\"stroke-width:3.44548\">\n",
       "          <path sodipodi:type=\"star\" style=\"fill:currentColor;fill-opacity:1;stroke-width:42.147;stroke-miterlimit:4;stroke-dasharray:none\" id=\"path1845-7-5-1-7-2\" inkscape:flatsided=\"true\" sodipodi:sides=\"3\" sodipodi:cx=\"1019.0918\" sodipodi:cy=\"-481.03027\" sodipodi:r1=\"115.65684\" sodipodi:r2=\"187.39349\" sodipodi:arg1=\"-1.5604471\" sodipodi:arg2=\"-0.51324957\" inkscape:rounded=\"0\" inkscape:randomized=\"0\" transform=\"matrix(0.07343639,-0.00655922,0.00604354,0.08018575,284.40075,-29.693185)\" inkscape:transform-center-x=\"5.9997774\" inkscape:transform-center-y=\"0.20935791\" d=\"m 1020.2887,-596.68092 98.361,174.51255 -200.31277,-2.07316 z\"/>\n",
       "          <path style=\"stroke:currentColor;stroke-width:7.15571;stroke-miterlimit:4;stroke-dasharray:none\" d=\"M 355.53236,83.808526 356.1433,-70.605636\" id=\"path2179-5-3-4-3-8\"/>\n",
       "        </g>\n",
       "      </g>\n",
       "    </g>\n",
       "    <path id=\"rect63431-8-7\" style=\"display:inline;fill:none;stroke:currentColor;stroke-width:3;stroke-miterlimit:4;stroke-dasharray:none\" d=\"m 247.41429,83.266028 0.94375,25.685322 c -15.201,-17.560672 -42.76342,-51.547154 -42.76342,-51.547154 0,0 27.56242,-33.98648 42.76342,-51.5471501 l -0.94375,25.6853201 c 28.65987,0 57.31972,0 85.97959,0 L 332.45013,5.8570459 c 15.20101,17.5606701 42.76343,51.5471501 42.76343,51.5471501 0,0 -27.56242,33.986482 -42.76343,51.547154 l 0.94375,-25.685322 c -28.65987,0 -57.31972,0 -85.97959,0 z\" sodipodi:nodetypes=\"ccccccccccc\"/>\n",
       "  </g>\n",
       "  <g inkscape:groupmode=\"layer\" id=\"layer3\" inkscape:label=\"gravity\" style=\"display:none\" transform=\"translate(23.812496)\">\n",
       "    <g id=\"g52271\">\n",
       "      <text xml:space=\"preserve\" transform=\"matrix(0.26458333,0,0,0.26458333,58.69016,33.047535)\" id=\"text88671-9\" style=\"font-size:66.6667px;line-height:1.25;font-family:sans-serif;text-align:center;white-space:pre;shape-inside:url(#rect88673-5);fill:currentColor\"><tspan x=\"0\" y=\"0\" id=\"tspan70042\"><tspan style=\"font-weight:bold;-inkscape-font-specification:'sans-serif Bold'\" id=\"tspan70040\">g</tspan></tspan></text>\n",
       "      <g id=\"g2263-3-6\" transform=\"matrix(-0.29176199,0.14990335,-0.16895723,-0.26993726,189.49085,-47.325828)\" style=\"stroke-width:2.25454\" inkscape:transform-center-x=\"7.6176864\" inkscape:transform-center-y=\"-10.835851\">\n",
       "        <g id=\"g2383-6-7\" transform=\"matrix(0.48731255,0.02423459,0.01279726,0.50441827,306.3094,-31.083282)\" style=\"stroke-width:2.41004\">\n",
       "          <path sodipodi:type=\"star\" style=\"fill:currentColor;fill-opacity:1;stroke-width:29.4809;stroke-miterlimit:4;stroke-dasharray:none\" id=\"path1845-7-5\" inkscape:flatsided=\"true\" sodipodi:sides=\"3\" sodipodi:cx=\"1019.0918\" sodipodi:cy=\"-481.03027\" sodipodi:r1=\"115.65684\" sodipodi:r2=\"187.39349\" sodipodi:arg1=\"-1.5604471\" sodipodi:arg2=\"-0.51324957\" inkscape:rounded=\"0\" inkscape:randomized=\"0\" transform=\"matrix(0.07343639,-0.00655922,0.00604354,0.08018575,284.40075,-29.693185)\" inkscape:transform-center-x=\"5.9997774\" inkscape:transform-center-y=\"0.20935791\" d=\"m 1020.2887,-596.68092 98.361,174.51255 -200.31277,-2.07316 z\"/>\n",
       "          <path style=\"stroke:currentColor;stroke-width:5.00526;stroke-miterlimit:4;stroke-dasharray:none\" d=\"M 355.53236,83.808526 356.1433,-70.605636\" id=\"path2179-5-3\"/>\n",
       "        </g>\n",
       "      </g>\n",
       "      <g id=\"g2263-3-6-1\" transform=\"matrix(0.18025679,0.27405029,0.27990102,-0.15188183,107.56105,-71.235167)\" style=\"display:inline;stroke-width:2.25454\" inkscape:transform-center-x=\"-11.963107\" inkscape:transform-center-y=\"-5.6362505\">\n",
       "        <g id=\"g2383-6-7-94\" transform=\"matrix(0.48731255,0.02423459,0.01279726,0.50441827,306.3094,-31.083282)\" style=\"stroke-width:2.41004\">\n",
       "          <path sodipodi:type=\"star\" style=\"fill:currentColor;fill-opacity:1;stroke-width:29.4809;stroke-miterlimit:4;stroke-dasharray:none\" id=\"path1845-7-5-7\" inkscape:flatsided=\"true\" sodipodi:sides=\"3\" sodipodi:cx=\"1019.0918\" sodipodi:cy=\"-481.03027\" sodipodi:r1=\"115.65684\" sodipodi:r2=\"187.39349\" sodipodi:arg1=\"-1.5604471\" sodipodi:arg2=\"-0.51324957\" inkscape:rounded=\"0\" inkscape:randomized=\"0\" transform=\"matrix(0.07343639,-0.00655922,0.00604354,0.08018575,284.40075,-29.693185)\" inkscape:transform-center-x=\"5.9997774\" inkscape:transform-center-y=\"0.20935791\" d=\"m 1020.2887,-596.68092 98.361,174.51255 -200.31277,-2.07316 z\"/>\n",
       "          <path style=\"stroke:currentColor;stroke-width:5.00526;stroke-miterlimit:4;stroke-dasharray:none\" d=\"M 355.53236,83.808526 356.1433,-70.605636\" id=\"path2179-5-3-84\"/>\n",
       "        </g>\n",
       "      </g>\n",
       "      <g id=\"g2263-3-6-1-1\" transform=\"matrix(-0.18025679,0.27405029,-0.27990102,-0.15188183,101.15185,-64.464757)\" style=\"display:inline;stroke-width:2.25454\" inkscape:transform-center-x=\"11.963109\" inkscape:transform-center-y=\"-5.6362505\">\n",
       "        <g id=\"g2383-6-7-94-0\" transform=\"matrix(0.48731255,0.02423459,0.01279726,0.50441827,306.3094,-31.083282)\" style=\"stroke-width:2.41004\">\n",
       "          <path sodipodi:type=\"star\" style=\"fill:currentColor;fill-opacity:1;stroke-width:29.4809;stroke-miterlimit:4;stroke-dasharray:none\" id=\"path1845-7-5-7-6\" inkscape:flatsided=\"true\" sodipodi:sides=\"3\" sodipodi:cx=\"1019.0918\" sodipodi:cy=\"-481.03027\" sodipodi:r1=\"115.65684\" sodipodi:r2=\"187.39349\" sodipodi:arg1=\"-1.5604471\" sodipodi:arg2=\"-0.51324957\" inkscape:rounded=\"0\" inkscape:randomized=\"0\" transform=\"matrix(0.07343639,-0.00655922,0.00604354,0.08018575,284.40075,-29.693185)\" inkscape:transform-center-x=\"5.9997774\" inkscape:transform-center-y=\"0.20935791\" d=\"m 1020.2887,-596.68092 98.361,174.51255 -200.31277,-2.07316 z\"/>\n",
       "          <path style=\"stroke:currentColor;stroke-width:5.00526;stroke-miterlimit:4;stroke-dasharray:none\" d=\"M 355.53236,83.808526 356.1433,-70.605636\" id=\"path2179-5-3-84-3\"/>\n",
       "        </g>\n",
       "      </g>\n",
       "      <g id=\"g2263-3-6-5\" transform=\"matrix(0.29176199,0.14990335,0.16895723,-0.26993726,11.573184,-47.617802)\" style=\"display:inline;stroke-width:2.25454\" inkscape:transform-center-x=\"-7.6176864\" inkscape:transform-center-y=\"-10.835851\">\n",
       "        <g id=\"g2383-6-7-0\" transform=\"matrix(0.48731255,0.02423459,0.01279726,0.50441827,306.3094,-31.083282)\" style=\"stroke-width:2.41004\">\n",
       "          <path sodipodi:type=\"star\" style=\"fill:currentColor;fill-opacity:1;stroke-width:29.4809;stroke-miterlimit:4;stroke-dasharray:none\" id=\"path1845-7-5-3\" inkscape:flatsided=\"true\" sodipodi:sides=\"3\" sodipodi:cx=\"1019.0918\" sodipodi:cy=\"-481.03027\" sodipodi:r1=\"115.65684\" sodipodi:r2=\"187.39349\" sodipodi:arg1=\"-1.5604471\" sodipodi:arg2=\"-0.51324957\" inkscape:rounded=\"0\" inkscape:randomized=\"0\" transform=\"matrix(0.07343639,-0.00655922,0.00604354,0.08018575,284.40075,-29.693185)\" inkscape:transform-center-x=\"5.9997774\" inkscape:transform-center-y=\"0.20935791\" d=\"m 1020.2887,-596.68092 98.361,174.51255 -200.31277,-2.07316 z\"/>\n",
       "          <path style=\"stroke:currentColor;stroke-width:5.00526;stroke-miterlimit:4;stroke-dasharray:none\" d=\"M 355.53236,83.808526 356.1433,-70.605636\" id=\"path2179-5-3-6\"/>\n",
       "        </g>\n",
       "      </g>\n",
       "      <g id=\"g2263-3-6-1-1-2\" transform=\"matrix(-0.03895162,0.32569747,-0.31826527,-0.01094927,28.660061,-50.52347)\" style=\"display:inline;stroke-width:2.25454\" inkscape:transform-center-x=\"13.243146\" inkscape:transform-center-y=\"0.50808596\">\n",
       "        <g id=\"g2383-6-7-94-0-0\" transform=\"matrix(0.48731255,0.02423459,0.01279726,0.50441827,306.3094,-31.083282)\" style=\"stroke-width:2.41004\">\n",
       "          <path sodipodi:type=\"star\" style=\"fill:currentColor;fill-opacity:1;stroke-width:29.4809;stroke-miterlimit:4;stroke-dasharray:none\" id=\"path1845-7-5-7-6-6\" inkscape:flatsided=\"true\" sodipodi:sides=\"3\" sodipodi:cx=\"1019.0918\" sodipodi:cy=\"-481.03027\" sodipodi:r1=\"115.65684\" sodipodi:r2=\"187.39349\" sodipodi:arg1=\"-1.5604471\" sodipodi:arg2=\"-0.51324957\" inkscape:rounded=\"0\" inkscape:randomized=\"0\" transform=\"matrix(0.07343639,-0.00655922,0.00604354,0.08018575,284.40075,-29.693185)\" inkscape:transform-center-x=\"5.9997774\" inkscape:transform-center-y=\"0.20935791\" d=\"m 1020.2887,-596.68092 98.361,174.51255 -200.31277,-2.07316 z\"/>\n",
       "          <path style=\"stroke:currentColor;stroke-width:5.00526;stroke-miterlimit:4;stroke-dasharray:none\" d=\"M 355.53236,83.808526 356.1433,-70.605636\" id=\"path2179-5-3-84-3-1\"/>\n",
       "        </g>\n",
       "      </g>\n",
       "      <g id=\"g2263-3-6-1-1-2-5\" transform=\"matrix(0.03895162,0.32569747,0.31826527,-0.01094927,174.5055,-47.244865)\" style=\"display:inline;stroke-width:2.25454\" inkscape:transform-center-x=\"-13.243147\" inkscape:transform-center-y=\"0.50808596\">\n",
       "        <g id=\"g2383-6-7-94-0-0-5\" transform=\"matrix(0.48731255,0.02423459,0.01279726,0.50441827,306.3094,-31.083282)\" style=\"stroke-width:2.41004\">\n",
       "          <path sodipodi:type=\"star\" style=\"fill:currentColor;fill-opacity:1;stroke-width:29.4809;stroke-miterlimit:4;stroke-dasharray:none\" id=\"path1845-7-5-7-6-6-4\" inkscape:flatsided=\"true\" sodipodi:sides=\"3\" sodipodi:cx=\"1019.0918\" sodipodi:cy=\"-481.03027\" sodipodi:r1=\"115.65684\" sodipodi:r2=\"187.39349\" sodipodi:arg1=\"-1.5604471\" sodipodi:arg2=\"-0.51324957\" inkscape:rounded=\"0\" inkscape:randomized=\"0\" transform=\"matrix(0.07343639,-0.00655922,0.00604354,0.08018575,284.40075,-29.693185)\" inkscape:transform-center-x=\"5.9997774\" inkscape:transform-center-y=\"0.20935791\" d=\"m 1020.2887,-596.68092 98.361,174.51255 -200.31277,-2.07316 z\"/>\n",
       "          <path style=\"stroke:currentColor;stroke-width:5.00526;stroke-miterlimit:4;stroke-dasharray:none\" d=\"M 355.53236,83.808526 356.1433,-70.605636\" id=\"path2179-5-3-84-3-1-7\"/>\n",
       "        </g>\n",
       "      </g>\n",
       "      <g id=\"g2263-3-6-6\" transform=\"matrix(-0.29176199,-0.14990335,-0.16895723,0.26993726,189.023,260.11837)\" style=\"display:inline;stroke-width:2.25454\" inkscape:transform-center-x=\"7.6176864\" inkscape:transform-center-y=\"10.835847\">\n",
       "        <g id=\"g2383-6-7-5\" transform=\"matrix(0.48731255,0.02423459,0.01279726,0.50441827,306.3094,-31.083282)\" style=\"stroke-width:2.41004\">\n",
       "          <path sodipodi:type=\"star\" style=\"fill:currentColor;fill-opacity:1;stroke-width:29.4809;stroke-miterlimit:4;stroke-dasharray:none\" id=\"path1845-7-5-6\" inkscape:flatsided=\"true\" sodipodi:sides=\"3\" sodipodi:cx=\"1019.0918\" sodipodi:cy=\"-481.03027\" sodipodi:r1=\"115.65684\" sodipodi:r2=\"187.39349\" sodipodi:arg1=\"-1.5604471\" sodipodi:arg2=\"-0.51324957\" inkscape:rounded=\"0\" inkscape:randomized=\"0\" transform=\"matrix(0.07343639,-0.00655922,0.00604354,0.08018575,284.40075,-29.693185)\" inkscape:transform-center-x=\"5.9997774\" inkscape:transform-center-y=\"0.20935791\" d=\"m 1020.2887,-596.68092 98.361,174.51255 -200.31277,-2.07316 z\"/>\n",
       "          <path style=\"stroke:currentColor;stroke-width:5.00526;stroke-miterlimit:4;stroke-dasharray:none\" d=\"M 355.53236,83.808526 356.1433,-70.605636\" id=\"path2179-5-3-9\"/>\n",
       "        </g>\n",
       "      </g>\n",
       "      <g id=\"g2263-3-6-1-3\" transform=\"matrix(0.18025679,-0.27405029,0.27990102,0.15188183,107.0932,284.02771)\" style=\"display:inline;stroke-width:2.25454\" inkscape:transform-center-x=\"-11.963107\" inkscape:transform-center-y=\"5.6362473\">\n",
       "        <g id=\"g2383-6-7-94-7\" transform=\"matrix(0.48731255,0.02423459,0.01279726,0.50441827,306.3094,-31.083282)\" style=\"stroke-width:2.41004\">\n",
       "          <path sodipodi:type=\"star\" style=\"fill:currentColor;fill-opacity:1;stroke-width:29.4809;stroke-miterlimit:4;stroke-dasharray:none\" id=\"path1845-7-5-7-4\" inkscape:flatsided=\"true\" sodipodi:sides=\"3\" sodipodi:cx=\"1019.0918\" sodipodi:cy=\"-481.03027\" sodipodi:r1=\"115.65684\" sodipodi:r2=\"187.39349\" sodipodi:arg1=\"-1.5604471\" sodipodi:arg2=\"-0.51324957\" inkscape:rounded=\"0\" inkscape:randomized=\"0\" transform=\"matrix(0.07343639,-0.00655922,0.00604354,0.08018575,284.40075,-29.693185)\" inkscape:transform-center-x=\"5.9997774\" inkscape:transform-center-y=\"0.20935791\" d=\"m 1020.2887,-596.68092 98.361,174.51255 -200.31277,-2.07316 z\"/>\n",
       "          <path style=\"stroke:currentColor;stroke-width:5.00526;stroke-miterlimit:4;stroke-dasharray:none\" d=\"M 355.53236,83.808526 356.1433,-70.605636\" id=\"path2179-5-3-84-5\"/>\n",
       "        </g>\n",
       "      </g>\n",
       "      <g id=\"g2263-3-6-1-1-25\" transform=\"matrix(-0.18025679,-0.27405029,-0.27990102,0.15188183,100.684,277.2573)\" style=\"display:inline;stroke-width:2.25454\" inkscape:transform-center-x=\"11.963109\" inkscape:transform-center-y=\"5.6362473\">\n",
       "        <g id=\"g2383-6-7-94-0-4\" transform=\"matrix(0.48731255,0.02423459,0.01279726,0.50441827,306.3094,-31.083282)\" style=\"stroke-width:2.41004\">\n",
       "          <path sodipodi:type=\"star\" style=\"fill:currentColor;fill-opacity:1;stroke-width:29.4809;stroke-miterlimit:4;stroke-dasharray:none\" id=\"path1845-7-5-7-6-7\" inkscape:flatsided=\"true\" sodipodi:sides=\"3\" sodipodi:cx=\"1019.0918\" sodipodi:cy=\"-481.03027\" sodipodi:r1=\"115.65684\" sodipodi:r2=\"187.39349\" sodipodi:arg1=\"-1.5604471\" sodipodi:arg2=\"-0.51324957\" inkscape:rounded=\"0\" inkscape:randomized=\"0\" transform=\"matrix(0.07343639,-0.00655922,0.00604354,0.08018575,284.40075,-29.693185)\" inkscape:transform-center-x=\"5.9997774\" inkscape:transform-center-y=\"0.20935791\" d=\"m 1020.2887,-596.68092 98.361,174.51255 -200.31277,-2.07316 z\"/>\n",
       "          <path style=\"stroke:currentColor;stroke-width:5.00526;stroke-miterlimit:4;stroke-dasharray:none\" d=\"M 355.53236,83.808526 356.1433,-70.605636\" id=\"path2179-5-3-84-3-4\"/>\n",
       "        </g>\n",
       "      </g>\n",
       "      <g id=\"g2263-3-6-5-4\" transform=\"matrix(0.29176199,-0.14990335,0.16895723,0.26993726,11.105332,260.41035)\" style=\"display:inline;stroke-width:2.25454\" inkscape:transform-center-x=\"-7.6176864\" inkscape:transform-center-y=\"10.835853\">\n",
       "        <g id=\"g2383-6-7-0-3\" transform=\"matrix(0.48731255,0.02423459,0.01279726,0.50441827,306.3094,-31.083282)\" style=\"stroke-width:2.41004\">\n",
       "          <path sodipodi:type=\"star\" style=\"fill:currentColor;fill-opacity:1;stroke-width:29.4809;stroke-miterlimit:4;stroke-dasharray:none\" id=\"path1845-7-5-3-0\" inkscape:flatsided=\"true\" sodipodi:sides=\"3\" sodipodi:cx=\"1019.0918\" sodipodi:cy=\"-481.03027\" sodipodi:r1=\"115.65684\" sodipodi:r2=\"187.39349\" sodipodi:arg1=\"-1.5604471\" sodipodi:arg2=\"-0.51324957\" inkscape:rounded=\"0\" inkscape:randomized=\"0\" transform=\"matrix(0.07343639,-0.00655922,0.00604354,0.08018575,284.40075,-29.693185)\" inkscape:transform-center-x=\"5.9997774\" inkscape:transform-center-y=\"0.20935791\" d=\"m 1020.2887,-596.68092 98.361,174.51255 -200.31277,-2.07316 z\"/>\n",
       "          <path style=\"stroke:currentColor;stroke-width:5.00526;stroke-miterlimit:4;stroke-dasharray:none\" d=\"M 355.53236,83.808526 356.1433,-70.605636\" id=\"path2179-5-3-6-7\"/>\n",
       "        </g>\n",
       "      </g>\n",
       "      <g id=\"g2263-3-6-4\" transform=\"matrix(-0.05964617,-0.21761963,0.21563101,-0.06706118,205.7114,192.81688)\" style=\"display:inline;stroke-width:3.22317\" inkscape:transform-center-x=\"3.4932938\" inkscape:transform-center-y=\"-8.6059679\">\n",
       "        <g id=\"g2383-6-7-3\" transform=\"matrix(0.48731255,0.02423459,0.01279726,0.50441827,306.3094,-31.083282)\" style=\"stroke-width:3.44548\">\n",
       "          <path sodipodi:type=\"star\" style=\"fill:currentColor;fill-opacity:1;stroke-width:42.147;stroke-miterlimit:4;stroke-dasharray:none\" id=\"path1845-7-5-1\" inkscape:flatsided=\"true\" sodipodi:sides=\"3\" sodipodi:cx=\"1019.0918\" sodipodi:cy=\"-481.03027\" sodipodi:r1=\"115.65684\" sodipodi:r2=\"187.39349\" sodipodi:arg1=\"-1.5604471\" sodipodi:arg2=\"-0.51324957\" inkscape:rounded=\"0\" inkscape:randomized=\"0\" transform=\"matrix(0.07343639,-0.00655922,0.00604354,0.08018575,284.40075,-29.693185)\" inkscape:transform-center-x=\"5.9997774\" inkscape:transform-center-y=\"0.20935791\" d=\"m 1020.2887,-596.68092 98.361,174.51255 -200.31277,-2.07316 z\"/>\n",
       "          <path style=\"stroke:currentColor;stroke-width:7.15571;stroke-miterlimit:4;stroke-dasharray:none\" d=\"M 355.53236,83.808526 356.1433,-70.605636\" id=\"path2179-5-3-4\"/>\n",
       "        </g>\n",
       "      </g>\n",
       "      <g id=\"g2263-3-6-1-9\" transform=\"matrix(-0.15993015,0.16851681,0.15406104,0.15609071,234.61972,78.100062)\" style=\"display:inline;stroke-width:3.22317\" inkscape:transform-center-x=\"-7.1990002\" inkscape:transform-center-y=\"-6.0167425\">\n",
       "        <g id=\"g2383-6-7-94-2\" transform=\"matrix(0.48731255,0.02423459,0.01279726,0.50441827,306.3094,-31.083282)\" style=\"stroke-width:3.44548\">\n",
       "          <path sodipodi:type=\"star\" style=\"fill:currentColor;fill-opacity:1;stroke-width:42.147;stroke-miterlimit:4;stroke-dasharray:none\" id=\"path1845-7-5-7-0\" inkscape:flatsided=\"true\" sodipodi:sides=\"3\" sodipodi:cx=\"1019.0918\" sodipodi:cy=\"-481.03027\" sodipodi:r1=\"115.65684\" sodipodi:r2=\"187.39349\" sodipodi:arg1=\"-1.5604471\" sodipodi:arg2=\"-0.51324957\" inkscape:rounded=\"0\" inkscape:randomized=\"0\" transform=\"matrix(0.07343639,-0.00655922,0.00604354,0.08018575,284.40075,-29.693185)\" inkscape:transform-center-x=\"5.9997774\" inkscape:transform-center-y=\"0.20935791\" d=\"m 1020.2887,-596.68092 98.361,174.51255 -200.31277,-2.07316 z\"/>\n",
       "          <path style=\"stroke:currentColor;stroke-width:7.15571;stroke-miterlimit:4;stroke-dasharray:none\" d=\"M 355.53236,83.808526 356.1433,-70.605636\" id=\"path2179-5-3-84-6\"/>\n",
       "        </g>\n",
       "      </g>\n",
       "      <g id=\"g2263-3-6-5-6\" transform=\"matrix(-0.04755937,0.22060096,0.21898419,0.05503365,198.78647,22.641964)\" style=\"display:inline;stroke-width:3.22317\" inkscape:transform-center-x=\"-2.9895397\" inkscape:transform-center-y=\"-9.0025926\">\n",
       "        <g id=\"g2383-6-7-0-4\" transform=\"matrix(0.48731255,0.02423459,0.01279726,0.50441827,306.3094,-31.083282)\" style=\"stroke-width:3.44548\">\n",
       "          <path sodipodi:type=\"star\" style=\"fill:currentColor;fill-opacity:1;stroke-width:42.147;stroke-miterlimit:4;stroke-dasharray:none\" id=\"path1845-7-5-3-9\" inkscape:flatsided=\"true\" sodipodi:sides=\"3\" sodipodi:cx=\"1019.0918\" sodipodi:cy=\"-481.03027\" sodipodi:r1=\"115.65684\" sodipodi:r2=\"187.39349\" sodipodi:arg1=\"-1.5604471\" sodipodi:arg2=\"-0.51324957\" inkscape:rounded=\"0\" inkscape:randomized=\"0\" transform=\"matrix(0.07343639,-0.00655922,0.00604354,0.08018575,284.40075,-29.693185)\" inkscape:transform-center-x=\"5.9997774\" inkscape:transform-center-y=\"0.20935791\" d=\"m 1020.2887,-596.68092 98.361,174.51255 -200.31277,-2.07316 z\"/>\n",
       "          <path style=\"stroke:currentColor;stroke-width:7.15571;stroke-miterlimit:4;stroke-dasharray:none\" d=\"M 355.53236,83.808526 356.1433,-70.605636\" id=\"path2179-5-3-6-5\"/>\n",
       "        </g>\n",
       "      </g>\n",
       "      <g id=\"g2263-3-6-1-1-2-0\" transform=\"matrix(-0.23462695,-0.02668512,0.0081306,-0.21612402,214.09615,59.568326)\" style=\"display:inline;stroke-width:3.22317\" inkscape:transform-center-x=\"9.3624161\" inkscape:transform-center-y=\"0.35916687\">\n",
       "        <g id=\"g2383-6-7-94-0-0-4\" transform=\"matrix(0.48731255,0.02423459,0.01279726,0.50441827,306.3094,-31.083282)\" style=\"stroke-width:3.44548\">\n",
       "          <path sodipodi:type=\"star\" style=\"fill:currentColor;fill-opacity:1;stroke-width:42.147;stroke-miterlimit:4;stroke-dasharray:none\" id=\"path1845-7-5-7-6-6-8\" inkscape:flatsided=\"true\" sodipodi:sides=\"3\" sodipodi:cx=\"1019.0918\" sodipodi:cy=\"-481.03027\" sodipodi:r1=\"115.65684\" sodipodi:r2=\"187.39349\" sodipodi:arg1=\"-1.5604471\" sodipodi:arg2=\"-0.51324957\" inkscape:rounded=\"0\" inkscape:randomized=\"0\" transform=\"matrix(0.07343639,-0.00655922,0.00604354,0.08018575,284.40075,-29.693185)\" inkscape:transform-center-x=\"5.9997774\" inkscape:transform-center-y=\"0.20935791\" d=\"m 1020.2887,-596.68092 98.361,174.51255 -200.31277,-2.07316 z\"/>\n",
       "          <path style=\"stroke:currentColor;stroke-width:7.15571;stroke-miterlimit:4;stroke-dasharray:none\" d=\"M 355.53236,83.808526 356.1433,-70.605636\" id=\"path2179-5-3-84-3-1-71\"/>\n",
       "        </g>\n",
       "      </g>\n",
       "      <g id=\"g2263-3-6-1-1-2-5-7\" transform=\"matrix(-0.23468617,0.02621846,0.00764672,0.21613971,213.73981,159.13783)\" style=\"display:inline;stroke-width:3.22317\" inkscape:transform-center-x=\"-9.3624165\" inkscape:transform-center-y=\"0.35916727\">\n",
       "        <g id=\"g2383-6-7-94-0-0-5-2\" transform=\"matrix(0.48731255,0.02423459,0.01279726,0.50441827,306.3094,-31.083282)\" style=\"stroke-width:3.44548\">\n",
       "          <path sodipodi:type=\"star\" style=\"fill:currentColor;fill-opacity:1;stroke-width:42.147;stroke-miterlimit:4;stroke-dasharray:none\" id=\"path1845-7-5-7-6-6-4-7\" inkscape:flatsided=\"true\" sodipodi:sides=\"3\" sodipodi:cx=\"1019.0918\" sodipodi:cy=\"-481.03027\" sodipodi:r1=\"115.65684\" sodipodi:r2=\"187.39349\" sodipodi:arg1=\"-1.5604471\" sodipodi:arg2=\"-0.51324957\" inkscape:rounded=\"0\" inkscape:randomized=\"0\" transform=\"matrix(0.07343639,-0.00655922,0.00604354,0.08018575,284.40075,-29.693185)\" inkscape:transform-center-x=\"5.9997774\" inkscape:transform-center-y=\"0.20935791\" d=\"m 1020.2887,-596.68092 98.361,174.51255 -200.31277,-2.07316 z\"/>\n",
       "          <path style=\"stroke:currentColor;stroke-width:7.15571;stroke-miterlimit:4;stroke-dasharray:none\" d=\"M 355.53236,83.808526 356.1433,-70.605636\" id=\"path2179-5-3-84-3-1-7-2\"/>\n",
       "        </g>\n",
       "      </g>\n",
       "      <g id=\"g2263-3-6-6-2\" transform=\"matrix(0.15270839,-0.16615302,-0.16097439,-0.15833516,-23.622086,138.96791)\" style=\"display:inline;stroke-width:3.22317\" inkscape:transform-center-x=\"7.0709065\" inkscape:transform-center-y=\"6.1383506\">\n",
       "        <g id=\"g2383-6-7-5-6\" transform=\"matrix(0.48731255,0.02423459,0.01279726,0.50441827,306.3094,-31.083282)\" style=\"stroke-width:3.44548\">\n",
       "          <path sodipodi:type=\"star\" style=\"fill:currentColor;fill-opacity:1;stroke-width:42.147;stroke-miterlimit:4;stroke-dasharray:none\" id=\"path1845-7-5-6-1\" inkscape:flatsided=\"true\" sodipodi:sides=\"3\" sodipodi:cx=\"1019.0918\" sodipodi:cy=\"-481.03027\" sodipodi:r1=\"115.65684\" sodipodi:r2=\"187.39349\" sodipodi:arg1=\"-1.5604471\" sodipodi:arg2=\"-0.51324957\" inkscape:rounded=\"0\" inkscape:randomized=\"0\" transform=\"matrix(0.07343639,-0.00655922,0.00604354,0.08018575,284.40075,-29.693185)\" inkscape:transform-center-x=\"5.9997774\" inkscape:transform-center-y=\"0.20935791\" d=\"m 1020.2887,-596.68092 98.361,174.51255 -200.31277,-2.07316 z\"/>\n",
       "          <path style=\"stroke:currentColor;stroke-width:7.15571;stroke-miterlimit:4;stroke-dasharray:none\" d=\"M 355.53236,83.808526 356.1433,-70.605636\" id=\"path2179-5-3-9-0\"/>\n",
       "        </g>\n",
       "      </g>\n",
       "      <g id=\"g2263-3-6-6-2-1\" transform=\"matrix(-0.15270839,-0.16615302,0.16097439,-0.15833516,228.04254,131.5268)\" style=\"display:inline;stroke-width:3.22317\" inkscape:transform-center-x=\"-7.0709078\" inkscape:transform-center-y=\"6.1383506\">\n",
       "        <g id=\"g2383-6-7-5-6-5\" transform=\"matrix(0.48731255,0.02423459,0.01279726,0.50441827,306.3094,-31.083282)\" style=\"stroke-width:3.44548\">\n",
       "          <path sodipodi:type=\"star\" style=\"fill:currentColor;fill-opacity:1;stroke-width:42.147;stroke-miterlimit:4;stroke-dasharray:none\" id=\"path1845-7-5-6-1-9\" inkscape:flatsided=\"true\" sodipodi:sides=\"3\" sodipodi:cx=\"1019.0918\" sodipodi:cy=\"-481.03027\" sodipodi:r1=\"115.65684\" sodipodi:r2=\"187.39349\" sodipodi:arg1=\"-1.5604471\" sodipodi:arg2=\"-0.51324957\" inkscape:rounded=\"0\" inkscape:randomized=\"0\" transform=\"matrix(0.07343639,-0.00655922,0.00604354,0.08018575,284.40075,-29.693185)\" inkscape:transform-center-x=\"5.9997774\" inkscape:transform-center-y=\"0.20935791\" d=\"m 1020.2887,-596.68092 98.361,174.51255 -200.31277,-2.07316 z\"/>\n",
       "          <path style=\"stroke:currentColor;stroke-width:7.15571;stroke-miterlimit:4;stroke-dasharray:none\" d=\"M 355.53236,83.808526 356.1433,-70.605636\" id=\"path2179-5-3-9-0-7\"/>\n",
       "        </g>\n",
       "      </g>\n",
       "      <g id=\"g2263-3-6-5-4-1\" transform=\"matrix(0.12311506,0.18909959,-0.1849463,0.12957161,-14.438572,63.340355)\" style=\"display:inline;stroke-width:3.22317\" inkscape:transform-center-x=\"-5.9741519\" inkscape:transform-center-y=\"7.2101785\">\n",
       "        <g id=\"g2383-6-7-0-3-7\" transform=\"matrix(0.48731255,0.02423459,0.01279726,0.50441827,306.3094,-31.083282)\" style=\"stroke-width:3.44548\">\n",
       "          <path sodipodi:type=\"star\" style=\"fill:currentColor;fill-opacity:1;stroke-width:42.147;stroke-miterlimit:4;stroke-dasharray:none\" id=\"path1845-7-5-3-0-7\" inkscape:flatsided=\"true\" sodipodi:sides=\"3\" sodipodi:cx=\"1019.0918\" sodipodi:cy=\"-481.03027\" sodipodi:r1=\"115.65684\" sodipodi:r2=\"187.39349\" sodipodi:arg1=\"-1.5604471\" sodipodi:arg2=\"-0.51324957\" inkscape:rounded=\"0\" inkscape:randomized=\"0\" transform=\"matrix(0.07343639,-0.00655922,0.00604354,0.08018575,284.40075,-29.693185)\" inkscape:transform-center-x=\"5.9997774\" inkscape:transform-center-y=\"0.20935791\" d=\"m 1020.2887,-596.68092 98.361,174.51255 -200.31277,-2.07316 z\"/>\n",
       "          <path style=\"stroke:currentColor;stroke-width:7.15571;stroke-miterlimit:4;stroke-dasharray:none\" d=\"M 355.53236,83.808526 356.1433,-70.605636\" id=\"path2179-5-3-6-7-1\"/>\n",
       "        </g>\n",
       "      </g>\n",
       "      <g id=\"g2263-3-6-5-4-1-6\" transform=\"matrix(0.07573347,0.21255685,-0.21001996,0.08297923,-8.0553163,19.382928)\" style=\"display:inline;stroke-width:3.22317\" inkscape:transform-center-x=\"-4.1324087\" inkscape:transform-center-y=\"8.3852268\">\n",
       "        <g id=\"g2383-6-7-0-3-7-5\" transform=\"matrix(0.48731255,0.02423459,0.01279726,0.50441827,306.3094,-31.083282)\" style=\"stroke-width:3.44548\">\n",
       "          <path sodipodi:type=\"star\" style=\"fill:currentColor;fill-opacity:1;stroke-width:42.147;stroke-miterlimit:4;stroke-dasharray:none\" id=\"path1845-7-5-3-0-7-6\" inkscape:flatsided=\"true\" sodipodi:sides=\"3\" sodipodi:cx=\"1019.0918\" sodipodi:cy=\"-481.03027\" sodipodi:r1=\"115.65684\" sodipodi:r2=\"187.39349\" sodipodi:arg1=\"-1.5604471\" sodipodi:arg2=\"-0.51324957\" inkscape:rounded=\"0\" inkscape:randomized=\"0\" transform=\"matrix(0.07343639,-0.00655922,0.00604354,0.08018575,284.40075,-29.693185)\" inkscape:transform-center-x=\"5.9997774\" inkscape:transform-center-y=\"0.20935791\" d=\"m 1020.2887,-596.68092 98.361,174.51255 -200.31277,-2.07316 z\"/>\n",
       "          <path style=\"stroke:currentColor;stroke-width:7.15571;stroke-miterlimit:4;stroke-dasharray:none\" d=\"M 355.53236,83.808526 356.1433,-70.605636\" id=\"path2179-5-3-6-7-1-3\"/>\n",
       "        </g>\n",
       "      </g>\n",
       "      <g id=\"g2263-3-6-4-7\" transform=\"matrix(0.05964617,-0.21761963,-0.21563101,-0.06706118,0.7035711,194.95473)\" style=\"display:inline;stroke-width:3.22317\" inkscape:transform-center-x=\"-3.4932938\" inkscape:transform-center-y=\"-8.6059679\">\n",
       "        <g id=\"g2383-6-7-3-6\" transform=\"matrix(0.48731255,0.02423459,0.01279726,0.50441827,306.3094,-31.083282)\" style=\"stroke-width:3.44548\">\n",
       "          <path sodipodi:type=\"star\" style=\"fill:currentColor;fill-opacity:1;stroke-width:42.147;stroke-miterlimit:4;stroke-dasharray:none\" id=\"path1845-7-5-1-7\" inkscape:flatsided=\"true\" sodipodi:sides=\"3\" sodipodi:cx=\"1019.0918\" sodipodi:cy=\"-481.03027\" sodipodi:r1=\"115.65684\" sodipodi:r2=\"187.39349\" sodipodi:arg1=\"-1.5604471\" sodipodi:arg2=\"-0.51324957\" inkscape:rounded=\"0\" inkscape:randomized=\"0\" transform=\"matrix(0.07343639,-0.00655922,0.00604354,0.08018575,284.40075,-29.693185)\" inkscape:transform-center-x=\"5.9997774\" inkscape:transform-center-y=\"0.20935791\" d=\"m 1020.2887,-596.68092 98.361,174.51255 -200.31277,-2.07316 z\"/>\n",
       "          <path style=\"stroke:currentColor;stroke-width:7.15571;stroke-miterlimit:4;stroke-dasharray:none\" d=\"M 355.53236,83.808526 356.1433,-70.605636\" id=\"path2179-5-3-4-3\"/>\n",
       "        </g>\n",
       "      </g>\n",
       "    </g>\n",
       "  </g>\n",
       "</svg></p></div>\n",
       "\n",
       "</div>"
      ],
      "text/plain": [
       "<jupylecture.tools.FlexSlide at 0x7f85c856e5b0>"
      ]
     },
     "metadata": {},
     "output_type": "display_data"
    }
   ],
   "source": [
    "slide10=FlexSlide(\"# Gravity versus Potential from infinite distance\")\n",
    "slide10.addmd(\"No matter how complex the body is: from a distance it looks like a point mass\")\n",
    "slide10.addmd(\"$$\\\\lim_{r\\\\to\\\\infty}V=\\\\frac{G M }{|\\\\textbf{r}|}$$\",\n",
    "                 flxwidth=\"flx50\")\n",
    "slide10.addmd(\"$$\\\\lim_{r\\\\to\\\\infty}\\\\textbf{g}=-\\\\frac{G M \\\\textbf{r}}{|\\\\textbf{r}|^{3}}$$\",\n",
    "                 flxwidth=\"flx50\")\n",
    "slide10.addSVG(\"images/grav_vs_pot.svg\",flxwidth=\"flx100\")\n",
    "slide10.display()"
   ]
  },
  {
   "cell_type": "code",
   "execution_count": 17,
   "metadata": {
    "slideshow": {
     "slide_type": "slide"
    }
   },
   "outputs": [
    {
     "data": {
      "text/html": [
       "<div id=\"751e36b6ae7f541a\"></div>\n",
       "    <script type=\"text/javascript\">\n",
       "        $(function(){\n",
       "            var p = $(\"#751e36b6ae7f541a\");\n",
       "            if (p.length==0) return;\n",
       "            while (!p.hasClass(\"cell\")) {\n",
       "                p=p.parent();\n",
       "                if (p.prop(\"tagName\") ==\"body\") return;\n",
       "            }\n",
       "            var cell = p;\n",
       "            cell.find(\".input\").addClass(\"hide-in-slideshow\")\n",
       "        });\n",
       "    </script>"
      ]
     },
     "metadata": {},
     "output_type": "display_data"
    },
    {
     "data": {
      "text/markdown": [
       "\n",
       "<div class=\"flxsld text_cell\" ><div class=\"flx100\"><h1>The gravity field obeys the Laplace or Poisson equation</h1></div>\n",
       "\n",
       "\n",
       "<div class=\" flx100\" >\n",
       "\n",
       "<p>How does the potential behave inside and outside of a body?</p></div>\n",
       "<div class=\" flx80\" >\n",
       "\n",
       "<ul><li class=\"fragment fade-in\">$\\textbf{g}=\\nabla V $</li><li class=\"fragment fade-in\">$\\nabla \\cdot \\textbf{g}=\\nabla \\cdot \\nabla V = \\nabla^{2} V$</li><li class=\"fragment fade-in\">$\\nabla^{2} V = \\frac{\\partial^{2} V}{\\partial x ^{2}} + \\frac{\\partial^{2} V}{\\partial y ^{2}}+\\frac{\\partial^{2} V}{\\partial z^{2}}$</li></ul></div>\n",
       "<div class=\" flx20 fragment fade-in\" >\n",
       "\n",
       "<p>Outside: <script type=\"math/tex; mode=display\">\\nabla^{2} V = 0</script> (Laplace Equation)</p></div>\n",
       "<div class=\" flx80\" >\n",
       "\n",
       "</div>\n",
       "<div class=\" flx20 fragment fade-in circ1\" >\n",
       "\n",
       "<p>Inside: <script type=\"math/tex; mode=display\">\\nabla^{2} V = -4\\pi G\\rho</script> (Poisson Equation)</p></div>\n",
       "\n",
       "</div>"
      ],
      "text/plain": [
       "<jupylecture.tools.FlexSlide at 0x7f85c851f340>"
      ]
     },
     "metadata": {},
     "output_type": "display_data"
    }
   ],
   "source": [
    "slide12=FlexSlide(\"# The gravity field obeys the Laplace or Poisson equation\")\n",
    "slide12.addmd(\"How does the potential behave inside and outside of a body?\",flxwidth=\"flx100\")\n",
    "slide12.addItems([\"$\\\\textbf{g}=\\\\nabla V $\",\n",
    "                   \"$\\\\nabla \\\\cdot \\\\textbf{g}=\\\\nabla \\\\cdot \\\\nabla V = \\\\nabla^{2} V$\",\n",
    "                   \"$\\\\nabla^{2} V = \\\\frac{\\\\partial^{2} V}{\\\\partial x ^{2}} + \\\\frac{\\\\partial^{2} V}{\\\\partial y ^{2}}+\\\\frac{\\\\partial^{2} V}{\\\\partial z^{2}}$\"],\n",
    "                  flxwidth=\"flx80\",frag=True)\n",
    "slide12.addmd(\"Outside: $$\\\\nabla^{2} V = 0$$ (Laplace Equation)\",\n",
    "                 flxwidth=\"flx20\",frag=True)\n",
    "slide12.addmd(\"\",flxwidth=\"flx80\")\n",
    "slide12.addCircle(\"Inside: $$\\\\nabla^{2} V = -4\\\\pi G\\\\rho$$ (Poisson Equation)\",flxwidth=\"flx20\",frag=True)\n",
    "slide12.display()"
   ]
  },
  {
   "cell_type": "code",
   "execution_count": 18,
   "metadata": {
    "slideshow": {
     "slide_type": "slide"
    }
   },
   "outputs": [
    {
     "data": {
      "text/html": [
       "<div id=\"e187583c65d43e3d\"></div>\n",
       "    <script type=\"text/javascript\">\n",
       "        $(function(){\n",
       "            var p = $(\"#e187583c65d43e3d\");\n",
       "            if (p.length==0) return;\n",
       "            while (!p.hasClass(\"cell\")) {\n",
       "                p=p.parent();\n",
       "                if (p.prop(\"tagName\") ==\"body\") return;\n",
       "            }\n",
       "            var cell = p;\n",
       "            cell.find(\".input\").addClass(\"hide-in-slideshow\")\n",
       "        });\n",
       "    </script>"
      ]
     },
     "metadata": {},
     "output_type": "display_data"
    },
    {
     "data": {
      "text/markdown": [
       "\n",
       "<div class=\"flxsld text_cell\" ><div class=\"flx100\"><h1>Example: How does gravity change inside the Earth?</h1></div>\n",
       "\n",
       "\n",
       "<div class=\" flx100\" >\n",
       "\n",
       "<ul><li class=\"fragment fade-in\">Does gravity decrease when descending in a mine?</li><li class=\"fragment fade-in\">But gravity  actually INCREASES when you go into a mine!</li><li class=\"fragment fade-in\">Due to nonhomogenous density distribution (mantle is much denser than crust)</li></ul></div>\n",
       "<div class=\" flx30\" >\n",
       "\n",
       "<p><img src=\"images/mine.jpg\" alt=\"None\"  /><img src=\"images/igrav-cg5.jpg\" alt=\"None\"  /></p></div>\n",
       "<div class=\" flx60\" >\n",
       "\n",
       "<p><img src=\"images/gravZ.png\" alt=\"None\" style=\"width:80%;\" /></p></div>\n",
       "\n",
       "</div>"
      ],
      "text/plain": [
       "<jupylecture.tools.FlexSlide at 0x7f85c856e550>"
      ]
     },
     "metadata": {},
     "output_type": "display_data"
    }
   ],
   "source": [
    "slide12=FlexSlide(\"# Example: How does gravity change inside the Earth?\")\n",
    "slide12.addItems([\"Does gravity decrease when descending in a mine?\",\"But gravity  actually INCREASES when you go into a mine!\",\n",
    "                 \"Due to nonhomogenous density distribution (mantle is much denser than crust)\"],flxwidth=\"flx100\",frag=True)\n",
    "\n",
    "slide12.addimg([\"images/mine.jpg\",\"images/igrav-cg5.jpg\"],flxwidth=\"flx30\")\n",
    "# slide12.addimg(\"images/igrav-cg5.jpg\",flxwidth=\"flx30\")\n",
    "slide12.addimg(\"images/gravZ.png\",flxwidth=\"flx60\",width=\"80%\")\n",
    "\n",
    "\n",
    "slide12.display()"
   ]
  },
  {
   "cell_type": "code",
   "execution_count": 19,
   "metadata": {
    "slideshow": {
     "slide_type": "slide"
    }
   },
   "outputs": [
    {
     "data": {
      "text/html": [
       "<div id=\"648b0676da1e441b\"></div>\n",
       "    <script type=\"text/javascript\">\n",
       "        $(function(){\n",
       "            var p = $(\"#648b0676da1e441b\");\n",
       "            if (p.length==0) return;\n",
       "            while (!p.hasClass(\"cell\")) {\n",
       "                p=p.parent();\n",
       "                if (p.prop(\"tagName\") ==\"body\") return;\n",
       "            }\n",
       "            var cell = p;\n",
       "            cell.find(\".input\").addClass(\"hide-in-slideshow\")\n",
       "        });\n",
       "    </script>"
      ]
     },
     "metadata": {},
     "output_type": "display_data"
    },
    {
     "data": {
      "text/markdown": [
       "\n",
       "<div class=\"flxsld text_cell\" ><div class=\"flx100\"><h1>Throwing a stone</h1></div>\n",
       "\n",
       "\n",
       "<div class=\" flx50\" >\n",
       "\n",
       "<p><svg xmlns:inkscape=\"http://www.inkscape.org/namespaces/inkscape\" xmlns:sodipodi=\"http://sodipodi.sourceforge.net/DTD/sodipodi-0.dtd\" xmlns=\"http://www.w3.org/2000/svg\" xmlns:svg=\"http://www.w3.org/2000/svg\" width=\"220.54344mm\" height=\"182.60817mm\" viewBox=\"0 0 220.54344 182.60817\" version=\"1.1\" id=\"svg5\" inkscape:version=\"1.1 (c4e8f9ed74, 2021-05-24)\" sodipodi:docname=\"stoneThrow.svg\">\n",
       "  <sodipodi:namedview id=\"namedview7\" pagecolor=\"#c8c8c8\" bordercolor=\"#666666\" borderopacity=\"1.0\" inkscape:pageshadow=\"2\" inkscape:pageopacity=\"1\" inkscape:pagecheckerboard=\"true\" inkscape:document-units=\"mm\" showgrid=\"false\" inkscape:zoom=\"0.94867182\" inkscape:cx=\"514.93044\" inkscape:cy=\"304.10938\" inkscape:window-width=\"1920\" inkscape:window-height=\"1043\" inkscape:window-x=\"0\" inkscape:window-y=\"0\" inkscape:window-maximized=\"1\" inkscape:current-layer=\"layer1\" fit-margin-top=\"8\" fit-margin-left=\"8\" fit-margin-right=\"8\" fit-margin-bottom=\"8\" lock-margins=\"true\"/>\n",
       "  <defs id=\"defs2\">\n",
       "    <linearGradient id=\"linearGradient1134\" inkscape:swatch=\"solid\">\n",
       "      <stop style=\"stop-color:#000000;stop-opacity:1;\" offset=\"0\" id=\"stop1132\"/>\n",
       "    </linearGradient>\n",
       "    <marker style=\"overflow:visible\" id=\"Arrow2Mend\" refX=\"0\" refY=\"0\" orient=\"auto\" inkscape:stockid=\"Arrow2Mend\" inkscape:isstock=\"true\">\n",
       "      <path transform=\"scale(-0.6)\" d=\"M 8.7185878,4.0337352 -2.2072895,0.01601326 8.7185884,-4.0017078 c -1.7454984,2.3720609 -1.7354408,5.6174519 -6e-7,8.035443 z\" style=\"fill:context-stroke;fill-rule:evenodd;stroke-width:0.625;stroke-linejoin:round\" id=\"path2218\"/>\n",
       "    </marker>\n",
       "    <marker style=\"overflow:visible\" id=\"Arrow1Send\" refX=\"0\" refY=\"0\" orient=\"auto\" inkscape:stockid=\"Arrow1Send\" inkscape:isstock=\"true\">\n",
       "      <path transform=\"matrix(-0.2,0,0,-0.2,-1.2,0)\" style=\"fill:context-stroke;fill-rule:evenodd;stroke:context-stroke;stroke-width:1pt\" d=\"M 0,0 5,-5 -12.5,0 5,5 Z\" id=\"path2206\"/>\n",
       "    </marker>\n",
       "    <rect x=\"162.39639\" y=\"777.76508\" width=\"184.09351\" height=\"172.06285\" id=\"rect6202\"/>\n",
       "    <marker id=\"ExperimentalArrow\" refX=\"5\" refY=\"3\" orient=\"auto-start-reverse\" inkscape:stockid=\"ExperimentalArrow\" inkscape:isstock=\"true\">\n",
       "      <path style=\"fill:context-stroke\" d=\"M 10,3 0,6 V 0 Z\" id=\"path2446\"/>\n",
       "    </marker>\n",
       "    <marker style=\"overflow:visible\" id=\"TriangleOutL\" refX=\"0\" refY=\"0\" orient=\"auto\" inkscape:stockid=\"TriangleOutL\" inkscape:isstock=\"true\">\n",
       "      <path transform=\"scale(0.8)\" style=\"fill:context-stroke;fill-rule:evenodd;stroke:context-stroke;stroke-width:1pt\" d=\"M 5.77,0 -2.88,5 V -5 Z\" id=\"path2335\"/>\n",
       "    </marker>\n",
       "    <marker style=\"overflow:visible\" id=\"Arrow2Lend\" refX=\"0\" refY=\"0\" orient=\"auto\" inkscape:stockid=\"Arrow2Lend\" inkscape:isstock=\"true\">\n",
       "      <path transform=\"matrix(-1.1,0,0,-1.1,-1.1,0)\" d=\"M 8.7185878,4.0337352 -2.2072895,0.01601326 8.7185884,-4.0017078 c -1.7454984,2.3720609 -1.7354408,5.6174519 -6e-7,8.035443 z\" style=\"fill:context-stroke;fill-rule:evenodd;stroke-width:0.625;stroke-linejoin:round\" id=\"path2212\"/>\n",
       "    </marker>\n",
       "    <marker id=\"ExperimentalArrow-1\" refX=\"5\" refY=\"3\" orient=\"auto-start-reverse\" inkscape:stockid=\"ExperimentalArrow\" inkscape:isstock=\"true\">\n",
       "      <path style=\"fill:context-stroke\" d=\"M 10,3 0,6 V 0 Z\" id=\"path2446-2\"/>\n",
       "    </marker>\n",
       "    <rect x=\"162.39639\" y=\"777.76508\" width=\"184.09351\" height=\"172.06285\" id=\"rect6202-0\"/>\n",
       "    <marker id=\"ExperimentalArrow-1-3\" refX=\"5\" refY=\"3\" orient=\"auto-start-reverse\" inkscape:stockid=\"ExperimentalArrow\" inkscape:isstock=\"true\">\n",
       "      <path style=\"fill:context-stroke\" d=\"M 10,3 0,6 V 0 Z\" id=\"path2446-2-6\"/>\n",
       "    </marker>\n",
       "    <rect x=\"162.39639\" y=\"777.76508\" width=\"184.09351\" height=\"172.06285\" id=\"rect6202-0-6\"/>\n",
       "    <rect x=\"162.39639\" y=\"777.76508\" width=\"184.09351\" height=\"172.06285\" id=\"rect6202-0-61\"/>\n",
       "    <rect x=\"162.39639\" y=\"777.76508\" width=\"184.09351\" height=\"172.06285\" id=\"rect6202-0-61-7\"/>\n",
       "    <marker style=\"overflow:visible\" refX=\"0\" refY=\"0\" orient=\"auto\" inkscape:stockid=\"TriangleOutL2268\" inkscape:isstock=\"true\" id=\"TriangleOutL2268\">\n",
       "      <path transform=\"scale(0.8)\" style=\"fill:#ffffff;fill-opacity:1;fill-rule:evenodd;stroke:#ffffff;stroke-width:1pt;stroke-opacity:1\" d=\"M 5.77,0 -2.88,5 V -5 Z\" id=\"path13131\"/>\n",
       "    </marker>\n",
       "    <marker style=\"overflow:visible\" refX=\"0\" refY=\"0\" orient=\"auto\" inkscape:stockid=\"TriangleOutL22689186\" inkscape:isstock=\"true\" id=\"TriangleOutL22689186\">\n",
       "      <path transform=\"scale(0.8)\" style=\"fill:#ffffff;fill-opacity:1;fill-rule:evenodd;stroke:#ffffff;stroke-width:1pt;stroke-opacity:1\" d=\"M 5.77,0 -2.88,5 V -5 Z\" id=\"path13324\"/>\n",
       "    </marker>\n",
       "    <marker refX=\"5\" refY=\"3\" orient=\"auto-start-reverse\" inkscape:stockid=\"ExperimentalArrow-19558\" inkscape:isstock=\"true\" id=\"ExperimentalArrow-19558\">\n",
       "      <path style=\"fill:#ffffff;fill-opacity:1;stroke:#ffffff;stroke-opacity:1\" d=\"M 10,3 0,6 V 0 Z\" id=\"path13563\"/>\n",
       "    </marker>\n",
       "    <marker refX=\"5\" refY=\"3\" orient=\"auto-start-reverse\" inkscape:stockid=\"ExperimentalArrow-1-33949\" inkscape:isstock=\"true\" id=\"ExperimentalArrow-1-33949\">\n",
       "      <path style=\"fill:#ffffff;fill-opacity:1;stroke:#ffffff;stroke-opacity:1\" d=\"M 10,3 0,6 V 0 Z\" id=\"path13566\"/>\n",
       "    </marker>\n",
       "    <marker refX=\"5\" refY=\"3\" orient=\"auto-start-reverse\" inkscape:stockid=\"ExperimentalArrow-1-3586\" inkscape:isstock=\"true\" id=\"ExperimentalArrow-1-3586\">\n",
       "      <path style=\"fill:#ffffff;fill-opacity:1;stroke:#ffffff;stroke-opacity:1\" d=\"M 10,3 0,6 V 0 Z\" id=\"path13569\"/>\n",
       "    </marker>\n",
       "    <marker style=\"overflow:visible\" refX=\"0\" refY=\"0\" orient=\"auto\" inkscape:stockid=\"Arrow2Mend4922\" inkscape:isstock=\"true\" id=\"Arrow2Mend4922\">\n",
       "      <path transform=\"scale(-0.6)\" d=\"M 8.7185878,4.0337352 -2.2072895,0.01601326 8.7185884,-4.0017078 c -1.7454984,2.3720609 -1.7354408,5.6174519 -6e-7,8.035443 z\" style=\"fill:#ffffff;fill-opacity:1;fill-rule:evenodd;stroke:#ffffff;stroke-width:0.625;stroke-linejoin:round;stroke-opacity:1\" id=\"path13951\"/>\n",
       "    </marker>\n",
       "    <marker style=\"overflow:visible\" refX=\"0\" refY=\"0\" orient=\"auto\" inkscape:stockid=\"Arrow2Mend1054\" inkscape:isstock=\"true\" id=\"Arrow2Mend1054\">\n",
       "      <path transform=\"scale(-0.6)\" d=\"M 8.7185878,4.0337352 -2.2072895,0.01601326 8.7185884,-4.0017078 c -1.7454984,2.3720609 -1.7354408,5.6174519 -6e-7,8.035443 z\" style=\"fill:#ffffff;fill-opacity:1;fill-rule:evenodd;stroke:#ffffff;stroke-width:0.625;stroke-linejoin:round;stroke-opacity:1\" id=\"path13954\"/>\n",
       "    </marker>\n",
       "    <marker style=\"overflow:visible\" refX=\"0\" refY=\"0\" orient=\"auto\" inkscape:stockid=\"Arrow2Mend371\" inkscape:isstock=\"true\" id=\"Arrow2Mend371\">\n",
       "      <path transform=\"scale(-0.6)\" d=\"M 8.7185878,4.0337352 -2.2072895,0.01601326 8.7185884,-4.0017078 c -1.7454984,2.3720609 -1.7354408,5.6174519 -6e-7,8.035443 z\" style=\"fill:#ffffff;fill-opacity:1;fill-rule:evenodd;stroke:#ffffff;stroke-width:0.625;stroke-linejoin:round;stroke-opacity:1\" id=\"path13957\"/>\n",
       "    </marker>\n",
       "    <rect x=\"162.39639\" y=\"777.76508\" width=\"184.09351\" height=\"172.06285\" id=\"rect6202-0-2\"/>\n",
       "    <rect x=\"162.39639\" y=\"777.76508\" width=\"309.74545\" height=\"233.78854\" id=\"rect6202-0-1\"/>\n",
       "    <rect x=\"162.39639\" y=\"777.76508\" width=\"184.09351\" height=\"172.06285\" id=\"rect6202-0-9\"/>\n",
       "    <rect x=\"162.39639\" y=\"777.76508\" width=\"309.74545\" height=\"233.78854\" id=\"rect6202-0-1-0\"/>\n",
       "    <rect x=\"162.39639\" y=\"777.76508\" width=\"309.74545\" height=\"233.78854\" id=\"rect6202-0-1-7\"/>\n",
       "    <rect x=\"162.39639\" y=\"777.76508\" width=\"309.74545\" height=\"233.78854\" id=\"rect6202-0-1-7-9\"/>\n",
       "  </defs>\n",
       "  <g inkscape:label=\"Layer 1\" inkscape:groupmode=\"layer\" id=\"layer1\" transform=\"translate(8.147028,-115.66387)\">\n",
       "    <circle style=\"fill-opacity:0;stroke:currentColor\" id=\"path445-3\" cx=\"35.153877\" cy=\"172.37209\" r=\"20.965937\"/>\n",
       "    <circle style=\"fill-opacity:0;stroke:currentColor;stroke-width:1;stroke-miterlimit:4;stroke-dasharray:4, 2;stroke-dashoffset:0\" id=\"path445-3-8\" cx=\"159.45598\" cy=\"248.1418\" r=\"20.965937\"/>\n",
       "    <g id=\"g2056\" transform=\"translate(-16.118931,47.799054)\" style=\"stroke:currentColor;stroke-width:1;stroke-miterlimit:4;stroke-dasharray:none;stroke-opacity:1\">\n",
       "      <path d=\"M 20.735575,221.28069 H 211.9523\" id=\"path1599\" style=\"stroke-width:1;stroke-miterlimit:4;stroke-dasharray:none;stroke-opacity:1\"/>\n",
       "      <path d=\"m 32.199933,221.28069 17.089064,20.87558\" id=\"path1747\" style=\"stroke-width:1;stroke-miterlimit:4;stroke-dasharray:none;stroke-opacity:1\"/>\n",
       "      <path d=\"m 56.672588,221.28069 17.089063,20.87558\" id=\"path1747-6\" style=\"stroke-width:1;stroke-miterlimit:4;stroke-dasharray:none;stroke-opacity:1\"/>\n",
       "      <path d=\"m 81.145244,221.28069 17.089064,20.87558\" id=\"path1747-7\" style=\"stroke-width:1;stroke-miterlimit:4;stroke-dasharray:none;stroke-opacity:1\"/>\n",
       "      <path d=\"m 105.61789,221.28069 17.08907,20.87558\" id=\"path1747-5\" style=\"stroke-width:1;stroke-miterlimit:4;stroke-dasharray:none;stroke-opacity:1\"/>\n",
       "      <path d=\"m 154.56319,221.28069 17.08906,20.87558\" id=\"path1747-3\" style=\"stroke-width:1;stroke-miterlimit:4;stroke-dasharray:none;stroke-opacity:1\"/>\n",
       "      <path d=\"m 130.09054,221.28069 17.08907,20.87558\" id=\"path1747-56\" style=\"stroke-width:1;stroke-miterlimit:4;stroke-dasharray:none;stroke-opacity:1\"/>\n",
       "      <path d=\"m 203.03938,221.28069 17.08907,20.87558\" id=\"path1747-2\" style=\"stroke-width:1;stroke-miterlimit:4;stroke-dasharray:none;stroke-opacity:1\"/>\n",
       "      <path d=\"m 179.03584,221.28069 17.08906,20.87558\" id=\"path1747-9\" style=\"stroke-width:1;stroke-miterlimit:4;stroke-dasharray:none;stroke-opacity:1\"/>\n",
       "    </g>\n",
       "    <g id=\"g86245\" transform=\"matrix(0,0.92267863,0.89284865,0,-134.01785,229.72571)\">\n",
       "      <path style=\"fill:currentColor;fill-opacity:1;fill-rule:evenodd;-inkscape-stroke:none\" d=\"m 34.426258,194.75002 -2.410633,6.55552 -2.410633,-6.55552 c 1.423237,1.0473 3.370471,1.04126 4.821266,0 z\" id=\"path3049-0-7-7-3\"/>\n",
       "      <path style=\"fill:none;stroke:currentColor;stroke-width:0.999999\" d=\"M 32.015999,195.35271 V 166.12162\" id=\"path85961\"/>\n",
       "    </g>\n",
       "    <g id=\"g86245-7\" transform=\"matrix(0.92267863,0,0,-0.89284865,-15.236864,407.58766)\">\n",
       "      <path style=\"fill:currentColor;fill-opacity:1;fill-rule:evenodd;-inkscape-stroke:none\" d=\"m 34.426258,194.75002 -2.410633,6.55552 -2.410633,-6.55552 c 1.423237,1.0473 3.370471,1.04126 4.821266,0 z\" id=\"path3049-0-7-7-3-49\"/>\n",
       "      <path style=\"fill:none;stroke:currentColor;stroke-width:0.999999\" d=\"M 32.015999,195.35271 V 166.12162\" id=\"path85961-9\"/>\n",
       "    </g>\n",
       "    <g id=\"g86245-4\" transform=\"matrix(-0.92267863,0,0,0.89284865,64.309721,23.217726)\">\n",
       "      <path style=\"fill:currentColor;fill-opacity:1;fill-rule:evenodd;-inkscape-stroke:none\" d=\"m 34.426258,194.75002 -2.410633,6.55552 -2.410633,-6.55552 c 1.423237,1.0473 3.370471,1.04126 4.821266,0 z\" id=\"path3049-0-7-7-3-5\"/>\n",
       "      <path style=\"fill:none;stroke:currentColor;stroke-width:0.999999\" d=\"M 32.015999,195.35271 V 166.12162\" id=\"path85961-93\"/>\n",
       "    </g>\n",
       "    <text xml:space=\"preserve\" transform=\"matrix(0.26458333,0,0,0.26458333,-10.369033,-4.6152113)\" id=\"text6200-9-87\" style=\"font-size:93.3333px;line-height:1.25;font-family:sans-serif;text-align:center;white-space:pre;shape-inside:url(#rect6202-0-1);fill:currentColor\"><tspan x=\"170.70709\" y=\"862.91642\" id=\"tspan86851\"><tspan style=\"font-weight:bold;-inkscape-font-specification:'sans-serif Bold'\" id=\"tspan86847\">F</tspan>=m<tspan style=\"font-weight:bold;-inkscape-font-specification:'sans-serif Bold'\" id=\"tspan86849\">g</tspan></tspan></text>\n",
       "    <text xml:space=\"preserve\" transform=\"matrix(0.26458333,0,0,0.26458333,-31.477645,39.679699)\" id=\"text6200-9-87-1\" style=\"font-size:93.3333px;line-height:1.25;font-family:sans-serif;text-align:center;white-space:pre;shape-inside:url(#rect6202-0-1-0);fill:currentColor\"><tspan x=\"289.65235\" y=\"862.91642\" id=\"tspan86853\">x</tspan></text>\n",
       "    <text xml:space=\"preserve\" transform=\"matrix(0.26458333,0,0,0.26458333,-77.51974,5.5092248)\" id=\"text6200-9-87-8\" style=\"font-size:93.3333px;line-height:1.25;font-family:sans-serif;text-align:center;white-space:pre;shape-inside:url(#rect6202-0-1-7);fill:currentColor\"><tspan x=\"289.65235\" y=\"862.91642\" id=\"tspan86855\">y</tspan></text>\n",
       "    <text xml:space=\"preserve\" transform=\"matrix(0.26458333,0,0,0.26458333,-43.280754,-91.108483)\" id=\"text6200-9-87-8-2\" style=\"font-size:93.3333px;line-height:1.25;font-family:sans-serif;text-align:center;white-space:pre;shape-inside:url(#rect6202-0-1-7-9);fill:currentColor\"><tspan x=\"286.94077\" y=\"862.91642\" id=\"tspan86859\"><tspan style=\"font-weight:bold;-inkscape-font-specification:'sans-serif Bold'\" id=\"tspan86857\">v</tspan></tspan></text>\n",
       "    <path style=\"stroke:currentColor;fill:none;stroke-width:1.00000003;stroke-miterlimit:4;stroke-dasharray:3.00000008,3.00000008;stroke-dashoffset:0\" d=\"m 34.769243,171.53919 c 30.897628,0.38866 108.797377,25.4734 125.433297,77.94612\" id=\"path81670\"/>\n",
       "    <g id=\"g86245-5\" transform=\"matrix(0,0.92267863,0.89284866,0,-117.29072,110.3955)\">\n",
       "      <path style=\"fill:currentColor;fill-opacity:1;fill-rule:evenodd;-inkscape-stroke:none\" d=\"m 34.426258,194.75002 -2.410633,6.55552 -2.410633,-6.55552 c 1.423237,1.0473 3.370471,1.04126 4.821266,0 z\" id=\"path3049-0-7-7-3-7\"/>\n",
       "      <path style=\"fill:none;stroke:currentColor;stroke-width:0.999999\" d=\"M 32.015999,195.35271 V 166.12162\" id=\"path85961-0\"/>\n",
       "    </g>\n",
       "  </g>\n",
       "</svg></p></div>\n",
       "<div class=\" flx50\" >\n",
       "\n",
       "<ul><li class=\"fragment fade-in\">What is the shape of the path?</li><ul><li class=\"fragment fade-in\">Parabola is a good approximation</li><ul><li class=\"fragment fade-in\">$x (t)=x_{0}+V t$</li><li class=\"fragment fade-in\">$y (t)=y_{0}-\\frac{1}{2}|\\textbf{g}| t^{2}$</li></ul><li class=\"fragment fade-in\">but <b>g</b> is not constant (neither magnitude or direction)</li></ul><li class=\"fragment fade-in\">Now use 💪 and increase horizontal velocity, <b>V</b>.</li></ul></div>\n",
       "\n",
       "</div>"
      ],
      "text/plain": [
       "<jupylecture.tools.FlexSlide at 0x7f85c851fe50>"
      ]
     },
     "metadata": {},
     "output_type": "display_data"
    }
   ],
   "source": [
    "slide2=FlexSlide(\"# Throwing a stone\")\n",
    "slide2.addSVG(\"images/stoneThrow.svg\",flxwidth=\"flx50\")\n",
    "slide2.addItems([\"What is the shape of the path?\",\n",
    "                 [\"Parabola is a good approximation\",\n",
    "                  [\"$x (t)=x_{0}+V t$\",\"$y (t)=y_{0}-\\\\frac{1}{2}|\\\\textbf{g}| t^{2}$\"],\n",
    "                  \"but <b>g</b> is not constant (neither magnitude or direction)\"],\n",
    "                \"Now use 💪 and increase horizontal velocity, <b>V</b>.\"],flxwidth=\"flx50\",frag=True)\n",
    "slide2.display()"
   ]
  },
  {
   "cell_type": "code",
   "execution_count": 20,
   "metadata": {
    "slideshow": {
     "slide_type": "slide"
    }
   },
   "outputs": [
    {
     "data": {
      "text/html": [
       "<div id=\"3d5c557cd0342d9e\"></div>\n",
       "    <script type=\"text/javascript\">\n",
       "        $(function(){\n",
       "            var p = $(\"#3d5c557cd0342d9e\");\n",
       "            if (p.length==0) return;\n",
       "            while (!p.hasClass(\"cell\")) {\n",
       "                p=p.parent();\n",
       "                if (p.prop(\"tagName\") ==\"body\") return;\n",
       "            }\n",
       "            var cell = p;\n",
       "            cell.find(\".input\").addClass(\"hide-in-slideshow\")\n",
       "        });\n",
       "    </script>"
      ]
     },
     "metadata": {},
     "output_type": "display_data"
    },
    {
     "data": {
      "text/markdown": [
       "\n",
       "<div class=\"flxsld text_cell\" ><div class=\"flx100\"><h1>Orbital paths</h1></div>\n",
       "\n",
       "\n",
       "<div class=\" flx40\" >\n",
       "\n",
       "<p><svg xmlns:inkscape=\"http://www.inkscape.org/namespaces/inkscape\" xmlns:sodipodi=\"http://sodipodi.sourceforge.net/DTD/sodipodi-0.dtd\" xmlns=\"http://www.w3.org/2000/svg\" xmlns:svg=\"http://www.w3.org/2000/svg\" width=\"310.53223mm\" height=\"336.55008mm\" viewBox=\"0 0 310.53222 336.55005\" version=\"1.1\" id=\"svg5\" inkscape:version=\"1.1 (c4e8f9ed74, 2021-05-24)\" sodipodi:docname=\"orbits.svg\">\n",
       "  <sodipodi:namedview id=\"namedview7\" pagecolor=\"#c8c8c8\" bordercolor=\"#666666\" borderopacity=\"1.0\" inkscape:pageshadow=\"2\" inkscape:pageopacity=\"1\" inkscape:pagecheckerboard=\"true\" inkscape:document-units=\"mm\" showgrid=\"false\" inkscape:zoom=\"0.79288226\" inkscape:cx=\"696.82477\" inkscape:cy=\"785.11026\" inkscape:window-width=\"1920\" inkscape:window-height=\"1043\" inkscape:window-x=\"0\" inkscape:window-y=\"0\" inkscape:window-maximized=\"1\" inkscape:current-layer=\"g105299\" fit-margin-top=\"0\" fit-margin-left=\"0\" fit-margin-right=\"0\" fit-margin-bottom=\"0\" lock-margins=\"true\" inkscape:snap-global=\"false\"/>\n",
       "  <defs id=\"defs2\">\n",
       "    <rect x=\"200.28475\" y=\"764.26365\" width=\"232.29027\" height=\"143.55953\" id=\"rect92779\"/>\n",
       "    <rect x=\"178.13274\" y=\"141.9071\" width=\"192.84862\" height=\"132.70413\" id=\"rect32181\"/>\n",
       "    <marker style=\"overflow:visible;fill:currentColor\" id=\"Arrow2Mend\" refX=\"0\" refY=\"0\" orient=\"auto\" inkscape:stockid=\"Arrow2Mend\" inkscape:isstock=\"true\">\n",
       "      <path transform=\"scale(-0.6)\" d=\"M 8.7185878,4.0337352 -2.2072895,0.01601326 8.7185884,-4.0017078 c -1.7454984,2.3720609 -1.7354408,5.6174519 -6e-7,8.035443 z\" style=\"fill:currentColor;fill-rule:evenodd;stroke-width:0.625;stroke-linejoin:round\" id=\"path12194\"/>\n",
       "    </marker>\n",
       "    <marker style=\"overflow:visible;fill:currentColor\" refX=\"0\" refY=\"0\" orient=\"auto\" inkscape:stockid=\"Arrow2Mend1628\" inkscape:isstock=\"true\" id=\"Arrow2Mend1628\">\n",
       "      <path transform=\"scale(-0.6)\" d=\"M 8.7185878,4.0337352 -2.2072895,0.01601326 8.7185884,-4.0017078 c -1.7454984,2.3720609 -1.7354408,5.6174519 -6e-7,8.035443 z\" style=\"fill:#000000;fill-opacity:1;fill-rule:evenodd;stroke:#000000;stroke-width:0.625;stroke-linejoin:round;stroke-opacity:1\" id=\"path1521\"/>\n",
       "    </marker>\n",
       "    <rect x=\"162.39639\" y=\"777.76508\" width=\"309.74545\" height=\"233.78854\" id=\"rect6202-0-1-7-9\"/>\n",
       "    <rect x=\"162.39639\" y=\"777.76508\" width=\"309.74545\" height=\"233.78854\" id=\"rect6202-0-1-7\"/>\n",
       "    <rect x=\"162.39639\" y=\"777.76508\" width=\"309.74545\" height=\"233.78854\" id=\"rect6202-0-1-7-8\"/>\n",
       "    <rect x=\"162.39639\" y=\"777.76508\" width=\"468.02989\" height=\"228.02797\" id=\"rect6202-0-1-7-3\"/>\n",
       "    <rect x=\"162.39639\" y=\"777.76508\" width=\"572.71923\" height=\"212.37488\" id=\"rect6202-0-1-7-3-9\"/>\n",
       "  </defs>\n",
       "  <g inkscape:label=\"Layer 1\" inkscape:groupmode=\"layer\" id=\"layer1\" transform=\"translate(-96.559817,-21.448558)\">\n",
       "    <path id=\"path86176\" style=\"fill:#999999;stroke-width:0.264582;stroke-linecap:round;stroke-linejoin:round\" d=\"m 245.60836,119.66541 c 9.6161,15.41167 9.47279,45.29047 -15.6298,53.17538 -7.41406,2.32881 -30.84737,2.48909 -35.95395,-3.82277 -5.10659,-6.31184 -58.17618,-13.68668 -29.18333,-47.62054 11.483,-13.43995 25.92688,-8.28152 41.51165,-8.28152 15.58479,0 29.45669,-9.15493 39.25543,6.54945 z\" sodipodi:nodetypes=\"ssssss\"/>\n",
       "    <g id=\"g6127\" transform=\"matrix(0.59531655,0,0,0.59531655,126.03774,58.837425)\" style=\"fill:#42affa;fill-opacity:1;stroke:#42affa;stroke-opacity:1\">\n",
       "      <path style=\"fill:#42affa;fill-opacity:1;stroke:#42affa;stroke-width:0.264583;stroke-opacity:1\" id=\"path2636\" sodipodi:type=\"arc\" sodipodi:cx=\"136.79117\" sodipodi:cy=\"127.85122\" sodipodi:rx=\"12.472401\" sodipodi:ry=\"12.472401\" sodipodi:start=\"0\" sodipodi:end=\"1.5524875\" sodipodi:arc-type=\"slice\" d=\"m 149.26357,127.85122 a 12.472401,12.472401 0 0 1 -12.24406,12.47031 l -0.22834,-12.47031 z\"/>\n",
       "      <path style=\"fill:#42affa;fill-opacity:1;stroke:#42affa;stroke-width:0.264583;stroke-opacity:1\" id=\"path2636-3\" sodipodi:type=\"arc\" sodipodi:cx=\"-136.5217\" sodipodi:cy=\"-127.58664\" sodipodi:rx=\"12.472401\" sodipodi:ry=\"12.472401\" sodipodi:start=\"0\" sodipodi:end=\"1.5524875\" sodipodi:arc-type=\"slice\" d=\"m -124.0493,-127.58664 a 12.472401,12.472401 0 0 1 -12.24406,12.47031 l -0.22834,-12.47031 z\" transform=\"scale(-1)\"/>\n",
       "    </g>\n",
       "    <circle style=\"fill:currentColor;stroke-width:0.264583;stroke:none;\" id=\"path87505\" cx=\"203.8228\" cy=\"50.557301\" r=\"5.3380399\"/>\n",
       "    <text xml:space=\"preserve\" transform=\"matrix(0.26458333,0,0,0.26458333,132.03855,-193.3238)\" id=\"text6200-9-87-8-2\" style=\"font-size:93.3333px;line-height:1.25;font-family:sans-serif;text-align:center;white-space:pre;shape-inside:url(#rect6202-0-1-7-9);fill:currentColor\"><tspan x=\"286.94077\" y=\"862.91642\" id=\"tspan105636\"><tspan style=\"font-weight:bold;-inkscape-font-specification:'sans-serif Bold'\" id=\"tspan105634\">v</tspan></tspan></text>\n",
       "    <g id=\"g86245-5\" transform=\"matrix(0,0.92267863,0.89284866,0,58.028585,8.1801815)\">\n",
       "      <path style=\"fill:currentColor;fill-opacity:1;fill-rule:evenodd;-inkscape-stroke:none\" d=\"m 34.426258,194.75002 -2.410633,6.55552 -2.410633,-6.55552 c 1.423237,1.0473 3.370471,1.04126 4.821266,0 z\" id=\"path3049-0-7-7-3-7\"/>\n",
       "      <path style=\"fill:none;stroke:currentColor;stroke-width:0.999999\" d=\"M 32.015999,195.35271 V 166.12162\" id=\"path85961-0\"/>\n",
       "    </g>\n",
       "    <path style=\"fill:none;stroke:currentColor;stroke-width:1;stroke-miterlimit:4;stroke-dasharray:4, 2;stroke-dashoffset:0\" d=\"m 203.38525,48.994075 c 24.77003,0.798455 28.72338,39.944475 29.73719,60.772985\" id=\"path88334-9-9\" sodipodi:nodetypes=\"cc\" class=\"fragment fade-in\"/>\n",
       "    <ellipse id=\"path87631-1\" cx=\"204.50954\" cy=\"124.88447\" style=\"fill:none;stroke:currentColor;stroke-width:2;stroke-miterlimit:4;stroke-dasharray:7.99998, 4;stroke-dashoffset:0\" rx=\"56.203224\" ry=\"74.731171\" class=\"fragment fade-in\"/>\n",
       "    <g id=\"g105299\" class=\"fragment fade-in\">\n",
       "      <circle id=\"path87631\" cx=\"204.50948\" cy=\"137.50613\" r=\"86.817627\" style=\"fill:none;stroke:currentColor;stroke-width:3;stroke-miterlimit:4;stroke-dasharray:12, 6;stroke-dashoffset:0\"/>\n",
       "      <text xml:space=\"preserve\" transform=\"matrix(0.26458333,0,0,0.26458333,72.089834,13.268147)\" id=\"text6200-9-87-8\" style=\"font-size:93.3333px;line-height:1.25;font-family:sans-serif;text-align:center;white-space:pre;shape-inside:url(#rect6202-0-1-7);fill:currentColor\"><tspan x=\"187.04497\" y=\"862.91642\" id=\"tspan105638\">Circle</tspan></text>\n",
       "    </g>\n",
       "    <g id=\"g105357\" class=\"fragment fade-in\">\n",
       "      <ellipse id=\"path87631-8\" cx=\"204.50955\" cy=\"182.52237\" style=\"fill:none;stroke:currentColor;stroke-width:2;stroke-miterlimit:4;stroke-dasharray:8, 4.00001;stroke-dashoffset:0\" rx=\"106.94963\" ry=\"132.32591\"/>\n",
       "      <text xml:space=\"preserve\" transform=\"matrix(0.26458333,0,0,0.26458333,63.396731,104.06429)\" id=\"text6200-9-87-8-25\" style=\"font-size:93.3333px;line-height:1.25;font-family:sans-serif;text-align:center;white-space:pre;shape-inside:url(#rect6202-0-1-7-8);fill:currentColor\"><tspan x=\"168.155\" y=\"862.91642\" id=\"tspan105640\">Ellipse</tspan></text>\n",
       "    </g>\n",
       "    <g id=\"g105416\" class=\"fragment fade-in\">\n",
       "      <path style=\"fill:none;stroke:currentColor;stroke-width:1;stroke-miterlimit:4;stroke-dasharray:4, 2;stroke-dashoffset:0\" d=\"M 203.38525,48.994075 C 334.61254,54.842185 358.66108,246.63086 357.67804,319.86818\" id=\"path88334-9\" sodipodi:nodetypes=\"cc\"/>\n",
       "      <text xml:space=\"preserve\" transform=\"matrix(0.26458333,0,0,0.26458333,195.60554,99.745667)\" id=\"text6200-9-87-8-4\" style=\"font-size:93.3333px;line-height:1.25;font-family:sans-serif;text-align:center;white-space:pre;shape-inside:url(#rect6202-0-1-7-3);fill:currentColor\"><tspan x=\"196.02709\" y=\"862.91642\" id=\"tspan105642\">Parabola</tspan></text>\n",
       "    </g>\n",
       "    <g id=\"g105476\" class=\"fragment fade-in\">\n",
       "      <path style=\"fill:none;stroke:currentColor;stroke-width:1;stroke-miterlimit:4;stroke-dasharray:4, 2;stroke-dashoffset:0\" d=\"M 203.38525,48.994075 C 334.61254,54.842185 393.46506,250.37373 406.5958,357.93744\" id=\"path88334-9-7\" sodipodi:nodetypes=\"cc\"/>\n",
       "      <text xml:space=\"preserve\" transform=\"matrix(0.26458333,0,0,0.26458333,220.49874,125.66847)\" id=\"text6200-9-87-8-4-0\" style=\"font-size:93.3333px;line-height:1.25;font-family:sans-serif;text-align:center;white-space:pre;shape-inside:url(#rect6202-0-1-7-3-9);fill:currentColor\"><tspan x=\"211.04762\" y=\"862.91642\" id=\"tspan105644\">Hyperbola</tspan></text>\n",
       "    </g>\n",
       "  </g>\n",
       "</svg></p></div>\n",
       "<div class=\" flx20 fragment fade-in\" >\n",
       "\n",
       "<p><img src=\"images/cones.png\" alt=\"None\"  /></p></div>\n",
       "<div class=\" flx40\" >\n",
       "\n",
       "<ul><li>With increasing <b>V</b></li><ul><li>Orbit</li><li>Escape Orbit</li></ul><li>Earth as a point mass</li><ul><li>Kepler orbit</li><li>Conical sections</li></ul></ul></div>\n",
       "\n",
       "</div>"
      ],
      "text/plain": [
       "<jupylecture.tools.FlexSlide at 0x7f85c856e190>"
      ]
     },
     "metadata": {},
     "output_type": "display_data"
    }
   ],
   "source": [
    "slide2=FlexSlide(\"# Orbital paths\")\n",
    "slide2.addSVG(\"images/orbits.svg\",flxwidth=\"flx40\")\n",
    "slide2.addimg(\"images/cones.png\",flxwidth=\"flx20\",frag=True)\n",
    "slide2.addItems([\"With increasing <b>V</b>\",\n",
    "                 [\"Orbit\",\"Escape Orbit\"],\"Earth as a point mass\",[\"Kepler orbit\",\"Conical sections\"]],\n",
    "                flxwidth=\"flx40\")\n",
    "slide2.display()"
   ]
  },
  {
   "cell_type": "code",
   "execution_count": 21,
   "metadata": {
    "slideshow": {
     "slide_type": "slide"
    }
   },
   "outputs": [
    {
     "data": {
      "text/html": [
       "<div id=\"41a1ee9d642c282e\"></div>\n",
       "    <script type=\"text/javascript\">\n",
       "        $(function(){\n",
       "            var p = $(\"#41a1ee9d642c282e\");\n",
       "            if (p.length==0) return;\n",
       "            while (!p.hasClass(\"cell\")) {\n",
       "                p=p.parent();\n",
       "                if (p.prop(\"tagName\") ==\"body\") return;\n",
       "            }\n",
       "            var cell = p;\n",
       "            cell.find(\".input\").addClass(\"hide-in-slideshow\")\n",
       "        });\n",
       "    </script>"
      ]
     },
     "metadata": {},
     "output_type": "display_data"
    },
    {
     "data": {
      "text/markdown": [
       "\n",
       "<div class=\"flxsld text_cell\" ><div class=\"flx100\"><h1>How do we know? Painstaking work from Tycho Brahe and Johannes Kepler</h1></div>\n",
       "\n",
       "\n",
       "<div class=\" flx10\" >\n",
       "\n",
       "<p><img src=\"images/brahe.png\" alt=\"None\" style=\"width:80%;\" /><small>Wikipedia</small></p></div>\n",
       "<div class=\" flx10\" >\n",
       "\n",
       "<p><img src=\"images/kepler.png\" alt=\"None\" style=\"width:80%;\" /><small>Wikipedia</small></p></div>\n",
       "<div class=\" flx40\" >\n",
       "\n",
       "<ul><li>Tycho Brahe→ compiled a comprehensive database of astronomical observations</li><li>Johannes Kepler → explained these astronomical observations with his 3 laws of planetary motion</li><li>Kepler was the assistant and follow up of Brahe during his time in Prague</li></ul></div>\n",
       "\n",
       "</div>"
      ],
      "text/plain": [
       "<jupylecture.tools.FlexSlide at 0x7f85c856e220>"
      ]
     },
     "metadata": {},
     "output_type": "display_data"
    }
   ],
   "source": [
    "slide2=FlexSlide(\"# How do we know? Painstaking work from Tycho Brahe and Johannes Kepler\")\n",
    "slide2.addimg(\"images/brahe.png\",flxwidth=\"flx10\",width=\"80%\",caption=\"Wikipedia\")\n",
    "slide2.addimg(\"images/kepler.png\",flxwidth=\"flx10\",width=\"80%\",caption=\"Wikipedia\")\n",
    "slide2.addItems([\"Tycho Brahe→ compiled a comprehensive database of astronomical observations\",\n",
    "                 \"Johannes Kepler → explained these astronomical observations with his 3 laws of planetary motion\",\n",
    "                 \"Kepler was the assistant and follow up of Brahe during his time in Prague\"],\n",
    "                flxwidth=\"flx40\")\n",
    "slide2.display()"
   ]
  },
  {
   "cell_type": "markdown",
   "metadata": {
    "slideshow": {
     "slide_type": "slide"
    }
   },
   "source": [
    "# Intermediate Lessons learned\n",
    "\n",
    "* Geodesy is build around three pillars: Shape,earth rotation and gravity\n",
    "* We can describe the gravitational field in terms of acceleration\n",
    "* Or better: in terms of gravitational potential from which we can derive the vectorial gravity anywhere\n",
    "* The potential generates a conservative force field -> V obeys the Laplace and Poisson equation (outside versus inside an attracting body)\n",
    "* The potential field can visualized by equipotential surfaces wrapped around the central body\n",
    "* Orbits around point masses (.e.g Earth around the Sun) are described by Kepler orbits (conical sections)\n"
   ]
  },
  {
   "cell_type": "code",
   "execution_count": 22,
   "metadata": {
    "slideshow": {
     "slide_type": "slide"
    }
   },
   "outputs": [
    {
     "data": {
      "text/html": [
       "<div id=\"3a1c2aadbfec8110\"></div>\n",
       "    <script type=\"text/javascript\">\n",
       "        $(function(){\n",
       "            var p = $(\"#3a1c2aadbfec8110\");\n",
       "            if (p.length==0) return;\n",
       "            while (!p.hasClass(\"cell\")) {\n",
       "                p=p.parent();\n",
       "                if (p.prop(\"tagName\") ==\"body\") return;\n",
       "            }\n",
       "            var cell = p;\n",
       "            cell.find(\".input\").addClass(\"hide-in-slideshow\")\n",
       "        });\n",
       "    </script>"
      ]
     },
     "metadata": {},
     "output_type": "display_data"
    },
    {
     "data": {
      "text/markdown": [
       "\n",
       "<div class=\"flxsld text_cell\" ><div class=\"flx100\"><h1>The Earth as a potato (aka Geoid)</h1></div>\n",
       "\n",
       "\n",
       "<div class=\" flx40\" >\n",
       "\n",
       "<ul><li class=\"fragment fade-in\">Geoid (surface of the ocean in rest sea without motion)</li><li class=\"fragment fade-in\">Natural choice as a reference surface (where is 0m height?)</li><li class=\"fragment fade-in\">max -100 meter difference from Ellipsoid</li><li class=\"fragment fade-in\">Equipotential surface: Paths along the geoid do not involve work</li><li class=\"fragment fade-in\">Visible: Tectonics, mantle convection</li></ul></div>\n",
       "<div class=\" flx50\" >\n",
       "\n",
       "<p><img src=\"images/geoid.gif\" alt=\"None\" style=\"width:70%;\" /><small>asus.cas.cz</small></p></div>\n",
       "\n",
       "</div>"
      ],
      "text/plain": [
       "<jupylecture.tools.FlexSlide at 0x7f85c856eac0>"
      ]
     },
     "metadata": {},
     "output_type": "display_data"
    }
   ],
   "source": [
    "slide12=FlexSlide(\"# The Earth as a potato (aka Geoid)\")\n",
    "slide12.addItems([\"Geoid (surface of the ocean in rest sea without motion)\",\n",
    "                  \"Natural choice as a reference surface (where is 0m height?)\",\n",
    "                  \"max -100 meter difference from Ellipsoid\",\n",
    "                  \"Equipotential surface: Paths along the geoid do not involve work\",\n",
    "                  \"Visible: Tectonics, mantle convection\"],flxwidth=\"flx40\",frag=True)\n",
    "slide12.addimg(\"images/geoid.gif\",flxwidth=\"flx50\",width=\"70%\",caption=\"asus.cas.cz\")\n",
    "slide12.display()"
   ]
  },
  {
   "cell_type": "code",
   "execution_count": 9,
   "metadata": {
    "slideshow": {
     "slide_type": "slide"
    }
   },
   "outputs": [
    {
     "data": {
      "text/html": [
       "<div id=\"22e1cc8f91a7f65b\"></div>\n",
       "    <script type=\"text/javascript\">\n",
       "        $(function(){\n",
       "            var p = $(\"#22e1cc8f91a7f65b\");\n",
       "            if (p.length==0) return;\n",
       "            while (!p.hasClass(\"cell\")) {\n",
       "                p=p.parent();\n",
       "                if (p.prop(\"tagName\") ==\"body\") return;\n",
       "            }\n",
       "            var cell = p;\n",
       "            cell.find(\".input\").addClass(\"hide-in-slideshow\")\n",
       "        });\n",
       "    </script>"
      ]
     },
     "metadata": {},
     "output_type": "display_data"
    },
    {
     "data": {
      "text/markdown": [
       "\n",
       "<div class=\"flxsld text_cell\" ><div class=\"flx100\"><h1>But there is a time variable component!</h1></div>\n",
       "\n",
       "\n",
       "<div class=\" flx40\" >\n",
       "\n",
       "<ul><li>Tides</li><li>Hydrological water cycle</li><li>Atmosphere</li><li>Ocean</li><li>Solid Earth (e.g. Earthquakes,..)</li><li>Highly variable sub-daily to inter-annual</li><li>3 orders of magnitude smaller than the static field</li><li>Most changes occur in a thin layer at the surface of the Earth ( ~15 km thick)</li></ul></div>\n",
       "<div class=\" flx60\" >\n",
       "\n",
       "<p><a href=\"https://www.youtube.com/embed/MaxBOvQ2a_o\">link to video</a><iframe width=\"881px\" height=\"496px\" src=\"https://www.youtube.com/embed/MaxBOvQ2a_o\" frameborder=\"0\" allow=\"accelerometer; autoplay; clipboard-write; encrypted-media; gyroscope; picture-in-picture\" allowfullscreen></iframe></p></div>\n",
       "\n",
       "</div>"
      ],
      "text/plain": [
       "<jupylecture.tools.FlexSlide at 0x7f605414a4d0>"
      ]
     },
     "metadata": {},
     "output_type": "display_data"
    }
   ],
   "source": [
    "slide12=FlexSlide(\"# But there is a time variable component!\")\n",
    "slide12.addItems([\"Tides\",\"Hydrological water cycle\",\"Atmosphere\",\"Ocean\",\"Solid Earth (e.g. Earthquakes,..)\",\n",
    "                   \"Highly variable sub-daily to inter-annual\",\n",
    "                   \"3 orders of magnitude smaller than the static field\",\n",
    "                   \"Most changes occur in a thin layer at the surface of the Earth ( ~15 km thick)\"],flxwidth=\"flx40\")\n",
    "slide12.addmd(\"[link to video](https://www.youtube.com/embed/MaxBOvQ2a_o)<iframe width=\\\"881px\\\" height=\\\"496px\\\" src=\\\"https://www.youtube.com/embed/MaxBOvQ2a_o\\\" frameborder=\\\"0\\\" allow=\\\"accelerometer; autoplay; clipboard-write; encrypted-media; gyroscope; picture-in-picture\\\" allowfullscreen></iframe>\",flxwidth=\"flx60\")\n",
    "slide12.display()"
   ]
  },
  {
   "cell_type": "markdown",
   "metadata": {
    "slideshow": {
     "slide_type": "slide"
    }
   },
   "source": [
    "# Video opens up more questions\n",
    "* How GRACE can measure water height changes?\n",
    "    * after all, there is an infinite number of density distributions which generate the same external gravity field\n",
    "* The principle measurement has to do with the Earth\n",
    "* How does one separate all those different contributions (soil moisture, groundwater, atmosphere)?\n",
    "* Why does the gravity field from GRACE look so smoothed?"
   ]
  },
  {
   "cell_type": "code",
   "execution_count": 24,
   "metadata": {
    "slideshow": {
     "slide_type": "slide"
    }
   },
   "outputs": [
    {
     "data": {
      "text/html": [
       "<div id=\"fc339563f31bb999\"></div>\n",
       "    <script type=\"text/javascript\">\n",
       "        $(function(){\n",
       "            var p = $(\"#fc339563f31bb999\");\n",
       "            if (p.length==0) return;\n",
       "            while (!p.hasClass(\"cell\")) {\n",
       "                p=p.parent();\n",
       "                if (p.prop(\"tagName\") ==\"body\") return;\n",
       "            }\n",
       "            var cell = p;\n",
       "            cell.find(\".input\").addClass(\"hide-in-slideshow\")\n",
       "        });\n",
       "    </script>"
      ]
     },
     "metadata": {},
     "output_type": "display_data"
    },
    {
     "data": {
      "text/markdown": [
       "\n",
       "<div class=\"flxsld text_cell\" ><div class=\"flx100\"><h1>Principle of Satellite Gravimetry</h1></div>\n",
       "\n",
       "\n",
       "<div class=\" flx50\" >\n",
       "\n",
       "<ul><li>Anomalies from a perfect Kepler orbit contain gravity field information</li><li>Anomalies decreases for higher orbital altitudes</li><li>Largest gravity anomaly?</li><ul><li>The Earth’s flattening</li></ul></ul></div>\n",
       "<div class=\" flx40\" >\n",
       "\n",
       "<p><svg xmlns:inkscape=\"http://www.inkscape.org/namespaces/inkscape\" xmlns:sodipodi=\"http://sodipodi.sourceforge.net/DTD/sodipodi-0.dtd\" xmlns=\"http://www.w3.org/2000/svg\" xmlns:svg=\"http://www.w3.org/2000/svg\" width=\"80%\" viewBox=\"0 0 255.28784 212.3059\" version=\"1.1\" id=\"svg5\" inkscape:version=\"1.1 (c4e8f9ed74, 2021-05-24)\" sodipodi:docname=\"kepleranomaly.svg\">\n",
       "  <sodipodi:namedview id=\"namedview7\" pagecolor=\"#c8c8c8\" bordercolor=\"#666666\" borderopacity=\"1.0\" inkscape:pageshadow=\"2\" inkscape:pageopacity=\"1\" inkscape:pagecheckerboard=\"true\" inkscape:document-units=\"mm\" showgrid=\"false\" inkscape:zoom=\"0.28032621\" inkscape:cx=\"622.48906\" inkscape:cy=\"683.13269\" inkscape:window-width=\"1920\" inkscape:window-height=\"1043\" inkscape:window-x=\"0\" inkscape:window-y=\"0\" inkscape:window-maximized=\"1\" inkscape:current-layer=\"layer1\" fit-margin-top=\"0\" fit-margin-left=\"0\" fit-margin-right=\"0\" fit-margin-bottom=\"0\" lock-margins=\"true\" inkscape:snap-global=\"false\"/>\n",
       "  <defs id=\"defs2\">\n",
       "    <rect x=\"200.28474\" y=\"764.26367\" width=\"232.29027\" height=\"143.55952\" id=\"rect92779\"/>\n",
       "    <rect x=\"178.13274\" y=\"141.9071\" width=\"192.84862\" height=\"132.70413\" id=\"rect32181\"/>\n",
       "    <marker style=\"overflow:visible;fill:currentColor\" id=\"Arrow2Mend\" refX=\"0\" refY=\"0\" orient=\"auto\" inkscape:stockid=\"Arrow2Mend\" inkscape:isstock=\"true\">\n",
       "      <path transform=\"scale(-0.6)\" d=\"M 8.7185878,4.0337352 -2.2072895,0.01601326 8.7185884,-4.0017078 c -1.7454984,2.3720609 -1.7354408,5.6174519 -6e-7,8.035443 z\" style=\"fill:currentColor;fill-rule:evenodd;stroke-width:0.625;stroke-linejoin:round\" id=\"path12194\"/>\n",
       "    </marker>\n",
       "    <marker style=\"overflow:visible;fill:currentColor\" refX=\"0\" refY=\"0\" orient=\"auto\" inkscape:stockid=\"Arrow2Mend1628\" inkscape:isstock=\"true\" id=\"Arrow2Mend1628\">\n",
       "      <path transform=\"scale(-0.6)\" d=\"M 8.7185878,4.0337352 -2.2072895,0.01601326 8.7185884,-4.0017078 c -1.7454984,2.3720609 -1.7354408,5.6174519 -6e-7,8.035443 z\" style=\"fill:#000000;fill-opacity:1;fill-rule:evenodd;stroke:#000000;stroke-width:0.625;stroke-linejoin:round;stroke-opacity:1\" id=\"path1521\"/>\n",
       "    </marker>\n",
       "    <rect x=\"162.39639\" y=\"777.76508\" width=\"309.74545\" height=\"233.78854\" id=\"rect6202-0-1-7-9\"/>\n",
       "    <rect x=\"162.39639\" y=\"777.76508\" width=\"309.74545\" height=\"233.78854\" id=\"rect6202-0-1-7\"/>\n",
       "    <rect x=\"162.39639\" y=\"777.76508\" width=\"309.74545\" height=\"233.78854\" id=\"rect6202-0-1-7-8\"/>\n",
       "    <rect x=\"162.39639\" y=\"777.76508\" width=\"468.02988\" height=\"228.02797\" id=\"rect6202-0-1-7-3\"/>\n",
       "    <rect x=\"162.39639\" y=\"777.76508\" width=\"572.71924\" height=\"212.37488\" id=\"rect6202-0-1-7-3-9\"/>\n",
       "    <rect x=\"162.39639\" y=\"777.76508\" width=\"400.06512\" height=\"351.90915\" id=\"rect6202-0-1-7-2\"/>\n",
       "  </defs>\n",
       "  <g inkscape:label=\"Layer 1\" inkscape:groupmode=\"layer\" id=\"layer1\" transform=\"translate(-115.98989,-21.448558)\">\n",
       "    <path id=\"path86176\" style=\"fill:#999999;stroke-width:0.264582;stroke-linecap:round;stroke-linejoin:round\" d=\"m 245.60836,119.66541 c 9.6161,15.41167 9.47279,45.29047 -15.6298,53.17538 -7.41406,2.32881 -30.84737,2.48909 -35.95395,-3.82277 -5.10659,-6.31184 -58.17618,-13.68668 -29.18333,-47.62054 11.483,-13.43995 25.92688,-8.28152 41.51165,-8.28152 15.58479,0 29.45669,-9.15493 39.25543,6.54945 z\" sodipodi:nodetypes=\"ssssss\"/>\n",
       "    <g id=\"g6127\" transform=\"matrix(0.59531655,0,0,0.59531655,126.03774,58.837425)\" style=\"fill:#42affa;fill-opacity:1;stroke:#42affa;stroke-opacity:1\">\n",
       "      <path style=\"fill:#42affa;fill-opacity:1;stroke:#42affa;stroke-width:0.264583;stroke-opacity:1\" id=\"path2636\" sodipodi:type=\"arc\" sodipodi:cx=\"136.79117\" sodipodi:cy=\"127.85122\" sodipodi:rx=\"12.472401\" sodipodi:ry=\"12.472401\" sodipodi:start=\"0\" sodipodi:end=\"1.5524875\" sodipodi:arc-type=\"slice\" d=\"m 149.26357,127.85122 a 12.472401,12.472401 0 0 1 -12.24406,12.47031 l -0.22834,-12.47031 z\"/>\n",
       "      <path style=\"fill:#42affa;fill-opacity:1;stroke:#42affa;stroke-width:0.264583;stroke-opacity:1\" id=\"path2636-3\" sodipodi:type=\"arc\" sodipodi:cx=\"-136.5217\" sodipodi:cy=\"-127.58664\" sodipodi:rx=\"12.472401\" sodipodi:ry=\"12.472401\" sodipodi:start=\"0\" sodipodi:end=\"1.5524875\" sodipodi:arc-type=\"slice\" d=\"m -124.0493,-127.58664 a 12.472401,12.472401 0 0 1 -12.24406,12.47031 l -0.22834,-12.47031 z\" transform=\"scale(-1)\"/>\n",
       "    </g>\n",
       "    <circle style=\"fill:currentColor;stroke:none;stroke-width:0.264583\" id=\"path87505\" cx=\"203.8228\" cy=\"50.557301\" r=\"5.3380399\"/>\n",
       "    <text xml:space=\"preserve\" transform=\"matrix(0.26458333,0,0,0.26458333,132.03855,-193.3238)\" id=\"text6200-9-87-8-2\" style=\"font-size:93.3333px;line-height:1.25;font-family:sans-serif;text-align:center;white-space:pre;shape-inside:url(#rect6202-0-1-7-9);fill:currentColor\"><tspan x=\"286.94077\" y=\"862.91642\" id=\"tspan120483\"><tspan style=\"font-weight:bold;-inkscape-font-specification:'sans-serif Bold'\" id=\"tspan120481\">v</tspan></tspan></text>\n",
       "    <g id=\"g86245-5\" transform=\"matrix(0,0.92267863,0.89284866,0,58.028585,8.1801815)\">\n",
       "      <path style=\"fill:currentColor;fill-opacity:1;fill-rule:evenodd;-inkscape-stroke:none\" d=\"m 34.426258,194.75002 -2.410633,6.55552 -2.410633,-6.55552 c 1.423237,1.0473 3.370471,1.04126 4.821266,0 z\" id=\"path3049-0-7-7-3-7\"/>\n",
       "      <path style=\"fill:none;stroke:currentColor;stroke-width:0.999999\" d=\"M 32.015999,195.35271 V 166.12162\" id=\"path85961-0\"/>\n",
       "    </g>\n",
       "    <circle id=\"path87631\" cx=\"204.50948\" cy=\"137.50613\" r=\"86.817627\" style=\"fill:none;stroke:#42affa;stroke-width:3;stroke-miterlimit:4;stroke-dasharray:12, 6;stroke-dashoffset:0;stroke-opacity:1\"/>\n",
       "    <text xml:space=\"preserve\" transform=\"matrix(0.26458333,0,0,0.26458333,248.04305,-161.15528)\" id=\"text6200-9-87-8\" style=\"font-size:93.3333px;line-height:1.25;font-family:sans-serif;text-align:center;white-space:pre;shape-inside:url(#rect6202-0-1-7);fill:#42affa;fill-opacity:1\"><tspan x=\"169.13482\" y=\"862.91642\" id=\"tspan120485\">Kepler </tspan><tspan x=\"208.76046\" y=\"979.58305\" id=\"tspan120487\">orbit</tspan></text>\n",
       "    <text xml:space=\"preserve\" transform=\"matrix(0.26458333,0,0,0.26458333,223.56768,-33.615045)\" id=\"text6200-9-87-8-0\" style=\"font-size:93.3333px;line-height:1.25;font-family:sans-serif;text-align:center;white-space:pre;shape-inside:url(#rect6202-0-1-7-2);fill:currentColor\"><tspan x=\"262.48734\" y=\"862.91642\" id=\"tspan120489\">Real\n",
       "</tspan><tspan x=\"245.51144\" y=\"979.58305\" id=\"tspan120491\">Orbit</tspan></text>\n",
       "    <path id=\"path87631-8\" style=\"fill:none;stroke:currentColor;stroke-width:2;stroke-dasharray:8, 4.00001\" d=\"m 266.6056,78.861637 c 1.9014,16.506832 59.64491,74.327773 29.35857,85.099443 -32.75757,11.65059 -42.74126,82.89833 -75.11601,66.29813 -41.51753,-21.28818 -108.23068,-21.34316 -97.54982,-56.28809 7.89407,-25.8273 -19.98707,-72.25773 2.90775,-82.502532 31.1751,-13.950001 35.06344,-47.667741 78.30346,-41.272131 58.43095,8.642495 60.19465,12.158348 62.09605,28.66518 z\" sodipodi:nodetypes=\"zsssssz\"/>\n",
       "  </g>\n",
       "</svg></p></div>\n",
       "<div class=\" flx20 circ1\" >\n",
       "\n",
       "<p>Satellite orbit(Position, Velocity)</p></div>\n",
       "<div class=\" flx55\" >\n",
       "\n",
       "<h2>$\\leftarrow$ Precise orbit determination $\\leftarrow$</br>$\\rightarrow$ Gravity field estimation $\\rightarrow$</h2></div>\n",
       "<div class=\" flx20 circ1\" >\n",
       "\n",
       "<p>Gravity field(Potential, gravity)</p></div>\n",
       "\n",
       "</div>"
      ],
      "text/plain": [
       "<jupylecture.tools.FlexSlide at 0x7f85c85b63a0>"
      ]
     },
     "metadata": {},
     "output_type": "display_data"
    }
   ],
   "source": [
    "slide12=FlexSlide(\"# Principle of Satellite Gravimetry\")\n",
    "slide12.addItems([\"Anomalies from a perfect Kepler orbit contain gravity field information\",\n",
    "                  \"Anomalies decreases for higher orbital altitudes\",\n",
    "                  \"Largest gravity anomaly?\",[\"The Earth’s flattening\"]],flxwidth=\"flx50\")\n",
    "slide12.addSVG(\"images/kepleranomaly.svg\",flxwidth=\"flx40\",width=\"80%\")\n",
    "slide12.addCircle(\"Satellite orbit(Position, Velocity)\",flxwidth=\"flx20\")\n",
    "slide12.addmd(\"<h2>$\\\\leftarrow$ Precise orbit determination $\\\\leftarrow$</br>$\\\\rightarrow$ Gravity field estimation $\\\\rightarrow$</h2>\",flxwidth=\"flx55\")\n",
    "slide12.addCircle(\"Gravity field(Potential, gravity)\",flxwidth=\"flx20\")\n",
    "slide12.display()"
   ]
  },
  {
   "cell_type": "code",
   "execution_count": 25,
   "metadata": {
    "slideshow": {
     "slide_type": "slide"
    }
   },
   "outputs": [
    {
     "data": {
      "text/html": [
       "<div id=\"a9c1b3354d9fc2c0\"></div>\n",
       "    <script type=\"text/javascript\">\n",
       "        $(function(){\n",
       "            var p = $(\"#a9c1b3354d9fc2c0\");\n",
       "            if (p.length==0) return;\n",
       "            while (!p.hasClass(\"cell\")) {\n",
       "                p=p.parent();\n",
       "                if (p.prop(\"tagName\") ==\"body\") return;\n",
       "            }\n",
       "            var cell = p;\n",
       "            cell.find(\".input\").addClass(\"hide-in-slideshow\")\n",
       "        });\n",
       "    </script>"
      ]
     },
     "metadata": {},
     "output_type": "display_data"
    },
    {
     "data": {
      "text/markdown": [
       "\n",
       "<div class=\"flxsld text_cell\" ><div class=\"flx100\"><h1>GRACE Mission (2002 - 2017)</h1></div>\n",
       "\n",
       "\n",
       "<div class=\" flx30\" >\n",
       "\n",
       "<p><img src=\"images/rockot.jpg\" alt=\"None\"  /></p></div>\n",
       "<div class=\" flx60\" >\n",
       "\n",
       "<ul><li>Launch March 2002, Plesetsk (Rockot, reused ICBM)</li><li>End Nov/Dec 2017</li><li>Orbit height: 500km (350 km during last phase)</li><li>Satellite separation:~250km</li><li>Orbital period: 94 min</li><li>Inclination: 89 degs</li></ul></div>\n",
       "\n",
       "</div>"
      ],
      "text/plain": [
       "<jupylecture.tools.FlexSlide at 0x7f85c85b6100>"
      ]
     },
     "metadata": {},
     "output_type": "display_data"
    }
   ],
   "source": [
    "slide12=FlexSlide(\"# GRACE Mission (2002 - 2017)\")\n",
    "slide12.addimg(\"images/rockot.jpg\",flxwidth=\"flx30\")\n",
    "slide12.addItems([\"Launch March 2002, Plesetsk (Rockot, reused ICBM)\",\n",
    "                  \"End Nov/Dec 2017\",\n",
    "                  \"Orbit height: 500km (350 km during last phase)\",\n",
    "                  \"Satellite separation:~250km\",\n",
    "                  \"Orbital period: 94 min\",\n",
    "                  \"Inclination: 89 degs\"],flxwidth=\"flx60\")\n",
    "slide12.display()"
   ]
  },
  {
   "cell_type": "code",
   "execution_count": 26,
   "metadata": {
    "slideshow": {
     "slide_type": "slide"
    }
   },
   "outputs": [
    {
     "data": {
      "text/html": [
       "<div id=\"0ec2bc92c2830c39\"></div>\n",
       "    <script type=\"text/javascript\">\n",
       "        $(function(){\n",
       "            var p = $(\"#0ec2bc92c2830c39\");\n",
       "            if (p.length==0) return;\n",
       "            while (!p.hasClass(\"cell\")) {\n",
       "                p=p.parent();\n",
       "                if (p.prop(\"tagName\") ==\"body\") return;\n",
       "            }\n",
       "            var cell = p;\n",
       "            cell.find(\".input\").addClass(\"hide-in-slideshow\")\n",
       "        });\n",
       "    </script>"
      ]
     },
     "metadata": {},
     "output_type": "display_data"
    },
    {
     "data": {
      "text/markdown": [
       "\n",
       "<div class=\"flxsld text_cell\" ><div class=\"flx100\"><h1>GRACE Mission cont'd</h1></div>\n",
       "\n",
       "\n",
       "<div class=\" flx40\" >\n",
       "\n",
       "<p><img src=\"images/grace.jpg\" alt=\"None\"  /></p></div>\n",
       "<div class=\" flx60\" >\n",
       "\n",
       "<ul><li>Mission life time: 5 yrs!</li><li>Satellite weight: 460kg+34kg fuel</li><li>Power 160W</li><li>Microwave ranging instrument (σ < 1 µm/s)</li><li>Accelerometer (σ = 3e-10 m/s<sup>2</sup>)</li><li>Global positioning System (σ = 2 - 3 cm)</li><li>NASA: 97 million USD, DLR: 30 million USD</li></ul></div>\n",
       "\n",
       "</div>"
      ],
      "text/plain": [
       "<jupylecture.tools.FlexSlide at 0x7f85c8599f40>"
      ]
     },
     "metadata": {},
     "output_type": "display_data"
    }
   ],
   "source": [
    "slide12=FlexSlide(\"# GRACE Mission cont'd\")\n",
    "slide12.addimg(\"images/grace.jpg\",flxwidth=\"flx40\")\n",
    "slide12.addItems([\"Mission life time: 5 yrs!\",\n",
    "                  \"Satellite weight: 460kg+34kg fuel\",\n",
    "                  \"Power 160W\",\n",
    "                  \"Microwave ranging instrument (σ < 1 µm/s)\",\n",
    "                  \"Accelerometer (σ = 3e-10 m/s<sup>2</sup>)\",\n",
    "                  \"Global positioning System (σ = 2 - 3 cm)\",\n",
    "                  \"NASA: 97 million USD, DLR: 30 million USD\"],flxwidth=\"flx60\")\n",
    "slide12.display()"
   ]
  },
  {
   "cell_type": "code",
   "execution_count": 27,
   "metadata": {
    "slideshow": {
     "slide_type": "slide"
    }
   },
   "outputs": [
    {
     "data": {
      "text/html": [
       "<div id=\"6ff9d67332626016\"></div>\n",
       "    <script type=\"text/javascript\">\n",
       "        $(function(){\n",
       "            var p = $(\"#6ff9d67332626016\");\n",
       "            if (p.length==0) return;\n",
       "            while (!p.hasClass(\"cell\")) {\n",
       "                p=p.parent();\n",
       "                if (p.prop(\"tagName\") ==\"body\") return;\n",
       "            }\n",
       "            var cell = p;\n",
       "            cell.find(\".input\").addClass(\"hide-in-slideshow\")\n",
       "        });\n",
       "    </script>"
      ]
     },
     "metadata": {},
     "output_type": "display_data"
    },
    {
     "data": {
      "text/markdown": [
       "\n",
       "<div class=\"flxsld text_cell\" ><div class=\"flx100\"><h1>GRACE Follow on Mission</h1></div>\n",
       "\n",
       "\n",
       "<div class=\" flx40\" >\n",
       "\n",
       "<p><img src=\"images/falcon.jpg\" alt=\"None\"  /></p></div>\n",
       "<div class=\" flx60\" >\n",
       "\n",
       "<ul><li>Launched:  May 22, 2018</li><li>Piggy-back with Iridium satellites on Falcon launcher</li><li>Demonstrator: Laser interferometer for intersatellite ranging (~10x more accurate)</li></ul></div>\n",
       "<div class=\" flx40\" >\n",
       "\n",
       "<p><img src=\"images/Frank.jpg\" alt=\"None\"  /><small>Frank Flechtner (DLR/GFZ) with the GRACE-FO satellites</small></p></div>\n",
       "<div class=\" flx60\" >\n",
       "\n",
       "<p><img src=\"images/LRIGFO.jpg\" alt=\"None\" style=\"width:90%;\" /></p></div>\n",
       "\n",
       "</div>"
      ],
      "text/plain": [
       "<jupylecture.tools.FlexSlide at 0x7f85c851fd90>"
      ]
     },
     "metadata": {},
     "output_type": "display_data"
    }
   ],
   "source": [
    "slide12=FlexSlide(\"# GRACE Follow on Mission\")\n",
    "slide12.addimg(\"images/falcon.jpg\",flxwidth=\"flx40\")\n",
    "slide12.addItems([\"Launched:  May 22, 2018\",\n",
    "                  \"Piggy-back with Iridium satellites on Falcon launcher\",\n",
    "                 \"Demonstrator: Laser interferometer for intersatellite ranging (~10x more accurate)\"],flxwidth=\"flx60\")\n",
    "slide12.addimg(\"images/Frank.jpg\",flxwidth=\"flx40\",caption=\"Frank Flechtner (DLR/GFZ) with the GRACE-FO satellites\")\n",
    "slide12.addimg(\"images/LRIGFO.jpg\",flxwidth=\"flx60\",width=\"90%\")\n",
    "slide12.display()"
   ]
  },
  {
   "cell_type": "code",
   "execution_count": 28,
   "metadata": {
    "slideshow": {
     "slide_type": "slide"
    }
   },
   "outputs": [
    {
     "data": {
      "text/html": [
       "<div id=\"25f0bc90a5ac443c\"></div>\n",
       "    <script type=\"text/javascript\">\n",
       "        $(function(){\n",
       "            var p = $(\"#25f0bc90a5ac443c\");\n",
       "            if (p.length==0) return;\n",
       "            while (!p.hasClass(\"cell\")) {\n",
       "                p=p.parent();\n",
       "                if (p.prop(\"tagName\") ==\"body\") return;\n",
       "            }\n",
       "            var cell = p;\n",
       "            cell.find(\".input\").addClass(\"hide-in-slideshow\")\n",
       "        });\n",
       "    </script>"
      ]
     },
     "metadata": {},
     "output_type": "display_data"
    },
    {
     "data": {
      "text/markdown": [
       "\n",
       "<div class=\"flxsld text_cell\" ><div class=\"flx100\"><h1>Surface loading and satellite gravimetry</h1></div>\n",
       "\n",
       "\n",
       "<div class=\" flx50\" >\n",
       "\n",
       "<p><svg xmlns:inkscape=\"http://www.inkscape.org/namespaces/inkscape\" xmlns:sodipodi=\"http://sodipodi.sourceforge.net/DTD/sodipodi-0.dtd\" xmlns=\"http://www.w3.org/2000/svg\" xmlns:svg=\"http://www.w3.org/2000/svg\" width=\"216.85083mm\" height=\"152.01875mm\" viewBox=\"0 0 216.85082 152.01873\" version=\"1.1\" id=\"svg5\" inkscape:version=\"1.1 (c4e8f9ed74, 2021-05-24)\" sodipodi:docname=\"GRACEnsurfload.svg\">\n",
       "  <sodipodi:namedview id=\"namedview7\" pagecolor=\"#c8c8c8\" bordercolor=\"#666666\" borderopacity=\"1.0\" inkscape:pageshadow=\"2\" inkscape:pageopacity=\"1\" inkscape:pagecheckerboard=\"true\" inkscape:document-units=\"mm\" showgrid=\"false\" inkscape:zoom=\"0.56065242\" inkscape:cx=\"532.41543\" inkscape:cy=\"330.86453\" inkscape:window-width=\"1920\" inkscape:window-height=\"1043\" inkscape:window-x=\"0\" inkscape:window-y=\"0\" inkscape:window-maximized=\"1\" inkscape:current-layer=\"g152193\" fit-margin-top=\"0\" fit-margin-left=\"0\" fit-margin-right=\"0\" fit-margin-bottom=\"0\" lock-margins=\"true\" inkscape:snap-global=\"false\"/>\n",
       "  <defs id=\"defs2\">\n",
       "    <rect x=\"200.28474\" y=\"764.26367\" width=\"232.29027\" height=\"143.55952\" id=\"rect92779\"/>\n",
       "    <rect x=\"178.13274\" y=\"141.9071\" width=\"192.84862\" height=\"132.70413\" id=\"rect32181\"/>\n",
       "    <marker style=\"overflow:visible;fill:currentColor\" id=\"Arrow2Mend\" refX=\"0\" refY=\"0\" orient=\"auto\" inkscape:stockid=\"Arrow2Mend\" inkscape:isstock=\"true\">\n",
       "      <path transform=\"scale(-0.6)\" d=\"M 8.7185878,4.0337352 -2.2072895,0.01601326 8.7185884,-4.0017078 c -1.7454984,2.3720609 -1.7354408,5.6174519 -6e-7,8.035443 z\" style=\"fill:currentColor;fill-rule:evenodd;stroke-width:0.625;stroke-linejoin:round\" id=\"path12194\"/>\n",
       "    </marker>\n",
       "    <marker style=\"overflow:visible;fill:currentColor\" refX=\"0\" refY=\"0\" orient=\"auto\" inkscape:stockid=\"Arrow2Mend1628\" inkscape:isstock=\"true\" id=\"Arrow2Mend1628\">\n",
       "      <path transform=\"scale(-0.6)\" d=\"M 8.7185878,4.0337352 -2.2072895,0.01601326 8.7185884,-4.0017078 c -1.7454984,2.3720609 -1.7354408,5.6174519 -6e-7,8.035443 z\" style=\"fill:#000000;fill-opacity:1;fill-rule:evenodd;stroke:#000000;stroke-width:0.625;stroke-linejoin:round;stroke-opacity:1\" id=\"path1521\"/>\n",
       "    </marker>\n",
       "    <rect x=\"162.39639\" y=\"777.76508\" width=\"309.74545\" height=\"233.78854\" id=\"rect6202-0-1-7-9\"/>\n",
       "    <rect x=\"162.39639\" y=\"777.76508\" width=\"309.74545\" height=\"233.78854\" id=\"rect6202-0-1-7\"/>\n",
       "    <rect x=\"162.39639\" y=\"777.76508\" width=\"309.74545\" height=\"233.78854\" id=\"rect6202-0-1-7-8\"/>\n",
       "    <rect x=\"162.39639\" y=\"777.76508\" width=\"468.02988\" height=\"228.02797\" id=\"rect6202-0-1-7-3\"/>\n",
       "    <rect x=\"162.39639\" y=\"777.76508\" width=\"572.71924\" height=\"212.37488\" id=\"rect6202-0-1-7-3-9\"/>\n",
       "    <rect x=\"162.39639\" y=\"777.76508\" width=\"400.06512\" height=\"351.90915\" id=\"rect6202-0-1-7-2\"/>\n",
       "    <rect x=\"162.39639\" y=\"777.76508\" width=\"309.74545\" height=\"233.78854\" id=\"rect6202-0-1-7-9-0\"/>\n",
       "    <rect x=\"162.39639\" y=\"777.76508\" width=\"309.74545\" height=\"233.78854\" id=\"rect6202-0-1-7-9-0-1\"/>\n",
       "    <rect x=\"162.39639\" y=\"777.76508\" width=\"309.74545\" height=\"233.78854\" id=\"rect6202-0-1-7-9-0-1-3\"/>\n",
       "    <rect x=\"162.39639\" y=\"777.76508\" width=\"309.74545\" height=\"233.78854\" id=\"rect6202-0-1-7-9-0-1-3-7\"/>\n",
       "  </defs>\n",
       "  <g inkscape:label=\"Layer 1\" inkscape:groupmode=\"layer\" id=\"layer1\" transform=\"translate(-130.42773,-38.965766)\" style=\"display:inline\">\n",
       "    <g id=\"g152062\" class=\"fragment fade-in-then-out\">\n",
       "      <circle style=\"fill:#999999;fill-opacity:1;stroke:currentColor\" id=\"path127020\" cx=\"237.90454\" cy=\"146.49571\" r=\"43.988605\"/>\n",
       "      <g transform=\"matrix(-0.11592859,-0.73103127,0.72305856,-0.11586468,-3.7112557,474.37402)\" style=\"display:inline;stroke-width:0.383343\" id=\"g4477-6-3\">\n",
       "        <path inkscape:connector-curvature=\"0\" sodipodi:nodetypes=\"ccccc\" id=\"path27162-7-8\" d=\"m 503.84175,342.93739 -4.61132,23.37056 -18.33081,20.78013 12.15711,-61.61333 z\" style=\"fill:#ff4d1c;fill-opacity:1;fill-rule:evenodd;stroke:#000000;stroke-width:0.552454;stroke-linecap:square;stroke-linejoin:bevel;stroke-miterlimit:4;stroke-dashoffset:0;stroke-opacity:0.741176\"/>\n",
       "        <path inkscape:connector-curvature=\"0\" id=\"path27166-7-9\" d=\"m 499.56392,281.53949 c 4.54319,63.05393 4.54319,63.05393 4.54319,63.05393 l -10.3445,-16.9148 v 0 l -5.02584,-62.99893 v 0 z\" style=\"fill:#005f9c;fill-opacity:0.992157;fill-rule:evenodd;stroke:#000000;stroke-width:0.400126;stroke-linecap:butt;stroke-linejoin:miter;stroke-miterlimit:4;stroke-dasharray:none;stroke-opacity:1\"/>\n",
       "        <path inkscape:connector-curvature=\"0\" id=\"path27196-3-5\" d=\"m 475.50772,323.44234 c 13.10869,-59.54212 13.10869,-59.54212 13.10869,-59.54212 l 4.61138,66.75322 v 0 l -12.95028,55.89933 z\" style=\"fill:#005f9c;fill-opacity:1;fill-rule:evenodd;stroke:#000000;stroke-width:0.383343px;stroke-linecap:butt;stroke-linejoin:miter;stroke-opacity:1\"/>\n",
       "      </g>\n",
       "      <g transform=\"matrix(0.01011228,-0.74009722,0.73222983,0.00881906,58.84223,436.04613)\" style=\"display:inline;stroke-width:0.383343\" id=\"g4477-6-3-1\">\n",
       "        <g id=\"g130977\">\n",
       "          <path inkscape:connector-curvature=\"0\" sodipodi:nodetypes=\"ccccc\" id=\"path27162-7-8-9\" d=\"m 503.84175,342.93739 -4.61132,23.37056 -18.33081,20.78013 12.15711,-61.61333 z\" style=\"fill:#ff4d1c;fill-opacity:1;fill-rule:evenodd;stroke:#000000;stroke-width:0.552454;stroke-linecap:square;stroke-linejoin:bevel;stroke-miterlimit:4;stroke-dashoffset:0;stroke-opacity:0.741176\"/>\n",
       "          <path inkscape:connector-curvature=\"0\" id=\"path27166-7-9-6\" d=\"m 499.56392,281.53949 c 4.54319,63.05393 4.54319,63.05393 4.54319,63.05393 l -10.3445,-16.9148 v 0 l -5.02584,-62.99893 v 0 z\" style=\"fill:#005f9c;fill-opacity:0.992157;fill-rule:evenodd;stroke:#000000;stroke-width:0.400126;stroke-linecap:butt;stroke-linejoin:miter;stroke-miterlimit:4;stroke-dasharray:none;stroke-opacity:1\"/>\n",
       "          <path inkscape:connector-curvature=\"0\" id=\"path27196-3-5-2\" d=\"m 475.50772,323.44234 c 13.10869,-59.54212 13.10869,-59.54212 13.10869,-59.54212 l 4.61138,66.75322 v 0 l -12.95028,55.89933 z\" style=\"fill:#005f9c;fill-opacity:1;fill-rule:evenodd;stroke:#000000;stroke-width:0.383343px;stroke-linecap:butt;stroke-linejoin:miter;stroke-opacity:1\"/>\n",
       "        </g>\n",
       "      </g>\n",
       "    </g>\n",
       "  </g>\n",
       "  <g inkscape:groupmode=\"layer\" id=\"layer4\" inkscape:label=\"withload\" style=\"display:inline\" transform=\"translate(-14.43783,-17.517208)\">\n",
       "    <g id=\"g152193\" class=\"fragment fade-in\">\n",
       "      <path id=\"path127020-1\" style=\"fill:#42affa;stroke:currentColor\" d=\"m 140.13339,84.46247 c -1.29066,4.74777 -6.3697,7.931975 -18.982,7.750465 -12.6123,-0.181511 -16.13578,-5.0726 -16.4398,-10.483285 -0.30403,-5.410687 9.40673,-7.567182 16.8113,-7.483317 7.40457,0.08386 19.90116,5.468366 18.6105,10.216137 z\" sodipodi:nodetypes=\"zzzzz\"/>\n",
       "      <circle style=\"display:inline;fill:none;fill-opacity:1;stroke:currentColor;stroke-width:1;stroke-miterlimit:4;stroke-dasharray:4, 2, 1, 2;stroke-dashoffset:0\" id=\"path127020-7\" cx=\"121.91465\" cy=\"125.04716\" r=\"43.988605\"/>\n",
       "      <path id=\"path127020-2\" style=\"fill:#999999;stroke:currentColor\" d=\"m 165.90326,125.04716 c 0,24.29424 -19.69437,43.9886 -43.98861,43.9886 -12.14712,0 -23.144268,-4.92359 -31.10464,-12.88396 -7.960372,-7.96037 -12.883965,-18.95752 -12.883966,-31.10464 -10e-7,-12.14712 5.452758,-21.0276 13.41313,-28.987976 7.960372,-7.960373 18.428356,-2.300632 30.575476,-2.300632 12.14712,0 21.0276,-7.776407 28.98798,0.183965 7.96037,7.960373 15.00063,18.957523 15.00063,31.104643 z\" sodipodi:nodetypes=\"ssssssss\"/>\n",
       "      <g transform=\"matrix(-0.11592859,-0.73103127,0.72305856,-0.11586468,-111.7636,452.92546)\" style=\"display:inline;stroke-width:0.383343\" id=\"g4477-6-3-0\">\n",
       "        <path inkscape:connector-curvature=\"0\" sodipodi:nodetypes=\"ccccc\" id=\"path27162-7-8-7\" d=\"m 503.84175,342.93739 -4.61132,23.37056 -18.33081,20.78013 12.15711,-61.61333 z\" style=\"fill:#ff4d1c;fill-opacity:1;fill-rule:evenodd;stroke:#000000;stroke-width:0.552454;stroke-linecap:square;stroke-linejoin:bevel;stroke-miterlimit:4;stroke-dashoffset:0;stroke-opacity:0.741176\"/>\n",
       "        <path inkscape:connector-curvature=\"0\" id=\"path27166-7-9-3\" d=\"m 499.56392,281.53949 c 4.54319,63.05393 4.54319,63.05393 4.54319,63.05393 l -10.3445,-16.9148 v 0 l -5.02584,-62.99893 v 0 z\" style=\"fill:#005f9c;fill-opacity:0.992157;fill-rule:evenodd;stroke:#000000;stroke-width:0.400126;stroke-linecap:butt;stroke-linejoin:miter;stroke-miterlimit:4;stroke-dasharray:none;stroke-opacity:1\"/>\n",
       "        <path inkscape:connector-curvature=\"0\" id=\"path27196-3-5-1\" d=\"m 475.50772,323.44234 c 13.10869,-59.54212 13.10869,-59.54212 13.10869,-59.54212 l 4.61138,66.75322 v 0 l -12.95028,55.89933 z\" style=\"fill:#005f9c;fill-opacity:1;fill-rule:evenodd;stroke:#000000;stroke-width:0.383343px;stroke-linecap:butt;stroke-linejoin:miter;stroke-opacity:1\"/>\n",
       "      </g>\n",
       "      <g transform=\"matrix(0.01011228,-0.74009722,0.73222983,0.00881906,-67.201833,414.59757)\" style=\"display:inline;stroke-width:0.383343\" id=\"g4477-6-3-1-1\">\n",
       "        <g id=\"g130977-9\">\n",
       "          <path inkscape:connector-curvature=\"0\" sodipodi:nodetypes=\"ccccc\" id=\"path27162-7-8-9-0\" d=\"m 503.84175,342.93739 -4.61132,23.37056 -18.33081,20.78013 12.15711,-61.61333 z\" style=\"fill:#ff4d1c;fill-opacity:1;fill-rule:evenodd;stroke:#000000;stroke-width:0.552454;stroke-linecap:square;stroke-linejoin:bevel;stroke-miterlimit:4;stroke-dashoffset:0;stroke-opacity:0.741176\"/>\n",
       "          <path inkscape:connector-curvature=\"0\" id=\"path27166-7-9-6-5\" d=\"m 499.56392,281.53949 c 4.54319,63.05393 4.54319,63.05393 4.54319,63.05393 l -10.3445,-16.9148 v 0 l -5.02584,-62.99893 v 0 z\" style=\"fill:#005f9c;fill-opacity:0.992157;fill-rule:evenodd;stroke:#000000;stroke-width:0.400126;stroke-linecap:butt;stroke-linejoin:miter;stroke-miterlimit:4;stroke-dasharray:none;stroke-opacity:1\"/>\n",
       "          <path inkscape:connector-curvature=\"0\" id=\"path27196-3-5-2-6\" d=\"m 475.50772,323.44234 c 13.10869,-59.54212 13.10869,-59.54212 13.10869,-59.54212 l 4.61138,66.75322 v 0 l -12.95028,55.89933 z\" style=\"fill:#005f9c;fill-opacity:1;fill-rule:evenodd;stroke:#000000;stroke-width:0.383343px;stroke-linecap:butt;stroke-linejoin:miter;stroke-opacity:1\"/>\n",
       "        </g>\n",
       "      </g>\n",
       "      <g id=\"g86245-5\" transform=\"matrix(0.71462672,0.34989837,0.48699912,-0.48078154,-31.496338,174.96747)\" style=\"stroke-width:1.26602\">\n",
       "        <path style=\"fill:currentColor;fill-opacity:1;fill-rule:evenodd;stroke-width:1.26602;-inkscape-stroke:none\" d=\"m 34.426258,194.75002 -2.410633,6.55552 -2.410633,-6.55552 c 1.423237,1.0473 3.370471,1.04126 4.821266,0 z\" id=\"path3049-0-7-7-3-7\"/>\n",
       "        <path style=\"fill:none;stroke:currentColor;stroke-width:1.26602\" d=\"M 32.015999,195.35271 V 166.12162\" id=\"path85961-0\"/>\n",
       "      </g>\n",
       "      <g id=\"g86245-5-2\" transform=\"matrix(-0.71462672,0.34989837,-0.48699912,-0.48078154,276.34983,174.7006)\" style=\"display:inline;stroke-width:1.26602\">\n",
       "        <path style=\"fill:currentColor;fill-opacity:1;fill-rule:evenodd;stroke-width:1.26602;-inkscape-stroke:none\" d=\"m 34.426258,194.75002 -2.410633,6.55552 -2.410633,-6.55552 c 1.423237,1.0473 3.370471,1.04126 4.821266,0 z\" id=\"path3049-0-7-7-3-7-6\"/>\n",
       "        <path style=\"fill:none;stroke:currentColor;stroke-width:1.26602\" d=\"M 32.015999,195.35271 V 166.12162\" id=\"path85961-0-0\"/>\n",
       "      </g>\n",
       "      <g id=\"g86245-5-6\" transform=\"matrix(-0.85007526,0.35875885,0.34716027,0.82259253,76.832559,-64.469894)\" style=\"display:inline\">\n",
       "        <path style=\"fill:currentColor;fill-opacity:1;fill-rule:evenodd;-inkscape-stroke:none\" d=\"m 34.426258,194.75002 -2.410633,6.55552 -2.410633,-6.55552 c 1.423237,1.0473 3.370471,1.04126 4.821266,0 z\" id=\"path3049-0-7-7-3-7-47\"/>\n",
       "        <path style=\"fill:none;stroke:currentColor;stroke-width:0.999999\" d=\"M 32.015999,195.35271 V 166.12162\" id=\"path85961-0-4\"/>\n",
       "      </g>\n",
       "      <g id=\"g86245-5-6-8\" transform=\"matrix(0.85007526,0.35875885,-0.34716027,0.82259253,166.65521,-64.642672)\" style=\"display:inline\">\n",
       "        <path style=\"fill:currentColor;fill-opacity:1;fill-rule:evenodd;-inkscape-stroke:none\" d=\"m 34.426258,194.75002 -2.410633,6.55552 -2.410633,-6.55552 c 1.423237,1.0473 3.370471,1.04126 4.821266,0 z\" id=\"path3049-0-7-7-3-7-47-5\"/>\n",
       "        <path style=\"fill:none;stroke:currentColor;stroke-width:0.999999\" d=\"M 32.015999,195.35271 V 166.12162\" id=\"path85961-0-4-8\"/>\n",
       "      </g>\n",
       "      <g id=\"g86245-5-6-8-6\" transform=\"matrix(0.64989013,0.2179687,-0.26540713,0.49977701,170.47476,-0.36382445)\" style=\"display:inline;stroke-width:1.46728\">\n",
       "        <path style=\"fill:currentColor;fill-opacity:1;fill-rule:evenodd;stroke-width:1.46728;-inkscape-stroke:none\" d=\"m 34.426258,194.75002 -2.410633,6.55552 -2.410633,-6.55552 c 1.423237,1.0473 3.370471,1.04126 4.821266,0 z\" id=\"path3049-0-7-7-3-7-47-5-6\"/>\n",
       "        <path style=\"fill:none;stroke:currentColor;stroke-width:1.46728\" d=\"M 32.015999,195.35271 V 166.12162\" id=\"path85961-0-4-8-4\"/>\n",
       "      </g>\n",
       "      <g id=\"g86245-5-6-8-6-9\" transform=\"matrix(0.3842134,0.20098888,-0.2288089,0.26242269,181.55254,46.873585)\" style=\"display:inline;stroke-width:2.36881\">\n",
       "        <path style=\"fill:currentColor;fill-opacity:1;fill-rule:evenodd;stroke-width:2.36881;-inkscape-stroke:none\" d=\"m 34.426258,194.75002 -2.410633,6.55552 -2.410633,-6.55552 c 1.423237,1.0473 3.370471,1.04126 4.821266,0 z\" id=\"path3049-0-7-7-3-7-47-5-6-6\"/>\n",
       "        <path style=\"fill:none;stroke:currentColor;stroke-width:2.36881\" d=\"M 32.015999,195.35271 V 166.12162\" id=\"path85961-0-4-8-4-0\"/>\n",
       "      </g>\n",
       "      <g id=\"g86245-5-6-8-6-6\" transform=\"matrix(-0.64989013,0.2179687,0.26540713,0.49977701,73.814952,-0.59302792)\" style=\"display:inline;stroke-width:1.46728\">\n",
       "        <path style=\"fill:currentColor;fill-opacity:1;fill-rule:evenodd;stroke-width:1.46728;-inkscape-stroke:none\" d=\"m 34.426258,194.75002 -2.410633,6.55552 -2.410633,-6.55552 c 1.423237,1.0473 3.370471,1.04126 4.821266,0 z\" id=\"path3049-0-7-7-3-7-47-5-6-2\"/>\n",
       "        <path style=\"fill:none;stroke:currentColor;stroke-width:1.46728\" d=\"M 32.015999,195.35271 V 166.12162\" id=\"path85961-0-4-8-4-8\"/>\n",
       "      </g>\n",
       "      <g id=\"g86245-5-6-8-6-9-7\" transform=\"matrix(-0.3842134,0.20098888,0.2288089,0.26242269,62.045698,46.936485)\" style=\"display:inline;stroke-width:2.36881\">\n",
       "        <path style=\"fill:currentColor;fill-opacity:1;fill-rule:evenodd;stroke-width:2.36881;-inkscape-stroke:none\" d=\"m 34.426258,194.75002 -2.410633,6.55552 -2.410633,-6.55552 c 1.423237,1.0473 3.370471,1.04126 4.821266,0 z\" id=\"path3049-0-7-7-3-7-47-5-6-6-0\"/>\n",
       "        <path style=\"fill:none;stroke:currentColor;stroke-width:2.36881\" d=\"M 32.015999,195.35271 V 166.12162\" id=\"path85961-0-4-8-4-0-1\"/>\n",
       "      </g>\n",
       "      <text xml:space=\"preserve\" transform=\"matrix(0.26458333,0,0,0.26458333,38.711961,-192.03411)\" id=\"text6200-9-87-8-2-7\" style=\"font-size:93.3333px;line-height:1.25;font-family:sans-serif;text-align:center;white-space:pre;shape-inside:url(#rect6202-0-1-7-9-0-1-3);display:inline;fill:currentColor\"><tspan x=\"184.74354\" y=\"862.91642\" id=\"tspan152697\"><tspan style=\"font-weight:bold;-inkscape-font-specification:'sans-serif Bold'\" id=\"tspan152691\">g</tspan><tspan style=\"-inkscape-font-specification:sans-serif\" id=\"tspan152693\">+d</tspan><tspan style=\"font-weight:bold;-inkscape-font-specification:'sans-serif Bold'\" id=\"tspan152695\">g</tspan></tspan></text>\n",
       "      <path style=\"fill:none;stroke:currentColor;stroke-width:1.5;stroke-miterlimit:4;stroke-dasharray:none\" d=\"m 107.72145,50.371716 h 9.366 l 3.32397,12.405217 V 39.13247 l 3.4711,12.954312 h 9.14063\" id=\"path149260\"/>\n",
       "    </g>\n",
       "  </g>\n",
       "</svg></p></div>\n",
       "<div class=\" flx50\" >\n",
       "\n",
       "<ul><li>Surface load causes</li><ul><li>A <b>direct</b> change in gravity</li><li>an <b>indirect</b> response due to deformation</li></ul><li>Total Water Storage can be retrieved from satellite orbits when:</li><ul><li>We assume mass change occurs in a thin layer</li><li>We have a dense coverage of accurate orbit measurements (e.g. from GNSS or range instruments)</li><li>We know the mechanical properties of the solid Earth</li></ul></ul></div>\n",
       "\n",
       "</div>"
      ],
      "text/plain": [
       "<jupylecture.tools.FlexSlide at 0x7f85c96e4760>"
      ]
     },
     "metadata": {},
     "output_type": "display_data"
    }
   ],
   "source": [
    "slide18=FlexSlide(\"# Surface loading and satellite gravimetry\")\n",
    "slide18.addSVG(\"images/GRACEnsurfload.svg\",flxwidth=\"flx50\")\n",
    "slide18.addItems([\"Surface load causes\",\n",
    "                  [\"A <b>direct</b> change in gravity\",\"an <b>indirect</b> response due to deformation\"],\n",
    "                 \"Total Water Storage can be retrieved from satellite orbits when:\",\n",
    "                 [\"We assume mass change occurs in a thin layer\",\n",
    "                  \"We have a dense coverage of accurate orbit measurements (e.g. from GNSS or range instruments)\",\n",
    "                  \"We know the mechanical properties of the solid Earth\"]],flxwidth=\"flx50\")\n",
    "slide18.display()"
   ]
  },
  {
   "cell_type": "code",
   "execution_count": 3,
   "metadata": {
    "scrolled": false,
    "slideshow": {
     "slide_type": "slide"
    }
   },
   "outputs": [
    {
     "data": {
      "text/html": [
       "<div id=\"0cbce8cc89381fd0\"></div>\n",
       "    <script type=\"text/javascript\">\n",
       "        $(function(){\n",
       "            var p = $(\"#0cbce8cc89381fd0\");\n",
       "            if (p.length==0) return;\n",
       "            while (!p.hasClass(\"cell\")) {\n",
       "                p=p.parent();\n",
       "                if (p.prop(\"tagName\") ==\"body\") return;\n",
       "            }\n",
       "            var cell = p;\n",
       "            cell.find(\".input\").addClass(\"hide-in-slideshow\")\n",
       "        });\n",
       "    </script>"
      ]
     },
     "metadata": {},
     "output_type": "display_data"
    },
    {
     "data": {
      "text/markdown": [
       "\n",
       "<div class=\"flxsld text_cell\" ><div class=\"flx100\"><h1>Working with monthly Level 2 GRACE/GRACE-FO products...</h1></div>\n",
       "\n",
       "\n",
       "<div class=\" flx100\" >\n",
       "\n",
       "<p>$V (\\theta, \\lambda , r) = \\frac{GM}{a} \\sum_{n=0}^{\\infty}\\sum_{m=0}^{m=n}\\left(\\frac{a}{r}\\right)^{n+1} P_{nm}(\\cos \\theta) \\left(C_{nm}\\cos m\\lambda +S_{nm}\\sin m \\lambda \\right)$</p></div>\n",
       "<div class=\" flx100\" >\n",
       "\n",
       "<p></br></p></div>\n",
       "<div class=\" flx100\" >\n",
       "\n",
       "<ul><li>Spherical harmonics are solutions of the Laplace equations!</li><li>Where do we find the information of the gravity field?</li><li>Infinitely many terms with combinations of degree, n, and order m, how many do we need for an ellipsoid?</li></ul></div>\n",
       "<div class=\" flx100\" >\n",
       "\n",
       "<p></br></p></div>\n",
       "<div class=\" flx100\" >\n",
       "\n",
       "<p>$TWS (\\theta, \\lambda ) = a\\sum_{n=0}^{\\infty}\\sum_{m=0}^{m=n}\\frac{2n+1}{1+k_n }\\frac{\\rho_e}{\\rho_w} P_{nm}(\\cos \\theta) \\left(C_{nm}\\cos m\\lambda +S_{nm}\\sin m \\lambda \\right)$</p></div>\n",
       "\n",
       "</div>"
      ],
      "text/plain": [
       "<jupylecture.tools.FlexSlide at 0x7f4f09589400>"
      ]
     },
     "metadata": {},
     "output_type": "display_data"
    }
   ],
   "source": [
    "slide19=FlexSlide(\"# Working with monthly Level 2 GRACE/GRACE-FO products...\")\n",
    "slide19.addmd(\"$V (\\\\theta, \\\\lambda , r) = \\\\frac{GM}{a} \\\\sum_{n=0}^{\\\\infty}\\\\sum_{m=0}^{m=n}\\\\left(\\\\frac{a}{r}\\\\right)^{n+1} P_{nm}(\\\\cos \\\\theta) \\\\left(C_{nm}\\\\cos m\\\\lambda +S_{nm}\\\\sin m \\\\lambda \\\\right)$\",\n",
    "    flxwidth=\"flx100\")\n",
    "slide19.addmd(\"</br>\",flxwidth=\"flx100\")\n",
    "slide19.addItems([\"Spherical harmonics are solutions of the Laplace equations!\",\n",
    "                  \"Where do we find the information of the gravity field?\",\n",
    "                 \"Infinitely many terms with combinations of degree, n, and order m, how many do we need for an ellipsoid?\"]\n",
    "                 ,flxwidth=\"flx100\")\n",
    "slide19.addmd(\"</br>\",flxwidth=\"flx100\")\n",
    "slide19.addmd(\"$TWS (\\\\theta, \\\\lambda ) = a\\\\sum_{n=0}^{\\\\infty}\\\\sum_{m=0}^{m=n}\\\\frac{2n+1}{1+k_n }\\\\frac{\\\\rho_e}{\\\\rho_w} P_{nm}(\\\\cos \\\\theta) \\\\left(C_{nm}\\\\cos m\\\\lambda +S_{nm}\\\\sin m \\\\lambda \\\\right)$\",\n",
    "              flxwidth=\"flx100\")\n",
    "\n",
    "slide19.display()"
   ]
  },
  {
   "cell_type": "markdown",
   "metadata": {
    "slideshow": {
     "slide_type": "slide"
    }
   },
   "source": [
    "# Working with Level 2 GRACE/GRACE-FO products cont'd...\n",
    "\n",
    "* Other corrections needed\n",
    "    * Degree 1 Coefficients are missing\n",
    "    * Coefficients with large $n$ are too noisy and spatial filters are needed\n",
    "    * Replace flattening coefficient (n=2,m=0) with that from Satellite Laser Ranging (better)\n",
    "    * Static gravity field needs to be subtracted\n",
    "    * For Ocean applications the a priori background model needs to be restored\n",
    "* Many options available, but may be overwhelming for new users\n",
    "* Alternative: Level 3 data (e.g. gridded with a variety of corrections applied)\n",
    "\n",
    "## Alternatively, let's look at Level 3/4 data (e.g. gridded, specific applications)\n",
    "You can find level 3/4 products here:\n",
    "* [Gravis service (Germany)](http://gravis.gfz-potsdam.de/home)\n",
    "* [Tellus website (US)](https://grace.jpl.nasa.gov/)"
   ]
  },
  {
   "cell_type": "code",
   "execution_count": 31,
   "metadata": {
    "slideshow": {
     "slide_type": "slide"
    }
   },
   "outputs": [
    {
     "data": {
      "text/html": [
       "<div id=\"3ef898814e906e57\"></div>\n",
       "    <script type=\"text/javascript\">\n",
       "        $(function(){\n",
       "            var p = $(\"#3ef898814e906e57\");\n",
       "            if (p.length==0) return;\n",
       "            while (!p.hasClass(\"cell\")) {\n",
       "                p=p.parent();\n",
       "                if (p.prop(\"tagName\") ==\"body\") return;\n",
       "            }\n",
       "            var cell = p;\n",
       "            cell.find(\".input\").addClass(\"hide-in-slideshow\")\n",
       "        });\n",
       "    </script>"
      ]
     },
     "metadata": {},
     "output_type": "display_data"
    },
    {
     "data": {
      "text/markdown": [
       "\n",
       "<div class=\"flxsld text_cell\" ><div class=\"flx100\"><h1>What have you learned?</h1></div>\n",
       "\n",
       "\n",
       "<div class=\" flx100\" >\n",
       "\n",
       "<ul><li>Geodesy is build around three pillars: Shape,earth rotation and gravity</li><li>We can describe the gravitational field in terms of acceleration</li><li>Or better: in terms of gravitational potential from which we can derive the vectorial gravity anywhere</li><li>The potential generates a conservative force field -> V obeys the Laplace and Poisson equation (outside versus inside an attracting body)</li><li>The potential field can visualized by equipotential surfaces wrapped around the central body</li><li>Orbits around point masses (.e.g Earth around the Sun) are described by Kepler orbits (conical sections)</li></ul></div>\n",
       "<div class=\" flx100 color-sec\" >\n",
       "\n",
       "<ul><li class=\"fragment fade-in\">The time-variable gavity field is very tiny relative to the static anomalies</li><li class=\"fragment fade-in\">Observed orbit anomalies provide information on the gravity field of the Earth</li><li class=\"fragment fade-in\">GRACE and GRACE-FO carry inter-satellite ranging instruments which provide more information than just the orbits from GNSS tracking</li><li class=\"fragment fade-in\">Using GRACE data does not appear straightforward but higher level producst are available</li></ul></div>\n",
       "\n",
       "</div>"
      ],
      "text/plain": [
       "<jupylecture.tools.FlexSlide at 0x7f85c851f250>"
      ]
     },
     "metadata": {},
     "output_type": "display_data"
    }
   ],
   "source": [
    "slide19=FlexSlide(\"#  What have you learned?\")\n",
    "slide19.addItems([\"Geodesy is build around three pillars: Shape,earth rotation and gravity\",\n",
    "                  \"We can describe the gravitational field in terms of acceleration\",\n",
    "                 \"Or better: in terms of gravitational potential from which we can derive the vectorial gravity anywhere\",\n",
    "                 \"The potential generates a conservative force field -> V obeys the Laplace and Poisson equation (outside versus inside an attracting body)\",\n",
    "                 \"The potential field can visualized by equipotential surfaces wrapped around the central body\",\n",
    "                 \"Orbits around point masses (.e.g Earth around the Sun) are described by Kepler orbits (conical sections)\"]\n",
    "                 ,flxwidth=\"flx100\")\n",
    "\n",
    "slide19.addItems([\"The time-variable gavity field is very tiny relative to the static anomalies\",\n",
    "                  \"Observed orbit anomalies provide information on the gravity field of the Earth\",\n",
    "                 \"GRACE and GRACE-FO carry inter-satellite ranging instruments which provide more information than just the orbits from GNSS tracking\",\n",
    "                 \"Using GRACE data does not appear straightforward but higher level producst are available\"]\n",
    "                 ,flxwidth=\"flx100\",frag=True,color=\"color-sec\")\n",
    "\n",
    "slide19.display()\n",
    "\n",
    "\n"
   ]
  }
 ],
 "metadata": {
  "celltoolbar": "Slideshow",
  "kernelspec": {
   "display_name": "pyrr",
   "language": "python",
   "name": "pyrr"
  },
  "language_info": {
   "codemirror_mode": {
    "name": "ipython",
    "version": 3
   },
   "file_extension": ".py",
   "mimetype": "text/x-python",
   "name": "python",
   "nbconvert_exporter": "python",
   "pygments_lexer": "ipython3",
   "version": "3.10.4"
  },
  "rise": {
   "autolaunch": true,
   "enable_chalkboard": true,
   "footer": "<div><h3>Gravity and the water cycle, R.Rietbroek, April 2022</h3></div><div id=\"logobox\"></div>",
   "slideNumber": "c/t",
   "theme": "black",
   "transition": "None"
  }
 },
 "nbformat": 4,
 "nbformat_minor": 2
}
